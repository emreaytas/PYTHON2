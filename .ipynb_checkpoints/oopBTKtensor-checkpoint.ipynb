{
 "cells": [
  {
   "cell_type": "code",
   "execution_count": 49,
   "id": "649d00a6-b23a-4eca-8b94-fb0073215623",
   "metadata": {},
   "outputs": [],
   "source": [
    "#bir çok dil nesne odaklı programlama dilidir. bu özelliği barındırır.   c'de yoktur bu özellik."
   ]
  },
  {
   "cell_type": "code",
   "execution_count": 50,
   "id": "0d0d339e-30a0-439b-8fda-972d6bd91761",
   "metadata": {},
   "outputs": [],
   "source": [
    "class Emre(): #class'ların baş harfi büyük yazılır.\n",
    "\n",
    "    @staticmethod\n",
    "    def calistir():\n",
    "        print(\"bende ford focus surerim.\")\n",
    "    \n",
    "    def __init__(self,a,b): # self default bir kelimedir. parametre almaz.\n",
    "        # illaki self demeye gerek yok... başka isim verebiliriz. ama nesneye self ile ulaşşırız.\n",
    "        # bu metot ile biz nesne oluştururuz.  en önemli metot budur.\n",
    "        print(\"init cagrildi...\")\n",
    "        self.name = a\n",
    "        self.surname = b\n",
    "        def soyle(): # init içerisinde fonksiyon oluşturabiliriz. ama sadece init içerisinde çalışır bu \n",
    "            print(\"AAAA\")\n",
    "        soyle()    \n",
    "    \n",
    "    def isimsoyle(self):\n",
    "        print(self.name)\n",
    "\n",
    "    "
   ]
  },
  {
   "cell_type": "code",
   "execution_count": 51,
   "id": "9e735489-a6e2-4977-a855-cd8856a90b8d",
   "metadata": {},
   "outputs": [
    {
     "name": "stdout",
     "output_type": "stream",
     "text": [
      "init cagrildi...\n",
      "AAAA\n",
      "emre\n"
     ]
    }
   ],
   "source": [
    "emre = Emre(\"emre\",\"aytas\") # bir nesne oluşur ve atama yaparız...\n",
    "emre.isimsoyle()\n"
   ]
  },
  {
   "cell_type": "code",
   "execution_count": 53,
   "id": "bc66b9c5-8fd0-48d3-b11d-4b810a281277",
   "metadata": {},
   "outputs": [
    {
     "name": "stdout",
     "output_type": "stream",
     "text": [
      "bende ford focus surerim.\n"
     ]
    }
   ],
   "source": [
    "# sınıf class ile oluşturulur... \n",
    "Emre.calistir()  # eğer @staticmethod olarak kullanırsak direkt sınıf ile bir nesne oluşturmadan da bu metotu kullanabiliriz..."
   ]
  },
  {
   "cell_type": "code",
   "execution_count": 54,
   "id": "d1ec2714-e404-4611-aff9-23b63fe607f3",
   "metadata": {},
   "outputs": [
    {
     "name": "stdout",
     "output_type": "stream",
     "text": [
      "emre aytas\n"
     ]
    }
   ],
   "source": [
    "print(emre.name+\" \"+emre.surname)  # nesne ile direkt olarak self özelliklere ulaşabiliriz."
   ]
  },
  {
   "cell_type": "code",
   "execution_count": null,
   "id": "c55286c8-9db3-4a49-8f3d-0de129165054",
   "metadata": {},
   "outputs": [],
   "source": [
    "emre.name = \"EMRE\" #sınıfın özelliği üzerinde değişim veya atama yapabiliriz."
   ]
  }
 ],
 "metadata": {
  "kernelspec": {
   "display_name": "Python 3 (ipykernel)",
   "language": "python",
   "name": "python3"
  },
  "language_info": {
   "codemirror_mode": {
    "name": "ipython",
    "version": 3
   },
   "file_extension": ".py",
   "mimetype": "text/x-python",
   "name": "python",
   "nbconvert_exporter": "python",
   "pygments_lexer": "ipython3",
   "version": "3.11.2"
  }
 },
 "nbformat": 4,
 "nbformat_minor": 5
}
