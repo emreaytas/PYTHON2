{
 "cells": [
  {
   "cell_type": "code",
   "execution_count": 6,
   "id": "46dd2d5d-8ec9-4933-befe-3a6aebedc423",
   "metadata": {
    "tags": []
   },
   "outputs": [],
   "source": [
    "# pip install opencv-python\n",
    "import cv2\n",
    "import numpy as np"
   ]
  },
  {
   "cell_type": "code",
   "execution_count": 2,
   "id": "64017c18-6c02-4dfa-8bf6-141be8e7fa90",
   "metadata": {
    "tags": []
   },
   "outputs": [
    {
     "data": {
      "text/plain": [
       "array([[[  4,   3,   0],\n",
       "        [  9,   8,   4],\n",
       "        [  9,   8,   4],\n",
       "        ...,\n",
       "        [ 16,  13,  15],\n",
       "        [ 14,  11,  13],\n",
       "        [ 13,  10,  12]],\n",
       "\n",
       "       [[ 23,  21,  20],\n",
       "        [ 23,  21,  20],\n",
       "        [ 28,  26,  25],\n",
       "        ...,\n",
       "        [ 15,  12,  14],\n",
       "        [ 14,  11,  13],\n",
       "        [ 14,  11,  13]],\n",
       "\n",
       "       [[ 35,  34,  36],\n",
       "        [ 31,  30,  32],\n",
       "        [ 25,  24,  26],\n",
       "        ...,\n",
       "        [ 15,  13,  13],\n",
       "        [ 15,  13,  13],\n",
       "        [ 16,  14,  14]],\n",
       "\n",
       "       ...,\n",
       "\n",
       "       [[ 61,  66,  75],\n",
       "        [ 85,  90,  99],\n",
       "        [ 60,  65,  74],\n",
       "        ...,\n",
       "        [247, 246, 236],\n",
       "        [244, 243, 233],\n",
       "        [231, 231, 219]],\n",
       "\n",
       "       [[ 59,  64,  73],\n",
       "        [ 90,  95, 104],\n",
       "        [ 61,  66,  75],\n",
       "        ...,\n",
       "        [226, 224, 213],\n",
       "        [177, 175, 164],\n",
       "        [129, 128, 114]],\n",
       "\n",
       "       [[ 87,  92, 101],\n",
       "        [ 98, 103, 112],\n",
       "        [ 80,  85,  94],\n",
       "        ...,\n",
       "        [ 90,  88,  77],\n",
       "        [ 69,  68,  54],\n",
       "        [ 47,  46,  32]]], dtype=uint8)"
      ]
     },
     "execution_count": 2,
     "metadata": {},
     "output_type": "execute_result"
    }
   ],
   "source": [
    "# bir resmi okumak ve göstermek.\n",
    "img = cv2.imread(\"test.jpeg\") # bir resmi okumak için kullanılan fonksiyon.  cv2.imread()   resim uzantısı ile yazılır.   resim aynı path üzerinde olmalı değilse path ayarlanmalı.\n",
    "img # resmin pixellerindeki renk yoğunlukları resimler aslında birer matristir. pixelleri renklerine göre matrislere yerleştirdi."
   ]
  },
  {
   "cell_type": "code",
   "execution_count": 4,
   "id": "8ee0a658-34eb-4362-9aa6-ca727006b166",
   "metadata": {
    "tags": []
   },
   "outputs": [
    {
     "data": {
      "text/plain": [
       "-1"
      ]
     },
     "execution_count": 4,
     "metadata": {},
     "output_type": "execute_result"
    }
   ],
   "source": [
    "resizeimg = cv2.resize(img,(600,480)) # önce hangi resim boyutlandırılacak bunu belirleriz sonra en ve boy bilgisi gireriz bir tuple içerisinde gireriz.\n",
    "cv2.imshow(\"Test\",img) # hafıza içerisinde saklanan fotoyu gösterebiliriz. # Test adını verdik ve Test isminde bir pencere ile açıldı. img ise açmak istediğimiz matristen oluşan veri.\n",
    "cv2.waitKey(0) # resmi ben kapatana kadar beklet demektir."
   ]
  },
  {
   "cell_type": "code",
   "execution_count": 5,
   "id": "5760bf04-26b0-4bf1-8963-05c20b5cf6cd",
   "metadata": {
    "tags": []
   },
   "outputs": [
    {
     "data": {
      "text/plain": [
       "-1"
      ]
     },
     "execution_count": 5,
     "metadata": {},
     "output_type": "execute_result"
    }
   ],
   "source": [
    "cv2.imshow(\"ReSize\",resizeimg)\n",
    "cv2.waitKey(0)\n",
    "cv2.imwrite(\"newPhoto.jpeg\",resizeimg) # isim ve uzantı ile yeni oluşacak fotoyu belirleriz. True dönerse başarılı olmuştur demektir."
   ]
  },
  {
   "cell_type": "code",
   "execution_count": 8,
   "id": "1987ac1c-21b0-4c00-ac54-410b561bf7c0",
   "metadata": {
    "tags": []
   },
   "outputs": [
    {
     "name": "stdout",
     "output_type": "stream",
     "text": [
      "(576, 1024, 3)\n",
      "(480, 600, 3)\n"
     ]
    }
   ],
   "source": [
    "img_shape = img.shape\n",
    "resize_shape = resizeimg.shape\n",
    "# .shape ile özellikleri görebiliriz bunun için numpy'i import etmek lazım.\n",
    "print(img_shape) \n",
    "print(resize_shape) # en boy boyut görürüz. üçüncü olan ise resim renkli mi değil mi belli eder.   1 ise siyah beyaz tek kanal verisi   3 olursa renkli renkli fotoların 3 kanal verisi olur."
   ]
  },
  {
   "cell_type": "code",
   "execution_count": 12,
   "id": "20216135-f0d7-44b5-b67c-bbc8d7a7c77f",
   "metadata": {
    "tags": []
   },
   "outputs": [
    {
     "name": "stdout",
     "output_type": "stream",
     "text": [
      "[17 16 18]\n"
     ]
    }
   ],
   "source": [
    "print(resizeimg[250,301])# o koordinattaki pixel değerini görebiliriz. onun rgb kodlarını görebiliriz.  17 B 16 G 18 R  olarak dizilir. tersten."
   ]
  },
  {
   "cell_type": "code",
   "execution_count": 14,
   "id": "95505a08-f04c-4fff-b0df-637679eea273",
   "metadata": {
    "tags": []
   },
   "outputs": [
    {
     "data": {
      "text/plain": [
       "17"
      ]
     },
     "execution_count": 14,
     "metadata": {},
     "output_type": "execute_result"
    }
   ],
   "source": [
    "blue = resizeimg[250,301,0] # blue kodunu alabiliriz.   B  G  R olarak 1 olursa G alırız 2 dersek eğer o zaman R kodunu alabiliriz.\n",
    "blue"
   ]
  },
  {
   "cell_type": "code",
   "execution_count": 20,
   "id": "ec832a67-572d-48df-9330-9ef5d38fc459",
   "metadata": {
    "tags": []
   },
   "outputs": [
    {
     "data": {
      "text/plain": [
       "-1"
      ]
     },
     "execution_count": 20,
     "metadata": {},
     "output_type": "execute_result"
    }
   ],
   "source": [
    "resize2 = resizeimg\n",
    "\n",
    "for x in range(250):\n",
    "    resize2[x,300,0] = 100\n",
    "    resize2[x,300,1]= 100    \n",
    "    resize2[x,300,2] = 100\n",
    "cv2.imshow(\"EMRE\",resize2) #böylece renk değişimi yapabiliriz.\n",
    "cv2.waitKey(0)"
   ]
  },
  {
   "cell_type": "code",
   "execution_count": 25,
   "id": "0ec86896-2c0e-42c8-b5f5-6b3508b30024",
   "metadata": {
    "tags": []
   },
   "outputs": [
    {
     "data": {
      "text/plain": [
       "-1"
      ]
     },
     "execution_count": 25,
     "metadata": {},
     "output_type": "execute_result"
    }
   ],
   "source": [
    "# resimden parçada koparabiliriz.\n",
    "resise3 = resizeimg[:300,50:200] # numpy kuralları satır ve sutun ile işlem yaparız parça koparırız.\n",
    "cv2.imshow(\"EMRE1\",resise3)\n",
    "cv2.waitKey(0)"
   ]
  },
  {
   "cell_type": "code",
   "execution_count": 42,
   "id": "253da9fa-c7bd-4fab-af63-62548536bb34",
   "metadata": {
    "tags": []
   },
   "outputs": [],
   "source": [
    "import time\n",
    "cap = cv2.VideoCapture(\"video1.mp4\") # video okuma metotu içerisine videonun konumunu yazacağız. uzantısı ile yazmak lazım.\n",
    "# videolar aslında resimlerden oluşurlar.\n",
    "while True:\n",
    "    ret,frame = cap.read() # her döndüğünde bir kare çekiyor. her frame doğru okundu ise True verir. \n",
    "    if ret:\n",
    "        cv2.imshow(\"AAA\",frame)\n",
    "        if cv2.waitKey(10) & 0xFF == ord(\"q\"): # her bir framenin ekranda kaç milisaniye gösterilmesini isteriz belirtiriz.  0xFF == ord(\"q\")  eğer q'ya basarsak videoyu bitir demektir.\n",
    "            # 0xFF == ord(\"q\") demek q tuşuna basınca videoyu kapat demektir.\n",
    "            break \n",
    "    else:\n",
    "        print(\"ERROR\")\n",
    "        break  \n",
    "        \n",
    "cap.release() # videoyu serbest bırakırız.\n",
    "cv2.destroyAllWindows() # tüm pencereleri kapat deriz.\n",
    "    "
   ]
  },
  {
   "cell_type": "code",
   "execution_count": 47,
   "id": "d7a90d76-70a6-4e08-9e7f-c2b1b74555ec",
   "metadata": {
    "tags": []
   },
   "outputs": [],
   "source": [
    "cap = cv2.VideoCapture(\"video1.mp4\") # bir videoyu tekrardan işlemek istersek o zaman tekrardan okumak lazım çünkü o arrayin en sonuna gelmiş oluruz.\n",
    "while True:\n",
    "    ret,frame = cap.read() # her döndüğünde bir kare çekiyor. her frame doğru okundu ise True verir. \n",
    "    frame = cv2.resize(frame,(1920,1080)) # fotoları tek tek büyütür ve resmi büyütmüş oluruz.\n",
    "    gray_frame = cv2.cvtColor(frame,cv2.COLOR_BGR2GRAY) # resmin tonlarını gri tonlarına getirir.\n",
    "    if ret:\n",
    "        cv2.imshow(\"AAA\",gray_frame)\n",
    "        if cv2.waitKey(10) & 0xFF == ord(\"q\"): # her bir framenin ekranda kaç milisaniye gösterilmesini isteriz belirtiriz.  0xFF == ord(\"q\")  eğer q'ya basarsak videoyu bitir demektir.\n",
    "            # 0xFF == ord(\"q\") demek q tuşuna basınca videoyu kapat demektir.\n",
    "            break \n",
    "    else:\n",
    "        print(\"ERROR\")\n",
    "        break  \n",
    "        \n",
    "cap.release() # videoyu serbest bırakırız.\n",
    "cv2.destroyAllWindows() # tüm pencereleri kapat deriz."
   ]
  },
  {
   "cell_type": "code",
   "execution_count": 51,
   "id": "b097cae0-1f7d-489d-b08e-dc4ce1d14fc3",
   "metadata": {
    "tags": []
   },
   "outputs": [
    {
     "data": {
      "text/plain": [
       "-1"
      ]
     },
     "execution_count": 51,
     "metadata": {},
     "output_type": "execute_result"
    }
   ],
   "source": [
    "# dikdörtgen, çember, çizgi, yazı yazma...\n",
    "test = np.zeros((512,512,3),np.uint8) # 512 ye 512'lik bir matris ve 3 kanalı np.uint8 ise veri tipidir. böylece bir ekran oluştururuz.\n",
    "# test[:,:,:] = 255  # hepsi 255 olursa beyaz ekran olur. \n",
    "cv2.imshow(\"ekran\",test)\n",
    "cv2.waitKey(0)"
   ]
  },
  {
   "cell_type": "code",
   "execution_count": 52,
   "id": "347cac50-d014-4f4d-ae64-622141cd0c06",
   "metadata": {
    "tags": []
   },
   "outputs": [
    {
     "data": {
      "text/plain": [
       "-1"
      ]
     },
     "execution_count": 52,
     "metadata": {},
     "output_type": "execute_result"
    }
   ],
   "source": [
    "cv2.rectangle(test,(100,100),(300,300),(0,255,0)) # ekranı veririz. sonra başlangı. ve bitiş noktası veririz o arayı dikdörtgen olarak kaplar son olarak ise renk kodu veririz (R,G,B) olacak şekilde maks 255 verebiliriz bir koda çünkü int8 değerlerden oluşurlar.\n",
    "cv2.imshow(\"Screen\",test)\n",
    "cv2.waitKey(0)"
   ]
  },
  {
   "cell_type": "code",
   "execution_count": 56,
   "id": "523ef431-b98b-4d57-81f5-07ef06365847",
   "metadata": {
    "tags": []
   },
   "outputs": [
    {
     "ename": "error",
     "evalue": "OpenCV(4.8.0) :-1: error: (-5:Bad argument) in function 'putText'\n> Overload resolution failed:\n>  - putText() missing required argument 'fontFace' (pos 4)\n>  - putText() missing required argument 'fontFace' (pos 4)\n",
     "output_type": "error",
     "traceback": [
      "\u001b[1;31m----------------------------------------------------------------\u001b[0m",
      "\u001b[1;31merror\u001b[0m                          Traceback (most recent call last)",
      "Cell \u001b[1;32mIn[56], line 4\u001b[0m\n\u001b[0;32m      2\u001b[0m cv2\u001b[38;5;241m.\u001b[39mcircle(test,(\u001b[38;5;241m300\u001b[39m,\u001b[38;5;241m300\u001b[39m),\u001b[38;5;241m100\u001b[39m,(\u001b[38;5;241m255\u001b[39m,\u001b[38;5;241m0\u001b[39m,\u001b[38;5;241m0\u001b[39m),\u001b[38;5;241m-\u001b[39m\u001b[38;5;241m1\u001b[39m) \u001b[38;5;66;03m# merkez noktası çap renk kodu içi doluluk parametlerini verdik.\u001b[39;00m\n\u001b[0;32m      3\u001b[0m cv2\u001b[38;5;241m.\u001b[39mline(test,(\u001b[38;5;241m100\u001b[39m,\u001b[38;5;241m100\u001b[39m),(\u001b[38;5;241m300\u001b[39m,\u001b[38;5;241m300\u001b[39m),(\u001b[38;5;241m0\u001b[39m,\u001b[38;5;241m0\u001b[39m,\u001b[38;5;241m255\u001b[39m),\u001b[38;5;241m3\u001b[39m) \u001b[38;5;66;03m# 3 ile kalınlık belirledik.\u001b[39;00m\n\u001b[1;32m----> 4\u001b[0m cv2\u001b[38;5;241m.\u001b[39mputText(test,\u001b[38;5;124m\"\u001b[39m\u001b[38;5;124mEMRE\u001b[39m\u001b[38;5;124m\"\u001b[39m,(\u001b[38;5;241m300\u001b[39m,\u001b[38;5;241m300\u001b[39m)) \u001b[38;5;66;03m# 300,300 yazının sol alt köşesinin yerini belirleriz.\u001b[39;00m\n\u001b[0;32m      5\u001b[0m cv2\u001b[38;5;241m.\u001b[39mimshow(\u001b[38;5;124m\"\u001b[39m\u001b[38;5;124mScreen\u001b[39m\u001b[38;5;124m\"\u001b[39m,test)\n\u001b[0;32m      7\u001b[0m cv2\u001b[38;5;241m.\u001b[39mwaitKey(\u001b[38;5;241m0\u001b[39m)\n",
      "\u001b[1;31merror\u001b[0m: OpenCV(4.8.0) :-1: error: (-5:Bad argument) in function 'putText'\n> Overload resolution failed:\n>  - putText() missing required argument 'fontFace' (pos 4)\n>  - putText() missing required argument 'fontFace' (pos 4)\n"
     ]
    }
   ],
   "source": [
    "cv2.rectangle(test,(100,100),(300,300),(0,255,0),-1) # -1 vererek ise dikdörtgenin içini doldururuz.\n",
    "cv2.circle(test,(300,300),100,(255,0,0),-1) # merkez noktası çap renk kodu içi doluluk parametlerini verdik.\n",
    "cv2.line(test,(100,100),(300,300),(0,0,255),3) # 3 ile kalınlık belirledik.\n",
    "cv2.putText(test,\"EMRE\",(300,300),cv2.FONT_HERSHEY_SIMPLEX,2,(10,10,10),4,cv2.LINE_AA) # 300,300 yazının sol alt köşesinin yerini belirleriz.  4 yazı kalınlığı\n",
    "# cv2.LINE_AA ise yazı tipidir.\n",
    "cv2.imshow(\"Screen\",test)\n",
    "\n",
    "cv2.waitKey(0)"
   ]
  },
  {
   "cell_type": "code",
   "execution_count": null,
   "id": "7729cfab-4fdf-4378-b485-877a9073b65e",
   "metadata": {},
   "outputs": [],
   "source": []
  }
 ],
 "metadata": {
  "kernelspec": {
   "display_name": "Python 3 (ipykernel)",
   "language": "python",
   "name": "python3"
  },
  "language_info": {
   "codemirror_mode": {
    "name": "ipython",
    "version": 3
   },
   "file_extension": ".py",
   "mimetype": "text/x-python",
   "name": "python",
   "nbconvert_exporter": "python",
   "pygments_lexer": "ipython3",
   "version": "3.11.4"
  }
 },
 "nbformat": 4,
 "nbformat_minor": 5
}
