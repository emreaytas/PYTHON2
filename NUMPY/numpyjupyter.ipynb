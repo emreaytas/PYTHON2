{
 "cells": [
  {
   "cell_type": "code",
   "execution_count": 1,
   "id": "987073a0-dee9-4f90-bec3-4118c13b59a2",
   "metadata": {},
   "outputs": [],
   "source": [
    "import numpy as np"
   ]
  },
  {
   "cell_type": "code",
   "execution_count": 3,
   "id": "fce28d91-3616-48fe-835d-4f68c46983d7",
   "metadata": {},
   "outputs": [],
   "source": [
    "#a = np.array(10) #bunu yaparsak hata almayız. tek bir veri tek boyutlu tek verili bir array olur ama birden fazla veri olursa eğer o zaman liste içerisinde yollamak lazım.\n",
    "#print(type(a)) # <class 'numpy.ndarray'>"
   ]
  },
  {
   "cell_type": "code",
   "execution_count": null,
   "id": "adf54208-e532-42cc-b205-1dfcd9b1efd2",
   "metadata": {},
   "outputs": [],
   "source": []
  }
 ],
 "metadata": {
  "kernelspec": {
   "display_name": "Python 3 (ipykernel)",
   "language": "python",
   "name": "python3"
  },
  "language_info": {
   "codemirror_mode": {
    "name": "ipython",
    "version": 3
   },
   "file_extension": ".py",
   "mimetype": "text/x-python",
   "name": "python",
   "nbconvert_exporter": "python",
   "pygments_lexer": "ipython3",
   "version": "3.11.2"
  }
 },
 "nbformat": 4,
 "nbformat_minor": 5
}
