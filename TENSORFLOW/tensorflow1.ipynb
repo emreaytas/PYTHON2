{
 "cells": [
  {
   "cell_type": "code",
   "execution_count": 1,
   "id": "c401a7f4-f6dc-4b4e-b5cf-062aa06d8471",
   "metadata": {
    "editable": true,
    "slideshow": {
     "slide_type": ""
    },
    "tags": []
   },
   "outputs": [],
   "source": [
    "# pip install tensorflow ile indiririz. seabron matplotlib üzerine kuruludur. pip install seaborn ile seaborn'u indirebiliriz.\n",
    "# tensorflow birden fazla dilde kullanılır ancak çoğunlukla pythonda kullanılır.\n",
    "# google tarafından geliştirilmiştir. derin öğrenme ve makine öğrenmesinde karşımıza sık sık çıkar. model eğitmek için olmazsa olmaz gibidir.\n",
    "# pip install openpyxl kullanmazsak pandas kısmında hata alabiliriz. **********************\n",
    "# pip install -U scikit-learn  # bunuda eklemek lazım. test ve train verileri için vs kullanacağız.\n"
   ]
  },
  {
   "cell_type": "markdown",
   "id": "7f796307-f31d-4804-9c1d-ac1c584d1621",
   "metadata": {},
   "source": [
    "# perceptron\n",
    " perceptron(yapay nöron) nedir = yapay sinir ağları (artificial neural network)\n",
    "perceptron = yapay nöron   kendi sinir ağlarımız ile biyolojideki nöronları taklit edebilir.   birden fazla girdi alır bir çıktı verir. tıpkı bir nöron gibi.\n",
    "mesela araba fiyatları tahmin edebileceğiz. girdi verip çıktı almaya çalışacağız girdilere göre çıktı alacağız. \n",
    " bias nedir = sabittir aslında. hataların önüne geçmek için kullanılır.\n",
    " girdi katmanı gizli katmanlar ve çıktı katmanı ile bir yapay nöron sistemi kurulur.\n",
    " gizli katmanlar iki veya ikiden fazla olursa eğer o zaman deep network olur. bir tane olursa normal network olur. iki veya fazla olursa o zaman deep network olur.\n",
    "\n",
    ".....................................................................\n",
    "mesela bir perceptron içerisinde ne oluyor = girdi1 = 20, girdi2 = 5\n",
    "   girdi1 ağırlık = 0.5\n",
    "   girdi2 ağırlık = -0.5\n",
    "   bias(sabit değer) = 1 (mesela girdi1 veya girdi2Ye 0 gelirse sonuç sıfır çıkabilir. bias bunun önüne geçer.)\n",
    "\n",
    "   çıktı 1 olur mesela...\n",
    ".....................................................................     \n",
    "\n",
    "\n"
   ]
  },
  {
   "cell_type": "markdown",
   "id": "c3c7aec8-056a-4fd9-ae84-3da970957a42",
   "metadata": {},
   "source": [
    "## aktivasyon fonksiyonları  \n",
    "\n",
    "  sigmoid fonksiyonu 0 ile 1 arasında değer alır. genelde sınıflandırma problemlerimizde işe yarar. 1 / (1 + e**-z)\n",
    "  \n",
    "  tanh(hiperbolik tanjant fonksiyonu) -1 ile 1 arasında değer alır. negatif değerlerde faha geniş bir kapsam sağlar ve genelde sınıflandırma opera\n",
    "  \n",
    "  relu (rectified linear unit) 0 ile sonsuz arasında değer alabilir. derin öğrenme alanında sıklıkla karşımıza çıkar. genel olarak en çok kullanılan.\n",
    "  \n",
    "  linear fonksiyonar f(x) = x  sonsuz değer alabilir fakat non-linear olmaması sebebiyle modellerde sorun çıkarabilir.    \n",
    "\n",
    "aktivasyon fonksiyonları aslında bildiğimiz matematiksel fonksiyon. aslında daha fazla fonksiyon var ama bunları daha fazla kullanırız.\n"
   ]
  },
  {
   "cell_type": "markdown",
   "id": "79c79104-b493-4591-9e5c-fc2810c5ba0a",
   "metadata": {},
   "source": [
    " # yazı büyütmek için markdown seç # koy yazının başına sonra shift + tab"
   ]
  },
  {
   "cell_type": "markdown",
   "id": "393fc1e6-72a8-4506-b203-8ee86e206f07",
   "metadata": {},
   "source": [
    "# Regresyon"
   ]
  },
  {
   "cell_type": "code",
   "execution_count": 2,
   "id": "028af558-16b9-472c-a054-8d3ebc0a9c9c",
   "metadata": {},
   "outputs": [],
   "source": [
    "# mesela babaların boyları ile çocukların boyları arasındaki ilişki. iki veri seti arasında ilişki kurmaya çalışır\n",
    "# verileri bir fonksiyona oturtabilirsek eğer daha çocuk doğmadan boyunu tahmin edebilir miyiz sorusu çıkıyor.\n",
    "#\n",
    "\n"
   ]
  },
  {
   "cell_type": "markdown",
   "id": "f2cd7b43-2091-4449-8205-5a643a682dcb",
   "metadata": {},
   "source": [
    "# Setler\n",
    "pip install openpyxl kullanmazsak pandas kısmında hata alabiliriz. **********************\n",
    "pip install -U scikit-learn  # bunuda eklemek lazım. test ve train verileri için vs kullanacağız.\n",
    "\n",
    "veriyi sklearn kullanarak ikiye böleceğiz. train ve test için. mesela yüzde30u test için kullandık. kalan yüzde 70 ile tahmin yeteneği kazandı. mesela veri verdik 5 dedi ama gerçek cevap 10 hatalı bir modeldir.  ama 9 verdi cevap olarak gerçek hayatta ise 10 o zaman fena değil."
   ]
  },
  {
   "cell_type": "markdown",
   "id": "0c634aaa-ae24-4eaa-9eb7-6e5c42fd9294",
   "metadata": {},
   "source": [
    "# verileri ikiye böleceğiz iki sete birisi öğrenme verisi diğeri ise test verisi olacak\n",
    "# maliyet fonskiyonu\n",
    "\n",
    "öğrenme sürecinde bize yardımcı olur. gerçek veriden ne kadar uzağız ölçer.\n",
    "-maliyeti olabildiğince az tutmaya çalışırız.\n",
    "\n",
    "   z = a * g + b\n",
    "   f(z) = tahminideger(nörun'un tahmini)\n",
    "   quadratic maliyet = sum(gercekdeger - tahminideger) ** 2 / n\n",
    "   cross entropy maliyet = (-1/n) * sum(gercekdeger * ln(tahminideger) + (1 - gercekdeger) * ln(1-tahminideger))\n",
    "\n",
    "# gradient descent \n",
    "\n",
    "   bir fonksiyonun minimumunu bulmak için kullandığımız optimizasyon fonksiyonu\n",
    "   maliyet fonksiyonu minimize etmek için kullanabiliriz.\n",
    "   aşağı inerken ne kadar hızlı veya yavaş ineceğimizi se.ebiliriz(step size) bu aslında öğrenme seviyesiyle alakalıdır. minimuma ulaşmak için optimizasyonlar kullanabiliriz.\n",
    "   populer seçenekler = RMSProp, Adam...\n",
    "\n",
    "türev ile minimumu almak gibi bir şey. türevin sıfır olduğu yerde en az olacak.\n",
    "\n",
    "mesela stepsize ayarlamak neden önemli büyük olursa minimum noktayı kaçırabiliriz. çok küçük olursa ise çok uzun süre bekleriz. tadında bırakmak lazım.\n"
   ]
  },
  {
   "cell_type": "markdown",
   "id": "def22cd1-e6f2-49b5-822f-9f64d5c13c1b",
   "metadata": {
    "jp-MarkdownHeadingCollapsed": true
   },
   "source": [
    "# TensorFlow sınıflandırma örneği\n",
    "\n",
    "  gizli katman bir veya daha fazla katmadan oluşabilir. birden fazla katmandan oluşursa eğer deep network olur.\n",
    "  \n",
    "  noise zararlı verilerdir aslında modeli bozar. veriler iç içe geçebilir. ayıklamak zorlaşabilir. \n",
    "  \n",
    "  batch size = modelin çökmemesi için parça parça verilecek veriler.\n",
    "  \n",
    "  tüm verileri bir seferde vermeyiz bazen model çökebilir. bu yüzden parça parça kullanmak mantıklıdır.\n",
    "  \n",
    "  nöron ne kadar artarsa maliyet artar. optimumu bulmak lazım.\n",
    "\n",
    "nöronlar verileri alır. hepsinin weightleri var kendisine göre. girdilere göre sonuç verecekler. \n",
    "  \n",
    "  train loss ve test loss hem test hem öğrenme için gönderilen verilerle alakalı kayıp demektir.\n",
    "  \n",
    "https://playground.tensorflow.org/  bu site ile sinir ağları ile işlem yapabiliriz.\n",
    "\n",
    "  epoch overfiting(eldeki verileri sınıflandırim ama bundan sonra bir şey gelirse saçmalıyayım)'e yol açabilir yeni gelecek olan verilere karşı saçmalama yapabilir. modeli çok fazla train etmemek gerekir aslında.\n",
    "train loss ve test loss azalınca epoch'u bitirmek lazım modelin saçmalaması için.\n",
    "\n",
    "fazla nöron olunca veri setini tekrarlamak yavaşlar. epoch yavaş ilerler.\n",
    "\n",
    "nöronlar katman katman birbirine bağlı  mesela 2 4 2 olsun    ilk ikideki her bir nöron sonraki dörtlünün hepsine bağlı.  4 lü katmanın her elemanında te tek diğer ikisine bağlı.    2 * 4   + 4 * 2   16 bağlantı var. \n",
    "\n",
    "mesela 1 3 1 olsun   ilk 1 tüm 3e bağlı. 3lüdeki her eleman tek tek sağdaki bire bağlı.\n"
   ]
  },
  {
   "cell_type": "markdown",
   "id": "f126b7f8-e252-4faa-9c2b-3ab5c80d9d80",
   "metadata": {},
   "source": [
    "\n"
   ]
  },
  {
   "cell_type": "code",
   "execution_count": null,
   "id": "465d6fca-baae-4080-8370-18c9ca90564e",
   "metadata": {},
   "outputs": [],
   "source": []
  }
 ],
 "metadata": {
  "kernelspec": {
   "display_name": "Python 3 (ipykernel)",
   "language": "python",
   "name": "python3"
  },
  "language_info": {
   "codemirror_mode": {
    "name": "ipython",
    "version": 3
   },
   "file_extension": ".py",
   "mimetype": "text/x-python",
   "name": "python",
   "nbconvert_exporter": "python",
   "pygments_lexer": "ipython3",
   "version": "3.11.2"
  }
 },
 "nbformat": 4,
 "nbformat_minor": 5
}
