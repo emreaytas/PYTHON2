{
 "cells": [
  {
   "cell_type": "code",
   "execution_count": null,
   "id": "32a573fc-bfff-4ead-ac49-d11304bc0d6b",
   "metadata": {},
   "outputs": [],
   "source": [
    "# araba fiyat analizi...\n",
    "import pandas as pd\n",
    "import numpy as np\n",
    "import tensorflow as tf\n",
    "import matplotlib.pyplot as plt\n",
    "import seaborn as sbn\n",
    "from sklearn.model_selection import train_test_split\n",
    "from sklearn.preprocessing import MinMaxScaler\n",
    "from tensorflow.keras.models import Sequential \n",
    "from tensorflow.keras.layers import Dense\n",
    "from sklearn.metrics import mean_absolute_error,mean_squared_error\n",
    "from tensorflow.keras.models import load_model"
   ]
  },
  {
   "cell_type": "code",
   "execution_count": null,
   "id": "3dc6648b-3be3-457c-8ab9-6cccf1d0c519",
   "metadata": {},
   "outputs": [],
   "source": [
    "dataframe = pd.read_excel(\"merc.xlsx\")\n",
    "dataframe.head()"
   ]
  },
  {
   "cell_type": "markdown",
   "id": "c376b902-49b1-4cb1-a6bb-d6a2c83c929b",
   "metadata": {},
   "source": [
    "## veriyi anlamak"
   ]
  },
  {
   "cell_type": "code",
   "execution_count": null,
   "id": "fcd7628c-ecfb-4c85-961c-20c2bacb6854",
   "metadata": {},
   "outputs": [],
   "source": [
    "dataframe.describe() "
   ]
  },
  {
   "cell_type": "code",
   "execution_count": null,
   "id": "29169c8a-85d1-4a5b-b6c7-1d7b63cd28b0",
   "metadata": {},
   "outputs": [],
   "source": [
    "# 13119 tane veri varmış mesela. ortalama 2017 yılında üretiilmiş arabalar. ortalama motor büyüklüğü 2.0 mesela.\n",
    "dataframe.isnull().sum()  # toplam hangi kolonda kaç tnae null var görebiliriz bir seri halinde görebiliriz. "
   ]
  },
  {
   "cell_type": "code",
   "execution_count": null,
   "id": "6f39be6e-39d9-48bd-8952-3c9a1cacb569",
   "metadata": {},
   "outputs": [],
   "source": [
    "dataframe.isnull().sum().sum() # komple dataframede ne kadar null var görebiliriz."
   ]
  },
  {
   "cell_type": "code",
   "execution_count": null,
   "id": "0bf77ccd-abaa-4fb3-8f80-d83f0ee72527",
   "metadata": {},
   "outputs": [],
   "source": [
    "plt.figure(figsize=(7,5)) # seaborn matplotlib üzerine kuurulduğu için figure kullanabiliriz.\n",
    "sbn.displot(dataframe[\"price\"]) #bir dağılım grafiği çizer.\n",
    "# bu grafikte satış fiyatına göre kaç adet satılmış görürüz."
   ]
  },
  {
   "cell_type": "code",
   "execution_count": null,
   "id": "4495458e-66be-4d09-b27d-fbde20f5f7a0",
   "metadata": {},
   "outputs": [],
   "source": [
    "sbn.displot(dataframe[\"year\"]) "
   ]
  },
  {
   "cell_type": "code",
   "execution_count": null,
   "id": "448e21bc-469c-4827-8473-f5f40e5cdac4",
   "metadata": {},
   "outputs": [],
   "source": [
    "dataframe.corr(numeric_only=True)[\"price\"].sort_values() # sadece fiaytla alakalı olan kısmı aldık.. ve sortvalues ile küçükten büyüğe sıraladık...\n",
    "# buradan şunu görebiliriz.  mileage ne kadar fazla ise fiyat düşer. year arttıkça fiyat artar. yeni araba sonuçta.  motor büyükse fiyat artar mesela(amerikan verisi.)\n",
    "# df.corr() ile verilerin birbiri ile kolerasyonunu görebiliriz birbirini nasıl etkiler görebiliriz"
   ]
  },
  {
   "cell_type": "markdown",
   "id": "0e0abf1b-ccc2-4d9b-8ab5-9ff17589ac10",
   "metadata": {},
   "source": [
    "## en yüksek fiyatlı arabalar...\n"
   ]
  },
  {
   "cell_type": "code",
   "execution_count": null,
   "id": "d73b200b-eedb-469f-9e78-484d8e0f5df0",
   "metadata": {},
   "outputs": [],
   "source": [
    "sbn.scatterplot(x = \"mileage\",y = \"price\",data=dataframe) # buradan mile arttıkça fiyatın düştüğünü görebiliriz "
   ]
  },
  {
   "cell_type": "code",
   "execution_count": null,
   "id": "5ccd38ff-2553-4ffb-a925-bfbfa8820686",
   "metadata": {},
   "outputs": [],
   "source": [
    "dataframe.sort_values([\"price\"],ascending=False).head(20) # en yüksek fiyatlıdan en düşüğe doğru bize verileri getirecek.\n",
    "# .head(20) ile en yüksek fiyatlı 20 arabayı gördük..."
   ]
  },
  {
   "cell_type": "code",
   "execution_count": null,
   "id": "fdf3ca16-53b1-4394-8164-edd3ccdbf0dd",
   "metadata": {},
   "outputs": [],
   "source": [
    "# çok pahalı olan az araba olduğu için grafik gereksiz uzadığı için çıkarabiliriz.\n",
    "len(dataframe) # kaç adet satır var görebiliriz"
   ]
  },
  {
   "cell_type": "code",
   "execution_count": null,
   "id": "0f2fbe53-3d03-4fab-bb60-6f6f52ed1b48",
   "metadata": {},
   "outputs": [],
   "source": [
    "int(len(dataframe) * 0.01) # 131 adet arabayı çıkaraxağız ve daha temiz toplu bir grafik elde edeceğiz."
   ]
  },
  {
   "cell_type": "code",
   "execution_count": null,
   "id": "f205355f-58b5-42bc-b627-cac9a921db2b",
   "metadata": {},
   "outputs": [],
   "source": [
    "yoksandokuzdf = dataframe.sort_values(\"price\",ascending=False).iloc[int(len(dataframe) * 0.01):]\n",
    "dataframe = yoksandokuzdf # en büyük fiyatlı 131 arabadan kurtulduk..."
   ]
  },
  {
   "cell_type": "code",
   "execution_count": null,
   "id": "387bcfc6-cd1a-449b-b0f6-554d176669a9",
   "metadata": {},
   "outputs": [],
   "source": [
    "plt.figure(figsize=(7,5))\n",
    "sbn.displot(yoksandokuzdf[\"price\"]) # ilk 131 yüksek fiaytlı veriyi silince biz aslında grafiğin azınlık tarafını oluşturup fazladan yer kaplayan yeri silmniş olduk...\n"
   ]
  },
  {
   "cell_type": "code",
   "execution_count": null,
   "id": "b91aae1b-308f-44b7-b45d-dc44f6aeb6f3",
   "metadata": {},
   "outputs": [],
   "source": [
    "dataframe.groupby(\"year\")[\"price\"].mean() # mesela 1970'de üretilen arabaların ortalamsı 25000 pound gereksiz fazla bunu atmak lazım..."
   ]
  },
  {
   "cell_type": "code",
   "execution_count": null,
   "id": "719a6fe2-d066-4d67-8221-58100c1dc39d",
   "metadata": {},
   "outputs": [],
   "source": [
    "yenidf1 = yoksandokuzdf[yoksandokuzdf[\"year\"] > 1970]\n",
    "# yenidf1 = yoksandokuzdf[yoksandokuzdf[\"year\"] != 1970] # bunu yaparsak eğer sadece 1970 yılında olanlar çıkar..."
   ]
  },
  {
   "cell_type": "code",
   "execution_count": null,
   "id": "47255d6a-c8a2-446d-9abc-7292efcda6a6",
   "metadata": {},
   "outputs": [],
   "source": [
    "yenidf1.groupby(\"year\")[\"price\"].mean() # burada biz 1970 yılından sonrasını değerlendirmek için 1970'den sonrasını aldık..."
   ]
  },
  {
   "cell_type": "code",
   "execution_count": null,
   "id": "6c1d60b0-22f5-4248-899a-d5116d9873f0",
   "metadata": {},
   "outputs": [],
   "source": [
    "yenidf1.head() # mesela transmission'a gerek yok düşürelim o zaman\n",
    "\n",
    "dataframe = dataframe.drop(\"transmission\",axis=1) # bunu düşürmemiz lazım. çünkü = string ifadeler geçersiz sayılar veriler üzerinden modeli eğitebiliriz.\n",
    "dataframe.head()"
   ]
  },
  {
   "cell_type": "markdown",
   "id": "08168815-6604-43ad-aa00-9948e7dd3d25",
   "metadata": {},
   "source": [
    "# MODEL OLUŞTURMAK..."
   ]
  },
  {
   "cell_type": "code",
   "execution_count": null,
   "id": "c4d4af59-8167-466e-b2cd-35762c4cba2d",
   "metadata": {},
   "outputs": [],
   "source": [
    "y = dataframe[\"price\"].values # values ile bunu numpy dizisine çevireceğiz. x değerleri y'ye gidecek. x'e göre y elde edilecel.\n",
    "x = dataframe.drop(\"price\",axis=1).values # zaten priceye gideceğiz price harici verilerle bu yüzden onu drop ettik price sutunu gitti.\n",
    "y"
   ]
  },
  {
   "cell_type": "code",
   "execution_count": null,
   "id": "f3cd882c-4e56-4886-8b40-88e5fe49fac1",
   "metadata": {},
   "outputs": [],
   "source": [
    "from sklearn.model_selection import train_test_split\n",
    "x_train,x_test,y_train,y_test = train_test_split(x,y,test_size=0.3,random_state=42) # 0.3 ile yüzde 30u test için kullanılacak. bunu belirleriz\n",
    "\n",
    "y_train.shape\n",
    "x_test.shape\n",
    "y_test.shape\n",
    "x_train.shape"
   ]
  },
  {
   "cell_type": "code",
   "execution_count": null,
   "id": "38a847b5-fcc9-4ab9-ad96-ac60cdc42dbf",
   "metadata": {
    "scrolled": true
   },
   "outputs": [],
   "source": [
    "from sklearn.preprocessing import MinMaxScaler # verileri küçültmek için. belli oranlarda.\n",
    "scaler = MinMaxScaler()\n",
    "\n",
    "x_train = scaler.fit_transform(x_train)\n",
    "x_test = scaler.fit_transform(x_test)"
   ]
  },
  {
   "cell_type": "code",
   "execution_count": null,
   "id": "adca4d62-223e-4e16-817b-4f08ce70c7e6",
   "metadata": {},
   "outputs": [],
   "source": [
    "from tensorflow.keras.models import Sequential\n",
    "from tensorflow.keras.layers import Dense"
   ]
  },
  {
   "cell_type": "code",
   "execution_count": null,
   "id": "d5df31d0-8ba6-4312-97bd-e56a5309a60f",
   "metadata": {},
   "outputs": [],
   "source": [
    "model = Sequential()\n",
    "\n",
    "model.add(Dense(12,activation=\"relu\"))\n",
    "model.add(Dense(12,activation=\"relu\"))\n",
    "model.add(Dense(12,activation=\"relu\"))\n",
    "model.add(Dense(12,activation=\"relu\"))\n",
    "\n",
    "model.add(Dense(1)) # çıkış nöronunda aktivasyn koymaya gerek yok...\n",
    "model.compile(optimizer = \"adam\",loss = \"mse\")\n"
   ]
  },
  {
   "cell_type": "code",
   "execution_count": null,
   "id": "0ca77b0b-e252-4852-a20a-7ce57362d593",
   "metadata": {},
   "outputs": [],
   "source": [
    "model.fit(x = x_train,y=y_train,epochs=300,validation_data=(x_test,y_test),batch_size=250) # epochs çok olursa overfiting olabilir. dikkat etmek lazım .nöronlar elde olan problemi çözmek yerine elde olan veri setine en uygun ağırlıkları bulmaya çalışır. yani geleceğe açık olmaz. "
   ]
  },
  {
   "cell_type": "code",
   "execution_count": null,
   "id": "a0cc14d5-3d5e-4a46-91ac-7d57c0f2980c",
   "metadata": {},
   "outputs": [],
   "source": [
    "kayipverisi = pd.DataFrame(model.history.history) # hem loss hemde val_loss görebiliriz. çünkü modelde öyle kullandık...\n",
    "kayipverisi"
   ]
  },
  {
   "cell_type": "code",
   "execution_count": null,
   "id": "4b568c83-9e63-44b5-ab10-7822a06cd547",
   "metadata": {},
   "outputs": [],
   "source": [
    "kayipverisi.plot()"
   ]
  },
  {
   "cell_type": "code",
   "execution_count": null,
   "id": "d7d2365c-c7ab-4470-a8db-2781aa56e8fe",
   "metadata": {},
   "outputs": [],
   "source": [
    "tahmindizisi = model.predict(x_test)\n",
    "tahmindizisi"
   ]
  },
  {
   "cell_type": "code",
   "execution_count": null,
   "id": "51d82186-29a0-41d2-8428-920f47615011",
   "metadata": {},
   "outputs": [],
   "source": [
    "mean_absolute_error(y_test,tahmindizisi)"
   ]
  },
  {
   "cell_type": "code",
   "execution_count": null,
   "id": "1c990eaa-1878-4a5a-b42c-a94292a6866e",
   "metadata": {},
   "outputs": [],
   "source": [
    "dataframe.describe() # mesela ortalama fiyat 24000 pound.  ve sapmamız 6470 pound. yani büyük bir sapma var. demekki model aman aman iyi değil."
   ]
  },
  {
   "cell_type": "code",
   "execution_count": null,
   "id": "0c8b66a3-ec15-4585-89d5-6d0f1bc6ceb1",
   "metadata": {},
   "outputs": [],
   "source": [
    "plt.scatter(y_test,tahmindizisi)\n",
    "plt.plot(y_test,y_test,color = \"r\")"
   ]
  },
  {
   "cell_type": "code",
   "execution_count": null,
   "id": "b45e929e-316f-49ae-aead-4a80a07a2e1a",
   "metadata": {},
   "outputs": [],
   "source": [
    "dataframe.iloc[2]"
   ]
  },
  {
   "cell_type": "code",
   "execution_count": null,
   "id": "55333af7-f858-4659-bdda-6ffd8236caeb",
   "metadata": {},
   "outputs": [],
   "source": [
    "yeniarabasr = dataframe.drop(\"price\",axis=1).iloc[2] "
   ]
  },
  {
   "cell_type": "code",
   "execution_count": null,
   "id": "910f1756-f5fc-4cba-a2f3-23c2286dbc5c",
   "metadata": {},
   "outputs": [],
   "source": [
    "yeniarabasr"
   ]
  },
  {
   "cell_type": "code",
   "execution_count": null,
   "id": "f4d16b45-26e1-4b76-a001-8b2d459fab43",
   "metadata": {},
   "outputs": [],
   "source": [
    "yeniarabasr = scaler.transform(yeniarabasr.values.reshape(-1,5))\n",
    "model.predict(yeniarabasr)"
   ]
  },
  {
   "cell_type": "markdown",
   "id": "5bb1fae0-86d1-40ab-a415-ef539972353f",
   "metadata": {},
   "source": [
    "## SINIFLANDIRMA VERİLERİ"
   ]
  },
  {
   "cell_type": "code",
   "execution_count": null,
   "id": "510fb5c3-c6a1-4439-8d2d-75eafa511bf6",
   "metadata": {},
   "outputs": [],
   "source": [
    "df11 = pd.read_excel(\"maliciousornot.xlsx\")\n",
    "df11"
   ]
  },
  {
   "cell_type": "code",
   "execution_count": null,
   "id": "112d4485-6213-46c4-94c9-974238929d09",
   "metadata": {},
   "outputs": [],
   "source": [
    "df11.describe()"
   ]
  },
  {
   "cell_type": "code",
   "execution_count": null,
   "id": "7dbc6743-6960-4ef6-9122-d188730f21cb",
   "metadata": {},
   "outputs": [],
   "source": [
    "df11.corr()[\"Type\"].sort_values()"
   ]
  },
  {
   "cell_type": "code",
   "execution_count": null,
   "id": "c67f08db-6c6c-49a7-8a24-81a2d1fa535c",
   "metadata": {},
   "outputs": [],
   "source": [
    "sbn.countplot(x = \"Type\",data=df11)"
   ]
  },
  {
   "cell_type": "code",
   "execution_count": null,
   "id": "1c2e9b7d-c98d-4eba-b162-2f98dfe4b858",
   "metadata": {},
   "outputs": [],
   "source": [
    "df11.corr()[\"Type\"].sort_values().plot(kind = \"bar\") # kind ile çeşit belirledik"
   ]
  },
  {
   "cell_type": "markdown",
   "id": "67f3e27f-7348-461e-944a-1d7e5f156f22",
   "metadata": {},
   "source": [
    "## sınıflandırma modeli"
   ]
  },
  {
   "cell_type": "code",
   "execution_count": null,
   "id": "cd582740-bb61-4ae0-960d-facc53028ad1",
   "metadata": {},
   "outputs": [],
   "source": [
    "y = df11[\"Type\"].values\n",
    "x = df11.drop(\"Type\",axis = 1).values"
   ]
  },
  {
   "cell_type": "code",
   "execution_count": null,
   "id": "3df06126-a7da-4570-bd40-3a2597b9f9fb",
   "metadata": {},
   "outputs": [],
   "source": [
    "from sklearn.model_selection import train_test_split\n",
    "x_train,x_test,y_train,y_test = train_test_split(x,y,test_size=0.3,random_state=15)"
   ]
  },
  {
   "cell_type": "code",
   "execution_count": null,
   "id": "e3258174-c9a8-4814-a04d-e6e7e5d07326",
   "metadata": {},
   "outputs": [],
   "source": [
    "from sklearn.preprocessing import MinMaxScaler\n",
    "scaler = MinMaxScaler()\n"
   ]
  },
  {
   "cell_type": "code",
   "execution_count": null,
   "id": "ad87a532-ee87-44b1-8a77-32e4b2ca8b8e",
   "metadata": {},
   "outputs": [],
   "source": [
    "x_train = scaler.fit_transform(x_train)\n",
    "x_test = scaler.fit_transform(x_test)"
   ]
  },
  {
   "cell_type": "code",
   "execution_count": null,
   "id": "d0629ea6-4079-4e84-b1b4-5fef915d26ef",
   "metadata": {},
   "outputs": [],
   "source": [
    "import tensorflow as tf\n",
    "from tensorflow.keras.models import Sequential\n",
    "from tensorflow.keras.layers import Dense,Activation,Dropout\n",
    "from tensorflow.keras.callbacks import EarlyStopping\n",
    "x_train.shape"
   ]
  },
  {
   "cell_type": "code",
   "execution_count": null,
   "id": "f5653e64-150d-41fa-95ed-b59bcc6eba94",
   "metadata": {},
   "outputs": [],
   "source": [
    "model = Sequential()\n",
    "model.add(Dense(units=30,activation=\"relu\")) # neden 30 = sizin kaç tane kolonunuz varsa giriş nöron sayısı o kadar olursa iyi olur. genelgeçer bir kural. denemek lazım.\n",
    "model.add(Dense(units=15,activation=\"relu\")) # 15 \n",
    "model.add(Dense(units=15,activation=\"relu\")) # 15\n",
    "model.add(Dense(units=1,activation=\"sigmoid\")) # en son \n",
    "model.compile(loss = \"binary_crossentropy\",optimizer = \"adam\")"
   ]
  },
  {
   "cell_type": "code",
   "execution_count": null,
   "id": "76b92131-8440-4d20-a15f-7e3723bdad30",
   "metadata": {},
   "outputs": [],
   "source": [
    "model.fit(x = x_train,y = y_train,epochs=700,validation_data=(x_test,y_test),verbose=1)\n"
   ]
  },
  {
   "cell_type": "markdown",
   "id": "41ac502d-d7d4-453b-8e78-632b67baceb9",
   "metadata": {},
   "source": [
    "## erken durma "
   ]
  },
  {
   "cell_type": "code",
   "execution_count": null,
   "id": "1732e63b-2e6a-4bc4-8939-2700ad256a57",
   "metadata": {},
   "outputs": [],
   "source": []
  }
 ],
 "metadata": {
  "kernelspec": {
   "display_name": "Python 3 (ipykernel)",
   "language": "python",
   "name": "python3"
  },
  "language_info": {
   "codemirror_mode": {
    "name": "ipython",
    "version": 3
   },
   "file_extension": ".py",
   "mimetype": "text/x-python",
   "name": "python",
   "nbconvert_exporter": "python",
   "pygments_lexer": "ipython3",
   "version": "3.11.2"
  }
 },
 "nbformat": 4,
 "nbformat_minor": 5
}
