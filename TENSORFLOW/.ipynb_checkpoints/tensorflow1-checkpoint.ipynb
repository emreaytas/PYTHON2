{
 "cells": [
  {
   "cell_type": "code",
   "execution_count": 1,
   "id": "c401a7f4-f6dc-4b4e-b5cf-062aa06d8471",
   "metadata": {
    "editable": true,
    "slideshow": {
     "slide_type": ""
    },
    "tags": []
   },
   "outputs": [],
   "source": [
    "# pip install tensorflow ile indiririz. seabron matplotlib üzerine kuruludur. pip install seaborn ile seaborn'u indirebiliriz.\n",
    "# tensorflow birden fazla dilde kullanılır ancak çoğunlukla pythonda kullanılır.\n",
    "# google tarafından geliştirilmiştir. derin öğrenme ve makine öğrenmesinde karşımıza sık sık çıkar. model eğitmek için olmazsa olmaz gibidir.\n",
    "# pip install openpyxl kullanmazsak pandas kısmında hata alabiliriz. **********************"
   ]
  },
  {
   "cell_type": "markdown",
   "id": "7f796307-f31d-4804-9c1d-ac1c584d1621",
   "metadata": {},
   "source": [
    "# perceptron\n",
    " perceptron nedir = yapay sinir ağları (artificial neural network)\n",
    "perceptron = yapay nöron   kendi sinir ağlarımız ile biyolojideki nöronları taklit edebilir.   birden fazla girdi alır bir çıktı verir. tıpkı bir nöron gibi.\n",
    "mesela araba fiyatları tahmin edebileceğiz. girdi verip çıktı almaya çalışacağız girdilere göre çıktı alacağız. \n",
    " bias nedir = sabittir aslında. hataların önüne geçmek için kullanılır.\n",
    " girdi katmanı gizli katmanlar ve çıktı katmanı ile bir yapay nöron sistemi kurulur.\n",
    " gizli katmanlar iki veya ikiden fazla olursa eğer o zaman deep network olur. bir tane olursa normal network olur. iki veya fazla olursa o zaman deep network olur.\n",
    "\n",
    " "
   ]
  },
  {
   "cell_type": "markdown",
   "id": "c3c7aec8-056a-4fd9-ae84-3da970957a42",
   "metadata": {},
   "source": [
    "## aktivasyon fonksiyonları  \n",
    "  sigmoid fonksiyonu 0 ile 1 arasında değer alır. genelde sınıflandırma problemlerimizde işe yarar.\n",
    "  tanh(hiperbolik tanjant fonksiyonu) -1 ile 1 arasında değer alır. negatif değerlerde faha geniş bir kapsam sağlar ve genelde sınıflandırma opera\n",
    "  relu (rectified linear unit) 0 ile sonsuz arasında değer alabilir. derin öğrenme alanında sıklıkla karşımıza çıkar.\n",
    "  linear fonksiyonar f(x) = x  sonsuz değer alabilir fakat non-linear olmaması sebebiyle modellerde sorun çıkarabilir.    \n"
   ]
  },
  {
   "cell_type": "markdown",
   "id": "79c79104-b493-4591-9e5c-fc2810c5ba0a",
   "metadata": {},
   "source": [
    " # yazı büyütmek için markdown seç # koy yazının başına sonra shift + tab"
   ]
  },
  {
   "cell_type": "markdown",
   "id": "393fc1e6-72a8-4506-b203-8ee86e206f07",
   "metadata": {},
   "source": [
    "# Regresyon"
   ]
  },
  {
   "cell_type": "code",
   "execution_count": null,
   "id": "028af558-16b9-472c-a054-8d3ebc0a9c9c",
   "metadata": {},
   "outputs": [],
   "source": [
    "# mesela babaların boyları ile çocukların boyları arasındaki ilişki. iki veri seti arasında ilişki kurmaya çalışır\n",
    "# verileri bir fonksiyona oturtabilirsek eğer daha çocuk doğmadan boyunu tahmin edebilir miyiz sorusu çıkıyor.\n",
    "\n",
    "\n"
   ]
  },
  {
   "cell_type": "markdown",
   "id": "f2cd7b43-2091-4449-8205-5a643a682dcb",
   "metadata": {},
   "source": [
    "# Setler"
   ]
  },
  {
   "cell_type": "markdown",
   "id": "0c634aaa-ae24-4eaa-9eb7-6e5c42fd9294",
   "metadata": {},
   "source": [
    "# verileri ikiye böleceğiz iki sete birisi öğrenme verisi diğeri ise test verisi olacak\n",
    "# maliyet fonskiyonu\n",
    "   z = a * g + b\n",
    "   f(z) = tahminideger(nörun'un tahmini)\n",
    "   quadratic maliyet = sum(gercekdeger - tahminideger) ** 2 / n\n",
    "   cross entropy maliyet = (-1/n) * sum(gercekdeger * ln(tahminideger) + (1 - gercekdeger) * ln(1-tahminideger))\n",
    "\n",
    "# gradient descent \n",
    "   bir fonksiyonun minimumunu bulmak için kullandığımız optimizasyon fonksiyonu\n",
    "   maliyet fonksiyonu minimize etmek için kullanabiliriz.\n",
    "   aşağı inerken ne kadar hızlı veya yavaş ineceğimizi se.ebiliriz(step size) bu aslında öğrenme seviyesiyle alakalıdır. minimuma ulaşmak için optimizasyonlar kullanabiliriz.\n",
    "   populer seçenekler = RMSProp, Adam...\n",
    "   \n",
    "     \n",
    "   \n",
    "\n",
    "                       \n",
    "\n"
   ]
  },
  {
   "cell_type": "markdown",
   "id": "def22cd1-e6f2-49b5-822f-9f64d5c13c1b",
   "metadata": {},
   "source": [
    "# TensorFlow sınıflandırma örneği\n",
    "  gizli katman bir veya daha fazla katmadan oluşabilir. birden fazla katmandan oluşursa eğer deep network olur.\n",
    "  noise zararlı verilerdir aslında modeli bozar. \n",
    "  batch size = modelin çökmemesi için parça parça verilecek veriler.\n",
    "  tüm verileri bir seferde vermeyiz bazen model çökebilir. bu yüzden parça parça kullanmak mantıklıdır.\n",
    "  nöron ne kadar artarsa maliyet artar. optimumu bulmak lazım.\n",
    "  train loss ve test loss hem test hem öğrenme için gönderilen verilerle alakalı kayıp demektir.\n",
    "    https://playground.tensorflow.org/  bu site ile sinir ağları ile işlem yapabiliriz.\n",
    "\n",
    "  epoch overfiting(eldeki verileri sınıflandırim ama bundan sonra bir şey gelirse saçmalıyayım)'e yol açabilir yeni gelecek olan verilere karşı saçmalama yapabilir. modeli çok fazla train etmemek gerekir aslında.\n",
    "\n",
    "nöronlar katman katman birbirine bağlı  mesela 2 4 2 olsun    ilk ikideki her bir nöron sonraki dörtlünün hepsine bağlı.  4 lü katmanın her elemanında te tek diğer ikisine bağlı.    2 * 4   + 4 * 2   16 bağlantı var. \n"
   ]
  },
  {
   "cell_type": "markdown",
   "id": "f126b7f8-e252-4faa-9c2b-3ab5c80d9d80",
   "metadata": {},
   "source": [
    "# Veriyi Hazırlamak.\n"
   ]
  },
  {
   "cell_type": "code",
   "execution_count": null,
   "id": "465d6fca-baae-4080-8370-18c9ca90564e",
   "metadata": {},
   "outputs": [],
   "source": []
  }
 ],
 "metadata": {
  "kernelspec": {
   "display_name": "Python 3 (ipykernel)",
   "language": "python",
   "name": "python3"
  },
  "language_info": {
   "codemirror_mode": {
    "name": "ipython",
    "version": 3
   },
   "file_extension": ".py",
   "mimetype": "text/x-python",
   "name": "python",
   "nbconvert_exporter": "python",
   "pygments_lexer": "ipython3",
   "version": "3.11.2"
  }
 },
 "nbformat": 4,
 "nbformat_minor": 5
}
