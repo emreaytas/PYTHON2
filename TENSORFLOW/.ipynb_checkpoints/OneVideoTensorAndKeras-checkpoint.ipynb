{
 "cells": [
  {
   "cell_type": "code",
   "execution_count": 1,
   "id": "d0e96714-628d-4fab-9dfb-9039f77c1ee4",
   "metadata": {
    "tags": []
   },
   "outputs": [],
   "source": [
    "# computer vision = bilgisayarlı görü. \n",
    "# makine öğrenmesi için matematik, lineer cebir, istatistik gibi bilimleri bilmek gerekir.\n",
    "import pandas as pd\n",
    "import numpy as np\n",
    "import matplotlib.pyplot as plt\n",
    "import seaborn as sbn\n",
    "# tensorflowda gpu desteği vardır. işlemleri gpu üzerinde de yapabilirsiniz daha hızlı işlemler görüntü işleme gibi sistemler kurulabilir. tensorflowda gpu desteği vardır.\n",
    "# tensorflowda keras api'ı vardır. sonradan gömülü bir hale geldi tensorflow'a.  derin öğrenme ile büyük matematiksel işlemler yapılabilir.\n",
    "# tensorflow c++ ile yazılmıştır python gibi dillere uyarlanmıştır. hızlıdır. işlemleri hızlı bir şekilde yapabilir bilgisayar diline yakın olduğu için hızlıdır. \n",
    "import tensorflow as tf # pip install tensorflow\n",
    "#tensorflow 'da tensörler vardır. bu tensörler bir işlemden bir işleme akarak ilerler. bir tensör bir numpy dizisine benzer. bir tensör 0 boyutluda olabilir çok boyutluda olabilir. \n",
    "# pip install pycaret\n",
    "# import pycaret as pcrt buda bir yapayzeka kütüphanesidir. \n",
    "\n",
    "# pytorch'da tensorflow gibidir. iyi bir python bilgisi gerekir özellikle akademik araştırmalar için kullanılır. esnektir.\n"
   ]
  },
  {
   "cell_type": "code",
   "execution_count": 2,
   "id": "61133d0a-3b11-4a90-8e45-98b40ce35bdb",
   "metadata": {
    "tags": []
   },
   "outputs": [
    {
     "name": "stdout",
     "output_type": "stream",
     "text": [
      "2.14.0\n"
     ]
    }
   ],
   "source": [
    "print(tf.__version__)"
   ]
  },
  {
   "cell_type": "code",
   "execution_count": 3,
   "id": "552e91e6-5205-49d3-b997-7e53f2cbb2bc",
   "metadata": {
    "tags": []
   },
   "outputs": [
    {
     "data": {
      "text/plain": [
       "<tf.Tensor: shape=(), dtype=int32, numpy=3>"
      ]
     },
     "execution_count": 3,
     "metadata": {},
     "output_type": "execute_result"
    }
   ],
   "source": [
    "scalar = tf.constant(3)\n",
    "scalar # <tf.Tensor: shape=(), dtype=int32, numpy=3>   3 değerinde ve boyutu sıfır olan bir tensör  yalnız bir sayı içeren tensöre scalar denir. tek boyutlu tensör ise vektördür. \n"
   ]
  },
  {
   "cell_type": "code",
   "execution_count": 4,
   "id": "64bc56a1-ee6a-41ca-b521-7fc42bc93e39",
   "metadata": {
    "tags": []
   },
   "outputs": [
    {
     "data": {
      "text/plain": [
       "TensorShape([])"
      ]
     },
     "execution_count": 4,
     "metadata": {},
     "output_type": "execute_result"
    }
   ],
   "source": [
    "scalar.shape"
   ]
  },
  {
   "cell_type": "code",
   "execution_count": 5,
   "id": "d083c3cc-0e24-4fab-b80a-7f9a384948d2",
   "metadata": {
    "tags": []
   },
   "outputs": [
    {
     "data": {
      "text/plain": [
       "<tf.Tensor: shape=(2,), dtype=int32, numpy=array([1, 2])>"
      ]
     },
     "execution_count": 5,
     "metadata": {},
     "output_type": "execute_result"
    }
   ],
   "source": [
    "vector = tf.constant([1,2])\n",
    "vector # <tf.Tensor: shape=(2,), dtype=int32, numpy=array([1, 2])>   # tek boyutlu bir tensör.  "
   ]
  },
  {
   "cell_type": "code",
   "execution_count": 6,
   "id": "b586951c-dcb5-4bd6-b2e8-9ca239e0a064",
   "metadata": {
    "tags": []
   },
   "outputs": [
    {
     "data": {
      "text/plain": [
       "1"
      ]
     },
     "execution_count": 6,
     "metadata": {},
     "output_type": "execute_result"
    }
   ],
   "source": [
    "vector.ndim # bir boyutludur. vektördür."
   ]
  },
  {
   "cell_type": "code",
   "execution_count": 7,
   "id": "83ea5976-d582-4fcf-b5e7-cdd1b8a66a83",
   "metadata": {
    "tags": []
   },
   "outputs": [
    {
     "data": {
      "text/plain": [
       "<tf.Tensor: shape=(2, 2), dtype=int32, numpy=\n",
       "array([[1, 2],\n",
       "       [3, 4]])>"
      ]
     },
     "execution_count": 7,
     "metadata": {},
     "output_type": "execute_result"
    }
   ],
   "source": [
    "matrix = tf.constant([[1,2],[3,4]])\n",
    "matrix # <tf.Tensor: shape=(2, 2), dtype=int32, numpy=array([[1, 2],[3, 4]])>"
   ]
  },
  {
   "cell_type": "code",
   "execution_count": 8,
   "id": "3684b194-31bb-488a-a75c-cb6bc165008d",
   "metadata": {
    "tags": []
   },
   "outputs": [
    {
     "data": {
      "text/plain": [
       "2"
      ]
     },
     "execution_count": 8,
     "metadata": {},
     "output_type": "execute_result"
    }
   ],
   "source": [
    "matrix.ndim # 2 boyutludur. matristir."
   ]
  },
  {
   "cell_type": "code",
   "execution_count": 9,
   "id": "67b09683-3dd7-4344-9c69-4eb24ac6e04e",
   "metadata": {
    "tags": []
   },
   "outputs": [],
   "source": [
    "from tensorflow.keras.datasets import mnist"
   ]
  },
  {
   "cell_type": "code",
   "execution_count": 10,
   "id": "3fc29cf6-8dfc-4514-bf29-68acc728e831",
   "metadata": {
    "tags": []
   },
   "outputs": [],
   "source": [
    "(train_images,train_labels),(test_images,test_labels) = mnist.load_data()"
   ]
  },
  {
   "cell_type": "code",
   "execution_count": 11,
   "id": "c81efec1-df0d-498b-9052-7a55c997b46d",
   "metadata": {
    "tags": []
   },
   "outputs": [
    {
     "data": {
      "text/plain": [
       "3"
      ]
     },
     "execution_count": 11,
     "metadata": {},
     "output_type": "execute_result"
    }
   ],
   "source": [
    "train_images.ndim # 3 boyutludur."
   ]
  },
  {
   "cell_type": "code",
   "execution_count": 12,
   "id": "3786b759-68a8-4c98-8080-cbdce25f4d1c",
   "metadata": {
    "tags": []
   },
   "outputs": [
    {
     "data": {
      "text/plain": [
       "(60000, 28, 28)"
      ]
     },
     "execution_count": 12,
     "metadata": {},
     "output_type": "execute_result"
    }
   ],
   "source": [
    "train_images.shape # 60000 tane matris var 28 satır 28 sutundan oluşan."
   ]
  },
  {
   "cell_type": "code",
   "execution_count": 13,
   "id": "91cb56aa-87af-4281-aff3-5a06103cea5a",
   "metadata": {
    "tags": []
   },
   "outputs": [
    {
     "data": {
      "text/plain": [
       "dtype('uint8')"
      ]
     },
     "execution_count": 13,
     "metadata": {},
     "output_type": "execute_result"
    }
   ],
   "source": [
    "test_images.dtype # 3 ranklı 8 bit verilerden oluşuyor.    3 boyutlulara tensör denir."
   ]
  },
  {
   "cell_type": "code",
   "execution_count": 14,
   "id": "59b12881-5922-41fd-ab14-8faa7db95845",
   "metadata": {
    "tags": []
   },
   "outputs": [],
   "source": [
    "# 0 boyutlulara tek sayı içerenlere 0 boyutlu ise scalar denir. bir boyutlu diziye vektör denir row ve column olarak ikiye ayrılır. 2 boyutlu ise matris denir. 3 boyutlu ise tensör denir."
   ]
  },
  {
   "cell_type": "code",
   "execution_count": 15,
   "id": "3ca58cc5-1f0a-4b47-a1e0-faa741530454",
   "metadata": {
    "tags": []
   },
   "outputs": [],
   "source": [
    "# constant ile oluşturulan tensör değişebilirken variable ile oluşan tensör değişebilir."
   ]
  },
  {
   "cell_type": "code",
   "execution_count": 16,
   "id": "3076bb65-29cf-49d2-8731-0b29b3d09b61",
   "metadata": {
    "tags": []
   },
   "outputs": [
    {
     "name": "stdout",
     "output_type": "stream",
     "text": [
      "<tf.Variable 'Variable:0' shape=(2,) dtype=int32, numpy=array([1, 2])>\n",
      "tf.Tensor([1 2], shape=(2,), dtype=int32)\n"
     ]
    }
   ],
   "source": [
    "v = tf.Variable([1,2])\n",
    "c = tf.constant([1,2])\n",
    "print(v)\n",
    "print(c)"
   ]
  },
  {
   "cell_type": "code",
   "execution_count": 17,
   "id": "f29ff26f-7ea2-4a0c-a38e-e73c66c04c0b",
   "metadata": {
    "tags": []
   },
   "outputs": [
    {
     "data": {
      "text/plain": [
       "<tf.Variable 'UnreadVariable' shape=(2,) dtype=int32, numpy=array([7, 2])>"
      ]
     },
     "execution_count": 17,
     "metadata": {},
     "output_type": "execute_result"
    }
   ],
   "source": [
    "v[0].assign(7) # görüldüğü gibi ilk değer 7 oldu."
   ]
  },
  {
   "cell_type": "code",
   "execution_count": 18,
   "id": "90c9fad7-270b-43a6-82b0-58cdbdfe691d",
   "metadata": {
    "tags": []
   },
   "outputs": [],
   "source": [
    "# c[0].assign(7) constant ile oluşursa bir tensör değiştirilemez."
   ]
  },
  {
   "cell_type": "code",
   "execution_count": 19,
   "id": "aad8af50-2789-4061-bc30-b10b64b10d9a",
   "metadata": {
    "tags": []
   },
   "outputs": [
    {
     "data": {
      "text/plain": [
       "<tf.Tensor: shape=(3, 2), dtype=float32, numpy=\n",
       "array([[-0.37541577,  0.24065179],\n",
       "       [-0.01125881,  0.18820344],\n",
       "       [-0.37038794, -0.24698196]], dtype=float32)>"
      ]
     },
     "execution_count": 19,
     "metadata": {},
     "output_type": "execute_result"
    }
   ],
   "source": [
    "tf.random.normal(shape = (3,2)) # 3 satır 2 sutun. tek bir matris. sürekli farklı değerler üretir."
   ]
  },
  {
   "cell_type": "code",
   "execution_count": 20,
   "id": "1d6f218e-61b0-437f-a47c-3f639b4f668e",
   "metadata": {
    "tags": []
   },
   "outputs": [
    {
     "data": {
      "text/plain": [
       "<tf.Tensor: shape=(20, 3, 4), dtype=float32, numpy=\n",
       "array([[[-7.1401167e-01,  1.6241775e-01, -4.1176430e-03, -3.4241474e-01],\n",
       "        [-4.3333742e-01,  3.4114873e-01, -4.6814255e-02,  2.5258276e+00],\n",
       "        [ 1.7501540e+00,  4.5337805e-01,  8.3412245e-02,  8.5884017e-01]],\n",
       "\n",
       "       [[-1.2878460e+00,  5.8066386e-01, -1.0200751e+00, -3.2247748e-04],\n",
       "        [ 6.2996030e-01,  5.7866371e-01, -1.9094076e+00, -1.9562639e+00],\n",
       "        [ 4.5947140e-01, -1.4390477e+00,  1.7028692e+00,  4.9528766e-01]],\n",
       "\n",
       "       [[-1.4738281e+00,  1.2097278e+00,  6.2814200e-01, -1.9225376e+00],\n",
       "        [-2.2646308e-02, -1.5053855e+00, -1.2794237e+00,  4.8592999e-03],\n",
       "        [-5.0990576e-01, -1.6192845e+00, -5.6920826e-01, -7.9210734e-01]],\n",
       "\n",
       "       [[-1.9585781e-01,  7.5849020e-01,  6.9506067e-01,  3.5968021e-01],\n",
       "        [-6.2313563e-01,  5.7901312e-03,  5.5494871e-02,  3.2960239e-01],\n",
       "        [-1.5386566e+00, -5.9290016e-01,  9.7416610e-02,  6.1884128e-02]],\n",
       "\n",
       "       [[ 2.7411914e-01,  9.5785147e-01,  2.7774565e-02, -1.4387124e+00],\n",
       "        [ 1.2879957e-01, -3.9854580e-01,  7.6700437e-01, -9.2530006e-01],\n",
       "        [ 7.2242755e-01, -1.6267109e-01,  8.4997183e-01, -1.4424462e-02]],\n",
       "\n",
       "       [[-3.1295267e-01,  2.6800787e-01, -6.7455691e-01,  4.0398061e-02],\n",
       "        [ 1.0385286e+00,  2.4709945e+00, -3.4738412e-01,  6.7430824e-01],\n",
       "        [-5.5413336e-01,  7.6239848e-01,  5.0187975e-01,  3.2137561e+00]],\n",
       "\n",
       "       [[-1.5752740e-01,  1.4604219e+00, -1.9170952e+00,  8.4837443e-01],\n",
       "        [-1.9179260e+00, -8.9972126e-01, -8.1002581e-01, -2.0510175e+00],\n",
       "        [ 6.8034224e-02, -9.2059679e-02, -2.8295404e-01,  8.9529526e-01]],\n",
       "\n",
       "       [[-2.6424262e-01, -8.0882773e-02,  1.0617440e+00, -1.5784436e-01],\n",
       "        [ 2.0173149e+00, -8.7114161e-01,  6.0064781e-01, -6.1798722e-01],\n",
       "        [-1.8326939e+00,  1.0770108e+00,  6.7826414e-01, -5.1319975e-01]],\n",
       "\n",
       "       [[ 1.6197516e+00,  2.1225995e-01,  1.5730892e+00,  2.9591510e+00],\n",
       "        [-9.6317339e-01, -2.9519871e-01, -7.7694869e-01,  7.9656255e-01],\n",
       "        [ 6.7907631e-01,  8.5875049e-02, -9.4256204e-01,  1.4078865e+00]],\n",
       "\n",
       "       [[ 3.2935196e-01, -3.3379102e-01, -6.9536388e-01,  3.5232040e-01],\n",
       "        [ 9.9092889e-01,  6.1422139e-01,  4.8686078e-01, -3.0303915e+00],\n",
       "        [-1.2438626e+00,  9.7177386e-01, -4.2758456e-01,  1.8475971e-01]],\n",
       "\n",
       "       [[-1.9559245e-01,  9.9831843e-01, -3.9190382e-01, -5.0579059e-01],\n",
       "        [ 9.4432050e-01,  1.2417324e+00, -1.0305883e-01,  1.6862887e-01],\n",
       "        [ 1.6532776e-01, -1.8361835e-02, -6.8342412e-01, -9.1771847e-01]],\n",
       "\n",
       "       [[-2.1131747e+00,  6.8570465e-01,  4.2936662e-01, -4.2262617e-01],\n",
       "        [-5.6386429e-01,  2.4456641e-01, -6.3547629e-01, -2.3737580e-01],\n",
       "        [-5.6105536e-01, -3.9074510e-02, -5.9592551e-01, -1.3110245e+00]],\n",
       "\n",
       "       [[-1.6689811e+00, -1.1943454e+00, -9.9109364e-01,  5.3729361e-01],\n",
       "        [ 1.4239163e+00,  1.0564733e+00,  1.6231854e+00,  5.0015986e-01],\n",
       "        [ 1.7325346e+00, -2.6845261e-01, -2.5957355e-01,  1.4611545e+00]],\n",
       "\n",
       "       [[-9.8668665e-02,  7.2771335e-01, -1.6073797e+00,  2.1079593e+00],\n",
       "        [-5.4217368e-01,  5.3747324e-03, -7.0617366e-01,  1.1109602e+00],\n",
       "        [ 5.7894862e-01,  5.6657657e-02,  1.6757565e+00,  9.8433977e-01]],\n",
       "\n",
       "       [[ 1.4840641e+00, -2.8227884e-01,  1.2638125e+00,  4.7213221e-01],\n",
       "        [ 8.7272257e-02,  3.5060000e-01, -9.1058910e-01,  2.9466739e-01],\n",
       "        [-4.9642175e-01,  6.7239368e-01, -6.3350701e-01, -3.1338499e+00]],\n",
       "\n",
       "       [[-1.0195928e+00, -1.1480229e+00, -4.4860986e-01, -8.2070023e-01],\n",
       "        [ 2.3037195e+00,  8.2267940e-02,  1.1701744e+00, -2.1323304e+00],\n",
       "        [ 1.2397521e+00,  4.3762887e-01, -1.0373876e+00,  1.5119747e+00]],\n",
       "\n",
       "       [[ 2.1707056e+00, -6.2172180e-01,  2.6401621e-01,  2.2435081e-01],\n",
       "        [-1.0430254e+00,  7.2644299e-01,  1.2598308e+00,  2.1710178e-01],\n",
       "        [-4.6310395e-01, -1.4866884e+00,  4.5806047e-01,  2.2190794e-02]],\n",
       "\n",
       "       [[ 3.2570153e-01,  1.7916918e-01, -4.5573184e-01, -6.2352389e-02],\n",
       "        [-6.9365472e-01, -5.9519720e-01, -8.1731737e-01, -7.6341909e-01],\n",
       "        [-2.0068185e+00, -1.9896753e+00,  3.6802429e-01,  1.0425382e+00]],\n",
       "\n",
       "       [[ 3.0367846e+00, -1.8349924e+00,  1.0677501e+00,  6.7701280e-01],\n",
       "        [-6.9648302e-01, -1.1954645e+00,  1.5308598e+00, -2.0489557e+00],\n",
       "        [ 4.1767168e-01, -4.2403308e-01, -1.1060129e+00,  1.5379279e+00]],\n",
       "\n",
       "       [[ 4.8592263e-01, -1.7215580e+00,  2.9279110e-01, -5.2784443e-01],\n",
       "        [ 1.4492859e+00, -8.5946059e-01,  1.6418583e+00, -2.0344768e+00],\n",
       "        [-8.1857786e-02, -4.2090920e-01,  1.3487007e-01,  2.0400033e+00]]],\n",
       "      dtype=float32)>"
      ]
     },
     "execution_count": 20,
     "metadata": {},
     "output_type": "execute_result"
    }
   ],
   "source": [
    "tf.random.normal(shape = (20,3,4)) # 20 matris her biri 3 satır 4 sutun."
   ]
  },
  {
   "cell_type": "code",
   "execution_count": 21,
   "id": "b4ced476-c83b-42d1-8e29-4eccd3662b3d",
   "metadata": {
    "tags": []
   },
   "outputs": [
    {
     "data": {
      "text/plain": [
       "<tf.Tensor: shape=(3, 2), dtype=float32, numpy=\n",
       "array([[ 0.3274685, -0.8426258],\n",
       "       [ 0.3194337, -1.4075519],\n",
       "       [-2.3880599, -1.0392479]], dtype=float32)>"
      ]
     },
     "execution_count": 21,
     "metadata": {},
     "output_type": "execute_result"
    }
   ],
   "source": [
    "# sürekli farklı değerler verir tf.random eğer bunun önüne geçmek istersek tf.set_seed() ile bir sayı belirleriz farklı pclerde aynı sayıyı girenler aynı  matrisleri aynı tensörleri elde eder.\n",
    "tf.random.set_seed(42)\n",
    "tf.random.normal(shape = (3,2))"
   ]
  },
  {
   "cell_type": "code",
   "execution_count": 22,
   "id": "3098d226-92f5-4da5-a323-fd9d66d36745",
   "metadata": {
    "tags": []
   },
   "outputs": [
    {
     "data": {
      "text/plain": [
       "<tf.Tensor: shape=(3, 2), dtype=float32, numpy=\n",
       "array([[ 0.3274685, -0.8426258],\n",
       "       [ 0.3194337, -1.4075519],\n",
       "       [-2.3880599, -1.0392479]], dtype=float32)>"
      ]
     },
     "execution_count": 22,
     "metadata": {},
     "output_type": "execute_result"
    }
   ],
   "source": [
    "tf.random.set_seed(42)\n",
    "tf.random.normal(shape = (3,2))"
   ]
  },
  {
   "cell_type": "code",
   "execution_count": 23,
   "id": "9de5be9d-0ff7-4525-b6ca-f1628d15a3d2",
   "metadata": {
    "tags": []
   },
   "outputs": [
    {
     "data": {
      "text/plain": [
       "<tf.Tensor: shape=(5, 4, 3), dtype=float32, numpy=\n",
       "array([[[1., 1., 1.],\n",
       "        [1., 1., 1.],\n",
       "        [1., 1., 1.],\n",
       "        [1., 1., 1.]],\n",
       "\n",
       "       [[1., 1., 1.],\n",
       "        [1., 1., 1.],\n",
       "        [1., 1., 1.],\n",
       "        [1., 1., 1.]],\n",
       "\n",
       "       [[1., 1., 1.],\n",
       "        [1., 1., 1.],\n",
       "        [1., 1., 1.],\n",
       "        [1., 1., 1.]],\n",
       "\n",
       "       [[1., 1., 1.],\n",
       "        [1., 1., 1.],\n",
       "        [1., 1., 1.],\n",
       "        [1., 1., 1.]],\n",
       "\n",
       "       [[1., 1., 1.],\n",
       "        [1., 1., 1.],\n",
       "        [1., 1., 1.],\n",
       "        [1., 1., 1.]]], dtype=float32)>"
      ]
     },
     "execution_count": 23,
     "metadata": {},
     "output_type": "execute_result"
    }
   ],
   "source": [
    "# sıfırlardan oluşan tensörler için zeros birlerden oluşan içinse ones kullanabiliriz.\n",
    "tf.ones(shape = (5,4,3))"
   ]
  },
  {
   "cell_type": "code",
   "execution_count": 24,
   "id": "8388c2e2-066c-434a-b6bb-8d3d00ce931e",
   "metadata": {
    "tags": []
   },
   "outputs": [
    {
     "data": {
      "text/plain": [
       "<tf.Tensor: shape=(2, 4, 5), dtype=float32, numpy=\n",
       "array([[[0., 0., 0., 0., 0.],\n",
       "        [0., 0., 0., 0., 0.],\n",
       "        [0., 0., 0., 0., 0.],\n",
       "        [0., 0., 0., 0., 0.]],\n",
       "\n",
       "       [[0., 0., 0., 0., 0.],\n",
       "        [0., 0., 0., 0., 0.],\n",
       "        [0., 0., 0., 0., 0.],\n",
       "        [0., 0., 0., 0., 0.]]], dtype=float32)>"
      ]
     },
     "execution_count": 24,
     "metadata": {},
     "output_type": "execute_result"
    }
   ],
   "source": [
    "tf.zeros(shape = (2,4,5))"
   ]
  },
  {
   "cell_type": "code",
   "execution_count": 25,
   "id": "3eb85b00-09ba-4898-8cf2-f9e99481ee7f",
   "metadata": {
    "tags": []
   },
   "outputs": [
    {
     "data": {
      "text/plain": [
       "array([ 1,  2,  3,  4,  5,  6,  7,  8,  9, 10, 11, 12, 13, 14, 15, 16, 17,\n",
       "       18, 19, 20, 21, 22, 23, 24])"
      ]
     },
     "execution_count": 25,
     "metadata": {},
     "output_type": "execute_result"
    }
   ],
   "source": [
    "#numpy arrayleri tensöre çevirebiliriz.\n",
    "numpyA = np.arange(1,25,dtype = np.int32)\n",
    "numpyA"
   ]
  },
  {
   "cell_type": "code",
   "execution_count": 26,
   "id": "4809c016-8bf8-43d2-a69a-fde57e9916a5",
   "metadata": {
    "tags": []
   },
   "outputs": [
    {
     "data": {
      "text/plain": [
       "<tf.Tensor: shape=(2, 4, 3), dtype=int32, numpy=\n",
       "array([[[ 1,  2,  3],\n",
       "        [ 4,  5,  6],\n",
       "        [ 7,  8,  9],\n",
       "        [10, 11, 12]],\n",
       "\n",
       "       [[13, 14, 15],\n",
       "        [16, 17, 18],\n",
       "        [19, 20, 21],\n",
       "        [22, 23, 24]]])>"
      ]
     },
     "execution_count": 26,
     "metadata": {},
     "output_type": "execute_result"
    }
   ],
   "source": [
    "tensorA = tf.constant(numpyA,shape=[2,4,3]) # 2 matris her biri 4 satır 3 satın.  2 * 4 * 3 = arrayin uzunluğu olmalıdır. \n",
    "tensorA"
   ]
  },
  {
   "cell_type": "code",
   "execution_count": 27,
   "id": "cad2d427-e416-448f-a8e4-26dc7adaf638",
   "metadata": {
    "tags": []
   },
   "outputs": [
    {
     "data": {
      "text/plain": [
       "<tf.Tensor: shape=(2, 3, 4, 5), dtype=float32, numpy=\n",
       "array([[[[0., 0., 0., 0., 0.],\n",
       "         [0., 0., 0., 0., 0.],\n",
       "         [0., 0., 0., 0., 0.],\n",
       "         [0., 0., 0., 0., 0.]],\n",
       "\n",
       "        [[0., 0., 0., 0., 0.],\n",
       "         [0., 0., 0., 0., 0.],\n",
       "         [0., 0., 0., 0., 0.],\n",
       "         [0., 0., 0., 0., 0.]],\n",
       "\n",
       "        [[0., 0., 0., 0., 0.],\n",
       "         [0., 0., 0., 0., 0.],\n",
       "         [0., 0., 0., 0., 0.],\n",
       "         [0., 0., 0., 0., 0.]]],\n",
       "\n",
       "\n",
       "       [[[0., 0., 0., 0., 0.],\n",
       "         [0., 0., 0., 0., 0.],\n",
       "         [0., 0., 0., 0., 0.],\n",
       "         [0., 0., 0., 0., 0.]],\n",
       "\n",
       "        [[0., 0., 0., 0., 0.],\n",
       "         [0., 0., 0., 0., 0.],\n",
       "         [0., 0., 0., 0., 0.],\n",
       "         [0., 0., 0., 0., 0.]],\n",
       "\n",
       "        [[0., 0., 0., 0., 0.],\n",
       "         [0., 0., 0., 0., 0.],\n",
       "         [0., 0., 0., 0., 0.],\n",
       "         [0., 0., 0., 0., 0.]]]], dtype=float32)>"
      ]
     },
     "execution_count": 27,
     "metadata": {},
     "output_type": "execute_result"
    }
   ],
   "source": [
    "rank4tensor = tf.zeros([2,3,4,5])\n",
    "rank4tensor # 2 tane 3 boyutlu taşır.  3 boyutlular 3'er tane matris taşır matrisler 4 satın 5 sutundur."
   ]
  },
  {
   "cell_type": "code",
   "execution_count": 28,
   "id": "6e5caf7a-fc1f-4421-86d9-a991ce575031",
   "metadata": {
    "tags": []
   },
   "outputs": [
    {
     "data": {
      "text/plain": [
       "<tf.Tensor: shape=(2, 2, 2, 2), dtype=float32, numpy=\n",
       "array([[[[0., 0.],\n",
       "         [0., 0.]],\n",
       "\n",
       "        [[0., 0.],\n",
       "         [0., 0.]]],\n",
       "\n",
       "\n",
       "       [[[0., 0.],\n",
       "         [0., 0.]],\n",
       "\n",
       "        [[0., 0.],\n",
       "         [0., 0.]]]], dtype=float32)>"
      ]
     },
     "execution_count": 28,
     "metadata": {},
     "output_type": "execute_result"
    }
   ],
   "source": [
    "rank4tensor[:2,:2,:2,:2] "
   ]
  },
  {
   "cell_type": "code",
   "execution_count": 29,
   "id": "d07f2681-9eb1-4538-b5cc-29e9920c6fc3",
   "metadata": {
    "tags": []
   },
   "outputs": [
    {
     "data": {
      "text/plain": [
       "4"
      ]
     },
     "execution_count": 29,
     "metadata": {},
     "output_type": "execute_result"
    }
   ],
   "source": [
    "rank4tensor.ndim # 4 boyutludur."
   ]
  },
  {
   "cell_type": "code",
   "execution_count": 30,
   "id": "541068c5-5827-44ff-9557-4a205b49bd39",
   "metadata": {
    "tags": []
   },
   "outputs": [
    {
     "data": {
      "text/plain": [
       "<tf.Tensor: shape=(2, 3, 4, 5, 1), dtype=float32, numpy=\n",
       "array([[[[[0.],\n",
       "          [0.],\n",
       "          [0.],\n",
       "          [0.],\n",
       "          [0.]],\n",
       "\n",
       "         [[0.],\n",
       "          [0.],\n",
       "          [0.],\n",
       "          [0.],\n",
       "          [0.]],\n",
       "\n",
       "         [[0.],\n",
       "          [0.],\n",
       "          [0.],\n",
       "          [0.],\n",
       "          [0.]],\n",
       "\n",
       "         [[0.],\n",
       "          [0.],\n",
       "          [0.],\n",
       "          [0.],\n",
       "          [0.]]],\n",
       "\n",
       "\n",
       "        [[[0.],\n",
       "          [0.],\n",
       "          [0.],\n",
       "          [0.],\n",
       "          [0.]],\n",
       "\n",
       "         [[0.],\n",
       "          [0.],\n",
       "          [0.],\n",
       "          [0.],\n",
       "          [0.]],\n",
       "\n",
       "         [[0.],\n",
       "          [0.],\n",
       "          [0.],\n",
       "          [0.],\n",
       "          [0.]],\n",
       "\n",
       "         [[0.],\n",
       "          [0.],\n",
       "          [0.],\n",
       "          [0.],\n",
       "          [0.]]],\n",
       "\n",
       "\n",
       "        [[[0.],\n",
       "          [0.],\n",
       "          [0.],\n",
       "          [0.],\n",
       "          [0.]],\n",
       "\n",
       "         [[0.],\n",
       "          [0.],\n",
       "          [0.],\n",
       "          [0.],\n",
       "          [0.]],\n",
       "\n",
       "         [[0.],\n",
       "          [0.],\n",
       "          [0.],\n",
       "          [0.],\n",
       "          [0.]],\n",
       "\n",
       "         [[0.],\n",
       "          [0.],\n",
       "          [0.],\n",
       "          [0.],\n",
       "          [0.]]]],\n",
       "\n",
       "\n",
       "\n",
       "       [[[[0.],\n",
       "          [0.],\n",
       "          [0.],\n",
       "          [0.],\n",
       "          [0.]],\n",
       "\n",
       "         [[0.],\n",
       "          [0.],\n",
       "          [0.],\n",
       "          [0.],\n",
       "          [0.]],\n",
       "\n",
       "         [[0.],\n",
       "          [0.],\n",
       "          [0.],\n",
       "          [0.],\n",
       "          [0.]],\n",
       "\n",
       "         [[0.],\n",
       "          [0.],\n",
       "          [0.],\n",
       "          [0.],\n",
       "          [0.]]],\n",
       "\n",
       "\n",
       "        [[[0.],\n",
       "          [0.],\n",
       "          [0.],\n",
       "          [0.],\n",
       "          [0.]],\n",
       "\n",
       "         [[0.],\n",
       "          [0.],\n",
       "          [0.],\n",
       "          [0.],\n",
       "          [0.]],\n",
       "\n",
       "         [[0.],\n",
       "          [0.],\n",
       "          [0.],\n",
       "          [0.],\n",
       "          [0.]],\n",
       "\n",
       "         [[0.],\n",
       "          [0.],\n",
       "          [0.],\n",
       "          [0.],\n",
       "          [0.]]],\n",
       "\n",
       "\n",
       "        [[[0.],\n",
       "          [0.],\n",
       "          [0.],\n",
       "          [0.],\n",
       "          [0.]],\n",
       "\n",
       "         [[0.],\n",
       "          [0.],\n",
       "          [0.],\n",
       "          [0.],\n",
       "          [0.]],\n",
       "\n",
       "         [[0.],\n",
       "          [0.],\n",
       "          [0.],\n",
       "          [0.],\n",
       "          [0.]],\n",
       "\n",
       "         [[0.],\n",
       "          [0.],\n",
       "          [0.],\n",
       "          [0.],\n",
       "          [0.]]]]], dtype=float32)>"
      ]
     },
     "execution_count": 30,
     "metadata": {},
     "output_type": "execute_result"
    }
   ],
   "source": [
    "rank5tensor = rank4tensor[...,tf.newaxis]\n",
    "rank5tensor"
   ]
  },
  {
   "cell_type": "code",
   "execution_count": 31,
   "id": "d4043cca-aad1-4e2d-92da-00fdc33176cc",
   "metadata": {
    "tags": []
   },
   "outputs": [
    {
     "data": {
      "text/plain": [
       "TensorShape([2, 3, 4, 5, 1])"
      ]
     },
     "execution_count": 31,
     "metadata": {},
     "output_type": "execute_result"
    }
   ],
   "source": [
    "rank5tensor.shape # sonra bir boyut eklendi"
   ]
  },
  {
   "cell_type": "code",
   "execution_count": 32,
   "id": "ef79ffd6-ad13-44c7-af63-b172b7d27b64",
   "metadata": {
    "tags": []
   },
   "outputs": [
    {
     "data": {
      "text/plain": [
       "<tf.Tensor: shape=(2, 3, 4, 5, 1, 1), dtype=float32, numpy=\n",
       "array([[[[[[0.]],\n",
       "\n",
       "          [[0.]],\n",
       "\n",
       "          [[0.]],\n",
       "\n",
       "          [[0.]],\n",
       "\n",
       "          [[0.]]],\n",
       "\n",
       "\n",
       "         [[[0.]],\n",
       "\n",
       "          [[0.]],\n",
       "\n",
       "          [[0.]],\n",
       "\n",
       "          [[0.]],\n",
       "\n",
       "          [[0.]]],\n",
       "\n",
       "\n",
       "         [[[0.]],\n",
       "\n",
       "          [[0.]],\n",
       "\n",
       "          [[0.]],\n",
       "\n",
       "          [[0.]],\n",
       "\n",
       "          [[0.]]],\n",
       "\n",
       "\n",
       "         [[[0.]],\n",
       "\n",
       "          [[0.]],\n",
       "\n",
       "          [[0.]],\n",
       "\n",
       "          [[0.]],\n",
       "\n",
       "          [[0.]]]],\n",
       "\n",
       "\n",
       "\n",
       "        [[[[0.]],\n",
       "\n",
       "          [[0.]],\n",
       "\n",
       "          [[0.]],\n",
       "\n",
       "          [[0.]],\n",
       "\n",
       "          [[0.]]],\n",
       "\n",
       "\n",
       "         [[[0.]],\n",
       "\n",
       "          [[0.]],\n",
       "\n",
       "          [[0.]],\n",
       "\n",
       "          [[0.]],\n",
       "\n",
       "          [[0.]]],\n",
       "\n",
       "\n",
       "         [[[0.]],\n",
       "\n",
       "          [[0.]],\n",
       "\n",
       "          [[0.]],\n",
       "\n",
       "          [[0.]],\n",
       "\n",
       "          [[0.]]],\n",
       "\n",
       "\n",
       "         [[[0.]],\n",
       "\n",
       "          [[0.]],\n",
       "\n",
       "          [[0.]],\n",
       "\n",
       "          [[0.]],\n",
       "\n",
       "          [[0.]]]],\n",
       "\n",
       "\n",
       "\n",
       "        [[[[0.]],\n",
       "\n",
       "          [[0.]],\n",
       "\n",
       "          [[0.]],\n",
       "\n",
       "          [[0.]],\n",
       "\n",
       "          [[0.]]],\n",
       "\n",
       "\n",
       "         [[[0.]],\n",
       "\n",
       "          [[0.]],\n",
       "\n",
       "          [[0.]],\n",
       "\n",
       "          [[0.]],\n",
       "\n",
       "          [[0.]]],\n",
       "\n",
       "\n",
       "         [[[0.]],\n",
       "\n",
       "          [[0.]],\n",
       "\n",
       "          [[0.]],\n",
       "\n",
       "          [[0.]],\n",
       "\n",
       "          [[0.]]],\n",
       "\n",
       "\n",
       "         [[[0.]],\n",
       "\n",
       "          [[0.]],\n",
       "\n",
       "          [[0.]],\n",
       "\n",
       "          [[0.]],\n",
       "\n",
       "          [[0.]]]]],\n",
       "\n",
       "\n",
       "\n",
       "\n",
       "       [[[[[0.]],\n",
       "\n",
       "          [[0.]],\n",
       "\n",
       "          [[0.]],\n",
       "\n",
       "          [[0.]],\n",
       "\n",
       "          [[0.]]],\n",
       "\n",
       "\n",
       "         [[[0.]],\n",
       "\n",
       "          [[0.]],\n",
       "\n",
       "          [[0.]],\n",
       "\n",
       "          [[0.]],\n",
       "\n",
       "          [[0.]]],\n",
       "\n",
       "\n",
       "         [[[0.]],\n",
       "\n",
       "          [[0.]],\n",
       "\n",
       "          [[0.]],\n",
       "\n",
       "          [[0.]],\n",
       "\n",
       "          [[0.]]],\n",
       "\n",
       "\n",
       "         [[[0.]],\n",
       "\n",
       "          [[0.]],\n",
       "\n",
       "          [[0.]],\n",
       "\n",
       "          [[0.]],\n",
       "\n",
       "          [[0.]]]],\n",
       "\n",
       "\n",
       "\n",
       "        [[[[0.]],\n",
       "\n",
       "          [[0.]],\n",
       "\n",
       "          [[0.]],\n",
       "\n",
       "          [[0.]],\n",
       "\n",
       "          [[0.]]],\n",
       "\n",
       "\n",
       "         [[[0.]],\n",
       "\n",
       "          [[0.]],\n",
       "\n",
       "          [[0.]],\n",
       "\n",
       "          [[0.]],\n",
       "\n",
       "          [[0.]]],\n",
       "\n",
       "\n",
       "         [[[0.]],\n",
       "\n",
       "          [[0.]],\n",
       "\n",
       "          [[0.]],\n",
       "\n",
       "          [[0.]],\n",
       "\n",
       "          [[0.]]],\n",
       "\n",
       "\n",
       "         [[[0.]],\n",
       "\n",
       "          [[0.]],\n",
       "\n",
       "          [[0.]],\n",
       "\n",
       "          [[0.]],\n",
       "\n",
       "          [[0.]]]],\n",
       "\n",
       "\n",
       "\n",
       "        [[[[0.]],\n",
       "\n",
       "          [[0.]],\n",
       "\n",
       "          [[0.]],\n",
       "\n",
       "          [[0.]],\n",
       "\n",
       "          [[0.]]],\n",
       "\n",
       "\n",
       "         [[[0.]],\n",
       "\n",
       "          [[0.]],\n",
       "\n",
       "          [[0.]],\n",
       "\n",
       "          [[0.]],\n",
       "\n",
       "          [[0.]]],\n",
       "\n",
       "\n",
       "         [[[0.]],\n",
       "\n",
       "          [[0.]],\n",
       "\n",
       "          [[0.]],\n",
       "\n",
       "          [[0.]],\n",
       "\n",
       "          [[0.]]],\n",
       "\n",
       "\n",
       "         [[[0.]],\n",
       "\n",
       "          [[0.]],\n",
       "\n",
       "          [[0.]],\n",
       "\n",
       "          [[0.]],\n",
       "\n",
       "          [[0.]]]]]], dtype=float32)>"
      ]
     },
     "execution_count": 32,
     "metadata": {},
     "output_type": "execute_result"
    }
   ],
   "source": [
    "rank6tensor = tf.expand_dims(rank5tensor,axis = -1)\n",
    "rank6tensor # sonra bir tane daha shape eklendi."
   ]
  },
  {
   "cell_type": "code",
   "execution_count": 33,
   "id": "bf6d5384-c736-47e9-b530-1f78a065162a",
   "metadata": {
    "tags": []
   },
   "outputs": [
    {
     "data": {
      "text/plain": [
       "<tf.Tensor: shape=(2, 2), dtype=int32, numpy=\n",
       "array([[1, 2],\n",
       "       [3, 4]])>"
      ]
     },
     "execution_count": 33,
     "metadata": {},
     "output_type": "execute_result"
    }
   ],
   "source": [
    "# TENSÖR İLE İŞLEM YAPMA\n",
    "tensor = tf.constant([[1,2,],[3,4]])\n",
    "tensor"
   ]
  },
  {
   "cell_type": "code",
   "execution_count": 34,
   "id": "41dcbd99-ed99-450a-9bb7-a6fc5217de14",
   "metadata": {
    "tags": []
   },
   "outputs": [
    {
     "data": {
      "text/plain": [
       "<tf.Tensor: shape=(2, 2), dtype=int32, numpy=\n",
       "array([[11, 12],\n",
       "       [13, 14]])>"
      ]
     },
     "execution_count": 34,
     "metadata": {},
     "output_type": "execute_result"
    }
   ],
   "source": [
    "tensor + 10 # her elemana 10 eklenir. -10 YAPARSAK her eleman 10 azalır * 10 yaparsak eğer hepsi 10 ile çarpılır numpy gibi"
   ]
  },
  {
   "cell_type": "code",
   "execution_count": 35,
   "id": "74bfda1b-5f96-4d80-8897-b725a95c2aed",
   "metadata": {
    "tags": []
   },
   "outputs": [
    {
     "data": {
      "text/plain": [
       "<tf.Tensor: shape=(2, 2), dtype=int32, numpy=\n",
       "array([[10, 20],\n",
       "       [30, 40]])>"
      ]
     },
     "execution_count": 35,
     "metadata": {},
     "output_type": "execute_result"
    }
   ],
   "source": [
    "tf.multiply(tensor,10) # her eleman 10 ile çarpılır."
   ]
  },
  {
   "cell_type": "code",
   "execution_count": 36,
   "id": "67119e9d-5c0b-4b9d-8cff-7d2ce3bc6081",
   "metadata": {
    "tags": []
   },
   "outputs": [
    {
     "data": {
      "text/plain": [
       "<tf.Tensor: shape=(2, 2), dtype=int32, numpy=\n",
       "array([[ 7, 10],\n",
       "       [15, 22]])>"
      ]
     },
     "execution_count": 36,
     "metadata": {},
     "output_type": "execute_result"
    }
   ],
   "source": [
    "tf.matmul(tensor,tensor) # matris çarpımı için matmul kullanılır"
   ]
  },
  {
   "cell_type": "code",
   "execution_count": 37,
   "id": "1e915787-dc61-4d39-a2b1-6a0b78b75f57",
   "metadata": {
    "tags": []
   },
   "outputs": [
    {
     "data": {
      "text/plain": [
       "<tf.Tensor: shape=(2, 2), dtype=int32, numpy=\n",
       "array([[ 7, 10],\n",
       "       [15, 22]])>"
      ]
     },
     "execution_count": 37,
     "metadata": {},
     "output_type": "execute_result"
    }
   ],
   "source": [
    "tensor @ tensor # @ ilede matris çarpımı yapabiliriz. iki matrisin çarpılması için içteki boyutlar eşit olmalıdır. çıkan matrisin sonucuda dıştaki matrise eşittir."
   ]
  },
  {
   "cell_type": "code",
   "execution_count": 38,
   "id": "48343546-fd3a-4a8e-b30d-ea2af41ef515",
   "metadata": {
    "tags": []
   },
   "outputs": [
    {
     "data": {
      "text/plain": [
       "<tf.Tensor: shape=(2, 3), dtype=int32, numpy=\n",
       "array([[1, 2, 3],\n",
       "       [4, 5, 6]])>"
      ]
     },
     "execution_count": 38,
     "metadata": {},
     "output_type": "execute_result"
    }
   ],
   "source": [
    "tensor12 = tf.constant([[1,2,3],[4,5,6]])\n",
    "tensor12"
   ]
  },
  {
   "cell_type": "code",
   "execution_count": 39,
   "id": "a272806b-ac43-4e70-91b3-56c305e1d834",
   "metadata": {
    "tags": []
   },
   "outputs": [
    {
     "data": {
      "text/plain": [
       "<tf.Tensor: shape=(3, 2), dtype=int32, numpy=\n",
       "array([[1, 2],\n",
       "       [3, 4],\n",
       "       [5, 6]])>"
      ]
     },
     "execution_count": 39,
     "metadata": {},
     "output_type": "execute_result"
    }
   ],
   "source": [
    "tf.reshape(tensor12,shape=(3,2)) # matrisin boyutunu değiştiriebiliriz."
   ]
  },
  {
   "cell_type": "code",
   "execution_count": 40,
   "id": "d6b06788-808d-4a26-92ff-6898ee40c958",
   "metadata": {
    "tags": []
   },
   "outputs": [
    {
     "data": {
      "text/plain": [
       "<tf.Tensor: shape=(3, 2), dtype=int32, numpy=\n",
       "array([[1, 4],\n",
       "       [2, 5],\n",
       "       [3, 6]])>"
      ]
     },
     "execution_count": 40,
     "metadata": {},
     "output_type": "execute_result"
    }
   ],
   "source": [
    "tf.transpose(tensor12) # transpoz alırız."
   ]
  },
  {
   "cell_type": "code",
   "execution_count": 41,
   "id": "c55b105a-9a76-400a-b857-f76c78f9b9f7",
   "metadata": {
    "tags": []
   },
   "outputs": [
    {
     "data": {
      "text/plain": [
       "<tf.Tensor: shape=(2,), dtype=float32, numpy=array([1.2, 3.4], dtype=float32)>"
      ]
     },
     "execution_count": 41,
     "metadata": {},
     "output_type": "execute_result"
    }
   ],
   "source": [
    "tensor13 = tf.constant([1.2,3.4])\n",
    "tensor13 # veri tipi float32 ön tanımlı olarak."
   ]
  },
  {
   "cell_type": "code",
   "execution_count": 42,
   "id": "ec726362-c36e-46b3-acf3-4f163dd0dfdf",
   "metadata": {},
   "outputs": [
    {
     "data": {
      "text/plain": [
       "<tf.Tensor: shape=(2, 3), dtype=float16, numpy=\n",
       "array([[1., 2., 3.],\n",
       "       [4., 5., 6.]], dtype=float16)>"
      ]
     },
     "execution_count": 42,
     "metadata": {},
     "output_type": "execute_result"
    }
   ],
   "source": [
    "tf.cast(tensor12,dtype = tf.float16) # cast ile veri tipini değiştirebiliriz."
   ]
  },
  {
   "cell_type": "code",
   "execution_count": 43,
   "id": "54e1192e-c14f-46b3-8526-dfe1cdd2d6ba",
   "metadata": {
    "tags": []
   },
   "outputs": [
    {
     "data": {
      "text/plain": [
       "<tf.Tensor: shape=(1, 1, 1, 1, 50), dtype=int32, numpy=\n",
       "array([[[[[56, 24, 33,  9, 35, 27, 23, 67, 10, 46, 54, 56, 62, 53, 10,\n",
       "           12, 42, 60, 90, 49, 37, 77, 16, 96, 21, 78, 79, 30, 21, 45,\n",
       "           42, 10, 78,  7, 86, 76, 97, 26, 54, 42, 40, 89, 46, 61, 55,\n",
       "           90, 60, 93, 30, 58]]]]])>"
      ]
     },
     "execution_count": 43,
     "metadata": {},
     "output_type": "execute_result"
    }
   ],
   "source": [
    "tensor22 = tf.constant(np.random.randint(0,100,50),shape = (1,1,1,1,50))\n",
    "tensor22"
   ]
  },
  {
   "cell_type": "code",
   "execution_count": 44,
   "id": "aba94556-8b42-47d6-8fae-bc1b023e8c76",
   "metadata": {
    "tags": []
   },
   "outputs": [
    {
     "data": {
      "text/plain": [
       "TensorShape([1, 1, 1, 1, 50])"
      ]
     },
     "execution_count": 44,
     "metadata": {},
     "output_type": "execute_result"
    }
   ],
   "source": [
    "tensor22.shape"
   ]
  },
  {
   "cell_type": "code",
   "execution_count": 45,
   "id": "ac542ff0-5483-4adb-9403-6edc2cea3c9c",
   "metadata": {
    "tags": []
   },
   "outputs": [
    {
     "data": {
      "text/plain": [
       "TensorShape([50])"
      ]
     },
     "execution_count": 45,
     "metadata": {},
     "output_type": "execute_result"
    }
   ],
   "source": [
    "tf.squeeze(tensor22).shape # tek boyutluları kaldırırız. böylece."
   ]
  },
  {
   "cell_type": "code",
   "execution_count": 46,
   "id": "5f36ac53-f249-4d99-8f93-9e88493e6ba0",
   "metadata": {
    "tags": []
   },
   "outputs": [
    {
     "data": {
      "text/plain": [
       "<tf.Tensor: shape=(4, 4), dtype=float32, numpy=\n",
       "array([[1., 0., 0., 0.],\n",
       "       [0., 1., 0., 0.],\n",
       "       [0., 0., 1., 0.],\n",
       "       [0., 0., 0., 1.]], dtype=float32)>"
      ]
     },
     "execution_count": 46,
     "metadata": {},
     "output_type": "execute_result"
    }
   ],
   "source": [
    "data = [0,1,2,3]\n",
    "tf.one_hot(data,depth=4) # one hot kodlama."
   ]
  },
  {
   "cell_type": "code",
   "execution_count": 47,
   "id": "c0070e3a-89ca-41ee-ad42-eaec58981194",
   "metadata": {
    "tags": []
   },
   "outputs": [
    {
     "data": {
      "text/plain": [
       "<tf.Tensor: shape=(10,), dtype=int32, numpy=array([ 0,  1,  4,  9, 16, 25, 36, 49, 64, 81])>"
      ]
     },
     "execution_count": 47,
     "metadata": {},
     "output_type": "execute_result"
    }
   ],
   "source": [
    "# dekaratör metorların davranışını değiştirir.\n",
    "def f(x):\n",
    "    return x ** 2\n",
    "data = tf.constant(np.arange(0,10))\n",
    "f(data) "
   ]
  },
  {
   "cell_type": "code",
   "execution_count": 48,
   "id": "580ddccc-0863-4a93-a5ab-bb4b2ef1e8cc",
   "metadata": {
    "tags": []
   },
   "outputs": [
    {
     "data": {
      "text/plain": [
       "<tf.Tensor: shape=(10,), dtype=int32, numpy=array([ 0,  1,  4,  9, 16, 25, 36, 49, 64, 81])>"
      ]
     },
     "execution_count": 48,
     "metadata": {},
     "output_type": "execute_result"
    }
   ],
   "source": [
    "@tf.function # ne farkı var böyle yaparsak eğer gpu üzerinde çalışır sistem. daha hızlı işlemler yapabiliriz farkı hızında demektir.   @tf.function diyerek bunu tensorflow metotu haline getiririz.\n",
    "def f(x):\n",
    "    return x ** 2\n",
    "data1 = tf.constant(np.arange(0,10))\n",
    "f(data1) "
   ]
  },
  {
   "cell_type": "code",
   "execution_count": 50,
   "id": "cd627feb-fee3-4618-8a00-22321f5a4d17",
   "metadata": {
    "tags": []
   },
   "outputs": [
    {
     "data": {
      "text/plain": [
       "[LogicalDevice(name='/device:CPU:0', device_type='CPU')]"
      ]
     },
     "execution_count": 50,
     "metadata": {},
     "output_type": "execute_result"
    }
   ],
   "source": [
    "tf.config.list_logical_devices() # şu an CPU üzerinde çalışıyoruz."
   ]
  },
  {
   "cell_type": "code",
   "execution_count": null,
   "id": "7a92679a-3c07-46d8-b975-1c8a8c5ba89e",
   "metadata": {},
   "outputs": [],
   "source": []
  }
 ],
 "metadata": {
  "kernelspec": {
   "display_name": "Python 3 (ipykernel)",
   "language": "python",
   "name": "python3"
  },
  "language_info": {
   "codemirror_mode": {
    "name": "ipython",
    "version": 3
   },
   "file_extension": ".py",
   "mimetype": "text/x-python",
   "name": "python",
   "nbconvert_exporter": "python",
   "pygments_lexer": "ipython3",
   "version": "3.11.4"
  }
 },
 "nbformat": 4,
 "nbformat_minor": 5
}
