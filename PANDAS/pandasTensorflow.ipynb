{
 "cells": [
  {
   "cell_type": "code",
   "execution_count": 1,
   "id": "a91d4818-f57b-4d85-86f3-00593ef2a95e",
   "metadata": {},
   "outputs": [],
   "source": [
    "import pandas as pd\n",
    "import numpy as np"
   ]
  },
  {
   "cell_type": "code",
   "execution_count": 2,
   "id": "3f7cf463-5cce-4217-b909-b59945db6591",
   "metadata": {},
   "outputs": [
    {
     "data": {
      "text/plain": [
       "atil      50\n",
       "zeynep    40\n",
       "mehmet    30\n",
       "dtype: int64"
      ]
     },
     "execution_count": 2,
     "metadata": {},
     "output_type": "execute_result"
    }
   ],
   "source": [
    "# seriler aslında numpy dizisine çok benzer. indexleme vs var. tek boyutludur array gibi.\n",
    "bsozluk = {\"atil\":50,\"zeynep\":40,\"mehmet\":30}\n",
    "pd.Series(bsozluk) # keyleri indexleme için kullanılır valueler ise veri olarak kullanılacak."
   ]
  },
  {
   "cell_type": "code",
   "execution_count": 3,
   "id": "20950456-a203-457f-9fc3-488d292ebb6a",
   "metadata": {},
   "outputs": [
    {
     "data": {
      "text/plain": [
       "pandas.core.series.Series"
      ]
     },
     "execution_count": 3,
     "metadata": {},
     "output_type": "execute_result"
    }
   ],
   "source": [
    "type(pd.Series(bsozluk))"
   ]
  },
  {
   "cell_type": "code",
   "execution_count": 4,
   "id": "47354203-9176-4971-80a6-c334f0f9eb6c",
   "metadata": {},
   "outputs": [],
   "source": [
    "benimlistem = [50,40,30]\n",
    "benimisimlerim = [\"atil\",\"zeynep\",\"mehmet\"]"
   ]
  },
  {
   "cell_type": "code",
   "execution_count": 5,
   "id": "f23a49ef-1c97-451a-a5a4-496af1548acb",
   "metadata": {},
   "outputs": [
    {
     "data": {
      "text/plain": [
       "50      atil\n",
       "40    zeynep\n",
       "30    mehmet\n",
       "dtype: object"
      ]
     },
     "execution_count": 5,
     "metadata": {},
     "output_type": "execute_result"
    }
   ],
   "source": [
    "pd.Series(data=benimisimlerim,index=benimlistem) # verileri ve indexleme elemanlarını ayrı ayrı verebiliriz.\n",
    "# default olarak önce data sonra index elemamnları verilir."
   ]
  },
  {
   "cell_type": "code",
   "execution_count": 8,
   "id": "da46ea02-f458-4994-887d-0cc3ebdb9363",
   "metadata": {},
   "outputs": [],
   "source": [
    "array1 = np.array([30,40,50])"
   ]
  },
  {
   "cell_type": "code",
   "execution_count": 13,
   "id": "7ac0a733-5e3c-442b-9355-3aa3157f8a82",
   "metadata": {},
   "outputs": [
    {
     "data": {
      "text/plain": [
       "atil      30\n",
       "zeynep    40\n",
       "mehmet    50\n",
       "dtype: int32"
      ]
     },
     "execution_count": 13,
     "metadata": {},
     "output_type": "execute_result"
    }
   ],
   "source": [
    "pd.Series(data=array1,index=benimisimlerim) # eğer data'nın eleman sayısı indexten fazla olursa hata alırız ama index fazla olursa sorun yok. açıkta kalan olabilir."
   ]
  },
  {
   "cell_type": "code",
   "execution_count": 14,
   "id": "d386fb36-3d77-4021-95c9-a2a3ca872367",
   "metadata": {},
   "outputs": [
    {
     "data": {
      "text/plain": [
       "1      atil\n",
       "2    zeynep\n",
       "3    mehmet\n",
       "dtype: object"
      ]
     },
     "execution_count": 14,
     "metadata": {},
     "output_type": "execute_result"
    }
   ],
   "source": [
    "pd.Series([\"atil\",\"zeynep\",\"mehmet\"],[1,2,3]) #"
   ]
  },
  {
   "cell_type": "code",
   "execution_count": 18,
   "id": "03a80fe5-c915-4de5-9c2c-7e174d592cf9",
   "metadata": {},
   "outputs": [],
   "source": [
    "yarismasonucu1 = pd.Series([10,15,20],[\"atil\",\"zeynep\",\"mehmet\"])"
   ]
  },
  {
   "cell_type": "code",
   "execution_count": 19,
   "id": "6c225daa-736b-4b96-9495-029fde4137a5",
   "metadata": {},
   "outputs": [],
   "source": [
    "yarismasonucu2 = pd.Series([15,21,10],[\"atil\",\"zeynep\",\"mehmet\"]) # birebir aynı indexleme kullandık. burası önemli."
   ]
  },
  {
   "cell_type": "code",
   "execution_count": 20,
   "id": "7f9534b9-5e59-4ebb-b50e-932b1fb422a3",
   "metadata": {},
   "outputs": [
    {
     "data": {
      "text/plain": [
       "10"
      ]
     },
     "execution_count": 20,
     "metadata": {},
     "output_type": "execute_result"
    }
   ],
   "source": [
    "yarismasonucu2[\"mehmet\"] # mehmetin datasını alırız."
   ]
  },
  {
   "cell_type": "code",
   "execution_count": 21,
   "id": "94999d2c-c947-460b-9209-427516c7db6c",
   "metadata": {},
   "outputs": [
    {
     "data": {
      "text/plain": [
       "atil      25\n",
       "zeynep    36\n",
       "mehmet    30\n",
       "dtype: int64"
      ]
     },
     "execution_count": 21,
     "metadata": {},
     "output_type": "execute_result"
    }
   ],
   "source": [
    "sonsonuc = yarismasonucu1 + yarismasonucu2 # indexlere göre aynı olanları toplayacak.  eğer fazlan ya da eksik olsa index o zaman kesişimi olmayanlara NaN verecek. kesişimi olanlara toplama getirecek. \n",
    "sonsonuc"
   ]
  },
  {
   "cell_type": "code",
   "execution_count": 22,
   "id": "ab6cce93-6697-40da-a57f-a91769c3b550",
   "metadata": {},
   "outputs": [],
   "source": [
    "A = pd.Series([1,2,3,4,5],[\"a\",\"b\",\"c\",\"d\",\"e\"])"
   ]
  },
  {
   "cell_type": "code",
   "execution_count": 23,
   "id": "60688578-8b04-4d60-ae76-87b14701d0ec",
   "metadata": {},
   "outputs": [],
   "source": [
    "B = pd.Series([1,2,3,4,5],[\"t\",\"h\",\"c\",\"d\",\"l\"])"
   ]
  },
  {
   "cell_type": "code",
   "execution_count": 24,
   "id": "6d66b5a5-77e7-4eec-8031-b8be053f9ba8",
   "metadata": {},
   "outputs": [
    {
     "data": {
      "text/plain": [
       "a    NaN\n",
       "b    NaN\n",
       "c    6.0\n",
       "d    8.0\n",
       "e    NaN\n",
       "h    NaN\n",
       "l    NaN\n",
       "t    NaN\n",
       "dtype: float64"
      ]
     },
     "execution_count": 24,
     "metadata": {},
     "output_type": "execute_result"
    }
   ],
   "source": [
    "A + B # kesişimi olanlara toplama olacak olmayanlara ise NaN gelecek ayrı ayrı. "
   ]
  },
  {
   "cell_type": "markdown",
   "id": "765978a2-ad23-4675-a0bc-5682a224231a",
   "metadata": {},
   "source": [
    "# DATAFRAME"
   ]
  },
  {
   "cell_type": "code",
   "execution_count": null,
   "id": "59176345-6427-4134-9410-9ff7762a8188",
   "metadata": {},
   "outputs": [],
   "source": []
  }
 ],
 "metadata": {
  "kernelspec": {
   "display_name": "Python 3 (ipykernel)",
   "language": "python",
   "name": "python3"
  },
  "language_info": {
   "codemirror_mode": {
    "name": "ipython",
    "version": 3
   },
   "file_extension": ".py",
   "mimetype": "text/x-python",
   "name": "python",
   "nbconvert_exporter": "python",
   "pygments_lexer": "ipython3",
   "version": "3.11.2"
  }
 },
 "nbformat": 4,
 "nbformat_minor": 5
}
