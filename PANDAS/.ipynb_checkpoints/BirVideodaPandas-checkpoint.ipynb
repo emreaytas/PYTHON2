{
 "cells": [
  {
   "cell_type": "code",
   "execution_count": 1328,
   "id": "96e14b68-f8c1-4512-ad65-b1793b81fdd8",
   "metadata": {},
   "outputs": [],
   "source": [
    "import pandas as pd # numpy homojen verilerle çalışır. pandas ise heterojen verilerle çalışabilir.\n",
    "import numpy as np # series bir boyutludur bir sutundan oluşur. dataframe ise satır ve sutundan oluşur 2 boyutludur.\n",
    "import seaborn as sbn\n",
    "import matplotlib.pyplot as plt\n",
    "# bigdatan elde edilen verilerin yüzde1i analiz edilebilirdir. bunun için veri kalitesi çok önemlidir. pandas analizlerin daha kolay olmasını sağlar.\n",
    "# model kurmak için veri ön işleme gerekir. ne kadar kaliteli veri varsa o kadar kaliteli bir model kurarız."
   ]
  },
  {
   "cell_type": "code",
   "execution_count": 1329,
   "id": "ee21be79-4ca2-4ce9-b203-b3a708157c88",
   "metadata": {},
   "outputs": [],
   "source": [
    "# gerçek hayatta veriler hemen analiz edilecek kadar temiz olmaz. elde ne kadar kaliteli varsa o kaqdar kaliteli model kurabiliriz.\n",
    "# anaconda ile önemli kütüphaneleri otomatik olarak yüklü gelir direkt olarak kullanabiliriz."
   ]
  },
  {
   "cell_type": "markdown",
   "id": "4d438096-839e-4f26-9a44-4f1cb2d7e54f",
   "metadata": {},
   "source": [
    "# SERİES"
   ]
  },
  {
   "cell_type": "code",
   "execution_count": 1330,
   "id": "9eb46e44-39c9-4212-86bc-a5d6bc0eca0e",
   "metadata": {},
   "outputs": [
    {
     "data": {
      "text/plain": [
       "0      1\n",
       "1    Ali\n",
       "2    3.5\n",
       "3    Hey\n",
       "dtype: object"
      ]
     },
     "execution_count": 1330,
     "metadata": {},
     "output_type": "execute_result"
    }
   ],
   "source": [
    "obje = pd.Series([1,\"Ali\",3.5,\"Hey\"])\n",
    "obje # bu bir seridir.\n",
    "# series nedir te boyutlu satır indexlemesi vs yapılan bir array tipi yapıdır. tek bir sutunu ifade eder aslında\n",
    "# dataframeler alt alta veya yan yana serieslerden oluşur. tek bir satır veya tek bir sutun alırsak eğer o zaman elimize bir seri geçer.\n",
    "# veriler homojendir bir Series'te poandas'ta ise heterojen olabilir. \n",
    "# series homojen olduğu için farklı tipte veriler varsa o zaman uppercasting olur. Series'teki en yüksek tipe yükseltilir tüm veriler."
   ]
  },
  {
   "cell_type": "code",
   "execution_count": 1331,
   "id": "88c77ebe-58c0-44e8-8098-3e41d14cb2ad",
   "metadata": {},
   "outputs": [
    {
     "data": {
      "text/html": [
       "<div>\n",
       "<style scoped>\n",
       "    .dataframe tbody tr th:only-of-type {\n",
       "        vertical-align: middle;\n",
       "    }\n",
       "\n",
       "    .dataframe tbody tr th {\n",
       "        vertical-align: top;\n",
       "    }\n",
       "\n",
       "    .dataframe thead th {\n",
       "        text-align: right;\n",
       "    }\n",
       "</style>\n",
       "<table border=\"1\" class=\"dataframe\">\n",
       "  <thead>\n",
       "    <tr style=\"text-align: right;\">\n",
       "      <th></th>\n",
       "      <th>Bilmem</th>\n",
       "    </tr>\n",
       "  </thead>\n",
       "  <tbody>\n",
       "    <tr>\n",
       "      <th>1</th>\n",
       "      <td>Ali</td>\n",
       "    </tr>\n",
       "    <tr>\n",
       "      <th>2</th>\n",
       "      <td>3.5</td>\n",
       "    </tr>\n",
       "    <tr>\n",
       "      <th>3</th>\n",
       "      <td>Hey</td>\n",
       "    </tr>\n",
       "    <tr>\n",
       "      <th>4</th>\n",
       "      <td>NaN</td>\n",
       "    </tr>\n",
       "  </tbody>\n",
       "</table>\n",
       "</div>"
      ],
      "text/plain": [
       "  Bilmem\n",
       "1    Ali\n",
       "2    3.5\n",
       "3    Hey\n",
       "4    NaN"
      ]
     },
     "execution_count": 1331,
     "metadata": {},
     "output_type": "execute_result"
    }
   ],
   "source": [
    "objedf = pd.DataFrame(obje,columns=[\"Bilmem\"],index=[1,2,3,4])\n",
    "objedf # bir seriyi dataframeye çevirebiliriz."
   ]
  },
  {
   "cell_type": "code",
   "execution_count": 1332,
   "id": "f24dba46-a7ee-42f2-a867-59be0bad5e43",
   "metadata": {},
   "outputs": [
    {
     "data": {
      "text/plain": [
       "1    Ali\n",
       "2    3.5\n",
       "3    Hey\n",
       "dtype: object"
      ]
     },
     "execution_count": 1332,
     "metadata": {},
     "output_type": "execute_result"
    }
   ],
   "source": [
    "obje[1:] # istenen indexleme yapılabilir. obje[0] dese idim ilk veri gelirdi."
   ]
  },
  {
   "cell_type": "code",
   "execution_count": 1333,
   "id": "2efac5fa-21fb-43c0-b89e-004f6afbad8c",
   "metadata": {},
   "outputs": [
    {
     "data": {
      "text/plain": [
       "'Ali'"
      ]
     },
     "execution_count": 1333,
     "metadata": {},
     "output_type": "execute_result"
    }
   ],
   "source": [
    "obje.iloc[1] # iloc ile satır indexine göre ama 0'dan başlanmış hali(satır indexlemesi ne olursa olsun).\n",
    "# eğer index = [\"a\",\"b\",\"c\",\"d\"] olarak belirtilmiş olsa idi  obje[\"b\"]  demek obje.iloc[1]  olurdu."
   ]
  },
  {
   "cell_type": "code",
   "execution_count": 1334,
   "id": "767c4395-c027-475f-a6c4-9c9408fe3357",
   "metadata": {},
   "outputs": [
    {
     "data": {
      "text/plain": [
       "Ali      100\n",
       "Emre     100\n",
       "Ecem      67\n",
       "Ford      87\n",
       "Musti     89\n",
       "dtype: int64"
      ]
     },
     "execution_count": 1334,
     "metadata": {},
     "output_type": "execute_result"
    }
   ],
   "source": [
    "puan = {\"Ali\":100,\"Emre\":100,\"Ecem\":67,\"Ford\":87,\"Musti\":89}\n",
    "seri1 = pd.Series(puan)\n",
    "seri1 # keyler satır indexlemesine geçer ve valueler value olur bir seride.\n"
   ]
  },
  {
   "cell_type": "code",
   "execution_count": 1335,
   "id": "e0754879-34e9-44eb-b596-a36665917995",
   "metadata": {},
   "outputs": [
    {
     "data": {
      "text/plain": [
       "100"
      ]
     },
     "execution_count": 1335,
     "metadata": {},
     "output_type": "execute_result"
    }
   ],
   "source": [
    "seri1[\"Ali\"]"
   ]
  },
  {
   "cell_type": "code",
   "execution_count": 1336,
   "id": "5d27f679-821b-40ca-b56b-f6f1e6650ca3",
   "metadata": {},
   "outputs": [
    {
     "data": {
      "text/plain": [
       "Ali       True\n",
       "Emre      True\n",
       "Ecem     False\n",
       "Ford      True\n",
       "Musti     True\n",
       "dtype: bool"
      ]
     },
     "execution_count": 1336,
     "metadata": {},
     "output_type": "execute_result"
    }
   ],
   "source": [
    "seri1 > 85  # valuesi 85'den fazla olanlara True verir. olmayanlara ise False. Değerleri boolean olan bir seri döner.  sonra bu seriyi serinin içerisdine koyarak True olan verilerden oluşan bir Seri elde edebiliriz."
   ]
  },
  {
   "cell_type": "code",
   "execution_count": 1337,
   "id": "9cc367c0-14de-4ee8-9426-c26fc3652d3b",
   "metadata": {},
   "outputs": [
    {
     "data": {
      "text/plain": [
       "Ali      100\n",
       "Emre     100\n",
       "Ford      87\n",
       "Musti     89\n",
       "dtype: int64"
      ]
     },
     "execution_count": 1337,
     "metadata": {},
     "output_type": "execute_result"
    }
   ],
   "source": [
    "seri1[seri1>85] # sadece valuesi True olanlar gelir."
   ]
  },
  {
   "cell_type": "code",
   "execution_count": 1338,
   "id": "9feeb151-1c0b-4be8-9e9f-74abe4130349",
   "metadata": {},
   "outputs": [
    {
     "data": {
      "text/plain": [
       "Ali      100\n",
       "Emre     100\n",
       "Ecem      83\n",
       "Ford      87\n",
       "Musti     89\n",
       "dtype: int64"
      ]
     },
     "execution_count": 1338,
     "metadata": {},
     "output_type": "execute_result"
    }
   ],
   "source": [
    "seri1[seri1 < 80] = 83 # değeri 80'den küçük olanlara 83 atamış olduk\n",
    "seri1"
   ]
  },
  {
   "cell_type": "code",
   "execution_count": 1339,
   "id": "cb583280-5bec-4da0-be69-46c5b8a18922",
   "metadata": {},
   "outputs": [],
   "source": [
    "\"Emre\" in seri1 # eğer bu key varsa True verir yoksa False verir.\n",
    "seri2 = seri1.copy() # Seriesler ve DataFrameler için .copy() kullanılabilir. böylece bellekte farklı yerlerde series ve dataframe elde ederiz."
   ]
  },
  {
   "cell_type": "code",
   "execution_count": 1340,
   "id": "ab2ce7a9-ed53-4099-80aa-d372dfb417fa",
   "metadata": {},
   "outputs": [
    {
     "data": {
      "text/plain": [
       "Ali      10000\n",
       "Emre     10000\n",
       "Ecem      6889\n",
       "Ford      7569\n",
       "Musti     7921\n",
       "dtype: int64"
      ]
     },
     "execution_count": 1340,
     "metadata": {},
     "output_type": "execute_result"
    }
   ],
   "source": [
    "seri1 / 10 #tüm veriler 10a bölünür seri1 /= 10 olsa idi kalıcı olarak bölünme olurdu.\n",
    "# seri1 += 2 olsa idi tüm verilere 2 eklenmiş olurdu örnek olarak. seri1 **= 2 olsa idi tüm verilerim karesi alınırdı.\n",
    "seri1 **= 2\n",
    "seri1"
   ]
  },
  {
   "cell_type": "code",
   "execution_count": 1341,
   "id": "add42db9-b622-4d97-bfff-39de0b52ff9f",
   "metadata": {},
   "outputs": [
    {
     "data": {
      "text/plain": [
       "Ali      False\n",
       "Emre     False\n",
       "Ecem     False\n",
       "Ford     False\n",
       "Musti    False\n",
       "dtype: bool"
      ]
     },
     "execution_count": 1341,
     "metadata": {},
     "output_type": "execute_result"
    }
   ],
   "source": [
    "bosluk = seri1.isnull()\n",
    "bosluk # EĞER BİR veri null ise True yapacak değilse False yapacak null NaN olana True olmayana False verir ve yeni bir seri veya dataframe ile elde ettik ise dataframe verir."
   ]
  },
  {
   "cell_type": "markdown",
   "id": "e08f28ab-44bb-48d8-8f10-118d0ba6ad92",
   "metadata": {},
   "source": [
    "## SERİES İLE ÇALIŞMAK(WORKİNG WİTH SERİES)"
   ]
  },
  {
   "cell_type": "code",
   "execution_count": 1342,
   "id": "31219c79-53c9-46b1-ba34-93d4f2fcbdf8",
   "metadata": {},
   "outputs": [
    {
     "data": {
      "text/html": [
       "<div>\n",
       "<style scoped>\n",
       "    .dataframe tbody tr th:only-of-type {\n",
       "        vertical-align: middle;\n",
       "    }\n",
       "\n",
       "    .dataframe tbody tr th {\n",
       "        vertical-align: top;\n",
       "    }\n",
       "\n",
       "    .dataframe thead th {\n",
       "        text-align: right;\n",
       "    }\n",
       "</style>\n",
       "<table border=\"1\" class=\"dataframe\">\n",
       "  <thead>\n",
       "    <tr style=\"text-align: right;\">\n",
       "      <th></th>\n",
       "      <th>Rank</th>\n",
       "      <th>Name</th>\n",
       "      <th>Platform</th>\n",
       "      <th>Year</th>\n",
       "      <th>Genre</th>\n",
       "      <th>Publisher</th>\n",
       "      <th>NA_Sales</th>\n",
       "      <th>EU_Sales</th>\n",
       "      <th>JP_Sales</th>\n",
       "      <th>Other_Sales</th>\n",
       "      <th>Global_Sales</th>\n",
       "    </tr>\n",
       "  </thead>\n",
       "  <tbody>\n",
       "    <tr>\n",
       "      <th>0</th>\n",
       "      <td>1</td>\n",
       "      <td>Wii Sports</td>\n",
       "      <td>Wii</td>\n",
       "      <td>2006.0</td>\n",
       "      <td>Sports</td>\n",
       "      <td>Nintendo</td>\n",
       "      <td>41.49</td>\n",
       "      <td>29.02</td>\n",
       "      <td>3.77</td>\n",
       "      <td>8.46</td>\n",
       "      <td>82.74</td>\n",
       "    </tr>\n",
       "    <tr>\n",
       "      <th>1</th>\n",
       "      <td>2</td>\n",
       "      <td>Super Mario Bros.</td>\n",
       "      <td>NES</td>\n",
       "      <td>1985.0</td>\n",
       "      <td>Platform</td>\n",
       "      <td>Nintendo</td>\n",
       "      <td>29.08</td>\n",
       "      <td>3.58</td>\n",
       "      <td>6.81</td>\n",
       "      <td>0.77</td>\n",
       "      <td>40.24</td>\n",
       "    </tr>\n",
       "    <tr>\n",
       "      <th>2</th>\n",
       "      <td>3</td>\n",
       "      <td>Mario Kart Wii</td>\n",
       "      <td>Wii</td>\n",
       "      <td>2008.0</td>\n",
       "      <td>Racing</td>\n",
       "      <td>Nintendo</td>\n",
       "      <td>15.85</td>\n",
       "      <td>12.88</td>\n",
       "      <td>3.79</td>\n",
       "      <td>3.31</td>\n",
       "      <td>35.82</td>\n",
       "    </tr>\n",
       "    <tr>\n",
       "      <th>3</th>\n",
       "      <td>4</td>\n",
       "      <td>Wii Sports Resort</td>\n",
       "      <td>Wii</td>\n",
       "      <td>2009.0</td>\n",
       "      <td>Sports</td>\n",
       "      <td>Nintendo</td>\n",
       "      <td>15.75</td>\n",
       "      <td>11.01</td>\n",
       "      <td>3.28</td>\n",
       "      <td>2.96</td>\n",
       "      <td>33.00</td>\n",
       "    </tr>\n",
       "    <tr>\n",
       "      <th>4</th>\n",
       "      <td>5</td>\n",
       "      <td>Pokemon Red/Pokemon Blue</td>\n",
       "      <td>GB</td>\n",
       "      <td>1996.0</td>\n",
       "      <td>Role-Playing</td>\n",
       "      <td>Nintendo</td>\n",
       "      <td>11.27</td>\n",
       "      <td>8.89</td>\n",
       "      <td>10.22</td>\n",
       "      <td>1.00</td>\n",
       "      <td>31.37</td>\n",
       "    </tr>\n",
       "  </tbody>\n",
       "</table>\n",
       "</div>"
      ],
      "text/plain": [
       "   Rank                      Name Platform    Year         Genre Publisher  \\\n",
       "0     1                Wii Sports      Wii  2006.0        Sports  Nintendo   \n",
       "1     2         Super Mario Bros.      NES  1985.0      Platform  Nintendo   \n",
       "2     3            Mario Kart Wii      Wii  2008.0        Racing  Nintendo   \n",
       "3     4         Wii Sports Resort      Wii  2009.0        Sports  Nintendo   \n",
       "4     5  Pokemon Red/Pokemon Blue       GB  1996.0  Role-Playing  Nintendo   \n",
       "\n",
       "   NA_Sales  EU_Sales  JP_Sales  Other_Sales  Global_Sales  \n",
       "0     41.49     29.02      3.77         8.46         82.74  \n",
       "1     29.08      3.58      6.81         0.77         40.24  \n",
       "2     15.85     12.88      3.79         3.31         35.82  \n",
       "3     15.75     11.01      3.28         2.96         33.00  \n",
       "4     11.27      8.89     10.22         1.00         31.37  "
      ]
     },
     "execution_count": 1342,
     "metadata": {},
     "output_type": "execute_result"
    }
   ],
   "source": [
    "games = pd.read_csv(\"vgsalesGlobale.csv\")\n",
    "games.head() # default olarak ilk 5 veriyi getirir."
   ]
  },
  {
   "cell_type": "code",
   "execution_count": 1343,
   "id": "4664e675-a9ee-4f6a-8448-3543819fd765",
   "metadata": {},
   "outputs": [
    {
     "name": "stdout",
     "output_type": "stream",
     "text": [
      "Index(['Rank', 'Name', 'Platform', 'Year', 'Genre', 'Publisher', 'NA_Sales',\n",
      "       'EU_Sales', 'JP_Sales', 'Other_Sales', 'Global_Sales'],\n",
      "      dtype='object')\n"
     ]
    }
   ],
   "source": [
    "print(games.columns)"
   ]
  },
  {
   "cell_type": "code",
   "execution_count": 1344,
   "id": "56195bcb-76b0-459c-b1a7-f94f10a488d5",
   "metadata": {},
   "outputs": [
    {
     "name": "stdout",
     "output_type": "stream",
     "text": [
      "Rank              int64\n",
      "Name             object\n",
      "Platform         object\n",
      "Year            float64\n",
      "Genre            object\n",
      "Publisher        object\n",
      "NA_Sales        float64\n",
      "EU_Sales        float64\n",
      "JP_Sales        float64\n",
      "Other_Sales     float64\n",
      "Global_Sales    float64\n",
      "dtype: object\n"
     ]
    }
   ],
   "source": [
    "print(games.dtypes) # tüm kolonların veri tiplerini alırız.  kolonların veri tipleri birbirinden farklı olabilir bir dataframe heterojen olabilir. bir series ise homojon olur. "
   ]
  },
  {
   "cell_type": "code",
   "execution_count": 1345,
   "id": "46adfdf4-b643-4782-9de3-ca0cd9d1ca98",
   "metadata": {},
   "outputs": [
    {
     "data": {
      "text/plain": [
       "count      16598\n",
       "unique        12\n",
       "top       Action\n",
       "freq        3316\n",
       "Name: Genre, dtype: object"
      ]
     },
     "execution_count": 1345,
     "metadata": {},
     "output_type": "execute_result"
    }
   ],
   "source": [
    "games.Genre.describe() # .describe() ile yapı hakkında bilgi alırız. "
   ]
  },
  {
   "cell_type": "code",
   "execution_count": 1346,
   "id": "f579876d-4993-46b0-b4a4-859dcad1c2e5",
   "metadata": {},
   "outputs": [
    {
     "data": {
      "text/plain": [
       "Action          3316\n",
       "Sports          2346\n",
       "Misc            1739\n",
       "Role-Playing    1488\n",
       "Shooter         1310\n",
       "Adventure       1286\n",
       "Racing          1249\n",
       "Platform         886\n",
       "Simulation       867\n",
       "Fighting         848\n",
       "Strategy         681\n",
       "Puzzle           582\n",
       "Name: Genre, dtype: int64"
      ]
     },
     "execution_count": 1346,
     "metadata": {},
     "output_type": "execute_result"
    }
   ],
   "source": [
    "games.Genre.value_counts() # Gendre'de olan veriler ve sayılarını görebiliriz.\n",
    "# games.Genre.value_counts(normalize = True) # bu şekilde bakarsa bir seride olan verilerin tek tek o serinin yüzde kaçıno oluşturduğunu görebiliriz.\n",
    "# games.Genre.unique() # bununla her veriyi tek adet olarak bir seri içerisinde görebiliriz. .nunuqiue() yaparsak kaç adet farklı veri var seride görebiliriz."
   ]
  },
  {
   "cell_type": "code",
   "execution_count": 1347,
   "id": "87f4cb9f-f34d-43ef-ac34-fd09f6cddc76",
   "metadata": {
    "scrolled": true
   },
   "outputs": [
    {
     "data": {
      "text/html": [
       "<div>\n",
       "<style scoped>\n",
       "    .dataframe tbody tr th:only-of-type {\n",
       "        vertical-align: middle;\n",
       "    }\n",
       "\n",
       "    .dataframe tbody tr th {\n",
       "        vertical-align: top;\n",
       "    }\n",
       "\n",
       "    .dataframe thead th {\n",
       "        text-align: right;\n",
       "    }\n",
       "</style>\n",
       "<table border=\"1\" class=\"dataframe\">\n",
       "  <thead>\n",
       "    <tr style=\"text-align: right;\">\n",
       "      <th></th>\n",
       "      <th>count</th>\n",
       "      <th>mean</th>\n",
       "      <th>std</th>\n",
       "      <th>min</th>\n",
       "      <th>25%</th>\n",
       "      <th>50%</th>\n",
       "      <th>75%</th>\n",
       "      <th>max</th>\n",
       "    </tr>\n",
       "  </thead>\n",
       "  <tbody>\n",
       "    <tr>\n",
       "      <th>Rank</th>\n",
       "      <td>16598.0</td>\n",
       "      <td>8300.605254</td>\n",
       "      <td>4791.853933</td>\n",
       "      <td>1.00</td>\n",
       "      <td>4151.25</td>\n",
       "      <td>8300.50</td>\n",
       "      <td>12449.75</td>\n",
       "      <td>16600.00</td>\n",
       "    </tr>\n",
       "    <tr>\n",
       "      <th>Year</th>\n",
       "      <td>16327.0</td>\n",
       "      <td>2006.406443</td>\n",
       "      <td>5.828981</td>\n",
       "      <td>1980.00</td>\n",
       "      <td>2003.00</td>\n",
       "      <td>2007.00</td>\n",
       "      <td>2010.00</td>\n",
       "      <td>2020.00</td>\n",
       "    </tr>\n",
       "    <tr>\n",
       "      <th>NA_Sales</th>\n",
       "      <td>16598.0</td>\n",
       "      <td>0.264667</td>\n",
       "      <td>0.816683</td>\n",
       "      <td>0.00</td>\n",
       "      <td>0.00</td>\n",
       "      <td>0.08</td>\n",
       "      <td>0.24</td>\n",
       "      <td>41.49</td>\n",
       "    </tr>\n",
       "    <tr>\n",
       "      <th>EU_Sales</th>\n",
       "      <td>16598.0</td>\n",
       "      <td>0.146652</td>\n",
       "      <td>0.505351</td>\n",
       "      <td>0.00</td>\n",
       "      <td>0.00</td>\n",
       "      <td>0.02</td>\n",
       "      <td>0.11</td>\n",
       "      <td>29.02</td>\n",
       "    </tr>\n",
       "    <tr>\n",
       "      <th>JP_Sales</th>\n",
       "      <td>16598.0</td>\n",
       "      <td>0.077782</td>\n",
       "      <td>0.309291</td>\n",
       "      <td>0.00</td>\n",
       "      <td>0.00</td>\n",
       "      <td>0.00</td>\n",
       "      <td>0.04</td>\n",
       "      <td>10.22</td>\n",
       "    </tr>\n",
       "    <tr>\n",
       "      <th>Other_Sales</th>\n",
       "      <td>16598.0</td>\n",
       "      <td>0.048063</td>\n",
       "      <td>0.188588</td>\n",
       "      <td>0.00</td>\n",
       "      <td>0.00</td>\n",
       "      <td>0.01</td>\n",
       "      <td>0.04</td>\n",
       "      <td>10.57</td>\n",
       "    </tr>\n",
       "    <tr>\n",
       "      <th>Global_Sales</th>\n",
       "      <td>16598.0</td>\n",
       "      <td>0.537441</td>\n",
       "      <td>1.555028</td>\n",
       "      <td>0.01</td>\n",
       "      <td>0.06</td>\n",
       "      <td>0.17</td>\n",
       "      <td>0.47</td>\n",
       "      <td>82.74</td>\n",
       "    </tr>\n",
       "  </tbody>\n",
       "</table>\n",
       "</div>"
      ],
      "text/plain": [
       "                count         mean          std      min      25%      50%  \\\n",
       "Rank          16598.0  8300.605254  4791.853933     1.00  4151.25  8300.50   \n",
       "Year          16327.0  2006.406443     5.828981  1980.00  2003.00  2007.00   \n",
       "NA_Sales      16598.0     0.264667     0.816683     0.00     0.00     0.08   \n",
       "EU_Sales      16598.0     0.146652     0.505351     0.00     0.00     0.02   \n",
       "JP_Sales      16598.0     0.077782     0.309291     0.00     0.00     0.00   \n",
       "Other_Sales   16598.0     0.048063     0.188588     0.00     0.00     0.01   \n",
       "Global_Sales  16598.0     0.537441     1.555028     0.01     0.06     0.17   \n",
       "\n",
       "                   75%       max  \n",
       "Rank          12449.75  16600.00  \n",
       "Year           2010.00   2020.00  \n",
       "NA_Sales          0.24     41.49  \n",
       "EU_Sales          0.11     29.02  \n",
       "JP_Sales          0.04     10.22  \n",
       "Other_Sales       0.04     10.57  \n",
       "Global_Sales      0.47     82.74  "
      ]
     },
     "execution_count": 1347,
     "metadata": {},
     "output_type": "execute_result"
    }
   ],
   "source": [
    "games.describe().T # tüm dataframe hakkında bilgi alabiliriz. # .T ile transpoz alınır yan çevrilir aslında tablo."
   ]
  },
  {
   "cell_type": "code",
   "execution_count": 1348,
   "id": "2db45496-391b-4a99-8fd9-ac845096fa52",
   "metadata": {},
   "outputs": [
    {
     "data": {
      "text/plain": [
       "0.5374406555006628"
      ]
     },
     "execution_count": 1348,
     "metadata": {},
     "output_type": "execute_result"
    }
   ],
   "source": [
    "games.Global_Sales.mean() # ortalama değerini görürüz."
   ]
  },
  {
   "cell_type": "code",
   "execution_count": 1349,
   "id": "1dc9bf6a-c276-4a4d-8f08-a0a2c3bf678d",
   "metadata": {
    "tags": []
   },
   "outputs": [],
   "source": [
    "%matplotlib inline "
   ]
  },
  {
   "cell_type": "code",
   "execution_count": 1350,
   "id": "1be6d689-d7eb-47a2-8908-3cdf9ad77c25",
   "metadata": {
    "tags": []
   },
   "outputs": [
    {
     "data": {
      "text/plain": [
       "<Axes: ylabel='Frequency'>"
      ]
     },
     "execution_count": 1350,
     "metadata": {},
     "output_type": "execute_result"
    },
    {
     "data": {
      "image/png": "[encoded data removed]",
      "text/plain": [
       "<Figure size 640x480 with 1 Axes>"
      ]
     },
     "metadata": {},
     "output_type": "display_data"
    }
   ],
   "source": [
    "# %matplotlib inline   grafiği satır içerisinde görmek için yazılır.\n",
    "games.Year.plot(kind = \"hist\") # yıl sutunun değerleri"
   ]
  },
  {
   "cell_type": "code",
   "execution_count": 1351,
   "id": "048b1b2c-c7af-48f6-a133-1b93dbd3d3c6",
   "metadata": {
    "tags": []
   },
   "outputs": [
    {
     "data": {
      "text/plain": [
       "<Axes: >"
      ]
     },
     "execution_count": 1351,
     "metadata": {},
     "output_type": "execute_result"
    },
    {
     "data": {
      "image/png": "[encoded data removed]",
      "text/plain": [
       "<Figure size 640x480 with 1 Axes>"
      ]
     },
     "metadata": {},
     "output_type": "display_data"
    }
   ],
   "source": [
    "games.Genre.value_counts().plot(kind = \"bar\") # plot() içerisinde grafik türünü belirtiriz. kind ile grafik türünü belirleriz."
   ]
  },
  {
   "cell_type": "markdown",
   "id": "6ca66f25-6b7f-4056-9594-e90e6bf61bf9",
   "metadata": {},
   "source": [
    "## DATAFRAME"
   ]
  },
  {
   "cell_type": "code",
   "execution_count": 1352,
   "id": "fe30fe98-40d0-4954-90f5-52384c520824",
   "metadata": {
    "tags": []
   },
   "outputs": [
    {
     "data": {
      "text/html": [
       "<div>\n",
       "<style scoped>\n",
       "    .dataframe tbody tr th:only-of-type {\n",
       "        vertical-align: middle;\n",
       "    }\n",
       "\n",
       "    .dataframe tbody tr th {\n",
       "        vertical-align: top;\n",
       "    }\n",
       "\n",
       "    .dataframe thead th {\n",
       "        text-align: right;\n",
       "    }\n",
       "</style>\n",
       "<table border=\"1\" class=\"dataframe\">\n",
       "  <thead>\n",
       "    <tr style=\"text-align: right;\">\n",
       "      <th></th>\n",
       "      <th>name</th>\n",
       "      <th>Nots</th>\n",
       "      <th>spor</th>\n",
       "      <th>cinsiyet</th>\n",
       "    </tr>\n",
       "  </thead>\n",
       "  <tbody>\n",
       "    <tr>\n",
       "      <th>5</th>\n",
       "      <td>Alp</td>\n",
       "      <td>95</td>\n",
       "      <td>Koşu</td>\n",
       "      <td>K</td>\n",
       "    </tr>\n",
       "    <tr>\n",
       "      <th>6</th>\n",
       "      <td>Nur</td>\n",
       "      <td>60</td>\n",
       "      <td>Ok</td>\n",
       "      <td>K</td>\n",
       "    </tr>\n",
       "    <tr>\n",
       "      <th>7</th>\n",
       "      <td>Buse</td>\n",
       "      <td>65</td>\n",
       "      <td>Karete</td>\n",
       "      <td>E</td>\n",
       "    </tr>\n",
       "  </tbody>\n",
       "</table>\n",
       "</div>"
      ],
      "text/plain": [
       "   name  Nots    spor cinsiyet\n",
       "5   Alp    95    Koşu        K\n",
       "6   Nur    60      Ok        K\n",
       "7  Buse    65  Karete        E"
      ]
     },
     "execution_count": 1352,
     "metadata": {},
     "output_type": "execute_result"
    }
   ],
   "source": [
    "data = {\"name\":[\"Emre\",\"Ali\",\"Can\",\"Ayse\",\"Alp\",\"Nur\",\"Buse\"],\"Nots\":[90,80,70,75,95,60,65],\"spor\":[\"Futbol\",\"Boks\",\"Baskotbol\",\"Tenis\",\"Koşu\",\"Ok\",\"Karete\"],\"cinsiyet\":[\"E\",\"E\",\"K\",\"E\",\"K\",\"K\",\"E\"]}\n",
    "df1 = pd.DataFrame(data,index=range(1,len(data[\"name\"])+1))\n",
    "df1.tail(3) # son 3 satırı gördük 5 ,6 ,7  şeklinde 3 yazmasak eğer o zaman sondan 5 veriyi getirirdi. \n",
    "# burada bir dict ile oluşturulan dataframede olan şey şudur.  keyler sutun indexlemesi için kullanılır. valueler ise değerler olur sırası ile sutunda yukarından aşağıya dizilir.  "
   ]
  },
  {
   "cell_type": "code",
   "execution_count": 1353,
   "id": "945a7161-8d9b-440e-884a-703adb788480",
   "metadata": {
    "tags": []
   },
   "outputs": [
    {
     "data": {
      "text/html": [
       "<div>\n",
       "<style scoped>\n",
       "    .dataframe tbody tr th:only-of-type {\n",
       "        vertical-align: middle;\n",
       "    }\n",
       "\n",
       "    .dataframe tbody tr th {\n",
       "        vertical-align: top;\n",
       "    }\n",
       "\n",
       "    .dataframe thead th {\n",
       "        text-align: right;\n",
       "    }\n",
       "</style>\n",
       "<table border=\"1\" class=\"dataframe\">\n",
       "  <thead>\n",
       "    <tr style=\"text-align: right;\">\n",
       "      <th></th>\n",
       "      <th>name</th>\n",
       "      <th>spor</th>\n",
       "    </tr>\n",
       "  </thead>\n",
       "  <tbody>\n",
       "    <tr>\n",
       "      <th>1</th>\n",
       "      <td>Emre</td>\n",
       "      <td>Futbol</td>\n",
       "    </tr>\n",
       "    <tr>\n",
       "      <th>2</th>\n",
       "      <td>Ali</td>\n",
       "      <td>Boks</td>\n",
       "    </tr>\n",
       "    <tr>\n",
       "      <th>3</th>\n",
       "      <td>Can</td>\n",
       "      <td>Baskotbol</td>\n",
       "    </tr>\n",
       "    <tr>\n",
       "      <th>4</th>\n",
       "      <td>Ayse</td>\n",
       "      <td>Tenis</td>\n",
       "    </tr>\n",
       "    <tr>\n",
       "      <th>5</th>\n",
       "      <td>Alp</td>\n",
       "      <td>Koşu</td>\n",
       "    </tr>\n",
       "    <tr>\n",
       "      <th>6</th>\n",
       "      <td>Nur</td>\n",
       "      <td>Ok</td>\n",
       "    </tr>\n",
       "    <tr>\n",
       "      <th>7</th>\n",
       "      <td>Buse</td>\n",
       "      <td>Karete</td>\n",
       "    </tr>\n",
       "  </tbody>\n",
       "</table>\n",
       "</div>"
      ],
      "text/plain": [
       "   name       spor\n",
       "1  Emre     Futbol\n",
       "2   Ali       Boks\n",
       "3   Can  Baskotbol\n",
       "4  Ayse      Tenis\n",
       "5   Alp       Koşu\n",
       "6   Nur         Ok\n",
       "7  Buse     Karete"
      ]
     },
     "execution_count": 1353,
     "metadata": {},
     "output_type": "execute_result"
    }
   ],
   "source": [
    "sutunlarim = [\"name\",\"spor\"]\n",
    "df1[sutunlarim] # istenen sutunları alabiliriz.  df1[[\"name\",\"spor\"]] yapabilirdik."
   ]
  },
  {
   "cell_type": "code",
   "execution_count": 1354,
   "id": "0f3ca4e3-e904-4e99-aba6-932622e4d5bf",
   "metadata": {
    "tags": []
   },
   "outputs": [
    {
     "data": {
      "text/plain": [
       "name          Emre\n",
       "Nots            90\n",
       "spor        Futbol\n",
       "cinsiyet         E\n",
       "Name: 1, dtype: object"
      ]
     },
     "execution_count": 1354,
     "metadata": {},
     "output_type": "execute_result"
    }
   ],
   "source": [
    "df1.loc[1] # satırı seri halinde getiririz.  yatay bir parça olarak getirir bize..."
   ]
  },
  {
   "cell_type": "code",
   "execution_count": 1355,
   "id": "0fee1622-1b0c-43a0-8b24-3c7a0b89d746",
   "metadata": {
    "tags": []
   },
   "outputs": [
    {
     "data": {
      "text/html": [
       "<div>\n",
       "<style scoped>\n",
       "    .dataframe tbody tr th:only-of-type {\n",
       "        vertical-align: middle;\n",
       "    }\n",
       "\n",
       "    .dataframe tbody tr th {\n",
       "        vertical-align: top;\n",
       "    }\n",
       "\n",
       "    .dataframe thead th {\n",
       "        text-align: right;\n",
       "    }\n",
       "</style>\n",
       "<table border=\"1\" class=\"dataframe\">\n",
       "  <thead>\n",
       "    <tr style=\"text-align: right;\">\n",
       "      <th></th>\n",
       "      <th>name</th>\n",
       "      <th>Nots</th>\n",
       "      <th>spor</th>\n",
       "      <th>cinsiyet</th>\n",
       "      <th>yas</th>\n",
       "    </tr>\n",
       "  </thead>\n",
       "  <tbody>\n",
       "    <tr>\n",
       "      <th>1</th>\n",
       "      <td>Emre</td>\n",
       "      <td>90</td>\n",
       "      <td>Futbol</td>\n",
       "      <td>E</td>\n",
       "      <td>12</td>\n",
       "    </tr>\n",
       "    <tr>\n",
       "      <th>2</th>\n",
       "      <td>Ali</td>\n",
       "      <td>80</td>\n",
       "      <td>Boks</td>\n",
       "      <td>E</td>\n",
       "      <td>13</td>\n",
       "    </tr>\n",
       "    <tr>\n",
       "      <th>3</th>\n",
       "      <td>Can</td>\n",
       "      <td>70</td>\n",
       "      <td>Baskotbol</td>\n",
       "      <td>K</td>\n",
       "      <td>54</td>\n",
       "    </tr>\n",
       "    <tr>\n",
       "      <th>4</th>\n",
       "      <td>Ayse</td>\n",
       "      <td>75</td>\n",
       "      <td>Tenis</td>\n",
       "      <td>E</td>\n",
       "      <td>65</td>\n",
       "    </tr>\n",
       "    <tr>\n",
       "      <th>5</th>\n",
       "      <td>Alp</td>\n",
       "      <td>95</td>\n",
       "      <td>Koşu</td>\n",
       "      <td>K</td>\n",
       "      <td>88</td>\n",
       "    </tr>\n",
       "  </tbody>\n",
       "</table>\n",
       "</div>"
      ],
      "text/plain": [
       "   name  Nots       spor cinsiyet  yas\n",
       "1  Emre    90     Futbol        E   12\n",
       "2   Ali    80       Boks        E   13\n",
       "3   Can    70  Baskotbol        K   54\n",
       "4  Ayse    75      Tenis        E   65\n",
       "5   Alp    95       Koşu        K   88"
      ]
     },
     "execution_count": 1355,
     "metadata": {},
     "output_type": "execute_result"
    }
   ],
   "source": [
    "df1[\"yas\"] = [12,13,54,65,88,66,12]\n",
    "df1.head()"
   ]
  },
  {
   "cell_type": "code",
   "execution_count": 1356,
   "id": "e7498d11-2a06-47e3-86c7-6bc831e220ad",
   "metadata": {
    "tags": []
   },
   "outputs": [
    {
     "data": {
      "text/html": [
       "<div>\n",
       "<style scoped>\n",
       "    .dataframe tbody tr th:only-of-type {\n",
       "        vertical-align: middle;\n",
       "    }\n",
       "\n",
       "    .dataframe tbody tr th {\n",
       "        vertical-align: top;\n",
       "    }\n",
       "\n",
       "    .dataframe thead th {\n",
       "        text-align: right;\n",
       "    }\n",
       "</style>\n",
       "<table border=\"1\" class=\"dataframe\">\n",
       "  <thead>\n",
       "    <tr style=\"text-align: right;\">\n",
       "      <th></th>\n",
       "      <th>name</th>\n",
       "      <th>Nots</th>\n",
       "      <th>spor</th>\n",
       "      <th>cinsiyet</th>\n",
       "      <th>yas</th>\n",
       "      <th>gecti</th>\n",
       "    </tr>\n",
       "  </thead>\n",
       "  <tbody>\n",
       "    <tr>\n",
       "      <th>1</th>\n",
       "      <td>Emre</td>\n",
       "      <td>90</td>\n",
       "      <td>Futbol</td>\n",
       "      <td>E</td>\n",
       "      <td>12</td>\n",
       "      <td>False</td>\n",
       "    </tr>\n",
       "    <tr>\n",
       "      <th>2</th>\n",
       "      <td>Ali</td>\n",
       "      <td>80</td>\n",
       "      <td>Boks</td>\n",
       "      <td>E</td>\n",
       "      <td>13</td>\n",
       "      <td>False</td>\n",
       "    </tr>\n",
       "    <tr>\n",
       "      <th>3</th>\n",
       "      <td>Can</td>\n",
       "      <td>70</td>\n",
       "      <td>Baskotbol</td>\n",
       "      <td>K</td>\n",
       "      <td>54</td>\n",
       "      <td>False</td>\n",
       "    </tr>\n",
       "    <tr>\n",
       "      <th>4</th>\n",
       "      <td>Ayse</td>\n",
       "      <td>75</td>\n",
       "      <td>Tenis</td>\n",
       "      <td>E</td>\n",
       "      <td>65</td>\n",
       "      <td>False</td>\n",
       "    </tr>\n",
       "    <tr>\n",
       "      <th>5</th>\n",
       "      <td>Alp</td>\n",
       "      <td>95</td>\n",
       "      <td>Koşu</td>\n",
       "      <td>K</td>\n",
       "      <td>88</td>\n",
       "      <td>True</td>\n",
       "    </tr>\n",
       "  </tbody>\n",
       "</table>\n",
       "</div>"
      ],
      "text/plain": [
       "   name  Nots       spor cinsiyet  yas  gecti\n",
       "1  Emre    90     Futbol        E   12  False\n",
       "2   Ali    80       Boks        E   13  False\n",
       "3   Can    70  Baskotbol        K   54  False\n",
       "4  Ayse    75      Tenis        E   65  False\n",
       "5   Alp    95       Koşu        K   88   True"
      ]
     },
     "execution_count": 1356,
     "metadata": {},
     "output_type": "execute_result"
    }
   ],
   "source": [
    "df1[\"gecti\"] = df1[\"Nots\"] > 90 \n",
    "df1.head()"
   ]
  },
  {
   "cell_type": "code",
   "execution_count": 1357,
   "id": "e31dcb1e-dd64-462a-ac50-af0a0950267c",
   "metadata": {
    "tags": []
   },
   "outputs": [],
   "source": [
    "del df1[\"gecti\"] # bu şekilde sutun silebiliriz."
   ]
  },
  {
   "cell_type": "code",
   "execution_count": 1358,
   "id": "5fa1762d-0af8-41a3-80af-3a745d2e45b4",
   "metadata": {
    "tags": []
   },
   "outputs": [
    {
     "data": {
      "text/html": [
       "<div>\n",
       "<style scoped>\n",
       "    .dataframe tbody tr th:only-of-type {\n",
       "        vertical-align: middle;\n",
       "    }\n",
       "\n",
       "    .dataframe tbody tr th {\n",
       "        vertical-align: top;\n",
       "    }\n",
       "\n",
       "    .dataframe thead th {\n",
       "        text-align: right;\n",
       "    }\n",
       "</style>\n",
       "<table border=\"1\" class=\"dataframe\">\n",
       "  <thead>\n",
       "    <tr style=\"text-align: right;\">\n",
       "      <th></th>\n",
       "      <th>name</th>\n",
       "      <th>Nots</th>\n",
       "      <th>spor</th>\n",
       "      <th>cinsiyet</th>\n",
       "      <th>yas</th>\n",
       "    </tr>\n",
       "  </thead>\n",
       "  <tbody>\n",
       "    <tr>\n",
       "      <th>1</th>\n",
       "      <td>Emre</td>\n",
       "      <td>90</td>\n",
       "      <td>Futbol</td>\n",
       "      <td>E</td>\n",
       "      <td>12</td>\n",
       "    </tr>\n",
       "    <tr>\n",
       "      <th>2</th>\n",
       "      <td>Ali</td>\n",
       "      <td>80</td>\n",
       "      <td>Boks</td>\n",
       "      <td>E</td>\n",
       "      <td>13</td>\n",
       "    </tr>\n",
       "    <tr>\n",
       "      <th>3</th>\n",
       "      <td>Can</td>\n",
       "      <td>70</td>\n",
       "      <td>Baskotbol</td>\n",
       "      <td>K</td>\n",
       "      <td>54</td>\n",
       "    </tr>\n",
       "    <tr>\n",
       "      <th>4</th>\n",
       "      <td>Ayse</td>\n",
       "      <td>75</td>\n",
       "      <td>Tenis</td>\n",
       "      <td>E</td>\n",
       "      <td>65</td>\n",
       "    </tr>\n",
       "    <tr>\n",
       "      <th>5</th>\n",
       "      <td>Alp</td>\n",
       "      <td>95</td>\n",
       "      <td>Koşu</td>\n",
       "      <td>K</td>\n",
       "      <td>88</td>\n",
       "    </tr>\n",
       "  </tbody>\n",
       "</table>\n",
       "</div>"
      ],
      "text/plain": [
       "   name  Nots       spor cinsiyet  yas\n",
       "1  Emre    90     Futbol        E   12\n",
       "2   Ali    80       Boks        E   13\n",
       "3   Can    70  Baskotbol        K   54\n",
       "4  Ayse    75      Tenis        E   65\n",
       "5   Alp    95       Koşu        K   88"
      ]
     },
     "execution_count": 1358,
     "metadata": {},
     "output_type": "execute_result"
    }
   ],
   "source": [
    "df1.head()"
   ]
  },
  {
   "cell_type": "code",
   "execution_count": 1359,
   "id": "abdb330e-c7f7-456f-8934-a7ab9c1fcd57",
   "metadata": {
    "tags": []
   },
   "outputs": [
    {
     "data": {
      "text/html": [
       "<div>\n",
       "<style scoped>\n",
       "    .dataframe tbody tr th:only-of-type {\n",
       "        vertical-align: middle;\n",
       "    }\n",
       "\n",
       "    .dataframe tbody tr th {\n",
       "        vertical-align: top;\n",
       "    }\n",
       "\n",
       "    .dataframe thead th {\n",
       "        text-align: right;\n",
       "    }\n",
       "</style>\n",
       "<table border=\"1\" class=\"dataframe\">\n",
       "  <thead>\n",
       "    <tr style=\"text-align: right;\">\n",
       "      <th></th>\n",
       "      <th>ali</th>\n",
       "      <th>emre</th>\n",
       "      <th>ford</th>\n",
       "      <th>nur</th>\n",
       "    </tr>\n",
       "  </thead>\n",
       "  <tbody>\n",
       "    <tr>\n",
       "      <th>mat</th>\n",
       "      <td>80</td>\n",
       "      <td>90</td>\n",
       "      <td>100</td>\n",
       "      <td>89</td>\n",
       "    </tr>\n",
       "    <tr>\n",
       "      <th>fizik</th>\n",
       "      <td>88</td>\n",
       "      <td>100</td>\n",
       "      <td>190</td>\n",
       "      <td>78</td>\n",
       "    </tr>\n",
       "  </tbody>\n",
       "</table>\n",
       "</div>"
      ],
      "text/plain": [
       "       ali  emre  ford  nur\n",
       "mat     80    90   100   89\n",
       "fizik   88   100   190   78"
      ]
     },
     "execution_count": 1359,
     "metadata": {},
     "output_type": "execute_result"
    }
   ],
   "source": [
    "notlar = {\"mat\":{\"ali\":80,\"emre\":90,\"ford\":100,\"nur\":89},\"fizik\":{\"ali\":88,\"emre\":100,\"ford\":190,\"nur\":78}}\n",
    "puan = pd.DataFrame(notlar)\n",
    "# burada ise olan baş key sutun indexlemesi oldu. sonra value içerisindeki keyler örtüştüğü için value içerisindeki keyler ise satır indexlemesi için kullanıldı. valueler ise value olarak kullanıldı.\n",
    "# indexleme için kullanılan isimlerde arada boşluk vs olmamalı buna dikkat etmek lazım.\n",
    "puan.T   # transpoz alınabilir yani satır ve sutunlar yer değiştirebilir bir DataFramede...    df.T  yapısı ile. ama atama yapmadık kalıcı olmadı."
   ]
  },
  {
   "cell_type": "code",
   "execution_count": 1360,
   "id": "48420e96-1bb0-441a-9147-70fb3500507b",
   "metadata": {
    "tags": []
   },
   "outputs": [
    {
     "data": {
      "text/html": [
       "<div>\n",
       "<style scoped>\n",
       "    .dataframe tbody tr th:only-of-type {\n",
       "        vertical-align: middle;\n",
       "    }\n",
       "\n",
       "    .dataframe tbody tr th {\n",
       "        vertical-align: top;\n",
       "    }\n",
       "\n",
       "    .dataframe thead th {\n",
       "        text-align: right;\n",
       "    }\n",
       "</style>\n",
       "<table border=\"1\" class=\"dataframe\">\n",
       "  <thead>\n",
       "    <tr style=\"text-align: right;\">\n",
       "      <th>ders</th>\n",
       "      <th>mat</th>\n",
       "      <th>fizik</th>\n",
       "    </tr>\n",
       "    <tr>\n",
       "      <th>isim</th>\n",
       "      <th></th>\n",
       "      <th></th>\n",
       "    </tr>\n",
       "  </thead>\n",
       "  <tbody>\n",
       "    <tr>\n",
       "      <th>ali</th>\n",
       "      <td>80</td>\n",
       "      <td>88</td>\n",
       "    </tr>\n",
       "    <tr>\n",
       "      <th>emre</th>\n",
       "      <td>90</td>\n",
       "      <td>100</td>\n",
       "    </tr>\n",
       "    <tr>\n",
       "      <th>ford</th>\n",
       "      <td>100</td>\n",
       "      <td>190</td>\n",
       "    </tr>\n",
       "    <tr>\n",
       "      <th>nur</th>\n",
       "      <td>89</td>\n",
       "      <td>78</td>\n",
       "    </tr>\n",
       "  </tbody>\n",
       "</table>\n",
       "</div>"
      ],
      "text/plain": [
       "ders  mat  fizik\n",
       "isim            \n",
       "ali    80     88\n",
       "emre   90    100\n",
       "ford  100    190\n",
       "nur    89     78"
      ]
     },
     "execution_count": 1360,
     "metadata": {},
     "output_type": "execute_result"
    }
   ],
   "source": [
    "puan.index.name = \"isim\"   # index'e isim verdik...\n",
    "puan.columns.name = \"ders\" # sutuna isim verdik.\n",
    "puan \n",
    "# puan.values   ile biz bir dataframe'edeki setini iki boyutlu bir dizi haline getirir.  bir numpy array olur dataframe.  "
   ]
  },
  {
   "cell_type": "code",
   "execution_count": 1361,
   "id": "923637f6-f4e2-462d-9e27-6130a993c909",
   "metadata": {
    "tags": []
   },
   "outputs": [
    {
     "data": {
      "text/plain": [
       "'indeks = puan.index\\nindeks[1] = \"can\"\\nindeks'"
      ]
     },
     "execution_count": 1361,
     "metadata": {},
     "output_type": "execute_result"
    }
   ],
   "source": [
    "\"\"\"indeks = puan.index\n",
    "indeks[1] = \"can\"\n",
    "indeks\"\"\"  # indeks ile kalıcı değişim sağlayabiliriz böylece veriler değişmez. kilit mekanizması gibi."
   ]
  },
  {
   "cell_type": "markdown",
   "id": "c460cbe3-11f3-4f38-8419-e5372dbfec0d",
   "metadata": {},
   "source": [
    "## indeksleme,seçme,filtreleme(indexing,selecting,filtering)"
   ]
  },
  {
   "cell_type": "code",
   "execution_count": 1362,
   "id": "66f812df-ddfc-4997-b72f-648e38feff79",
   "metadata": {
    "tags": []
   },
   "outputs": [
    {
     "data": {
      "text/plain": [
       "0"
      ]
     },
     "execution_count": 1362,
     "metadata": {},
     "output_type": "execute_result"
    }
   ],
   "source": [
    "object1 = pd.Series(np.arange(5),index = [\"a\",\"b\",\"c\",\"d\",\"e\"])\n",
    "object1[\"a\"]"
   ]
  },
  {
   "cell_type": "code",
   "execution_count": 1363,
   "id": "2d7ba172-714f-413a-8f61-d4e048157d49",
   "metadata": {
    "tags": []
   },
   "outputs": [
    {
     "data": {
      "text/plain": [
       "c    2\n",
       "d    3\n",
       "e    4\n",
       "dtype: int32"
      ]
     },
     "execution_count": 1363,
     "metadata": {},
     "output_type": "execute_result"
    }
   ],
   "source": [
    "object1[2:]"
   ]
  },
  {
   "cell_type": "code",
   "execution_count": 1364,
   "id": "2edcb3b8-03eb-4b7b-aeb4-255bd9e0a4c9",
   "metadata": {
    "tags": []
   },
   "outputs": [
    {
     "data": {
      "text/plain": [
       "a    0\n",
       "c    2\n",
       "dtype: int32"
      ]
     },
     "execution_count": 1364,
     "metadata": {},
     "output_type": "execute_result"
    }
   ],
   "source": [
    "object1[[\"a\",\"c\"]]"
   ]
  },
  {
   "cell_type": "code",
   "execution_count": 1365,
   "id": "34b055f3-7379-47dd-89f9-4e0dd0b40197",
   "metadata": {
    "tags": []
   },
   "outputs": [
    {
     "data": {
      "text/plain": [
       "c    2\n",
       "e    4\n",
       "dtype: int32"
      ]
     },
     "execution_count": 1365,
     "metadata": {},
     "output_type": "execute_result"
    }
   ],
   "source": [
    "object1[[2,4]]"
   ]
  },
  {
   "cell_type": "code",
   "execution_count": 1366,
   "id": "345330aa-069f-47d2-bb78-fe81fe8cb201",
   "metadata": {
    "tags": []
   },
   "outputs": [
    {
     "data": {
      "text/plain": [
       "a    0\n",
       "b    1\n",
       "dtype: int32"
      ]
     },
     "execution_count": 1366,
     "metadata": {},
     "output_type": "execute_result"
    }
   ],
   "source": [
    "object1[object1 < 2]"
   ]
  },
  {
   "cell_type": "code",
   "execution_count": 1367,
   "id": "998020bc-f5e0-4c4e-be20-38e4d0fd6e93",
   "metadata": {
    "tags": []
   },
   "outputs": [
    {
     "data": {
      "text/plain": [
       "a    5\n",
       "b    5\n",
       "c    5\n",
       "d    3\n",
       "e    4\n",
       "dtype: int32"
      ]
     },
     "execution_count": 1367,
     "metadata": {},
     "output_type": "execute_result"
    }
   ],
   "source": [
    "object1[\"a\":\"c\"] = 5  # a satırı ile c satırı arasına c dahil  5 değerini ata.\n",
    "object1"
   ]
  },
  {
   "cell_type": "code",
   "execution_count": 1368,
   "id": "ada1dc4e-2725-47b3-8ec3-c0aea12808fe",
   "metadata": {
    "tags": []
   },
   "outputs": [
    {
     "data": {
      "text/html": [
       "<div>\n",
       "<style scoped>\n",
       "    .dataframe tbody tr th:only-of-type {\n",
       "        vertical-align: middle;\n",
       "    }\n",
       "\n",
       "    .dataframe tbody tr th {\n",
       "        vertical-align: top;\n",
       "    }\n",
       "\n",
       "    .dataframe thead th {\n",
       "        text-align: right;\n",
       "    }\n",
       "</style>\n",
       "<table border=\"1\" class=\"dataframe\">\n",
       "  <thead>\n",
       "    <tr style=\"text-align: right;\">\n",
       "      <th></th>\n",
       "      <th>bir</th>\n",
       "      <th>iki</th>\n",
       "      <th>uc</th>\n",
       "      <th>dort</th>\n",
       "    </tr>\n",
       "  </thead>\n",
       "  <tbody>\n",
       "    <tr>\n",
       "      <th>bursa</th>\n",
       "      <td>0</td>\n",
       "      <td>1</td>\n",
       "      <td>2</td>\n",
       "      <td>3</td>\n",
       "    </tr>\n",
       "    <tr>\n",
       "      <th>istanbul</th>\n",
       "      <td>4</td>\n",
       "      <td>5</td>\n",
       "      <td>6</td>\n",
       "      <td>7</td>\n",
       "    </tr>\n",
       "    <tr>\n",
       "      <th>ankara</th>\n",
       "      <td>8</td>\n",
       "      <td>9</td>\n",
       "      <td>10</td>\n",
       "      <td>11</td>\n",
       "    </tr>\n",
       "    <tr>\n",
       "      <th>rize</th>\n",
       "      <td>12</td>\n",
       "      <td>13</td>\n",
       "      <td>14</td>\n",
       "      <td>15</td>\n",
       "    </tr>\n",
       "  </tbody>\n",
       "</table>\n",
       "</div>"
      ],
      "text/plain": [
       "          bir  iki  uc  dort\n",
       "bursa       0    1   2     3\n",
       "istanbul    4    5   6     7\n",
       "ankara      8    9  10    11\n",
       "rize       12   13  14    15"
      ]
     },
     "execution_count": 1368,
     "metadata": {},
     "output_type": "execute_result"
    }
   ],
   "source": [
    "veri = pd.DataFrame(np.arange(16).reshape(4,4),index=[\"bursa\",\"istanbul\",\"ankara\",\"rize\"],columns=[\"bir\",\"iki\",\"uc\",\"dort\"])\n",
    "veri.head()"
   ]
  },
  {
   "cell_type": "code",
   "execution_count": 1369,
   "id": "91a783f7-b2e8-42f7-8502-dc02eec27f53",
   "metadata": {
    "tags": []
   },
   "outputs": [
    {
     "data": {
      "text/plain": [
       "bursa        1\n",
       "istanbul     5\n",
       "ankara       9\n",
       "rize        13\n",
       "Name: iki, dtype: int32"
      ]
     },
     "execution_count": 1369,
     "metadata": {},
     "output_type": "execute_result"
    }
   ],
   "source": [
    "veri[\"iki\"] # iki ismindeki sutun ve verileri geldi.  birden fazla sutun ve verileri gelsin istersek indexlemeler ise o zaman liste içerisinde df[[\"bir\",\"iki\"]] şeklinde yollarız."
   ]
  },
  {
   "cell_type": "code",
   "execution_count": 1370,
   "id": "babc1018-2e92-41e1-a359-70cb2e2946bd",
   "metadata": {
    "tags": []
   },
   "outputs": [
    {
     "data": {
      "text/html": [
       "<div>\n",
       "<style scoped>\n",
       "    .dataframe tbody tr th:only-of-type {\n",
       "        vertical-align: middle;\n",
       "    }\n",
       "\n",
       "    .dataframe tbody tr th {\n",
       "        vertical-align: top;\n",
       "    }\n",
       "\n",
       "    .dataframe thead th {\n",
       "        text-align: right;\n",
       "    }\n",
       "</style>\n",
       "<table border=\"1\" class=\"dataframe\">\n",
       "  <thead>\n",
       "    <tr style=\"text-align: right;\">\n",
       "      <th></th>\n",
       "      <th>bir</th>\n",
       "      <th>iki</th>\n",
       "      <th>uc</th>\n",
       "      <th>dort</th>\n",
       "    </tr>\n",
       "  </thead>\n",
       "  <tbody>\n",
       "    <tr>\n",
       "      <th>istanbul</th>\n",
       "      <td>4</td>\n",
       "      <td>5</td>\n",
       "      <td>6</td>\n",
       "      <td>7</td>\n",
       "    </tr>\n",
       "    <tr>\n",
       "      <th>ankara</th>\n",
       "      <td>8</td>\n",
       "      <td>9</td>\n",
       "      <td>10</td>\n",
       "      <td>11</td>\n",
       "    </tr>\n",
       "    <tr>\n",
       "      <th>rize</th>\n",
       "      <td>12</td>\n",
       "      <td>13</td>\n",
       "      <td>14</td>\n",
       "      <td>15</td>\n",
       "    </tr>\n",
       "  </tbody>\n",
       "</table>\n",
       "</div>"
      ],
      "text/plain": [
       "          bir  iki  uc  dort\n",
       "istanbul    4    5   6     7\n",
       "ankara      8    9  10    11\n",
       "rize       12   13  14    15"
      ]
     },
     "execution_count": 1370,
     "metadata": {},
     "output_type": "execute_result"
    }
   ],
   "source": [
    "veri[veri[\"dort\"] > 5] # dort sutunundaki 5den byük verilerin olduğu satırlar geldi indexleri ile beraber geldi."
   ]
  },
  {
   "cell_type": "code",
   "execution_count": 1371,
   "id": "896aa0ec-65ed-4423-8e5e-522d1a9b13b0",
   "metadata": {
    "tags": []
   },
   "outputs": [
    {
     "data": {
      "text/html": [
       "<div>\n",
       "<style scoped>\n",
       "    .dataframe tbody tr th:only-of-type {\n",
       "        vertical-align: middle;\n",
       "    }\n",
       "\n",
       "    .dataframe tbody tr th {\n",
       "        vertical-align: top;\n",
       "    }\n",
       "\n",
       "    .dataframe thead th {\n",
       "        text-align: right;\n",
       "    }\n",
       "</style>\n",
       "<table border=\"1\" class=\"dataframe\">\n",
       "  <thead>\n",
       "    <tr style=\"text-align: right;\">\n",
       "      <th></th>\n",
       "      <th>bir</th>\n",
       "      <th>iki</th>\n",
       "      <th>uc</th>\n",
       "      <th>dort</th>\n",
       "    </tr>\n",
       "  </thead>\n",
       "  <tbody>\n",
       "    <tr>\n",
       "      <th>bursa</th>\n",
       "      <td>0</td>\n",
       "      <td>0</td>\n",
       "      <td>0</td>\n",
       "      <td>0</td>\n",
       "    </tr>\n",
       "    <tr>\n",
       "      <th>istanbul</th>\n",
       "      <td>4</td>\n",
       "      <td>5</td>\n",
       "      <td>6</td>\n",
       "      <td>7</td>\n",
       "    </tr>\n",
       "    <tr>\n",
       "      <th>ankara</th>\n",
       "      <td>8</td>\n",
       "      <td>9</td>\n",
       "      <td>10</td>\n",
       "      <td>11</td>\n",
       "    </tr>\n",
       "    <tr>\n",
       "      <th>rize</th>\n",
       "      <td>12</td>\n",
       "      <td>13</td>\n",
       "      <td>14</td>\n",
       "      <td>15</td>\n",
       "    </tr>\n",
       "  </tbody>\n",
       "</table>\n",
       "</div>"
      ],
      "text/plain": [
       "          bir  iki  uc  dort\n",
       "bursa       0    0   0     0\n",
       "istanbul    4    5   6     7\n",
       "ankara      8    9  10    11\n",
       "rize       12   13  14    15"
      ]
     },
     "execution_count": 1371,
     "metadata": {},
     "output_type": "execute_result"
    }
   ],
   "source": [
    "veri[veri[\"dort\"] < 5] = 0 # dort sutunundaki 5den küçük veriler 0 oldu.   o satırdaki tüm verileri sıfır olur komple o ssatır ele alınır çünkü.\n",
    "veri"
   ]
  },
  {
   "cell_type": "code",
   "execution_count": 1372,
   "id": "c416855d-63c8-4704-afc2-a88a1af6d887",
   "metadata": {
    "tags": []
   },
   "outputs": [
    {
     "data": {
      "text/plain": [
       "iki     5\n",
       "uc      6\n",
       "dort    7\n",
       "Name: istanbul, dtype: int32"
      ]
     },
     "execution_count": 1372,
     "metadata": {},
     "output_type": "execute_result"
    }
   ],
   "source": [
    "# veri.loc  ve iloc  satır üzerinden ilerler. loc için etiket ismi kullanır. normal etiket ile sutun,satır.   loc ve iloc ile ise satır,sutun olarak ilerler.\n",
    "\n",
    "veri.iloc[1,[1,2,3]] # 1. indexteki satırın 1. 2. 3. indexe sahip sutunları geldi.\n"
   ]
  },
  {
   "cell_type": "code",
   "execution_count": 1373,
   "id": "dc6744ab-f6eb-46cf-bb71-f13fc75b5053",
   "metadata": {
    "tags": []
   },
   "outputs": [
    {
     "data": {
      "text/html": [
       "<div>\n",
       "<style scoped>\n",
       "    .dataframe tbody tr th:only-of-type {\n",
       "        vertical-align: middle;\n",
       "    }\n",
       "\n",
       "    .dataframe tbody tr th {\n",
       "        vertical-align: top;\n",
       "    }\n",
       "\n",
       "    .dataframe thead th {\n",
       "        text-align: right;\n",
       "    }\n",
       "</style>\n",
       "<table border=\"1\" class=\"dataframe\">\n",
       "  <thead>\n",
       "    <tr style=\"text-align: right;\">\n",
       "      <th></th>\n",
       "      <th>iki</th>\n",
       "      <th>uc</th>\n",
       "      <th>dort</th>\n",
       "    </tr>\n",
       "  </thead>\n",
       "  <tbody>\n",
       "    <tr>\n",
       "      <th>istanbul</th>\n",
       "      <td>5</td>\n",
       "      <td>6</td>\n",
       "      <td>7</td>\n",
       "    </tr>\n",
       "    <tr>\n",
       "      <th>ankara</th>\n",
       "      <td>9</td>\n",
       "      <td>10</td>\n",
       "      <td>11</td>\n",
       "    </tr>\n",
       "  </tbody>\n",
       "</table>\n",
       "</div>"
      ],
      "text/plain": [
       "          iki  uc  dort\n",
       "istanbul    5   6     7\n",
       "ankara      9  10    11"
      ]
     },
     "execution_count": 1373,
     "metadata": {},
     "output_type": "execute_result"
    }
   ],
   "source": [
    "veri.iloc[[1,2],[1,2,3]] # 1. ve 2. indexteki satırın 1. 2. 3. indexe sahip sutunları geldi."
   ]
  },
  {
   "cell_type": "code",
   "execution_count": 1374,
   "id": "13045f6d-ae6f-4677-8ebc-8b8716290cc9",
   "metadata": {
    "tags": []
   },
   "outputs": [
    {
     "data": {
      "text/plain": [
       "bir    12\n",
       "iki    13\n",
       "Name: rize, dtype: int32"
      ]
     },
     "execution_count": 1374,
     "metadata": {},
     "output_type": "execute_result"
    }
   ],
   "source": [
    "veri.loc[\"rize\",[\"bir\",\"iki\"]]"
   ]
  },
  {
   "cell_type": "code",
   "execution_count": 1375,
   "id": "0a4f1f5d-ce8c-4f7e-8ef6-c2707b959dbe",
   "metadata": {
    "tags": []
   },
   "outputs": [
    {
     "data": {
      "text/plain": [
       "bursa        0\n",
       "istanbul     7\n",
       "ankara      11\n",
       "rize        15\n",
       "Name: dort, dtype: int32"
      ]
     },
     "execution_count": 1375,
     "metadata": {},
     "output_type": "execute_result"
    }
   ],
   "source": [
    "veri.loc[:\"rize\",\"dort\"] # rizeye kadar olanların dort sutunu geldi. "
   ]
  },
  {
   "cell_type": "code",
   "execution_count": 1376,
   "id": "732f9794-4eba-46dd-96e3-a1968194300d",
   "metadata": {
    "tags": []
   },
   "outputs": [],
   "source": [
    "veri = pd.Series(np.arange(5),index=[0,1,2,3,4])\n",
    "# eğer indexleme belirlenmedi ise - index kullanamayız.     index =  ile indexleme olmadı ise o zaman eksi indexleme kullanamayız. "
   ]
  },
  {
   "cell_type": "code",
   "execution_count": 1377,
   "id": "4bcc75c4-1d66-4a22-83e7-aae5d2f6b6d3",
   "metadata": {
    "tags": []
   },
   "outputs": [],
   "source": [
    "# veri[-1] # hata alırız eğer index etiketi vermediysek. ama index=[0,1,2,3,4]  yaptığımız için bir sıkıntı olmadı."
   ]
  },
  {
   "cell_type": "markdown",
   "id": "9be2fce8-ba19-47b7-be23-4b6caa58370c",
   "metadata": {},
   "source": [
    "## ÖNEMLİ METOTLAR"
   ]
  },
  {
   "cell_type": "code",
   "execution_count": 1378,
   "id": "d64d3d73-4a4a-40d2-8c25-f156686df83e",
   "metadata": {
    "tags": []
   },
   "outputs": [
    {
     "data": {
      "text/plain": [
       "a    1\n",
       "b    2\n",
       "c    3\n",
       "d    4\n",
       "dtype: int64"
      ]
     },
     "execution_count": 1378,
     "metadata": {},
     "output_type": "execute_result"
    }
   ],
   "source": [
    "s = pd.Series([1,2,3,4],index=[\"a\",\"b\",\"c\",\"d\"])\n",
    "s"
   ]
  },
  {
   "cell_type": "code",
   "execution_count": 1379,
   "id": "d988f181-3169-4f6b-94f5-e8438421c51a",
   "metadata": {
    "tags": []
   },
   "outputs": [
    {
     "data": {
      "text/plain": [
       "b    2.0\n",
       "d    4.0\n",
       "a    1.0\n",
       "c    3.0\n",
       "e    NaN\n",
       "dtype: float64"
      ]
     },
     "execution_count": 1379,
     "metadata": {},
     "output_type": "execute_result"
    }
   ],
   "source": [
    "# .reindex demek verdiğimiz indexlere göre veriyi yeniden düzenleme demek indexleri değiştir demek değil. indexlerin karşısındaki veri ile haraket edecek sistem. istersen sonradan index ekletyebiliriz hazır olan serieste karşılığı uoksa o zaman NaN veri alır.\n",
    "s2 = s.reindex([\"b\",\"d\",\"a\",\"c\",\"e\"]) # e ye değer atamadık. NaN oldu.\n",
    "s2 # s2[\"e\"] =    ile atama yapabilirdik."
   ]
  },
  {
   "cell_type": "code",
   "execution_count": 1380,
   "id": "e7fc1cfd-4f10-469a-afa3-23cff9fa038f",
   "metadata": {
    "tags": []
   },
   "outputs": [
    {
     "data": {
      "text/plain": [
       "0    Mavi\n",
       "2    Sarı\n",
       "4     Mor\n",
       "dtype: object"
      ]
     },
     "execution_count": 1380,
     "metadata": {},
     "output_type": "execute_result"
    }
   ],
   "source": [
    "s3 = pd.Series([\"Mavi\",\"Sarı\",\"Mor\"],index = [0,2,4])\n",
    "s3"
   ]
  },
  {
   "cell_type": "code",
   "execution_count": 1381,
   "id": "c54bd741-006d-4c61-ab6b-31b72c981d5d",
   "metadata": {
    "tags": []
   },
   "outputs": [
    {
     "data": {
      "text/plain": [
       "0    Mavi\n",
       "1    Mavi\n",
       "2    Sarı\n",
       "3    Sarı\n",
       "4     Mor\n",
       "5     Mor\n",
       "dtype: object"
      ]
     },
     "execution_count": 1381,
     "metadata": {},
     "output_type": "execute_result"
    }
   ],
   "source": [
    "s3.reindex(range(6),method = \"ffill\") # boş olana yukarından değer verir.  reindex ile yeni bir indexleme kurarız. ve eşleşenler verilerini alır. method ile ise nasıl doldurulacak boş veriler bunu belirleriz. "
   ]
  },
  {
   "cell_type": "code",
   "execution_count": 1382,
   "id": "72f5ac88-3a27-490d-9756-7b63cdf196bb",
   "metadata": {
    "tags": []
   },
   "outputs": [
    {
     "data": {
      "text/html": [
       "<div>\n",
       "<style scoped>\n",
       "    .dataframe tbody tr th:only-of-type {\n",
       "        vertical-align: middle;\n",
       "    }\n",
       "\n",
       "    .dataframe tbody tr th {\n",
       "        vertical-align: top;\n",
       "    }\n",
       "\n",
       "    .dataframe thead th {\n",
       "        text-align: right;\n",
       "    }\n",
       "</style>\n",
       "<table border=\"1\" class=\"dataframe\">\n",
       "  <thead>\n",
       "    <tr style=\"text-align: right;\">\n",
       "      <th>isimler</th>\n",
       "      <th>ali</th>\n",
       "      <th>efe</th>\n",
       "      <th>emre</th>\n",
       "    </tr>\n",
       "    <tr>\n",
       "      <th>indexler</th>\n",
       "      <th></th>\n",
       "      <th></th>\n",
       "      <th></th>\n",
       "    </tr>\n",
       "  </thead>\n",
       "  <tbody>\n",
       "    <tr>\n",
       "      <th>a</th>\n",
       "      <td>0</td>\n",
       "      <td>1</td>\n",
       "      <td>2</td>\n",
       "    </tr>\n",
       "    <tr>\n",
       "      <th>c</th>\n",
       "      <td>3</td>\n",
       "      <td>4</td>\n",
       "      <td>5</td>\n",
       "    </tr>\n",
       "    <tr>\n",
       "      <th>d</th>\n",
       "      <td>6</td>\n",
       "      <td>7</td>\n",
       "      <td>8</td>\n",
       "    </tr>\n",
       "  </tbody>\n",
       "</table>\n",
       "</div>"
      ],
      "text/plain": [
       "isimler   ali  efe  emre\n",
       "indexler                \n",
       "a           0    1     2\n",
       "c           3    4     5\n",
       "d           6    7     8"
      ]
     },
     "execution_count": 1382,
     "metadata": {},
     "output_type": "execute_result"
    }
   ],
   "source": [
    "df2 = pd.DataFrame(np.arange(9).reshape(3,3),index=[\"a\",\"c\",\"d\"],columns=[\"ali\",\"efe\",\"emre\"])\n",
    "df2.columns.name = \"isimler\"\n",
    "df2.index.name = \"indexler\"\n",
    "df2"
   ]
  },
  {
   "cell_type": "code",
   "execution_count": 1383,
   "id": "c03d63bc-1315-4f3e-85e2-3d596a4aa4cc",
   "metadata": {
    "tags": []
   },
   "outputs": [
    {
     "data": {
      "text/html": [
       "<div>\n",
       "<style scoped>\n",
       "    .dataframe tbody tr th:only-of-type {\n",
       "        vertical-align: middle;\n",
       "    }\n",
       "\n",
       "    .dataframe tbody tr th {\n",
       "        vertical-align: top;\n",
       "    }\n",
       "\n",
       "    .dataframe thead th {\n",
       "        text-align: right;\n",
       "    }\n",
       "</style>\n",
       "<table border=\"1\" class=\"dataframe\">\n",
       "  <thead>\n",
       "    <tr style=\"text-align: right;\">\n",
       "      <th>isimler</th>\n",
       "      <th>ali</th>\n",
       "      <th>efe</th>\n",
       "      <th>emre</th>\n",
       "    </tr>\n",
       "    <tr>\n",
       "      <th>indexler</th>\n",
       "      <th></th>\n",
       "      <th></th>\n",
       "      <th></th>\n",
       "    </tr>\n",
       "  </thead>\n",
       "  <tbody>\n",
       "    <tr>\n",
       "      <th>d</th>\n",
       "      <td>6.0</td>\n",
       "      <td>7.0</td>\n",
       "      <td>8.0</td>\n",
       "    </tr>\n",
       "    <tr>\n",
       "      <th>c</th>\n",
       "      <td>3.0</td>\n",
       "      <td>4.0</td>\n",
       "      <td>5.0</td>\n",
       "    </tr>\n",
       "    <tr>\n",
       "      <th>b</th>\n",
       "      <td>NaN</td>\n",
       "      <td>NaN</td>\n",
       "      <td>NaN</td>\n",
       "    </tr>\n",
       "    <tr>\n",
       "      <th>a</th>\n",
       "      <td>0.0</td>\n",
       "      <td>1.0</td>\n",
       "      <td>2.0</td>\n",
       "    </tr>\n",
       "  </tbody>\n",
       "</table>\n",
       "</div>"
      ],
      "text/plain": [
       "isimler   ali  efe  emre\n",
       "indexler                \n",
       "d         6.0  7.0   8.0\n",
       "c         3.0  4.0   5.0\n",
       "b         NaN  NaN   NaN\n",
       "a         0.0  1.0   2.0"
      ]
     },
     "execution_count": 1383,
     "metadata": {},
     "output_type": "execute_result"
    }
   ],
   "source": [
    "df2 = df2.reindex([\"d\",\"c\",\"b\",\"a\"])\n",
    "df2"
   ]
  },
  {
   "cell_type": "code",
   "execution_count": 1384,
   "id": "0b1fd90b-3394-401a-884e-ad436d518ab0",
   "metadata": {
    "tags": []
   },
   "outputs": [
    {
     "data": {
      "text/html": [
       "<div>\n",
       "<style scoped>\n",
       "    .dataframe tbody tr th:only-of-type {\n",
       "        vertical-align: middle;\n",
       "    }\n",
       "\n",
       "    .dataframe tbody tr th {\n",
       "        vertical-align: top;\n",
       "    }\n",
       "\n",
       "    .dataframe thead th {\n",
       "        text-align: right;\n",
       "    }\n",
       "</style>\n",
       "<table border=\"1\" class=\"dataframe\">\n",
       "  <thead>\n",
       "    <tr style=\"text-align: right;\">\n",
       "      <th>isimler</th>\n",
       "      <th>efe</th>\n",
       "      <th>nur</th>\n",
       "      <th>ali</th>\n",
       "    </tr>\n",
       "    <tr>\n",
       "      <th>indexler</th>\n",
       "      <th></th>\n",
       "      <th></th>\n",
       "      <th></th>\n",
       "    </tr>\n",
       "  </thead>\n",
       "  <tbody>\n",
       "    <tr>\n",
       "      <th>d</th>\n",
       "      <td>7.0</td>\n",
       "      <td>NaN</td>\n",
       "      <td>6.0</td>\n",
       "    </tr>\n",
       "    <tr>\n",
       "      <th>c</th>\n",
       "      <td>4.0</td>\n",
       "      <td>NaN</td>\n",
       "      <td>3.0</td>\n",
       "    </tr>\n",
       "    <tr>\n",
       "      <th>a</th>\n",
       "      <td>1.0</td>\n",
       "      <td>NaN</td>\n",
       "      <td>0.0</td>\n",
       "    </tr>\n",
       "  </tbody>\n",
       "</table>\n",
       "</div>"
      ],
      "text/plain": [
       "isimler   efe  nur  ali\n",
       "indexler               \n",
       "d         7.0  NaN  6.0\n",
       "c         4.0  NaN  3.0\n",
       "a         1.0  NaN  0.0"
      ]
     },
     "execution_count": 1384,
     "metadata": {},
     "output_type": "execute_result"
    }
   ],
   "source": [
    "isim = [\"efe\",\"nur\",\"ali\"]\n",
    "df2 =  df2.drop(axis = 1,index=\"b\") # satır dropladık.  birden fazla droplamak istersek o zaman liste içerisinde indexleri gireriz.\n",
    "df2.reindex(columns=isim) # kolon indexlemesi değiştirdik. # eşleşenler verilerini aldı olmayanlar ise NaN veriler ile donandı. normalde verileri olup adı yazılmayanlar ise yok oldu."
   ]
  },
  {
   "cell_type": "code",
   "execution_count": 1385,
   "id": "b51584db-61ae-4920-9b08-770b73aba1de",
   "metadata": {
    "tags": []
   },
   "outputs": [
    {
     "data": {
      "text/html": [
       "<div>\n",
       "<style scoped>\n",
       "    .dataframe tbody tr th:only-of-type {\n",
       "        vertical-align: middle;\n",
       "    }\n",
       "\n",
       "    .dataframe tbody tr th {\n",
       "        vertical-align: top;\n",
       "    }\n",
       "\n",
       "    .dataframe thead th {\n",
       "        text-align: right;\n",
       "    }\n",
       "</style>\n",
       "<table border=\"1\" class=\"dataframe\">\n",
       "  <thead>\n",
       "    <tr style=\"text-align: right;\">\n",
       "      <th>isimler</th>\n",
       "      <th>ali</th>\n",
       "      <th>efe</th>\n",
       "      <th>emre</th>\n",
       "    </tr>\n",
       "    <tr>\n",
       "      <th>indexler</th>\n",
       "      <th></th>\n",
       "      <th></th>\n",
       "      <th></th>\n",
       "    </tr>\n",
       "  </thead>\n",
       "  <tbody>\n",
       "    <tr>\n",
       "      <th>c</th>\n",
       "      <td>3.0</td>\n",
       "      <td>4.0</td>\n",
       "      <td>5.0</td>\n",
       "    </tr>\n",
       "    <tr>\n",
       "      <th>d</th>\n",
       "      <td>6.0</td>\n",
       "      <td>7.0</td>\n",
       "      <td>8.0</td>\n",
       "    </tr>\n",
       "    <tr>\n",
       "      <th>a</th>\n",
       "      <td>0.0</td>\n",
       "      <td>1.0</td>\n",
       "      <td>2.0</td>\n",
       "    </tr>\n",
       "  </tbody>\n",
       "</table>\n",
       "</div>"
      ],
      "text/plain": [
       "isimler   ali  efe  emre\n",
       "indexler                \n",
       "c         3.0  4.0   5.0\n",
       "d         6.0  7.0   8.0\n",
       "a         0.0  1.0   2.0"
      ]
     },
     "execution_count": 1385,
     "metadata": {},
     "output_type": "execute_result"
    }
   ],
   "source": [
    "df2.loc[[\"c\",\"d\",\"a\"]] # istenen sırada kullanabiliriz. istenen sırada gelir satırlar."
   ]
  },
  {
   "cell_type": "code",
   "execution_count": 1386,
   "id": "09f814a5-64ac-423a-9bee-7c91ef686bd4",
   "metadata": {
    "tags": []
   },
   "outputs": [
    {
     "data": {
      "text/plain": [
       "a    0.0\n",
       "b    1.0\n",
       "c    2.0\n",
       "d    3.0\n",
       "e    4.0\n",
       "dtype: float64"
      ]
     },
     "execution_count": 1386,
     "metadata": {},
     "output_type": "execute_result"
    }
   ],
   "source": [
    "s4 = pd.Series(np.arange(5.),index = [\"a\",\"b\",\"c\",\"d\",\"e\"]) # sonuna nokta koyunca float olarak kullanır. \n",
    "s4"
   ]
  },
  {
   "cell_type": "code",
   "execution_count": 1387,
   "id": "567fb231-bff3-4082-b06d-72143b1b3f42",
   "metadata": {
    "tags": []
   },
   "outputs": [
    {
     "data": {
      "text/html": [
       "<div>\n",
       "<style scoped>\n",
       "    .dataframe tbody tr th:only-of-type {\n",
       "        vertical-align: middle;\n",
       "    }\n",
       "\n",
       "    .dataframe tbody tr th {\n",
       "        vertical-align: top;\n",
       "    }\n",
       "\n",
       "    .dataframe thead th {\n",
       "        text-align: right;\n",
       "    }\n",
       "</style>\n",
       "<table border=\"1\" class=\"dataframe\">\n",
       "  <thead>\n",
       "    <tr style=\"text-align: right;\">\n",
       "      <th></th>\n",
       "      <th>A</th>\n",
       "      <th>B</th>\n",
       "      <th>C</th>\n",
       "      <th>D</th>\n",
       "    </tr>\n",
       "  </thead>\n",
       "  <tbody>\n",
       "    <tr>\n",
       "      <th>ali</th>\n",
       "      <td>0</td>\n",
       "      <td>1</td>\n",
       "      <td>2</td>\n",
       "      <td>3</td>\n",
       "    </tr>\n",
       "    <tr>\n",
       "      <th>can</th>\n",
       "      <td>4</td>\n",
       "      <td>5</td>\n",
       "      <td>6</td>\n",
       "      <td>7</td>\n",
       "    </tr>\n",
       "    <tr>\n",
       "      <th>nur</th>\n",
       "      <td>8</td>\n",
       "      <td>9</td>\n",
       "      <td>10</td>\n",
       "      <td>11</td>\n",
       "    </tr>\n",
       "    <tr>\n",
       "      <th>efe</th>\n",
       "      <td>12</td>\n",
       "      <td>13</td>\n",
       "      <td>14</td>\n",
       "      <td>15</td>\n",
       "    </tr>\n",
       "  </tbody>\n",
       "</table>\n",
       "</div>"
      ],
      "text/plain": [
       "      A   B   C   D\n",
       "ali   0   1   2   3\n",
       "can   4   5   6   7\n",
       "nur   8   9  10  11\n",
       "efe  12  13  14  15"
      ]
     },
     "execution_count": 1387,
     "metadata": {},
     "output_type": "execute_result"
    }
   ],
   "source": [
    "veri = pd.DataFrame(np.arange(16).reshape(4,4),index=[\"ali\",\"can\",\"nur\",\"efe\"],columns=list(\"ABCD\"))\n",
    "veri"
   ]
  },
  {
   "cell_type": "code",
   "execution_count": 1388,
   "id": "526e0248-e2cc-4ecc-b184-6ad36221e860",
   "metadata": {
    "tags": []
   },
   "outputs": [
    {
     "data": {
      "text/html": [
       "<div>\n",
       "<style scoped>\n",
       "    .dataframe tbody tr th:only-of-type {\n",
       "        vertical-align: middle;\n",
       "    }\n",
       "\n",
       "    .dataframe tbody tr th {\n",
       "        vertical-align: top;\n",
       "    }\n",
       "\n",
       "    .dataframe thead th {\n",
       "        text-align: right;\n",
       "    }\n",
       "</style>\n",
       "<table border=\"1\" class=\"dataframe\">\n",
       "  <thead>\n",
       "    <tr style=\"text-align: right;\">\n",
       "      <th></th>\n",
       "      <th>B</th>\n",
       "      <th>C</th>\n",
       "      <th>D</th>\n",
       "    </tr>\n",
       "  </thead>\n",
       "  <tbody>\n",
       "    <tr>\n",
       "      <th>ali</th>\n",
       "      <td>1</td>\n",
       "      <td>2</td>\n",
       "      <td>3</td>\n",
       "    </tr>\n",
       "    <tr>\n",
       "      <th>can</th>\n",
       "      <td>5</td>\n",
       "      <td>6</td>\n",
       "      <td>7</td>\n",
       "    </tr>\n",
       "    <tr>\n",
       "      <th>nur</th>\n",
       "      <td>9</td>\n",
       "      <td>10</td>\n",
       "      <td>11</td>\n",
       "    </tr>\n",
       "    <tr>\n",
       "      <th>efe</th>\n",
       "      <td>13</td>\n",
       "      <td>14</td>\n",
       "      <td>15</td>\n",
       "    </tr>\n",
       "  </tbody>\n",
       "</table>\n",
       "</div>"
      ],
      "text/plain": [
       "      B   C   D\n",
       "ali   1   2   3\n",
       "can   5   6   7\n",
       "nur   9  10  11\n",
       "efe  13  14  15"
      ]
     },
     "execution_count": 1388,
     "metadata": {},
     "output_type": "execute_result"
    }
   ],
   "source": [
    "veri.drop(\"A\",inplace=True,axis = 1) # sutun silemk için axis = 1 kullanılır. inplace True ile kalıcı olur. eğer axis belirtmezsek o zaman axis = 0 olur default olarak.\n",
    "veri"
   ]
  },
  {
   "cell_type": "code",
   "execution_count": 1389,
   "id": "7a49a71f-503a-4801-8f3b-171da488244d",
   "metadata": {
    "tags": []
   },
   "outputs": [
    {
     "data": {
      "text/plain": [
       "ali     2.0\n",
       "can     6.0\n",
       "nur    10.0\n",
       "efe    14.0\n",
       "dtype: float64"
      ]
     },
     "execution_count": 1389,
     "metadata": {},
     "output_type": "execute_result"
    }
   ],
   "source": [
    "veri.mean(axis = 1) # tüm sutun ortalamaları geldi. satırlar için sutun ortalaması. eğer axis = 0 olsa idi tüm sutunlari için satırların ortalaması alınırdı."
   ]
  },
  {
   "cell_type": "markdown",
   "id": "1bba7dab-9d13-4f04-9104-756e20ca8515",
   "metadata": {},
   "source": [
    "## ARİTMETİK İŞLEMLER "
   ]
  },
  {
   "cell_type": "code",
   "execution_count": 1390,
   "id": "504c0840-de55-4338-838c-ca49bc2b78fd",
   "metadata": {
    "tags": []
   },
   "outputs": [
    {
     "data": {
      "text/plain": [
       "a    0.0\n",
       "c    2.0\n",
       "d    NaN\n",
       "e    5.0\n",
       "f    NaN\n",
       "g    NaN\n",
       "dtype: float64"
      ]
     },
     "execution_count": 1390,
     "metadata": {},
     "output_type": "execute_result"
    }
   ],
   "source": [
    "# mesela numpyde,serieste toplama yaparken aynı konumda aynı indexte olanlar toplanır.\n",
    "# import pandas as pd; import numpy as np şeklinde import edebiliriz.\n",
    "s1 = pd.Series(np.arange(4),index=[\"a\",\"c\",\"d\",\"e\"])\n",
    "s2 = pd.Series(np.arange(5),index = [\"a\",\"c\",\"e\",\"f\",\"g\"])\n",
    "s1 + s2 # biz burada aynı olanlar toplandı karşılığı olmayanlar katıldı ancak NaN veri aldı. mesela f'nin normalde değeri var ama öbür serieste karşılığı olmadığı için NaN veri aldı.\n"
   ]
  },
  {
   "cell_type": "code",
   "execution_count": 1391,
   "id": "8d20f900-89ef-416a-b243-96a7c5479f2f",
   "metadata": {
    "tags": []
   },
   "outputs": [
    {
     "data": {
      "text/html": [
       "<div>\n",
       "<style scoped>\n",
       "    .dataframe tbody tr th:only-of-type {\n",
       "        vertical-align: middle;\n",
       "    }\n",
       "\n",
       "    .dataframe tbody tr th {\n",
       "        vertical-align: top;\n",
       "    }\n",
       "\n",
       "    .dataframe thead th {\n",
       "        text-align: right;\n",
       "    }\n",
       "</style>\n",
       "<table border=\"1\" class=\"dataframe\">\n",
       "  <thead>\n",
       "    <tr style=\"text-align: right;\">\n",
       "      <th></th>\n",
       "      <th>A</th>\n",
       "      <th>B</th>\n",
       "      <th>C</th>\n",
       "      <th>D</th>\n",
       "    </tr>\n",
       "  </thead>\n",
       "  <tbody>\n",
       "    <tr>\n",
       "      <th>ali</th>\n",
       "      <td>0.0</td>\n",
       "      <td>2.0</td>\n",
       "      <td>NaN</td>\n",
       "      <td>NaN</td>\n",
       "    </tr>\n",
       "    <tr>\n",
       "      <th>can</th>\n",
       "      <td>NaN</td>\n",
       "      <td>NaN</td>\n",
       "      <td>NaN</td>\n",
       "      <td>NaN</td>\n",
       "    </tr>\n",
       "    <tr>\n",
       "      <th>efe</th>\n",
       "      <td>9.0</td>\n",
       "      <td>11.0</td>\n",
       "      <td>NaN</td>\n",
       "      <td>NaN</td>\n",
       "    </tr>\n",
       "  </tbody>\n",
       "</table>\n",
       "</div>"
      ],
      "text/plain": [
       "       A     B   C   D\n",
       "ali  0.0   2.0 NaN NaN\n",
       "can  NaN   NaN NaN NaN\n",
       "efe  9.0  11.0 NaN NaN"
      ]
     },
     "execution_count": 1391,
     "metadata": {},
     "output_type": "execute_result"
    }
   ],
   "source": [
    "df11 = pd.DataFrame(np.arange(6).reshape(2,3),columns=list(\"ABC\"),index = [\"ali\",\"efe\"])\n",
    "df22 = pd.DataFrame(np.arange(9).reshape(3,3),columns=list(\"ABD\"),index = [\"ali\",\"can\",\"efe\"])\n",
    "df11 + df22 # satır ve sutun değerleri aynı olanlar toplandı. herhangi bir satır veya sutun indexi örtüşmeyen ise NaN aldı."
   ]
  },
  {
   "cell_type": "code",
   "execution_count": 1392,
   "id": "b3beda96-c188-4368-9bb7-2833cde2a777",
   "metadata": {
    "tags": []
   },
   "outputs": [
    {
     "data": {
      "text/html": [
       "<div>\n",
       "<style scoped>\n",
       "    .dataframe tbody tr th:only-of-type {\n",
       "        vertical-align: middle;\n",
       "    }\n",
       "\n",
       "    .dataframe tbody tr th {\n",
       "        vertical-align: top;\n",
       "    }\n",
       "\n",
       "    .dataframe thead th {\n",
       "        text-align: right;\n",
       "    }\n",
       "</style>\n",
       "<table border=\"1\" class=\"dataframe\">\n",
       "  <thead>\n",
       "    <tr style=\"text-align: right;\">\n",
       "      <th></th>\n",
       "      <th>A</th>\n",
       "      <th>B</th>\n",
       "      <th>C</th>\n",
       "      <th>D</th>\n",
       "    </tr>\n",
       "  </thead>\n",
       "  <tbody>\n",
       "    <tr>\n",
       "      <th>ali</th>\n",
       "      <td>0.0</td>\n",
       "      <td>2.0</td>\n",
       "      <td>2.0</td>\n",
       "      <td>2.0</td>\n",
       "    </tr>\n",
       "    <tr>\n",
       "      <th>can</th>\n",
       "      <td>3.0</td>\n",
       "      <td>4.0</td>\n",
       "      <td>NaN</td>\n",
       "      <td>5.0</td>\n",
       "    </tr>\n",
       "    <tr>\n",
       "      <th>efe</th>\n",
       "      <td>9.0</td>\n",
       "      <td>11.0</td>\n",
       "      <td>5.0</td>\n",
       "      <td>8.0</td>\n",
       "    </tr>\n",
       "  </tbody>\n",
       "</table>\n",
       "</div>"
      ],
      "text/plain": [
       "       A     B    C    D\n",
       "ali  0.0   2.0  2.0  2.0\n",
       "can  3.0   4.0  NaN  5.0\n",
       "efe  9.0  11.0  5.0  8.0"
      ]
     },
     "execution_count": 1392,
     "metadata": {},
     "output_type": "execute_result"
    }
   ],
   "source": [
    "df11.add(df22,fill_value = 0) # örtüşmeyenlere 0 atanacak. ortusenler toplamacak. tek biri ortusen ise ayrı olarak kendi değerini alacak."
   ]
  },
  {
   "cell_type": "code",
   "execution_count": 1393,
   "id": "a6fd8fc4-d1d8-46ed-a73e-969474fb4f27",
   "metadata": {
    "tags": []
   },
   "outputs": [
    {
     "data": {
      "text/html": [
       "<div>\n",
       "<style scoped>\n",
       "    .dataframe tbody tr th:only-of-type {\n",
       "        vertical-align: middle;\n",
       "    }\n",
       "\n",
       "    .dataframe tbody tr th {\n",
       "        vertical-align: top;\n",
       "    }\n",
       "\n",
       "    .dataframe thead th {\n",
       "        text-align: right;\n",
       "    }\n",
       "</style>\n",
       "<table border=\"1\" class=\"dataframe\">\n",
       "  <thead>\n",
       "    <tr style=\"text-align: right;\">\n",
       "      <th></th>\n",
       "      <th>A</th>\n",
       "      <th>B</th>\n",
       "      <th>C</th>\n",
       "    </tr>\n",
       "  </thead>\n",
       "  <tbody>\n",
       "    <tr>\n",
       "      <th>ali</th>\n",
       "      <td>inf</td>\n",
       "      <td>1.00</td>\n",
       "      <td>0.5</td>\n",
       "    </tr>\n",
       "    <tr>\n",
       "      <th>efe</th>\n",
       "      <td>0.333333</td>\n",
       "      <td>0.25</td>\n",
       "      <td>0.2</td>\n",
       "    </tr>\n",
       "  </tbody>\n",
       "</table>\n",
       "</div>"
      ],
      "text/plain": [
       "            A     B    C\n",
       "ali       inf  1.00  0.5\n",
       "efe  0.333333  0.25  0.2"
      ]
     },
     "execution_count": 1393,
     "metadata": {},
     "output_type": "execute_result"
    }
   ],
   "source": [
    "1 / df11 # elemanların çarpmaya göre tersini almış oluruz. "
   ]
  },
  {
   "cell_type": "code",
   "execution_count": 1394,
   "id": "3ef24129-c8ac-410c-8c29-6c252f6b39ad",
   "metadata": {
    "tags": []
   },
   "outputs": [
    {
     "data": {
      "text/html": [
       "<div>\n",
       "<style scoped>\n",
       "    .dataframe tbody tr th:only-of-type {\n",
       "        vertical-align: middle;\n",
       "    }\n",
       "\n",
       "    .dataframe tbody tr th {\n",
       "        vertical-align: top;\n",
       "    }\n",
       "\n",
       "    .dataframe thead th {\n",
       "        text-align: right;\n",
       "    }\n",
       "</style>\n",
       "<table border=\"1\" class=\"dataframe\">\n",
       "  <thead>\n",
       "    <tr style=\"text-align: right;\">\n",
       "      <th></th>\n",
       "      <th>A</th>\n",
       "      <th>B</th>\n",
       "      <th>C</th>\n",
       "    </tr>\n",
       "  </thead>\n",
       "  <tbody>\n",
       "    <tr>\n",
       "      <th>ali</th>\n",
       "      <td>0</td>\n",
       "      <td>3</td>\n",
       "      <td>6</td>\n",
       "    </tr>\n",
       "    <tr>\n",
       "      <th>efe</th>\n",
       "      <td>9</td>\n",
       "      <td>12</td>\n",
       "      <td>15</td>\n",
       "    </tr>\n",
       "  </tbody>\n",
       "</table>\n",
       "</div>"
      ],
      "text/plain": [
       "     A   B   C\n",
       "ali  0   3   6\n",
       "efe  9  12  15"
      ]
     },
     "execution_count": 1394,
     "metadata": {},
     "output_type": "execute_result"
    }
   ],
   "source": [
    "df11 * 3 #tüm elemanlar 3 ile çarpılmış olur.\n",
    "# df11.mul(3) yapabilirdik."
   ]
  },
  {
   "cell_type": "code",
   "execution_count": 1395,
   "id": "45f86363-4056-4fa4-b2cf-24e00195482f",
   "metadata": {
    "tags": []
   },
   "outputs": [
    {
     "data": {
      "text/html": [
       "<div>\n",
       "<style scoped>\n",
       "    .dataframe tbody tr th:only-of-type {\n",
       "        vertical-align: middle;\n",
       "    }\n",
       "\n",
       "    .dataframe tbody tr th {\n",
       "        vertical-align: top;\n",
       "    }\n",
       "\n",
       "    .dataframe thead th {\n",
       "        text-align: right;\n",
       "    }\n",
       "</style>\n",
       "<table border=\"1\" class=\"dataframe\">\n",
       "  <thead>\n",
       "    <tr style=\"text-align: right;\">\n",
       "      <th></th>\n",
       "      <th>A</th>\n",
       "      <th>B</th>\n",
       "      <th>D</th>\n",
       "    </tr>\n",
       "  </thead>\n",
       "  <tbody>\n",
       "    <tr>\n",
       "      <th>ali</th>\n",
       "      <td>-3</td>\n",
       "      <td>-3</td>\n",
       "      <td>-3</td>\n",
       "    </tr>\n",
       "    <tr>\n",
       "      <th>can</th>\n",
       "      <td>0</td>\n",
       "      <td>0</td>\n",
       "      <td>0</td>\n",
       "    </tr>\n",
       "    <tr>\n",
       "      <th>efe</th>\n",
       "      <td>3</td>\n",
       "      <td>3</td>\n",
       "      <td>3</td>\n",
       "    </tr>\n",
       "  </tbody>\n",
       "</table>\n",
       "</div>"
      ],
      "text/plain": [
       "     A  B  D\n",
       "ali -3 -3 -3\n",
       "can  0  0  0\n",
       "efe  3  3  3"
      ]
     },
     "execution_count": 1395,
     "metadata": {},
     "output_type": "execute_result"
    }
   ],
   "source": [
    "s = df22.iloc[1]\n",
    "df22 - s # indexleri eşleşenler arasında çıkarma işlemi oldu.  indexler eşlenmeze eşleşmeyenlere NaN veri yazılı. "
   ]
  },
  {
   "cell_type": "code",
   "execution_count": 1396,
   "id": "ebd452a6-25c1-4e7c-8bf2-540a5bcb95d6",
   "metadata": {
    "tags": []
   },
   "outputs": [
    {
     "data": {
      "text/html": [
       "<div>\n",
       "<style scoped>\n",
       "    .dataframe tbody tr th:only-of-type {\n",
       "        vertical-align: middle;\n",
       "    }\n",
       "\n",
       "    .dataframe tbody tr th {\n",
       "        vertical-align: top;\n",
       "    }\n",
       "\n",
       "    .dataframe thead th {\n",
       "        text-align: right;\n",
       "    }\n",
       "</style>\n",
       "<table border=\"1\" class=\"dataframe\">\n",
       "  <thead>\n",
       "    <tr style=\"text-align: right;\">\n",
       "      <th></th>\n",
       "      <th>A</th>\n",
       "      <th>B</th>\n",
       "      <th>D</th>\n",
       "    </tr>\n",
       "  </thead>\n",
       "  <tbody>\n",
       "    <tr>\n",
       "      <th>ali</th>\n",
       "      <td>0</td>\n",
       "      <td>1</td>\n",
       "      <td>2</td>\n",
       "    </tr>\n",
       "    <tr>\n",
       "      <th>can</th>\n",
       "      <td>0</td>\n",
       "      <td>1</td>\n",
       "      <td>2</td>\n",
       "    </tr>\n",
       "    <tr>\n",
       "      <th>efe</th>\n",
       "      <td>0</td>\n",
       "      <td>1</td>\n",
       "      <td>2</td>\n",
       "    </tr>\n",
       "  </tbody>\n",
       "</table>\n",
       "</div>"
      ],
      "text/plain": [
       "     A  B  D\n",
       "ali  0  1  2\n",
       "can  0  1  2\n",
       "efe  0  1  2"
      ]
     },
     "execution_count": 1396,
     "metadata": {},
     "output_type": "execute_result"
    }
   ],
   "source": [
    "s2 = df22[\"A\"]\n",
    "df22.sub(s2,axis = 0)  # sutunlar arasında indexe göre çıkarma işlemi oldu.\n",
    "# numpy fonksiyonları pandas ile entegre çalışır."
   ]
  },
  {
   "cell_type": "markdown",
   "id": "f3339c8e-d207-4af2-a946-56b31a7bd71b",
   "metadata": {},
   "source": [
    "### BİR FONKSİYONU UYGULAMAK"
   ]
  },
  {
   "cell_type": "code",
   "execution_count": 1397,
   "id": "0dddd6a3-8489-439a-a2da-58257f113202",
   "metadata": {
    "tags": []
   },
   "outputs": [
    {
     "data": {
      "text/html": [
       "<div>\n",
       "<style scoped>\n",
       "    .dataframe tbody tr th:only-of-type {\n",
       "        vertical-align: middle;\n",
       "    }\n",
       "\n",
       "    .dataframe tbody tr th {\n",
       "        vertical-align: top;\n",
       "    }\n",
       "\n",
       "    .dataframe thead th {\n",
       "        text-align: right;\n",
       "    }\n",
       "</style>\n",
       "<table border=\"1\" class=\"dataframe\">\n",
       "  <thead>\n",
       "    <tr style=\"text-align: right;\">\n",
       "      <th></th>\n",
       "      <th>A</th>\n",
       "      <th>B</th>\n",
       "      <th>C</th>\n",
       "    </tr>\n",
       "  </thead>\n",
       "  <tbody>\n",
       "    <tr>\n",
       "      <th>ali</th>\n",
       "      <td>-1.083047</td>\n",
       "      <td>0.051941</td>\n",
       "      <td>0.604689</td>\n",
       "    </tr>\n",
       "    <tr>\n",
       "      <th>berk</th>\n",
       "      <td>-0.712049</td>\n",
       "      <td>1.243930</td>\n",
       "      <td>-1.975291</td>\n",
       "    </tr>\n",
       "    <tr>\n",
       "      <th>can</th>\n",
       "      <td>-1.580285</td>\n",
       "      <td>-1.499795</td>\n",
       "      <td>0.543256</td>\n",
       "    </tr>\n",
       "    <tr>\n",
       "      <th>efe</th>\n",
       "      <td>1.422318</td>\n",
       "      <td>-1.425323</td>\n",
       "      <td>-0.127654</td>\n",
       "    </tr>\n",
       "  </tbody>\n",
       "</table>\n",
       "</div>"
      ],
      "text/plain": [
       "             A         B         C\n",
       "ali  -1.083047  0.051941  0.604689\n",
       "berk -0.712049  1.243930 -1.975291\n",
       "can  -1.580285 -1.499795  0.543256\n",
       "efe   1.422318 -1.425323 -0.127654"
      ]
     },
     "execution_count": 1397,
     "metadata": {},
     "output_type": "execute_result"
    }
   ],
   "source": [
    "vs = pd.DataFrame(np.random.randn(4,3),columns=list(\"ABC\"),index = [\"ali\",\"berk\",\"can\",\"efe\"])\n",
    "vs\n"
   ]
  },
  {
   "cell_type": "code",
   "execution_count": 1398,
   "id": "412d08d4-ed26-41f3-9664-c9391c81f671",
   "metadata": {
    "tags": []
   },
   "outputs": [
    {
     "data": {
      "text/html": [
       "<div>\n",
       "<style scoped>\n",
       "    .dataframe tbody tr th:only-of-type {\n",
       "        vertical-align: middle;\n",
       "    }\n",
       "\n",
       "    .dataframe tbody tr th {\n",
       "        vertical-align: top;\n",
       "    }\n",
       "\n",
       "    .dataframe thead th {\n",
       "        text-align: right;\n",
       "    }\n",
       "</style>\n",
       "<table border=\"1\" class=\"dataframe\">\n",
       "  <thead>\n",
       "    <tr style=\"text-align: right;\">\n",
       "      <th></th>\n",
       "      <th>A</th>\n",
       "      <th>B</th>\n",
       "      <th>C</th>\n",
       "    </tr>\n",
       "  </thead>\n",
       "  <tbody>\n",
       "    <tr>\n",
       "      <th>ali</th>\n",
       "      <td>1.083047</td>\n",
       "      <td>0.051941</td>\n",
       "      <td>0.604689</td>\n",
       "    </tr>\n",
       "    <tr>\n",
       "      <th>berk</th>\n",
       "      <td>0.712049</td>\n",
       "      <td>1.243930</td>\n",
       "      <td>1.975291</td>\n",
       "    </tr>\n",
       "    <tr>\n",
       "      <th>can</th>\n",
       "      <td>1.580285</td>\n",
       "      <td>1.499795</td>\n",
       "      <td>0.543256</td>\n",
       "    </tr>\n",
       "    <tr>\n",
       "      <th>efe</th>\n",
       "      <td>1.422318</td>\n",
       "      <td>1.425323</td>\n",
       "      <td>0.127654</td>\n",
       "    </tr>\n",
       "  </tbody>\n",
       "</table>\n",
       "</div>"
      ],
      "text/plain": [
       "             A         B         C\n",
       "ali   1.083047  0.051941  0.604689\n",
       "berk  0.712049  1.243930  1.975291\n",
       "can   1.580285  1.499795  0.543256\n",
       "efe   1.422318  1.425323  0.127654"
      ]
     },
     "execution_count": 1398,
     "metadata": {},
     "output_type": "execute_result"
    }
   ],
   "source": [
    "np.abs(vs) # bir numpy metotu olan abs'yi kullanabiliriz.   tüm değerlerin mutlak değerini alır."
   ]
  },
  {
   "cell_type": "code",
   "execution_count": 1399,
   "id": "38e4bc23-b9f8-4ee1-8eb1-9b4c7f564274",
   "metadata": {
    "tags": []
   },
   "outputs": [],
   "source": [
    "f = lambda x:x.max() - x.min()"
   ]
  },
  {
   "cell_type": "code",
   "execution_count": 1400,
   "id": "65974a7a-aa8c-4922-b7d7-ff206935c8db",
   "metadata": {
    "tags": []
   },
   "outputs": [
    {
     "data": {
      "text/plain": [
       "A    3.002603\n",
       "B    2.743726\n",
       "C    2.579981\n",
       "dtype: float64"
      ]
     },
     "execution_count": 1400,
     "metadata": {},
     "output_type": "execute_result"
    }
   ],
   "source": [
    "vs.apply(f) # .apply()  ile bir DataFrame'ye fonksiyon uygulatabiliriz.\n",
    "# bir seri döner bunun nedeni her sutunda farklı işlem olacak. her sutundaki en büyükle en küçükğün değeri bulunacak.\n",
    "# eğer satırlardaki işlem olsun isterseydik. vs.apply(f,axis = 1) yapardık. satırlarda tek tek olurdu işlem ve bir seri elde ederdik."
   ]
  },
  {
   "cell_type": "markdown",
   "id": "33b36705-921e-411b-b023-24c2e6af72f9",
   "metadata": {},
   "source": [
    "## SIRALAMA"
   ]
  },
  {
   "cell_type": "code",
   "execution_count": 1401,
   "id": "6f5c5c87-ec20-4ba1-9cde-59f09c129872",
   "metadata": {
    "tags": []
   },
   "outputs": [
    {
     "data": {
      "text/plain": [
       "e    0\n",
       "d    1\n",
       "a    2\n",
       "b    3\n",
       "c    4\n",
       "dtype: int64"
      ]
     },
     "execution_count": 1401,
     "metadata": {},
     "output_type": "execute_result"
    }
   ],
   "source": [
    "s = pd.Series(range(5),index=[\"e\",\"d\",\"a\",\"b\",\"c\"])\n",
    "s"
   ]
  },
  {
   "cell_type": "code",
   "execution_count": 1402,
   "id": "513d1308-eacd-47af-a56f-f7304165c4f3",
   "metadata": {
    "tags": []
   },
   "outputs": [
    {
     "data": {
      "text/plain": [
       "a    2\n",
       "b    3\n",
       "c    4\n",
       "d    1\n",
       "e    0\n",
       "dtype: int64"
      ]
     },
     "execution_count": 1402,
     "metadata": {},
     "output_type": "execute_result"
    }
   ],
   "source": [
    "s.sort_index() # indexe göre sıralama yaptı...  a b c ... olarak sıraladı."
   ]
  },
  {
   "cell_type": "code",
   "execution_count": 1403,
   "id": "cb82d104-e0a6-4025-b990-96a670cdf8fd",
   "metadata": {
    "tags": []
   },
   "outputs": [
    {
     "data": {
      "text/html": [
       "<div>\n",
       "<style scoped>\n",
       "    .dataframe tbody tr th:only-of-type {\n",
       "        vertical-align: middle;\n",
       "    }\n",
       "\n",
       "    .dataframe tbody tr th {\n",
       "        vertical-align: top;\n",
       "    }\n",
       "\n",
       "    .dataframe thead th {\n",
       "        text-align: right;\n",
       "    }\n",
       "</style>\n",
       "<table border=\"1\" class=\"dataframe\">\n",
       "  <thead>\n",
       "    <tr style=\"text-align: right;\">\n",
       "      <th></th>\n",
       "      <th>d</th>\n",
       "      <th>a</th>\n",
       "      <th>b</th>\n",
       "      <th>c</th>\n",
       "    </tr>\n",
       "  </thead>\n",
       "  <tbody>\n",
       "    <tr>\n",
       "      <th>iki</th>\n",
       "      <td>0</td>\n",
       "      <td>1</td>\n",
       "      <td>2</td>\n",
       "      <td>3</td>\n",
       "    </tr>\n",
       "    <tr>\n",
       "      <th>bir</th>\n",
       "      <td>4</td>\n",
       "      <td>5</td>\n",
       "      <td>6</td>\n",
       "      <td>7</td>\n",
       "    </tr>\n",
       "    <tr>\n",
       "      <th>uc</th>\n",
       "      <td>8</td>\n",
       "      <td>9</td>\n",
       "      <td>10</td>\n",
       "      <td>11</td>\n",
       "    </tr>\n",
       "  </tbody>\n",
       "</table>\n",
       "</div>"
      ],
      "text/plain": [
       "     d  a   b   c\n",
       "iki  0  1   2   3\n",
       "bir  4  5   6   7\n",
       "uc   8  9  10  11"
      ]
     },
     "execution_count": 1403,
     "metadata": {},
     "output_type": "execute_result"
    }
   ],
   "source": [
    "df = pd.DataFrame(np.arange(12).reshape(3,4),index=[\"iki\",\"bir\",\"uc\"],columns=[\"d\",\"a\",\"b\",\"c\"])\n",
    "df"
   ]
  },
  {
   "cell_type": "code",
   "execution_count": 1404,
   "id": "7659d65e-a9a2-4a9d-99dc-c5a74d807490",
   "metadata": {
    "tags": []
   },
   "outputs": [
    {
     "data": {
      "text/html": [
       "<div>\n",
       "<style scoped>\n",
       "    .dataframe tbody tr th:only-of-type {\n",
       "        vertical-align: middle;\n",
       "    }\n",
       "\n",
       "    .dataframe tbody tr th {\n",
       "        vertical-align: top;\n",
       "    }\n",
       "\n",
       "    .dataframe thead th {\n",
       "        text-align: right;\n",
       "    }\n",
       "</style>\n",
       "<table border=\"1\" class=\"dataframe\">\n",
       "  <thead>\n",
       "    <tr style=\"text-align: right;\">\n",
       "      <th></th>\n",
       "      <th>d</th>\n",
       "      <th>a</th>\n",
       "      <th>b</th>\n",
       "      <th>c</th>\n",
       "    </tr>\n",
       "  </thead>\n",
       "  <tbody>\n",
       "    <tr>\n",
       "      <th>bir</th>\n",
       "      <td>4</td>\n",
       "      <td>5</td>\n",
       "      <td>6</td>\n",
       "      <td>7</td>\n",
       "    </tr>\n",
       "    <tr>\n",
       "      <th>iki</th>\n",
       "      <td>0</td>\n",
       "      <td>1</td>\n",
       "      <td>2</td>\n",
       "      <td>3</td>\n",
       "    </tr>\n",
       "    <tr>\n",
       "      <th>uc</th>\n",
       "      <td>8</td>\n",
       "      <td>9</td>\n",
       "      <td>10</td>\n",
       "      <td>11</td>\n",
       "    </tr>\n",
       "  </tbody>\n",
       "</table>\n",
       "</div>"
      ],
      "text/plain": [
       "     d  a   b   c\n",
       "bir  4  5   6   7\n",
       "iki  0  1   2   3\n",
       "uc   8  9  10  11"
      ]
     },
     "execution_count": 1404,
     "metadata": {},
     "output_type": "execute_result"
    }
   ],
   "source": [
    "df.sort_index() # axis = 0 olur default olarak. eğer axis = 1 yaparsak o zaman sutunlar sıralanır.  default olarak küçükten büyüğe sıralama olur ama istersek ascending = False ise büyükten küçüğe sıralama yapabiliriz."
   ]
  },
  {
   "cell_type": "code",
   "execution_count": 1405,
   "id": "0ae38a0a-d16d-44b9-bb76-61dace636355",
   "metadata": {
    "tags": []
   },
   "outputs": [
    {
     "data": {
      "text/plain": [
       "0    5\n",
       "1    3\n",
       "2   -1\n",
       "3    9\n",
       "dtype: int64"
      ]
     },
     "execution_count": 1405,
     "metadata": {},
     "output_type": "execute_result"
    }
   ],
   "source": [
    "s2 = pd.Series([5,3,-1,9])\n",
    "s2"
   ]
  },
  {
   "cell_type": "code",
   "execution_count": 1406,
   "id": "387811f0-695b-4363-8280-c22e5875afda",
   "metadata": {
    "tags": []
   },
   "outputs": [
    {
     "data": {
      "text/plain": [
       "2   -1\n",
       "1    3\n",
       "0    5\n",
       "3    9\n",
       "dtype: int64"
      ]
     },
     "execution_count": 1406,
     "metadata": {},
     "output_type": "execute_result"
    }
   ],
   "source": [
    "s2.sort_values() # eksik veriler en sona atılır. ve veriye göre sıralama yapar."
   ]
  },
  {
   "cell_type": "code",
   "execution_count": 1407,
   "id": "db7814d5-6f88-4cfa-9682-fe6a4df02082",
   "metadata": {
    "tags": []
   },
   "outputs": [
    {
     "data": {
      "text/html": [
       "<div>\n",
       "<style scoped>\n",
       "    .dataframe tbody tr th:only-of-type {\n",
       "        vertical-align: middle;\n",
       "    }\n",
       "\n",
       "    .dataframe tbody tr th {\n",
       "        vertical-align: top;\n",
       "    }\n",
       "\n",
       "    .dataframe thead th {\n",
       "        text-align: right;\n",
       "    }\n",
       "</style>\n",
       "<table border=\"1\" class=\"dataframe\">\n",
       "  <thead>\n",
       "    <tr style=\"text-align: right;\">\n",
       "      <th></th>\n",
       "      <th>a</th>\n",
       "      <th>b</th>\n",
       "    </tr>\n",
       "  </thead>\n",
       "  <tbody>\n",
       "    <tr>\n",
       "      <th>0</th>\n",
       "      <td>5</td>\n",
       "      <td>1</td>\n",
       "    </tr>\n",
       "    <tr>\n",
       "      <th>1</th>\n",
       "      <td>3</td>\n",
       "      <td>-2</td>\n",
       "    </tr>\n",
       "    <tr>\n",
       "      <th>2</th>\n",
       "      <td>-1</td>\n",
       "      <td>0</td>\n",
       "    </tr>\n",
       "    <tr>\n",
       "      <th>3</th>\n",
       "      <td>9</td>\n",
       "      <td>5</td>\n",
       "    </tr>\n",
       "  </tbody>\n",
       "</table>\n",
       "</div>"
      ],
      "text/plain": [
       "   a  b\n",
       "0  5  1\n",
       "1  3 -2\n",
       "2 -1  0\n",
       "3  9  5"
      ]
     },
     "execution_count": 1407,
     "metadata": {},
     "output_type": "execute_result"
    }
   ],
   "source": [
    "df2 = pd.DataFrame({\"a\":[5,3,-1,9],\"b\":[1,-2,0,5]})\n",
    "df2"
   ]
  },
  {
   "cell_type": "code",
   "execution_count": 1408,
   "id": "455cb3c5-2b16-466d-b62f-5c15907182c5",
   "metadata": {
    "tags": []
   },
   "outputs": [
    {
     "data": {
      "text/html": [
       "<div>\n",
       "<style scoped>\n",
       "    .dataframe tbody tr th:only-of-type {\n",
       "        vertical-align: middle;\n",
       "    }\n",
       "\n",
       "    .dataframe tbody tr th {\n",
       "        vertical-align: top;\n",
       "    }\n",
       "\n",
       "    .dataframe thead th {\n",
       "        text-align: right;\n",
       "    }\n",
       "</style>\n",
       "<table border=\"1\" class=\"dataframe\">\n",
       "  <thead>\n",
       "    <tr style=\"text-align: right;\">\n",
       "      <th></th>\n",
       "      <th>a</th>\n",
       "      <th>b</th>\n",
       "    </tr>\n",
       "  </thead>\n",
       "  <tbody>\n",
       "    <tr>\n",
       "      <th>1</th>\n",
       "      <td>3</td>\n",
       "      <td>-2</td>\n",
       "    </tr>\n",
       "    <tr>\n",
       "      <th>2</th>\n",
       "      <td>-1</td>\n",
       "      <td>0</td>\n",
       "    </tr>\n",
       "    <tr>\n",
       "      <th>0</th>\n",
       "      <td>5</td>\n",
       "      <td>1</td>\n",
       "    </tr>\n",
       "    <tr>\n",
       "      <th>3</th>\n",
       "      <td>9</td>\n",
       "      <td>5</td>\n",
       "    </tr>\n",
       "  </tbody>\n",
       "</table>\n",
       "</div>"
      ],
      "text/plain": [
       "   a  b\n",
       "1  3 -2\n",
       "2 -1  0\n",
       "0  5  1\n",
       "3  9  5"
      ]
     },
     "execution_count": 1408,
     "metadata": {},
     "output_type": "execute_result"
    }
   ],
   "source": [
    "df2.sort_values(by = \"b\") # b sutunu için sıralanmıs oldu... birden fazla sutun için sıralama yapabiliriz.  by = [\"a\",\"b\",\"c\"...] olabilir sırası ile sıralama dikkate alınır.  by'a gönderilmeyen sıralanmaz..."
   ]
  },
  {
   "cell_type": "code",
   "execution_count": 1409,
   "id": "6d867be9-e5fb-45fe-9a5b-d6338227eb1e",
   "metadata": {
    "tags": []
   },
   "outputs": [
    {
     "data": {
      "text/html": [
       "<div>\n",
       "<style scoped>\n",
       "    .dataframe tbody tr th:only-of-type {\n",
       "        vertical-align: middle;\n",
       "    }\n",
       "\n",
       "    .dataframe tbody tr th {\n",
       "        vertical-align: top;\n",
       "    }\n",
       "\n",
       "    .dataframe thead th {\n",
       "        text-align: right;\n",
       "    }\n",
       "</style>\n",
       "<table border=\"1\" class=\"dataframe\">\n",
       "  <thead>\n",
       "    <tr style=\"text-align: right;\">\n",
       "      <th></th>\n",
       "      <th>Rank</th>\n",
       "      <th>Name</th>\n",
       "      <th>Platform</th>\n",
       "      <th>Year</th>\n",
       "      <th>Genre</th>\n",
       "      <th>Publisher</th>\n",
       "      <th>NA_Sales</th>\n",
       "      <th>EU_Sales</th>\n",
       "      <th>JP_Sales</th>\n",
       "      <th>Other_Sales</th>\n",
       "      <th>Global_Sales</th>\n",
       "    </tr>\n",
       "  </thead>\n",
       "  <tbody>\n",
       "    <tr>\n",
       "      <th>0</th>\n",
       "      <td>1</td>\n",
       "      <td>Wii Sports</td>\n",
       "      <td>Wii</td>\n",
       "      <td>2006.0</td>\n",
       "      <td>Sports</td>\n",
       "      <td>Nintendo</td>\n",
       "      <td>41.49</td>\n",
       "      <td>29.02</td>\n",
       "      <td>3.77</td>\n",
       "      <td>8.46</td>\n",
       "      <td>82.74</td>\n",
       "    </tr>\n",
       "    <tr>\n",
       "      <th>1</th>\n",
       "      <td>2</td>\n",
       "      <td>Super Mario Bros.</td>\n",
       "      <td>NES</td>\n",
       "      <td>1985.0</td>\n",
       "      <td>Platform</td>\n",
       "      <td>Nintendo</td>\n",
       "      <td>29.08</td>\n",
       "      <td>3.58</td>\n",
       "      <td>6.81</td>\n",
       "      <td>0.77</td>\n",
       "      <td>40.24</td>\n",
       "    </tr>\n",
       "    <tr>\n",
       "      <th>2</th>\n",
       "      <td>3</td>\n",
       "      <td>Mario Kart Wii</td>\n",
       "      <td>Wii</td>\n",
       "      <td>2008.0</td>\n",
       "      <td>Racing</td>\n",
       "      <td>Nintendo</td>\n",
       "      <td>15.85</td>\n",
       "      <td>12.88</td>\n",
       "      <td>3.79</td>\n",
       "      <td>3.31</td>\n",
       "      <td>35.82</td>\n",
       "    </tr>\n",
       "    <tr>\n",
       "      <th>3</th>\n",
       "      <td>4</td>\n",
       "      <td>Wii Sports Resort</td>\n",
       "      <td>Wii</td>\n",
       "      <td>2009.0</td>\n",
       "      <td>Sports</td>\n",
       "      <td>Nintendo</td>\n",
       "      <td>15.75</td>\n",
       "      <td>11.01</td>\n",
       "      <td>3.28</td>\n",
       "      <td>2.96</td>\n",
       "      <td>33.00</td>\n",
       "    </tr>\n",
       "    <tr>\n",
       "      <th>4</th>\n",
       "      <td>5</td>\n",
       "      <td>Pokemon Red/Pokemon Blue</td>\n",
       "      <td>GB</td>\n",
       "      <td>1996.0</td>\n",
       "      <td>Role-Playing</td>\n",
       "      <td>Nintendo</td>\n",
       "      <td>11.27</td>\n",
       "      <td>8.89</td>\n",
       "      <td>10.22</td>\n",
       "      <td>1.00</td>\n",
       "      <td>31.37</td>\n",
       "    </tr>\n",
       "  </tbody>\n",
       "</table>\n",
       "</div>"
      ],
      "text/plain": [
       "   Rank                      Name Platform    Year         Genre Publisher  \\\n",
       "0     1                Wii Sports      Wii  2006.0        Sports  Nintendo   \n",
       "1     2         Super Mario Bros.      NES  1985.0      Platform  Nintendo   \n",
       "2     3            Mario Kart Wii      Wii  2008.0        Racing  Nintendo   \n",
       "3     4         Wii Sports Resort      Wii  2009.0        Sports  Nintendo   \n",
       "4     5  Pokemon Red/Pokemon Blue       GB  1996.0  Role-Playing  Nintendo   \n",
       "\n",
       "   NA_Sales  EU_Sales  JP_Sales  Other_Sales  Global_Sales  \n",
       "0     41.49     29.02      3.77         8.46         82.74  \n",
       "1     29.08      3.58      6.81         0.77         40.24  \n",
       "2     15.85     12.88      3.79         3.31         35.82  \n",
       "3     15.75     11.01      3.28         2.96         33.00  \n",
       "4     11.27      8.89     10.22         1.00         31.37  "
      ]
     },
     "execution_count": 1409,
     "metadata": {},
     "output_type": "execute_result"
    }
   ],
   "source": [
    "veri = pd.read_csv(\"vgsalesGlobale.csv\")\n",
    "veri.head()"
   ]
  },
  {
   "cell_type": "code",
   "execution_count": 1410,
   "id": "fd938374-6372-41a2-8eb1-43bb3d52f190",
   "metadata": {
    "tags": []
   },
   "outputs": [
    {
     "data": {
      "text/plain": [
       "4754                                 '98 Koshien\n",
       "8357                  .hack//G.U. Vol.1//Rebirth\n",
       "7107                .hack//G.U. Vol.2//Reminisce\n",
       "8602     .hack//G.U. Vol.2//Reminisce (jp sales)\n",
       "8304               .hack//G.U. Vol.3//Redemption\n",
       "                          ...                   \n",
       "627                                 uDraw Studio\n",
       "7835                uDraw Studio: Instant Artist\n",
       "15523               uDraw Studio: Instant Artist\n",
       "470                   wwe Smackdown vs. Raw 2006\n",
       "9135                ¡Shin Chan Flipa en colores!\n",
       "Name: Name, Length: 16598, dtype: object"
      ]
     },
     "execution_count": 1410,
     "metadata": {},
     "output_type": "execute_result"
    }
   ],
   "source": [
    "veri[\"Name\"].sort_values() # tek bir sutun aldık bu bir seridir."
   ]
  },
  {
   "cell_type": "code",
   "execution_count": 1411,
   "id": "ff53aba6-8716-4c1b-a09a-18b103e88d8f",
   "metadata": {
    "tags": []
   },
   "outputs": [
    {
     "data": {
      "text/html": [
       "<div>\n",
       "<style scoped>\n",
       "    .dataframe tbody tr th:only-of-type {\n",
       "        vertical-align: middle;\n",
       "    }\n",
       "\n",
       "    .dataframe tbody tr th {\n",
       "        vertical-align: top;\n",
       "    }\n",
       "\n",
       "    .dataframe thead th {\n",
       "        text-align: right;\n",
       "    }\n",
       "</style>\n",
       "<table border=\"1\" class=\"dataframe\">\n",
       "  <thead>\n",
       "    <tr style=\"text-align: right;\">\n",
       "      <th></th>\n",
       "      <th>Rank</th>\n",
       "      <th>Name</th>\n",
       "      <th>Platform</th>\n",
       "      <th>Year</th>\n",
       "      <th>Genre</th>\n",
       "      <th>Publisher</th>\n",
       "      <th>NA_Sales</th>\n",
       "      <th>EU_Sales</th>\n",
       "      <th>JP_Sales</th>\n",
       "      <th>Other_Sales</th>\n",
       "      <th>Global_Sales</th>\n",
       "    </tr>\n",
       "  </thead>\n",
       "  <tbody>\n",
       "    <tr>\n",
       "      <th>4754</th>\n",
       "      <td>4756</td>\n",
       "      <td>'98 Koshien</td>\n",
       "      <td>PS</td>\n",
       "      <td>1998.0</td>\n",
       "      <td>Sports</td>\n",
       "      <td>Magical Company</td>\n",
       "      <td>0.15</td>\n",
       "      <td>0.10</td>\n",
       "      <td>0.12</td>\n",
       "      <td>0.03</td>\n",
       "      <td>0.41</td>\n",
       "    </tr>\n",
       "    <tr>\n",
       "      <th>8357</th>\n",
       "      <td>8359</td>\n",
       "      <td>.hack//G.U. Vol.1//Rebirth</td>\n",
       "      <td>PS2</td>\n",
       "      <td>2006.0</td>\n",
       "      <td>Role-Playing</td>\n",
       "      <td>Namco Bandai Games</td>\n",
       "      <td>0.00</td>\n",
       "      <td>0.00</td>\n",
       "      <td>0.17</td>\n",
       "      <td>0.00</td>\n",
       "      <td>0.17</td>\n",
       "    </tr>\n",
       "    <tr>\n",
       "      <th>7107</th>\n",
       "      <td>7109</td>\n",
       "      <td>.hack//G.U. Vol.2//Reminisce</td>\n",
       "      <td>PS2</td>\n",
       "      <td>2006.0</td>\n",
       "      <td>Role-Playing</td>\n",
       "      <td>Namco Bandai Games</td>\n",
       "      <td>0.11</td>\n",
       "      <td>0.09</td>\n",
       "      <td>0.00</td>\n",
       "      <td>0.03</td>\n",
       "      <td>0.23</td>\n",
       "    </tr>\n",
       "    <tr>\n",
       "      <th>8602</th>\n",
       "      <td>8604</td>\n",
       "      <td>.hack//G.U. Vol.2//Reminisce (jp sales)</td>\n",
       "      <td>PS2</td>\n",
       "      <td>2006.0</td>\n",
       "      <td>Role-Playing</td>\n",
       "      <td>Namco Bandai Games</td>\n",
       "      <td>0.00</td>\n",
       "      <td>0.00</td>\n",
       "      <td>0.16</td>\n",
       "      <td>0.00</td>\n",
       "      <td>0.16</td>\n",
       "    </tr>\n",
       "    <tr>\n",
       "      <th>8304</th>\n",
       "      <td>8306</td>\n",
       "      <td>.hack//G.U. Vol.3//Redemption</td>\n",
       "      <td>PS2</td>\n",
       "      <td>2007.0</td>\n",
       "      <td>Role-Playing</td>\n",
       "      <td>Namco Bandai Games</td>\n",
       "      <td>0.00</td>\n",
       "      <td>0.00</td>\n",
       "      <td>0.17</td>\n",
       "      <td>0.00</td>\n",
       "      <td>0.17</td>\n",
       "    </tr>\n",
       "    <tr>\n",
       "      <th>...</th>\n",
       "      <td>...</td>\n",
       "      <td>...</td>\n",
       "      <td>...</td>\n",
       "      <td>...</td>\n",
       "      <td>...</td>\n",
       "      <td>...</td>\n",
       "      <td>...</td>\n",
       "      <td>...</td>\n",
       "      <td>...</td>\n",
       "      <td>...</td>\n",
       "      <td>...</td>\n",
       "    </tr>\n",
       "    <tr>\n",
       "      <th>627</th>\n",
       "      <td>628</td>\n",
       "      <td>uDraw Studio</td>\n",
       "      <td>Wii</td>\n",
       "      <td>2010.0</td>\n",
       "      <td>Misc</td>\n",
       "      <td>THQ</td>\n",
       "      <td>1.67</td>\n",
       "      <td>0.58</td>\n",
       "      <td>0.00</td>\n",
       "      <td>0.20</td>\n",
       "      <td>2.46</td>\n",
       "    </tr>\n",
       "    <tr>\n",
       "      <th>7835</th>\n",
       "      <td>7837</td>\n",
       "      <td>uDraw Studio: Instant Artist</td>\n",
       "      <td>Wii</td>\n",
       "      <td>2011.0</td>\n",
       "      <td>Misc</td>\n",
       "      <td>THQ</td>\n",
       "      <td>0.08</td>\n",
       "      <td>0.09</td>\n",
       "      <td>0.00</td>\n",
       "      <td>0.02</td>\n",
       "      <td>0.19</td>\n",
       "    </tr>\n",
       "    <tr>\n",
       "      <th>15523</th>\n",
       "      <td>15526</td>\n",
       "      <td>uDraw Studio: Instant Artist</td>\n",
       "      <td>X360</td>\n",
       "      <td>2011.0</td>\n",
       "      <td>Misc</td>\n",
       "      <td>THQ</td>\n",
       "      <td>0.01</td>\n",
       "      <td>0.01</td>\n",
       "      <td>0.00</td>\n",
       "      <td>0.00</td>\n",
       "      <td>0.02</td>\n",
       "    </tr>\n",
       "    <tr>\n",
       "      <th>470</th>\n",
       "      <td>471</td>\n",
       "      <td>wwe Smackdown vs. Raw 2006</td>\n",
       "      <td>PS2</td>\n",
       "      <td>NaN</td>\n",
       "      <td>Fighting</td>\n",
       "      <td>NaN</td>\n",
       "      <td>1.57</td>\n",
       "      <td>1.02</td>\n",
       "      <td>0.00</td>\n",
       "      <td>0.41</td>\n",
       "      <td>3.00</td>\n",
       "    </tr>\n",
       "    <tr>\n",
       "      <th>9135</th>\n",
       "      <td>9137</td>\n",
       "      <td>¡Shin Chan Flipa en colores!</td>\n",
       "      <td>DS</td>\n",
       "      <td>2007.0</td>\n",
       "      <td>Platform</td>\n",
       "      <td>505 Games</td>\n",
       "      <td>0.00</td>\n",
       "      <td>0.00</td>\n",
       "      <td>0.14</td>\n",
       "      <td>0.00</td>\n",
       "      <td>0.14</td>\n",
       "    </tr>\n",
       "  </tbody>\n",
       "</table>\n",
       "<p>16598 rows × 11 columns</p>\n",
       "</div>"
      ],
      "text/plain": [
       "        Rank                                     Name Platform    Year  \\\n",
       "4754    4756                              '98 Koshien       PS  1998.0   \n",
       "8357    8359               .hack//G.U. Vol.1//Rebirth      PS2  2006.0   \n",
       "7107    7109             .hack//G.U. Vol.2//Reminisce      PS2  2006.0   \n",
       "8602    8604  .hack//G.U. Vol.2//Reminisce (jp sales)      PS2  2006.0   \n",
       "8304    8306            .hack//G.U. Vol.3//Redemption      PS2  2007.0   \n",
       "...      ...                                      ...      ...     ...   \n",
       "627      628                             uDraw Studio      Wii  2010.0   \n",
       "7835    7837             uDraw Studio: Instant Artist      Wii  2011.0   \n",
       "15523  15526             uDraw Studio: Instant Artist     X360  2011.0   \n",
       "470      471               wwe Smackdown vs. Raw 2006      PS2     NaN   \n",
       "9135    9137             ¡Shin Chan Flipa en colores!       DS  2007.0   \n",
       "\n",
       "              Genre           Publisher  NA_Sales  EU_Sales  JP_Sales  \\\n",
       "4754         Sports     Magical Company      0.15      0.10      0.12   \n",
       "8357   Role-Playing  Namco Bandai Games      0.00      0.00      0.17   \n",
       "7107   Role-Playing  Namco Bandai Games      0.11      0.09      0.00   \n",
       "8602   Role-Playing  Namco Bandai Games      0.00      0.00      0.16   \n",
       "8304   Role-Playing  Namco Bandai Games      0.00      0.00      0.17   \n",
       "...             ...                 ...       ...       ...       ...   \n",
       "627            Misc                 THQ      1.67      0.58      0.00   \n",
       "7835           Misc                 THQ      0.08      0.09      0.00   \n",
       "15523          Misc                 THQ      0.01      0.01      0.00   \n",
       "470        Fighting                 NaN      1.57      1.02      0.00   \n",
       "9135       Platform           505 Games      0.00      0.00      0.14   \n",
       "\n",
       "       Other_Sales  Global_Sales  \n",
       "4754          0.03          0.41  \n",
       "8357          0.00          0.17  \n",
       "7107          0.03          0.23  \n",
       "8602          0.00          0.16  \n",
       "8304          0.00          0.17  \n",
       "...            ...           ...  \n",
       "627           0.20          2.46  \n",
       "7835          0.02          0.19  \n",
       "15523         0.00          0.02  \n",
       "470           0.41          3.00  \n",
       "9135          0.00          0.14  \n",
       "\n",
       "[16598 rows x 11 columns]"
      ]
     },
     "execution_count": 1411,
     "metadata": {},
     "output_type": "execute_result"
    }
   ],
   "source": [
    "veri.sort_values(\"Name\") # isme göre sıraladı ve tek tek tüm satırları getirdi. satırlar Name'deki verilere göre sıralandı."
   ]
  },
  {
   "cell_type": "code",
   "execution_count": 1412,
   "id": "f74c6340-4ca7-4f87-9767-fc60960997b6",
   "metadata": {
    "tags": []
   },
   "outputs": [
    {
     "data": {
      "text/html": [
       "<div>\n",
       "<style scoped>\n",
       "    .dataframe tbody tr th:only-of-type {\n",
       "        vertical-align: middle;\n",
       "    }\n",
       "\n",
       "    .dataframe tbody tr th {\n",
       "        vertical-align: top;\n",
       "    }\n",
       "\n",
       "    .dataframe thead th {\n",
       "        text-align: right;\n",
       "    }\n",
       "</style>\n",
       "<table border=\"1\" class=\"dataframe\">\n",
       "  <thead>\n",
       "    <tr style=\"text-align: right;\">\n",
       "      <th></th>\n",
       "      <th>Rank</th>\n",
       "      <th>Name</th>\n",
       "      <th>Platform</th>\n",
       "      <th>Year</th>\n",
       "      <th>Genre</th>\n",
       "      <th>Publisher</th>\n",
       "      <th>NA_Sales</th>\n",
       "      <th>EU_Sales</th>\n",
       "      <th>JP_Sales</th>\n",
       "      <th>Other_Sales</th>\n",
       "      <th>Global_Sales</th>\n",
       "    </tr>\n",
       "  </thead>\n",
       "  <tbody>\n",
       "    <tr>\n",
       "      <th>6896</th>\n",
       "      <td>6898</td>\n",
       "      <td>Checkers</td>\n",
       "      <td>2600</td>\n",
       "      <td>1980.0</td>\n",
       "      <td>Misc</td>\n",
       "      <td>Atari</td>\n",
       "      <td>0.22</td>\n",
       "      <td>0.01</td>\n",
       "      <td>0.0</td>\n",
       "      <td>0.00</td>\n",
       "      <td>0.24</td>\n",
       "    </tr>\n",
       "    <tr>\n",
       "      <th>2669</th>\n",
       "      <td>2671</td>\n",
       "      <td>Boxing</td>\n",
       "      <td>2600</td>\n",
       "      <td>1980.0</td>\n",
       "      <td>Fighting</td>\n",
       "      <td>Activision</td>\n",
       "      <td>0.72</td>\n",
       "      <td>0.04</td>\n",
       "      <td>0.0</td>\n",
       "      <td>0.01</td>\n",
       "      <td>0.77</td>\n",
       "    </tr>\n",
       "    <tr>\n",
       "      <th>5366</th>\n",
       "      <td>5368</td>\n",
       "      <td>Freeway</td>\n",
       "      <td>2600</td>\n",
       "      <td>1980.0</td>\n",
       "      <td>Action</td>\n",
       "      <td>Activision</td>\n",
       "      <td>0.32</td>\n",
       "      <td>0.02</td>\n",
       "      <td>0.0</td>\n",
       "      <td>0.00</td>\n",
       "      <td>0.34</td>\n",
       "    </tr>\n",
       "    <tr>\n",
       "      <th>1969</th>\n",
       "      <td>1971</td>\n",
       "      <td>Defender</td>\n",
       "      <td>2600</td>\n",
       "      <td>1980.0</td>\n",
       "      <td>Misc</td>\n",
       "      <td>Atari</td>\n",
       "      <td>0.99</td>\n",
       "      <td>0.05</td>\n",
       "      <td>0.0</td>\n",
       "      <td>0.01</td>\n",
       "      <td>1.05</td>\n",
       "    </tr>\n",
       "    <tr>\n",
       "      <th>1766</th>\n",
       "      <td>1768</td>\n",
       "      <td>Kaboom!</td>\n",
       "      <td>2600</td>\n",
       "      <td>1980.0</td>\n",
       "      <td>Misc</td>\n",
       "      <td>Activision</td>\n",
       "      <td>1.07</td>\n",
       "      <td>0.07</td>\n",
       "      <td>0.0</td>\n",
       "      <td>0.01</td>\n",
       "      <td>1.15</td>\n",
       "    </tr>\n",
       "    <tr>\n",
       "      <th>...</th>\n",
       "      <td>...</td>\n",
       "      <td>...</td>\n",
       "      <td>...</td>\n",
       "      <td>...</td>\n",
       "      <td>...</td>\n",
       "      <td>...</td>\n",
       "      <td>...</td>\n",
       "      <td>...</td>\n",
       "      <td>...</td>\n",
       "      <td>...</td>\n",
       "      <td>...</td>\n",
       "    </tr>\n",
       "    <tr>\n",
       "      <th>16307</th>\n",
       "      <td>16310</td>\n",
       "      <td>Freaky Flyers</td>\n",
       "      <td>GC</td>\n",
       "      <td>NaN</td>\n",
       "      <td>Racing</td>\n",
       "      <td>Unknown</td>\n",
       "      <td>0.01</td>\n",
       "      <td>0.00</td>\n",
       "      <td>0.0</td>\n",
       "      <td>0.00</td>\n",
       "      <td>0.01</td>\n",
       "    </tr>\n",
       "    <tr>\n",
       "      <th>16327</th>\n",
       "      <td>16330</td>\n",
       "      <td>Inversion</td>\n",
       "      <td>PC</td>\n",
       "      <td>NaN</td>\n",
       "      <td>Shooter</td>\n",
       "      <td>Namco Bandai Games</td>\n",
       "      <td>0.01</td>\n",
       "      <td>0.00</td>\n",
       "      <td>0.0</td>\n",
       "      <td>0.00</td>\n",
       "      <td>0.01</td>\n",
       "    </tr>\n",
       "    <tr>\n",
       "      <th>16366</th>\n",
       "      <td>16369</td>\n",
       "      <td>Hakuouki: Shinsengumi Kitan</td>\n",
       "      <td>PS3</td>\n",
       "      <td>NaN</td>\n",
       "      <td>Adventure</td>\n",
       "      <td>Unknown</td>\n",
       "      <td>0.01</td>\n",
       "      <td>0.00</td>\n",
       "      <td>0.0</td>\n",
       "      <td>0.00</td>\n",
       "      <td>0.01</td>\n",
       "    </tr>\n",
       "    <tr>\n",
       "      <th>16427</th>\n",
       "      <td>16430</td>\n",
       "      <td>Virtua Quest</td>\n",
       "      <td>GC</td>\n",
       "      <td>NaN</td>\n",
       "      <td>Role-Playing</td>\n",
       "      <td>Unknown</td>\n",
       "      <td>0.01</td>\n",
       "      <td>0.00</td>\n",
       "      <td>0.0</td>\n",
       "      <td>0.00</td>\n",
       "      <td>0.01</td>\n",
       "    </tr>\n",
       "    <tr>\n",
       "      <th>16493</th>\n",
       "      <td>16496</td>\n",
       "      <td>The Smurfs</td>\n",
       "      <td>3DS</td>\n",
       "      <td>NaN</td>\n",
       "      <td>Action</td>\n",
       "      <td>Unknown</td>\n",
       "      <td>0.00</td>\n",
       "      <td>0.01</td>\n",
       "      <td>0.0</td>\n",
       "      <td>0.00</td>\n",
       "      <td>0.01</td>\n",
       "    </tr>\n",
       "  </tbody>\n",
       "</table>\n",
       "<p>16598 rows × 11 columns</p>\n",
       "</div>"
      ],
      "text/plain": [
       "        Rank                         Name Platform    Year         Genre  \\\n",
       "6896    6898                     Checkers     2600  1980.0          Misc   \n",
       "2669    2671                       Boxing     2600  1980.0      Fighting   \n",
       "5366    5368                      Freeway     2600  1980.0        Action   \n",
       "1969    1971                     Defender     2600  1980.0          Misc   \n",
       "1766    1768                      Kaboom!     2600  1980.0          Misc   \n",
       "...      ...                          ...      ...     ...           ...   \n",
       "16307  16310                Freaky Flyers       GC     NaN        Racing   \n",
       "16327  16330                    Inversion       PC     NaN       Shooter   \n",
       "16366  16369  Hakuouki: Shinsengumi Kitan      PS3     NaN     Adventure   \n",
       "16427  16430                 Virtua Quest       GC     NaN  Role-Playing   \n",
       "16493  16496                   The Smurfs      3DS     NaN        Action   \n",
       "\n",
       "                Publisher  NA_Sales  EU_Sales  JP_Sales  Other_Sales  \\\n",
       "6896                Atari      0.22      0.01       0.0         0.00   \n",
       "2669           Activision      0.72      0.04       0.0         0.01   \n",
       "5366           Activision      0.32      0.02       0.0         0.00   \n",
       "1969                Atari      0.99      0.05       0.0         0.01   \n",
       "1766           Activision      1.07      0.07       0.0         0.01   \n",
       "...                   ...       ...       ...       ...          ...   \n",
       "16307             Unknown      0.01      0.00       0.0         0.00   \n",
       "16327  Namco Bandai Games      0.01      0.00       0.0         0.00   \n",
       "16366             Unknown      0.01      0.00       0.0         0.00   \n",
       "16427             Unknown      0.01      0.00       0.0         0.00   \n",
       "16493             Unknown      0.00      0.01       0.0         0.00   \n",
       "\n",
       "       Global_Sales  \n",
       "6896           0.24  \n",
       "2669           0.77  \n",
       "5366           0.34  \n",
       "1969           1.05  \n",
       "1766           1.15  \n",
       "...             ...  \n",
       "16307          0.01  \n",
       "16327          0.01  \n",
       "16366          0.01  \n",
       "16427          0.01  \n",
       "16493          0.01  \n",
       "\n",
       "[16598 rows x 11 columns]"
      ]
     },
     "execution_count": 1412,
     "metadata": {},
     "output_type": "execute_result"
    }
   ],
   "source": [
    "veri.sort_values(\"Year\") # yıla göre sıralama yaptık."
   ]
  },
  {
   "cell_type": "code",
   "execution_count": 1413,
   "id": "e37d7e2c-be35-4cec-ad8e-650048f3eb1e",
   "metadata": {
    "tags": []
   },
   "outputs": [
    {
     "data": {
      "text/html": [
       "<div>\n",
       "<style scoped>\n",
       "    .dataframe tbody tr th:only-of-type {\n",
       "        vertical-align: middle;\n",
       "    }\n",
       "\n",
       "    .dataframe tbody tr th {\n",
       "        vertical-align: top;\n",
       "    }\n",
       "\n",
       "    .dataframe thead th {\n",
       "        text-align: right;\n",
       "    }\n",
       "</style>\n",
       "<table border=\"1\" class=\"dataframe\">\n",
       "  <thead>\n",
       "    <tr style=\"text-align: right;\">\n",
       "      <th></th>\n",
       "      <th>Rank</th>\n",
       "      <th>Name</th>\n",
       "      <th>Platform</th>\n",
       "      <th>Year</th>\n",
       "      <th>Genre</th>\n",
       "      <th>Publisher</th>\n",
       "      <th>NA_Sales</th>\n",
       "      <th>EU_Sales</th>\n",
       "      <th>JP_Sales</th>\n",
       "      <th>Other_Sales</th>\n",
       "      <th>Global_Sales</th>\n",
       "    </tr>\n",
       "  </thead>\n",
       "  <tbody>\n",
       "    <tr>\n",
       "      <th>258</th>\n",
       "      <td>259</td>\n",
       "      <td>Asteroids</td>\n",
       "      <td>2600</td>\n",
       "      <td>1980.0</td>\n",
       "      <td>Shooter</td>\n",
       "      <td>Atari</td>\n",
       "      <td>4.00</td>\n",
       "      <td>0.26</td>\n",
       "      <td>0.00</td>\n",
       "      <td>0.05</td>\n",
       "      <td>4.31</td>\n",
       "    </tr>\n",
       "    <tr>\n",
       "      <th>2669</th>\n",
       "      <td>2671</td>\n",
       "      <td>Boxing</td>\n",
       "      <td>2600</td>\n",
       "      <td>1980.0</td>\n",
       "      <td>Fighting</td>\n",
       "      <td>Activision</td>\n",
       "      <td>0.72</td>\n",
       "      <td>0.04</td>\n",
       "      <td>0.00</td>\n",
       "      <td>0.01</td>\n",
       "      <td>0.77</td>\n",
       "    </tr>\n",
       "    <tr>\n",
       "      <th>6317</th>\n",
       "      <td>6319</td>\n",
       "      <td>Bridge</td>\n",
       "      <td>2600</td>\n",
       "      <td>1980.0</td>\n",
       "      <td>Misc</td>\n",
       "      <td>Activision</td>\n",
       "      <td>0.25</td>\n",
       "      <td>0.02</td>\n",
       "      <td>0.00</td>\n",
       "      <td>0.00</td>\n",
       "      <td>0.27</td>\n",
       "    </tr>\n",
       "    <tr>\n",
       "      <th>6896</th>\n",
       "      <td>6898</td>\n",
       "      <td>Checkers</td>\n",
       "      <td>2600</td>\n",
       "      <td>1980.0</td>\n",
       "      <td>Misc</td>\n",
       "      <td>Atari</td>\n",
       "      <td>0.22</td>\n",
       "      <td>0.01</td>\n",
       "      <td>0.00</td>\n",
       "      <td>0.00</td>\n",
       "      <td>0.24</td>\n",
       "    </tr>\n",
       "    <tr>\n",
       "      <th>1969</th>\n",
       "      <td>1971</td>\n",
       "      <td>Defender</td>\n",
       "      <td>2600</td>\n",
       "      <td>1980.0</td>\n",
       "      <td>Misc</td>\n",
       "      <td>Atari</td>\n",
       "      <td>0.99</td>\n",
       "      <td>0.05</td>\n",
       "      <td>0.00</td>\n",
       "      <td>0.01</td>\n",
       "      <td>1.05</td>\n",
       "    </tr>\n",
       "    <tr>\n",
       "      <th>...</th>\n",
       "      <td>...</td>\n",
       "      <td>...</td>\n",
       "      <td>...</td>\n",
       "      <td>...</td>\n",
       "      <td>...</td>\n",
       "      <td>...</td>\n",
       "      <td>...</td>\n",
       "      <td>...</td>\n",
       "      <td>...</td>\n",
       "      <td>...</td>\n",
       "      <td>...</td>\n",
       "    </tr>\n",
       "    <tr>\n",
       "      <th>7351</th>\n",
       "      <td>7353</td>\n",
       "      <td>Yu Yu Hakusho: Dark Tournament</td>\n",
       "      <td>PS2</td>\n",
       "      <td>NaN</td>\n",
       "      <td>Fighting</td>\n",
       "      <td>NaN</td>\n",
       "      <td>0.10</td>\n",
       "      <td>0.08</td>\n",
       "      <td>0.00</td>\n",
       "      <td>0.03</td>\n",
       "      <td>0.21</td>\n",
       "    </tr>\n",
       "    <tr>\n",
       "      <th>15476</th>\n",
       "      <td>15479</td>\n",
       "      <td>Yu-Gi-Oh! 5D's Wheelie Breakers (JP sales)</td>\n",
       "      <td>Wii</td>\n",
       "      <td>NaN</td>\n",
       "      <td>Racing</td>\n",
       "      <td>Unknown</td>\n",
       "      <td>0.00</td>\n",
       "      <td>0.00</td>\n",
       "      <td>0.02</td>\n",
       "      <td>0.00</td>\n",
       "      <td>0.02</td>\n",
       "    </tr>\n",
       "    <tr>\n",
       "      <th>11409</th>\n",
       "      <td>11411</td>\n",
       "      <td>Zero: Tsukihami no Kamen</td>\n",
       "      <td>Wii</td>\n",
       "      <td>NaN</td>\n",
       "      <td>Action</td>\n",
       "      <td>Nintendo</td>\n",
       "      <td>0.00</td>\n",
       "      <td>0.00</td>\n",
       "      <td>0.08</td>\n",
       "      <td>0.00</td>\n",
       "      <td>0.08</td>\n",
       "    </tr>\n",
       "    <tr>\n",
       "      <th>8899</th>\n",
       "      <td>8901</td>\n",
       "      <td>eJay Clubworld</td>\n",
       "      <td>PS2</td>\n",
       "      <td>NaN</td>\n",
       "      <td>Misc</td>\n",
       "      <td>Empire Interactive</td>\n",
       "      <td>0.07</td>\n",
       "      <td>0.06</td>\n",
       "      <td>0.00</td>\n",
       "      <td>0.02</td>\n",
       "      <td>0.15</td>\n",
       "    </tr>\n",
       "    <tr>\n",
       "      <th>470</th>\n",
       "      <td>471</td>\n",
       "      <td>wwe Smackdown vs. Raw 2006</td>\n",
       "      <td>PS2</td>\n",
       "      <td>NaN</td>\n",
       "      <td>Fighting</td>\n",
       "      <td>NaN</td>\n",
       "      <td>1.57</td>\n",
       "      <td>1.02</td>\n",
       "      <td>0.00</td>\n",
       "      <td>0.41</td>\n",
       "      <td>3.00</td>\n",
       "    </tr>\n",
       "  </tbody>\n",
       "</table>\n",
       "<p>16598 rows × 11 columns</p>\n",
       "</div>"
      ],
      "text/plain": [
       "        Rank                                        Name Platform    Year  \\\n",
       "258      259                                   Asteroids     2600  1980.0   \n",
       "2669    2671                                      Boxing     2600  1980.0   \n",
       "6317    6319                                      Bridge     2600  1980.0   \n",
       "6896    6898                                    Checkers     2600  1980.0   \n",
       "1969    1971                                    Defender     2600  1980.0   \n",
       "...      ...                                         ...      ...     ...   \n",
       "7351    7353              Yu Yu Hakusho: Dark Tournament      PS2     NaN   \n",
       "15476  15479  Yu-Gi-Oh! 5D's Wheelie Breakers (JP sales)      Wii     NaN   \n",
       "11409  11411                    Zero: Tsukihami no Kamen      Wii     NaN   \n",
       "8899    8901                              eJay Clubworld      PS2     NaN   \n",
       "470      471                  wwe Smackdown vs. Raw 2006      PS2     NaN   \n",
       "\n",
       "          Genre           Publisher  NA_Sales  EU_Sales  JP_Sales  \\\n",
       "258     Shooter               Atari      4.00      0.26      0.00   \n",
       "2669   Fighting          Activision      0.72      0.04      0.00   \n",
       "6317       Misc          Activision      0.25      0.02      0.00   \n",
       "6896       Misc               Atari      0.22      0.01      0.00   \n",
       "1969       Misc               Atari      0.99      0.05      0.00   \n",
       "...         ...                 ...       ...       ...       ...   \n",
       "7351   Fighting                 NaN      0.10      0.08      0.00   \n",
       "15476    Racing             Unknown      0.00      0.00      0.02   \n",
       "11409    Action            Nintendo      0.00      0.00      0.08   \n",
       "8899       Misc  Empire Interactive      0.07      0.06      0.00   \n",
       "470    Fighting                 NaN      1.57      1.02      0.00   \n",
       "\n",
       "       Other_Sales  Global_Sales  \n",
       "258           0.05          4.31  \n",
       "2669          0.01          0.77  \n",
       "6317          0.00          0.27  \n",
       "6896          0.00          0.24  \n",
       "1969          0.01          1.05  \n",
       "...            ...           ...  \n",
       "7351          0.03          0.21  \n",
       "15476         0.00          0.02  \n",
       "11409         0.00          0.08  \n",
       "8899          0.02          0.15  \n",
       "470           0.41          3.00  \n",
       "\n",
       "[16598 rows x 11 columns]"
      ]
     },
     "execution_count": 1413,
     "metadata": {},
     "output_type": "execute_result"
    }
   ],
   "source": [
    "veri.sort_values([\"Year\",\"Name\"]) # iki tane parametreye göre sıralar.  önce yıla göre sırlama yaptı. sonra aynı yılda olanlara ise isme göre sıralama yaptı yani sıralama önceliği belirleriz."
   ]
  },
  {
   "cell_type": "markdown",
   "id": "379317ba-b6f3-4c96-98b3-846753629de9",
   "metadata": {},
   "source": [
    "## VERİYİ ÖZETLEME"
   ]
  },
  {
   "cell_type": "code",
   "execution_count": 1414,
   "id": "34c70760-c0e9-47cf-81aa-cc010de29b46",
   "metadata": {
    "tags": []
   },
   "outputs": [
    {
     "data": {
      "text/html": [
       "<div>\n",
       "<style scoped>\n",
       "    .dataframe tbody tr th:only-of-type {\n",
       "        vertical-align: middle;\n",
       "    }\n",
       "\n",
       "    .dataframe tbody tr th {\n",
       "        vertical-align: top;\n",
       "    }\n",
       "\n",
       "    .dataframe thead th {\n",
       "        text-align: right;\n",
       "    }\n",
       "</style>\n",
       "<table border=\"1\" class=\"dataframe\">\n",
       "  <thead>\n",
       "    <tr style=\"text-align: right;\">\n",
       "      <th></th>\n",
       "      <th>bir</th>\n",
       "      <th>iki</th>\n",
       "    </tr>\n",
       "  </thead>\n",
       "  <tbody>\n",
       "    <tr>\n",
       "      <th>a</th>\n",
       "      <td>2.40</td>\n",
       "      <td>NaN</td>\n",
       "    </tr>\n",
       "    <tr>\n",
       "      <th>b</th>\n",
       "      <td>6.30</td>\n",
       "      <td>-5.3</td>\n",
       "    </tr>\n",
       "    <tr>\n",
       "      <th>c</th>\n",
       "      <td>NaN</td>\n",
       "      <td>NaN</td>\n",
       "    </tr>\n",
       "    <tr>\n",
       "      <th>d</th>\n",
       "      <td>0.75</td>\n",
       "      <td>-1.3</td>\n",
       "    </tr>\n",
       "  </tbody>\n",
       "</table>\n",
       "</div>"
      ],
      "text/plain": [
       "    bir  iki\n",
       "a  2.40  NaN\n",
       "b  6.30 -5.3\n",
       "c   NaN  NaN\n",
       "d  0.75 -1.3"
      ]
     },
     "execution_count": 1414,
     "metadata": {},
     "output_type": "execute_result"
    }
   ],
   "source": [
    "df = pd.DataFrame([[2.4,np.NaN],[6.3,-5.3],[np.NaN,np.NaN],[0.75,-1.3]],index=[\"a\",\"b\",\"c\",\"d\"],columns=[\"bir\",\"iki\"])\n",
    "df"
   ]
  },
  {
   "cell_type": "code",
   "execution_count": 1415,
   "id": "f2a19ada-e1c0-4eb7-9192-785e29745b70",
   "metadata": {
    "tags": []
   },
   "outputs": [
    {
     "data": {
      "text/plain": [
       "bir    9.45\n",
       "iki   -6.60\n",
       "dtype: float64"
      ]
     },
     "execution_count": 1415,
     "metadata": {},
     "output_type": "execute_result"
    }
   ],
   "source": [
    "df.sum() # default  olarak axis = 0 sutunlardaki satırların toplamlarını verir."
   ]
  },
  {
   "cell_type": "code",
   "execution_count": 1416,
   "id": "0d217af0-770f-461b-8181-26ce87034859",
   "metadata": {
    "tags": []
   },
   "outputs": [
    {
     "data": {
      "text/plain": [
       "a    2.40\n",
       "b    1.00\n",
       "c    0.00\n",
       "d   -0.55\n",
       "dtype: float64"
      ]
     },
     "execution_count": 1416,
     "metadata": {},
     "output_type": "execute_result"
    }
   ],
   "source": [
    "df.sum(axis = 1) # satır satır sutunların toplamını buluruz.  # "
   ]
  },
  {
   "cell_type": "code",
   "execution_count": 1417,
   "id": "ff40fcf9-2ce0-4a7b-bd68-ecc9b0e101e4",
   "metadata": {
    "tags": []
   },
   "outputs": [
    {
     "data": {
      "text/plain": [
       "a    2.400\n",
       "b    0.500\n",
       "c      NaN\n",
       "d   -0.275\n",
       "dtype: float64"
      ]
     },
     "execution_count": 1417,
     "metadata": {},
     "output_type": "execute_result"
    }
   ],
   "source": [
    "df.mean(axis = 1) # satırların ortalaması. eksik veriler ön tanımlı olarak ortalamaya dahil edilmedi."
   ]
  },
  {
   "cell_type": "code",
   "execution_count": 1418,
   "id": "4adcd045-718b-4002-982c-86d3aa2cc24f",
   "metadata": {
    "tags": []
   },
   "outputs": [
    {
     "data": {
      "text/plain": [
       "a      NaN\n",
       "b    0.500\n",
       "c      NaN\n",
       "d   -0.275\n",
       "dtype: float64"
      ]
     },
     "execution_count": 1418,
     "metadata": {},
     "output_type": "execute_result"
    }
   ],
   "source": [
    "df.mean(axis = 1,skipna=False) # içerisinde NaN olanın ortalamasını hesaplamadı parametre yüzünden."
   ]
  },
  {
   "cell_type": "code",
   "execution_count": 1419,
   "id": "661d90aa-4e8c-4a13-a916-c955865aeda9",
   "metadata": {
    "tags": []
   },
   "outputs": [
    {
     "data": {
      "text/plain": [
       "bir    b\n",
       "iki    d\n",
       "dtype: object"
      ]
     },
     "execution_count": 1419,
     "metadata": {},
     "output_type": "execute_result"
    }
   ],
   "source": [
    "df.idxmax() # sutunlara göre en fazla olanların satırları."
   ]
  },
  {
   "cell_type": "code",
   "execution_count": 1420,
   "id": "dba35e95-4494-454f-8581-a4c5d5289143",
   "metadata": {
    "tags": []
   },
   "outputs": [
    {
     "data": {
      "text/plain": [
       "bir    d\n",
       "iki    b\n",
       "dtype: object"
      ]
     },
     "execution_count": 1420,
     "metadata": {},
     "output_type": "execute_result"
    }
   ],
   "source": [
    "df.idxmin() # en küçüklerin satır değerleri."
   ]
  },
  {
   "cell_type": "code",
   "execution_count": 1421,
   "id": "33cd88c8-ecdb-476b-9191-21193c3bfc56",
   "metadata": {
    "tags": []
   },
   "outputs": [
    {
     "data": {
      "text/plain": [
       "a    bir\n",
       "b    bir\n",
       "c    NaN\n",
       "d    bir\n",
       "dtype: object"
      ]
     },
     "execution_count": 1421,
     "metadata": {},
     "output_type": "execute_result"
    }
   ],
   "source": [
    "df.idxmax(axis=1) # satırlara göre en fazla olanın sutun değerini alacağız."
   ]
  },
  {
   "cell_type": "code",
   "execution_count": 1422,
   "id": "e619fc35-d851-42a4-b8ef-b368bd14359e",
   "metadata": {
    "tags": []
   },
   "outputs": [
    {
     "data": {
      "text/html": [
       "<div>\n",
       "<style scoped>\n",
       "    .dataframe tbody tr th:only-of-type {\n",
       "        vertical-align: middle;\n",
       "    }\n",
       "\n",
       "    .dataframe tbody tr th {\n",
       "        vertical-align: top;\n",
       "    }\n",
       "\n",
       "    .dataframe thead th {\n",
       "        text-align: right;\n",
       "    }\n",
       "</style>\n",
       "<table border=\"1\" class=\"dataframe\">\n",
       "  <thead>\n",
       "    <tr style=\"text-align: right;\">\n",
       "      <th></th>\n",
       "      <th>bir</th>\n",
       "      <th>iki</th>\n",
       "    </tr>\n",
       "  </thead>\n",
       "  <tbody>\n",
       "    <tr>\n",
       "      <th>a</th>\n",
       "      <td>2.40</td>\n",
       "      <td>NaN</td>\n",
       "    </tr>\n",
       "    <tr>\n",
       "      <th>b</th>\n",
       "      <td>8.70</td>\n",
       "      <td>-5.3</td>\n",
       "    </tr>\n",
       "    <tr>\n",
       "      <th>c</th>\n",
       "      <td>NaN</td>\n",
       "      <td>NaN</td>\n",
       "    </tr>\n",
       "    <tr>\n",
       "      <th>d</th>\n",
       "      <td>9.45</td>\n",
       "      <td>-6.6</td>\n",
       "    </tr>\n",
       "  </tbody>\n",
       "</table>\n",
       "</div>"
      ],
      "text/plain": [
       "    bir  iki\n",
       "a  2.40  NaN\n",
       "b  8.70 -5.3\n",
       "c   NaN  NaN\n",
       "d  9.45 -6.6"
      ]
     },
     "execution_count": 1422,
     "metadata": {},
     "output_type": "execute_result"
    }
   ],
   "source": [
    "df.cumsum() # birikimli toplam. kümülatif toplam.  her sutundaki değerler sırayla toplanareak yazıldı. "
   ]
  },
  {
   "cell_type": "code",
   "execution_count": 1423,
   "id": "a1cc63a1-b248-4726-b109-5cac4d76781a",
   "metadata": {
    "tags": []
   },
   "outputs": [
    {
     "data": {
      "text/html": [
       "<div>\n",
       "<style scoped>\n",
       "    .dataframe tbody tr th:only-of-type {\n",
       "        vertical-align: middle;\n",
       "    }\n",
       "\n",
       "    .dataframe tbody tr th {\n",
       "        vertical-align: top;\n",
       "    }\n",
       "\n",
       "    .dataframe thead th {\n",
       "        text-align: right;\n",
       "    }\n",
       "</style>\n",
       "<table border=\"1\" class=\"dataframe\">\n",
       "  <thead>\n",
       "    <tr style=\"text-align: right;\">\n",
       "      <th></th>\n",
       "      <th>count</th>\n",
       "      <th>mean</th>\n",
       "      <th>std</th>\n",
       "      <th>min</th>\n",
       "      <th>25%</th>\n",
       "      <th>50%</th>\n",
       "      <th>75%</th>\n",
       "      <th>max</th>\n",
       "    </tr>\n",
       "  </thead>\n",
       "  <tbody>\n",
       "    <tr>\n",
       "      <th>bir</th>\n",
       "      <td>3.0</td>\n",
       "      <td>3.15</td>\n",
       "      <td>2.850000</td>\n",
       "      <td>0.75</td>\n",
       "      <td>1.575</td>\n",
       "      <td>2.4</td>\n",
       "      <td>4.35</td>\n",
       "      <td>6.3</td>\n",
       "    </tr>\n",
       "    <tr>\n",
       "      <th>iki</th>\n",
       "      <td>2.0</td>\n",
       "      <td>-3.30</td>\n",
       "      <td>2.828427</td>\n",
       "      <td>-5.30</td>\n",
       "      <td>-4.300</td>\n",
       "      <td>-3.3</td>\n",
       "      <td>-2.30</td>\n",
       "      <td>-1.3</td>\n",
       "    </tr>\n",
       "  </tbody>\n",
       "</table>\n",
       "</div>"
      ],
      "text/plain": [
       "     count  mean       std   min    25%  50%   75%  max\n",
       "bir    3.0  3.15  2.850000  0.75  1.575  2.4  4.35  6.3\n",
       "iki    2.0 -3.30  2.828427 -5.30 -4.300 -3.3 -2.30 -1.3"
      ]
     },
     "execution_count": 1423,
     "metadata": {},
     "output_type": "execute_result"
    }
   ],
   "source": [
    " df.describe().T # özet bilgileri verir."
   ]
  },
  {
   "cell_type": "code",
   "execution_count": 1424,
   "id": "f7a551f6-9048-484e-a01b-f6f8931f7a95",
   "metadata": {
    "tags": []
   },
   "outputs": [
    {
     "data": {
      "text/html": [
       "<div>\n",
       "<style scoped>\n",
       "    .dataframe tbody tr th:only-of-type {\n",
       "        vertical-align: middle;\n",
       "    }\n",
       "\n",
       "    .dataframe tbody tr th {\n",
       "        vertical-align: top;\n",
       "    }\n",
       "\n",
       "    .dataframe thead th {\n",
       "        text-align: right;\n",
       "    }\n",
       "</style>\n",
       "<table border=\"1\" class=\"dataframe\">\n",
       "  <thead>\n",
       "    <tr style=\"text-align: right;\">\n",
       "      <th></th>\n",
       "      <th>Canak_yaprak_boyu</th>\n",
       "      <th>Canak_yaprak_eni</th>\n",
       "      <th>Tac_yaprak_boyu</th>\n",
       "      <th>Tac_yaprak_eni</th>\n",
       "      <th>Turu</th>\n",
       "    </tr>\n",
       "  </thead>\n",
       "  <tbody>\n",
       "    <tr>\n",
       "      <th>0</th>\n",
       "      <td>5.1</td>\n",
       "      <td>3.5</td>\n",
       "      <td>1.4</td>\n",
       "      <td>0.2</td>\n",
       "      <td>setosa</td>\n",
       "    </tr>\n",
       "    <tr>\n",
       "      <th>1</th>\n",
       "      <td>4.9</td>\n",
       "      <td>3.0</td>\n",
       "      <td>1.4</td>\n",
       "      <td>0.2</td>\n",
       "      <td>setosa</td>\n",
       "    </tr>\n",
       "    <tr>\n",
       "      <th>2</th>\n",
       "      <td>4.7</td>\n",
       "      <td>3.2</td>\n",
       "      <td>1.3</td>\n",
       "      <td>0.2</td>\n",
       "      <td>setosa</td>\n",
       "    </tr>\n",
       "    <tr>\n",
       "      <th>3</th>\n",
       "      <td>4.6</td>\n",
       "      <td>3.1</td>\n",
       "      <td>1.5</td>\n",
       "      <td>0.2</td>\n",
       "      <td>setosa</td>\n",
       "    </tr>\n",
       "    <tr>\n",
       "      <th>4</th>\n",
       "      <td>5.0</td>\n",
       "      <td>3.6</td>\n",
       "      <td>1.4</td>\n",
       "      <td>0.2</td>\n",
       "      <td>setosa</td>\n",
       "    </tr>\n",
       "  </tbody>\n",
       "</table>\n",
       "</div>"
      ],
      "text/plain": [
       "   Canak_yaprak_boyu  Canak_yaprak_eni  Tac_yaprak_boyu  Tac_yaprak_eni  \\\n",
       "0                5.1               3.5              1.4             0.2   \n",
       "1                4.9               3.0              1.4             0.2   \n",
       "2                4.7               3.2              1.3             0.2   \n",
       "3                4.6               3.1              1.5             0.2   \n",
       "4                5.0               3.6              1.4             0.2   \n",
       "\n",
       "     Turu  \n",
       "0  setosa  \n",
       "1  setosa  \n",
       "2  setosa  \n",
       "3  setosa  \n",
       "4  setosa  "
      ]
     },
     "execution_count": 1424,
     "metadata": {},
     "output_type": "execute_result"
    }
   ],
   "source": [
    "# kolerasyon katsayısını bulmak için iris veri setini import edelim.\n",
    "iris = pd.read_table(\"iris.txt\") # txt veriyi read_table ile okuduk.\n",
    "iris.head()"
   ]
  },
  {
   "cell_type": "code",
   "execution_count": 1425,
   "id": "536e384f-685d-4c28-841b-5d03f0ff16fc",
   "metadata": {
    "tags": []
   },
   "outputs": [
    {
     "data": {
      "text/plain": [
       "0.9628654314027961"
      ]
     },
     "execution_count": 1425,
     "metadata": {},
     "output_type": "execute_result"
    }
   ],
   "source": [
    "iris[\"Tac_yaprak_boyu\"].corr(iris[\"Tac_yaprak_eni\"]) # aralarındaki kolerasyonu gösterir. 1 ile -1 arasında değer alır... 1'e yakınlaşmak demek aralarında müthiş bir ilişki var demektir."
   ]
  },
  {
   "cell_type": "code",
   "execution_count": 1426,
   "id": "21cd6d73-b7cb-4a46-9aed-1b0af565eb44",
   "metadata": {
    "tags": []
   },
   "outputs": [
    {
     "name": "stderr",
     "output_type": "stream",
     "text": [
      "C:\\Users\\emrea\\AppData\\Local\\Temp\\ipykernel_24860\\3223800284.py:1: FutureWarning: The default value of numeric_only in DataFrame.corr is deprecated. In a future version, it will default to False. Select only valid columns or specify the value of numeric_only to silence this warning.\n",
      "  iris.corr() # tüm değişkenlerın ikili kolerasyonları.\n"
     ]
    },
    {
     "data": {
      "text/html": [
       "<div>\n",
       "<style scoped>\n",
       "    .dataframe tbody tr th:only-of-type {\n",
       "        vertical-align: middle;\n",
       "    }\n",
       "\n",
       "    .dataframe tbody tr th {\n",
       "        vertical-align: top;\n",
       "    }\n",
       "\n",
       "    .dataframe thead th {\n",
       "        text-align: right;\n",
       "    }\n",
       "</style>\n",
       "<table border=\"1\" class=\"dataframe\">\n",
       "  <thead>\n",
       "    <tr style=\"text-align: right;\">\n",
       "      <th></th>\n",
       "      <th>Canak_yaprak_boyu</th>\n",
       "      <th>Canak_yaprak_eni</th>\n",
       "      <th>Tac_yaprak_boyu</th>\n",
       "      <th>Tac_yaprak_eni</th>\n",
       "    </tr>\n",
       "  </thead>\n",
       "  <tbody>\n",
       "    <tr>\n",
       "      <th>Canak_yaprak_boyu</th>\n",
       "      <td>1.000000</td>\n",
       "      <td>-0.117570</td>\n",
       "      <td>0.871754</td>\n",
       "      <td>0.817941</td>\n",
       "    </tr>\n",
       "    <tr>\n",
       "      <th>Canak_yaprak_eni</th>\n",
       "      <td>-0.117570</td>\n",
       "      <td>1.000000</td>\n",
       "      <td>-0.428440</td>\n",
       "      <td>-0.366126</td>\n",
       "    </tr>\n",
       "    <tr>\n",
       "      <th>Tac_yaprak_boyu</th>\n",
       "      <td>0.871754</td>\n",
       "      <td>-0.428440</td>\n",
       "      <td>1.000000</td>\n",
       "      <td>0.962865</td>\n",
       "    </tr>\n",
       "    <tr>\n",
       "      <th>Tac_yaprak_eni</th>\n",
       "      <td>0.817941</td>\n",
       "      <td>-0.366126</td>\n",
       "      <td>0.962865</td>\n",
       "      <td>1.000000</td>\n",
       "    </tr>\n",
       "  </tbody>\n",
       "</table>\n",
       "</div>"
      ],
      "text/plain": [
       "                   Canak_yaprak_boyu  Canak_yaprak_eni  Tac_yaprak_boyu  \\\n",
       "Canak_yaprak_boyu           1.000000         -0.117570         0.871754   \n",
       "Canak_yaprak_eni           -0.117570          1.000000        -0.428440   \n",
       "Tac_yaprak_boyu             0.871754         -0.428440         1.000000   \n",
       "Tac_yaprak_eni              0.817941         -0.366126         0.962865   \n",
       "\n",
       "                   Tac_yaprak_eni  \n",
       "Canak_yaprak_boyu        0.817941  \n",
       "Canak_yaprak_eni        -0.366126  \n",
       "Tac_yaprak_boyu          0.962865  \n",
       "Tac_yaprak_eni           1.000000  "
      ]
     },
     "execution_count": 1426,
     "metadata": {},
     "output_type": "execute_result"
    }
   ],
   "source": [
    "iris.corr() # tüm değişkenlerın ikili kolerasyonları."
   ]
  },
  {
   "cell_type": "code",
   "execution_count": 1427,
   "id": "141a727e-b4d6-4a50-9840-1721b897224f",
   "metadata": {
    "tags": []
   },
   "outputs": [
    {
     "name": "stderr",
     "output_type": "stream",
     "text": [
      "C:\\Users\\emrea\\AppData\\Local\\Temp\\ipykernel_24860\\3998374953.py:1: FutureWarning: The default value of numeric_only in DataFrame.cov is deprecated. In a future version, it will default to False. Select only valid columns or specify the value of numeric_only to silence this warning.\n",
      "  iris.cov() # ikili kovelans değerlerini getirir.\n"
     ]
    },
    {
     "data": {
      "text/html": [
       "<div>\n",
       "<style scoped>\n",
       "    .dataframe tbody tr th:only-of-type {\n",
       "        vertical-align: middle;\n",
       "    }\n",
       "\n",
       "    .dataframe tbody tr th {\n",
       "        vertical-align: top;\n",
       "    }\n",
       "\n",
       "    .dataframe thead th {\n",
       "        text-align: right;\n",
       "    }\n",
       "</style>\n",
       "<table border=\"1\" class=\"dataframe\">\n",
       "  <thead>\n",
       "    <tr style=\"text-align: right;\">\n",
       "      <th></th>\n",
       "      <th>Canak_yaprak_boyu</th>\n",
       "      <th>Canak_yaprak_eni</th>\n",
       "      <th>Tac_yaprak_boyu</th>\n",
       "      <th>Tac_yaprak_eni</th>\n",
       "    </tr>\n",
       "  </thead>\n",
       "  <tbody>\n",
       "    <tr>\n",
       "      <th>Canak_yaprak_boyu</th>\n",
       "      <td>0.685694</td>\n",
       "      <td>-0.042434</td>\n",
       "      <td>1.274315</td>\n",
       "      <td>0.516271</td>\n",
       "    </tr>\n",
       "    <tr>\n",
       "      <th>Canak_yaprak_eni</th>\n",
       "      <td>-0.042434</td>\n",
       "      <td>0.189979</td>\n",
       "      <td>-0.329656</td>\n",
       "      <td>-0.121639</td>\n",
       "    </tr>\n",
       "    <tr>\n",
       "      <th>Tac_yaprak_boyu</th>\n",
       "      <td>1.274315</td>\n",
       "      <td>-0.329656</td>\n",
       "      <td>3.116278</td>\n",
       "      <td>1.295609</td>\n",
       "    </tr>\n",
       "    <tr>\n",
       "      <th>Tac_yaprak_eni</th>\n",
       "      <td>0.516271</td>\n",
       "      <td>-0.121639</td>\n",
       "      <td>1.295609</td>\n",
       "      <td>0.581006</td>\n",
       "    </tr>\n",
       "  </tbody>\n",
       "</table>\n",
       "</div>"
      ],
      "text/plain": [
       "                   Canak_yaprak_boyu  Canak_yaprak_eni  Tac_yaprak_boyu  \\\n",
       "Canak_yaprak_boyu           0.685694         -0.042434         1.274315   \n",
       "Canak_yaprak_eni           -0.042434          0.189979        -0.329656   \n",
       "Tac_yaprak_boyu             1.274315         -0.329656         3.116278   \n",
       "Tac_yaprak_eni              0.516271         -0.121639         1.295609   \n",
       "\n",
       "                   Tac_yaprak_eni  \n",
       "Canak_yaprak_boyu        0.516271  \n",
       "Canak_yaprak_eni        -0.121639  \n",
       "Tac_yaprak_boyu          1.295609  \n",
       "Tac_yaprak_eni           0.581006  "
      ]
     },
     "execution_count": 1427,
     "metadata": {},
     "output_type": "execute_result"
    }
   ],
   "source": [
    "iris.cov() # ikili kovelans değerlerini getirir."
   ]
  },
  {
   "cell_type": "code",
   "execution_count": 1428,
   "id": "7bec5966-0396-4f8f-a965-f5070e57f49c",
   "metadata": {
    "tags": []
   },
   "outputs": [
    {
     "name": "stderr",
     "output_type": "stream",
     "text": [
      "C:\\Users\\emrea\\AppData\\Local\\Temp\\ipykernel_24860\\603744250.py:1: FutureWarning: The default value of numeric_only in DataFrame.corrwith is deprecated. In a future version, it will default to False. Select only valid columns or specify the value of numeric_only to silence this warning.\n",
      "  iris.corrwith(iris.Canak_yaprak_boyu) # Canakyaprakboyu ile değer değerleri ikili kolerasyonlarını gördük.\n"
     ]
    },
    {
     "data": {
      "text/plain": [
       "Canak_yaprak_boyu    1.000000\n",
       "Canak_yaprak_eni    -0.117570\n",
       "Tac_yaprak_boyu      0.871754\n",
       "Tac_yaprak_eni       0.817941\n",
       "dtype: float64"
      ]
     },
     "execution_count": 1428,
     "metadata": {},
     "output_type": "execute_result"
    }
   ],
   "source": [
    "iris.corrwith(iris.Canak_yaprak_boyu) # Canakyaprakboyu ile değer değerleri ikili kolerasyonlarını gördük."
   ]
  },
  {
   "cell_type": "code",
   "execution_count": 1429,
   "id": "71221caf-bbae-4871-95a7-6e63718f5d78",
   "metadata": {
    "tags": []
   },
   "outputs": [
    {
     "data": {
      "text/plain": [
       "0    b\n",
       "1    b\n",
       "2    b\n",
       "3    b\n",
       "4    c\n",
       "5    c\n",
       "6    a\n",
       "7    a\n",
       "8    a\n",
       "dtype: object"
      ]
     },
     "execution_count": 1429,
     "metadata": {},
     "output_type": "execute_result"
    }
   ],
   "source": [
    "s = pd.Series([\"b\",\"b\",\"b\",\"b\",\"c\",\"c\",\"a\",\"a\",\"a\"])\n",
    "s"
   ]
  },
  {
   "cell_type": "code",
   "execution_count": 1430,
   "id": "923725b6-80c6-40f9-b012-6dafbc86560d",
   "metadata": {
    "tags": []
   },
   "outputs": [
    {
     "data": {
      "text/plain": [
       "array(['b', 'c', 'a'], dtype=object)"
      ]
     },
     "execution_count": 1430,
     "metadata": {},
     "output_type": "execute_result"
    }
   ],
   "source": [
    "s.unique()"
   ]
  },
  {
   "cell_type": "code",
   "execution_count": 1431,
   "id": "9e2705bc-97ad-4835-806e-a1be59f139da",
   "metadata": {
    "tags": []
   },
   "outputs": [
    {
     "data": {
      "text/plain": [
       "b    4\n",
       "a    3\n",
       "c    2\n",
       "dtype: int64"
      ]
     },
     "execution_count": 1431,
     "metadata": {},
     "output_type": "execute_result"
    }
   ],
   "source": [
    "s.value_counts() # her değerin sıklığını görebiliriz."
   ]
  },
  {
   "cell_type": "code",
   "execution_count": 1432,
   "id": "3ff40f35-a1ec-450e-8d6d-af79782c1c59",
   "metadata": {
    "tags": []
   },
   "outputs": [
    {
     "data": {
      "text/plain": [
       "0     True\n",
       "1     True\n",
       "2     True\n",
       "3     True\n",
       "4     True\n",
       "5     True\n",
       "6    False\n",
       "7    False\n",
       "8    False\n",
       "dtype: bool"
      ]
     },
     "execution_count": 1432,
     "metadata": {},
     "output_type": "execute_result"
    }
   ],
   "source": [
    "x =  s.isin([\"b\",\"c\"]) # b ve c'nin olduklarına True olmadığına False verir\n",
    "x"
   ]
  },
  {
   "cell_type": "markdown",
   "id": "e0995649-09e0-49f4-ae64-b387ebe02d31",
   "metadata": {},
   "source": [
    "## VERİ OKUMA VE YAZMA"
   ]
  },
  {
   "cell_type": "code",
   "execution_count": 1433,
   "id": "83246b8a-ca3c-446e-bb2b-fce5453bac50",
   "metadata": {
    "tags": []
   },
   "outputs": [
    {
     "data": {
      "text/html": [
       "<div>\n",
       "<style scoped>\n",
       "    .dataframe tbody tr th:only-of-type {\n",
       "        vertical-align: middle;\n",
       "    }\n",
       "\n",
       "    .dataframe tbody tr th {\n",
       "        vertical-align: top;\n",
       "    }\n",
       "\n",
       "    .dataframe thead th {\n",
       "        text-align: right;\n",
       "    }\n",
       "</style>\n",
       "<table border=\"1\" class=\"dataframe\">\n",
       "  <thead>\n",
       "    <tr style=\"text-align: right;\">\n",
       "      <th></th>\n",
       "      <th>name</th>\n",
       "      <th>score</th>\n",
       "      <th>sex</th>\n",
       "    </tr>\n",
       "  </thead>\n",
       "  <tbody>\n",
       "    <tr>\n",
       "      <th>0</th>\n",
       "      <td>Tim</td>\n",
       "      <td>80</td>\n",
       "      <td>M</td>\n",
       "    </tr>\n",
       "    <tr>\n",
       "      <th>1</th>\n",
       "      <td>Tom</td>\n",
       "      <td>85</td>\n",
       "      <td>M</td>\n",
       "    </tr>\n",
       "    <tr>\n",
       "      <th>2</th>\n",
       "      <td>Kim</td>\n",
       "      <td>70</td>\n",
       "      <td>F</td>\n",
       "    </tr>\n",
       "    <tr>\n",
       "      <th>3</th>\n",
       "      <td>Sam</td>\n",
       "      <td>90</td>\n",
       "      <td>M</td>\n",
       "    </tr>\n",
       "    <tr>\n",
       "      <th>4</th>\n",
       "      <td>Efe</td>\n",
       "      <td>75</td>\n",
       "      <td>M</td>\n",
       "    </tr>\n",
       "  </tbody>\n",
       "</table>\n",
       "</div>"
      ],
      "text/plain": [
       "  name  score sex\n",
       "0  Tim     80   M\n",
       "1  Tom     85   M\n",
       "2  Kim     70   F\n",
       "3  Sam     90   M\n",
       "4  Efe     75   M"
      ]
     },
     "execution_count": 1433,
     "metadata": {},
     "output_type": "execute_result"
    }
   ],
   "source": [
    "# veriler virgül veya noktalı virgül ile ayrılmışsa .csv read_csv()  bir tab boşluk ile bölünmüşse o zaman read_table() ile okuruz. \n",
    "# sep = \",\"  dersek eğer o zaman virgüle göre böl demektir bu.   mesela   df = pd.read_table(\"data2.txt\",sep = \",\") yaparsak virgüle göre böleriz.\n",
    "df = pd.read_table(\"data.txt\")\n",
    "df"
   ]
  },
  {
   "cell_type": "code",
   "execution_count": 1434,
   "id": "1ebbeeec-17ea-48ee-81b1-ca1e08787ec4",
   "metadata": {
    "tags": []
   },
   "outputs": [
    {
     "data": {
      "text/html": [
       "<div>\n",
       "<style scoped>\n",
       "    .dataframe tbody tr th:only-of-type {\n",
       "        vertical-align: middle;\n",
       "    }\n",
       "\n",
       "    .dataframe tbody tr th {\n",
       "        vertical-align: top;\n",
       "    }\n",
       "\n",
       "    .dataframe thead th {\n",
       "        text-align: right;\n",
       "    }\n",
       "</style>\n",
       "<table border=\"1\" class=\"dataframe\">\n",
       "  <thead>\n",
       "    <tr style=\"text-align: right;\">\n",
       "      <th></th>\n",
       "      <th>puan</th>\n",
       "      <th>cinsiyet</th>\n",
       "    </tr>\n",
       "    <tr>\n",
       "      <th>isim</th>\n",
       "      <th></th>\n",
       "      <th></th>\n",
       "    </tr>\n",
       "  </thead>\n",
       "  <tbody>\n",
       "    <tr>\n",
       "      <th>Tom</th>\n",
       "      <td>80</td>\n",
       "      <td>M</td>\n",
       "    </tr>\n",
       "    <tr>\n",
       "      <th>Tim</th>\n",
       "      <td>85</td>\n",
       "      <td>M</td>\n",
       "    </tr>\n",
       "    <tr>\n",
       "      <th>Kim</th>\n",
       "      <td>70</td>\n",
       "      <td>M</td>\n",
       "    </tr>\n",
       "    <tr>\n",
       "      <th>Kate</th>\n",
       "      <td>90</td>\n",
       "      <td>F</td>\n",
       "    </tr>\n",
       "    <tr>\n",
       "      <th>Alex</th>\n",
       "      <td>75</td>\n",
       "      <td>F</td>\n",
       "    </tr>\n",
       "  </tbody>\n",
       "</table>\n",
       "</div>"
      ],
      "text/plain": [
       "      puan cinsiyet\n",
       "isim               \n",
       "Tom     80        M\n",
       "Tim     85        M\n",
       "Kim     70        M\n",
       "Kate    90        F\n",
       "Alex    75        F"
      ]
     },
     "execution_count": 1434,
     "metadata": {},
     "output_type": "execute_result"
    }
   ],
   "source": [
    "df1 = pd.read_table(\"data2.txt\",sep=\",\",names=[\"isim\",\"puan\",\"cinsiyet\"],index_col=[\"isim\"])  \n",
    "df1"
   ]
  },
  {
   "cell_type": "code",
   "execution_count": 1435,
   "id": "6fa3ba85-795c-4ecc-a4d7-457d58beeec5",
   "metadata": {
    "tags": []
   },
   "outputs": [
    {
     "data": {
      "text/html": [
       "<div>\n",
       "<style scoped>\n",
       "    .dataframe tbody tr th:only-of-type {\n",
       "        vertical-align: middle;\n",
       "    }\n",
       "\n",
       "    .dataframe tbody tr th {\n",
       "        vertical-align: top;\n",
       "    }\n",
       "\n",
       "    .dataframe thead th {\n",
       "        text-align: right;\n",
       "    }\n",
       "</style>\n",
       "<table border=\"1\" class=\"dataframe\">\n",
       "  <thead>\n",
       "    <tr style=\"text-align: right;\">\n",
       "      <th></th>\n",
       "      <th>lesson</th>\n",
       "      <th>name</th>\n",
       "      <th>one</th>\n",
       "      <th>two</th>\n",
       "    </tr>\n",
       "  </thead>\n",
       "  <tbody>\n",
       "    <tr>\n",
       "      <th>0</th>\n",
       "      <td>Math</td>\n",
       "      <td>Kim</td>\n",
       "      <td>80</td>\n",
       "      <td>85</td>\n",
       "    </tr>\n",
       "    <tr>\n",
       "      <th>1</th>\n",
       "      <td>Math</td>\n",
       "      <td>Tim</td>\n",
       "      <td>90</td>\n",
       "      <td>70</td>\n",
       "    </tr>\n",
       "    <tr>\n",
       "      <th>2</th>\n",
       "      <td>Math</td>\n",
       "      <td>Tom</td>\n",
       "      <td>70</td>\n",
       "      <td>95</td>\n",
       "    </tr>\n",
       "    <tr>\n",
       "      <th>3</th>\n",
       "      <td>Stat</td>\n",
       "      <td>Kate</td>\n",
       "      <td>65</td>\n",
       "      <td>90</td>\n",
       "    </tr>\n",
       "    <tr>\n",
       "      <th>4</th>\n",
       "      <td>Stat</td>\n",
       "      <td>Alex</td>\n",
       "      <td>85</td>\n",
       "      <td>80</td>\n",
       "    </tr>\n",
       "    <tr>\n",
       "      <th>5</th>\n",
       "      <td>Stat</td>\n",
       "      <td>Sam</td>\n",
       "      <td>55</td>\n",
       "      <td>70</td>\n",
       "    </tr>\n",
       "  </tbody>\n",
       "</table>\n",
       "</div>"
      ],
      "text/plain": [
       "  lesson  name  one  two\n",
       "0   Math   Kim   80   85\n",
       "1   Math   Tim   90   70\n",
       "2   Math   Tom   70   95\n",
       "3   Stat  Kate   65   90\n",
       "4   Stat  Alex   85   80\n",
       "5   Stat   Sam   55   70"
      ]
     },
     "execution_count": 1435,
     "metadata": {},
     "output_type": "execute_result"
    }
   ],
   "source": [
    "df2 = pd.read_table(\"data3.txt\",sep=\",\")  \n",
    "df2"
   ]
  },
  {
   "cell_type": "code",
   "execution_count": 1436,
   "id": "664f55d9-23eb-44e5-a62f-d01eaf28fd76",
   "metadata": {
    "tags": []
   },
   "outputs": [
    {
     "data": {
      "text/html": [
       "<div>\n",
       "<style scoped>\n",
       "    .dataframe tbody tr th:only-of-type {\n",
       "        vertical-align: middle;\n",
       "    }\n",
       "\n",
       "    .dataframe tbody tr th {\n",
       "        vertical-align: top;\n",
       "    }\n",
       "\n",
       "    .dataframe thead th {\n",
       "        text-align: right;\n",
       "    }\n",
       "</style>\n",
       "<table border=\"1\" class=\"dataframe\">\n",
       "  <thead>\n",
       "    <tr style=\"text-align: right;\">\n",
       "      <th></th>\n",
       "      <th>name</th>\n",
       "      <th>score</th>\n",
       "      <th>sex</th>\n",
       "    </tr>\n",
       "  </thead>\n",
       "  <tbody>\n",
       "    <tr>\n",
       "      <th>0</th>\n",
       "      <td>Tim</td>\n",
       "      <td>80</td>\n",
       "      <td>M</td>\n",
       "    </tr>\n",
       "    <tr>\n",
       "      <th>1</th>\n",
       "      <td>Kate</td>\n",
       "      <td>85</td>\n",
       "      <td>F</td>\n",
       "    </tr>\n",
       "    <tr>\n",
       "      <th>2</th>\n",
       "      <td>Alex</td>\n",
       "      <td>70</td>\n",
       "      <td>M</td>\n",
       "    </tr>\n",
       "    <tr>\n",
       "      <th>3</th>\n",
       "      <td>Tom</td>\n",
       "      <td>90</td>\n",
       "      <td>M</td>\n",
       "    </tr>\n",
       "    <tr>\n",
       "      <th>4</th>\n",
       "      <td>Kim</td>\n",
       "      <td>75</td>\n",
       "      <td>F</td>\n",
       "    </tr>\n",
       "  </tbody>\n",
       "</table>\n",
       "</div>"
      ],
      "text/plain": [
       "   name  score sex\n",
       "0   Tim     80   M\n",
       "1  Kate     85   F\n",
       "2  Alex     70   M\n",
       "3   Tom     90   M\n",
       "4   Kim     75   F"
      ]
     },
     "execution_count": 1436,
     "metadata": {},
     "output_type": "execute_result"
    }
   ],
   "source": [
    "df3 = pd.read_table(\"data4.txt\",sep=\",\",skiprows=[0,2])  # 1. ve 3. satırı okumayacak satır atlama yapacağız. bunun sebebi bu veri setindeki açıklama satırlarını görmemek istedik bundandır.   usecols = []   ile ise hangileri kullanılacak bunu belirleyebiliriz.\n",
    "df3"
   ]
  },
  {
   "cell_type": "code",
   "execution_count": 1437,
   "id": "5d907ed5-5a9b-4be4-8a92-b954bed896d9",
   "metadata": {
    "tags": []
   },
   "outputs": [
    {
     "data": {
      "text/html": [
       "<div>\n",
       "<style scoped>\n",
       "    .dataframe tbody tr th:only-of-type {\n",
       "        vertical-align: middle;\n",
       "    }\n",
       "\n",
       "    .dataframe tbody tr th {\n",
       "        vertical-align: top;\n",
       "    }\n",
       "\n",
       "    .dataframe thead th {\n",
       "        text-align: right;\n",
       "    }\n",
       "</style>\n",
       "<table border=\"1\" class=\"dataframe\">\n",
       "  <thead>\n",
       "    <tr style=\"text-align: right;\">\n",
       "      <th></th>\n",
       "      <th>name</th>\n",
       "      <th>score</th>\n",
       "      <th>sex</th>\n",
       "    </tr>\n",
       "  </thead>\n",
       "  <tbody>\n",
       "    <tr>\n",
       "      <th>0</th>\n",
       "      <td>Tim</td>\n",
       "      <td>80.0</td>\n",
       "      <td>NaN</td>\n",
       "    </tr>\n",
       "    <tr>\n",
       "      <th>1</th>\n",
       "      <td>Tom</td>\n",
       "      <td>NaN</td>\n",
       "      <td>NaN</td>\n",
       "    </tr>\n",
       "    <tr>\n",
       "      <th>2</th>\n",
       "      <td>Kate</td>\n",
       "      <td>70.0</td>\n",
       "      <td>NaN</td>\n",
       "    </tr>\n",
       "    <tr>\n",
       "      <th>3</th>\n",
       "      <td>NaN</td>\n",
       "      <td>90.0</td>\n",
       "      <td>K</td>\n",
       "    </tr>\n",
       "    <tr>\n",
       "      <th>4</th>\n",
       "      <td>Kim</td>\n",
       "      <td>NaN</td>\n",
       "      <td>K</td>\n",
       "    </tr>\n",
       "  </tbody>\n",
       "</table>\n",
       "</div>"
      ],
      "text/plain": [
       "   name  score  sex\n",
       "0   Tim   80.0  NaN\n",
       "1   Tom    NaN  NaN\n",
       "2  Kate   70.0  NaN\n",
       "3   NaN   90.0    K\n",
       "4   Kim    NaN    K"
      ]
     },
     "execution_count": 1437,
     "metadata": {},
     "output_type": "execute_result"
    }
   ],
   "source": [
    "eksikveri = {\"score\":[-5],\"sex\":[\"n.a\",\"Tom\"]}\n",
    "df4 = pd.read_table(\"data5.txt\",sep=\",\",na_values=eksikveri) # içinde eksik veriler olan bir dataset kullandık.  na_values = [\"n.a\",-5] dersek na ve -5 NaN veri olur\n",
    "df4"
   ]
  },
  {
   "cell_type": "code",
   "execution_count": 1438,
   "id": "caa9cac1-1ec0-4e2f-aac5-d50deed841b3",
   "metadata": {
    "tags": []
   },
   "outputs": [
    {
     "data": {
      "text/html": [
       "<div>\n",
       "<style scoped>\n",
       "    .dataframe tbody tr th:only-of-type {\n",
       "        vertical-align: middle;\n",
       "    }\n",
       "\n",
       "    .dataframe tbody tr th {\n",
       "        vertical-align: top;\n",
       "    }\n",
       "\n",
       "    .dataframe thead th {\n",
       "        text-align: right;\n",
       "    }\n",
       "</style>\n",
       "<table border=\"1\" class=\"dataframe\">\n",
       "  <thead>\n",
       "    <tr style=\"text-align: right;\">\n",
       "      <th></th>\n",
       "      <th>name</th>\n",
       "      <th>score</th>\n",
       "      <th>sex</th>\n",
       "    </tr>\n",
       "  </thead>\n",
       "  <tbody>\n",
       "    <tr>\n",
       "      <th>0</th>\n",
       "      <td>False</td>\n",
       "      <td>False</td>\n",
       "      <td>True</td>\n",
       "    </tr>\n",
       "    <tr>\n",
       "      <th>1</th>\n",
       "      <td>False</td>\n",
       "      <td>True</td>\n",
       "      <td>True</td>\n",
       "    </tr>\n",
       "    <tr>\n",
       "      <th>2</th>\n",
       "      <td>False</td>\n",
       "      <td>False</td>\n",
       "      <td>True</td>\n",
       "    </tr>\n",
       "    <tr>\n",
       "      <th>3</th>\n",
       "      <td>True</td>\n",
       "      <td>False</td>\n",
       "      <td>False</td>\n",
       "    </tr>\n",
       "    <tr>\n",
       "      <th>4</th>\n",
       "      <td>False</td>\n",
       "      <td>True</td>\n",
       "      <td>False</td>\n",
       "    </tr>\n",
       "  </tbody>\n",
       "</table>\n",
       "</div>"
      ],
      "text/plain": [
       "    name  score    sex\n",
       "0  False  False   True\n",
       "1  False   True   True\n",
       "2  False  False   True\n",
       "3   True  False  False\n",
       "4  False   True  False"
      ]
     },
     "execution_count": 1438,
     "metadata": {},
     "output_type": "execute_result"
    }
   ],
   "source": [
    "df4.isnull() # True eksik değer False eksik olmayan değer demek."
   ]
  },
  {
   "cell_type": "markdown",
   "id": "038b2f70-a8aa-415d-9ed2-e6efd6630c8b",
   "metadata": {
    "tags": []
   },
   "source": [
    "df = pd.read_table(\"data.txt\")\n",
    "df"
   ]
  },
  {
   "cell_type": "code",
   "execution_count": 1439,
   "id": "17e34e4d-d188-49a1-922b-3202a18c3e31",
   "metadata": {
    "tags": []
   },
   "outputs": [],
   "source": [
    "df.to_csv(\"yeni_veri.csv\") # csv olarak kaydedilecek df...   sistemin çalıştığı path üzerine isim verdiğimiz dosya gelecek."
   ]
  },
  {
   "cell_type": "code",
   "execution_count": 1440,
   "id": "90f4974e-a403-4f41-baac-8b13b836e83e",
   "metadata": {
    "tags": []
   },
   "outputs": [
    {
     "name": "stdout",
     "output_type": "stream",
     "text": [
      "Tim|80|M\n",
      "Tom|85|M\n",
      "Kim|70|F\n",
      "Sam|90|M\n",
      "Efe|75|M\n"
     ]
    }
   ],
   "source": [
    "import sys\n",
    "df.to_csv(sys.stdout,sep = \"|\",na_rep=\"NULL\",index=False,header=False) # her değeri | ile bölmüş olarak bölmüş olduk.  na_rep ile eksik veriler nasıl gözükecek bunu belirleriz.  index = False,header = 0 yaparak sutun indexlerini kaldırdık.\n"
   ]
  },
  {
   "cell_type": "code",
   "execution_count": 1441,
   "id": "5fae55b7-a7ad-4d59-bcf0-86c1281f6b78",
   "metadata": {
    "tags": []
   },
   "outputs": [
    {
     "name": "stdout",
     "output_type": "stream",
     "text": [
      "name-sex\n",
      "Tim-M\n",
      "Tom-M\n",
      "Kim-F\n",
      "Sam-M\n",
      "Efe-M\n"
     ]
    }
   ],
   "source": [
    "import sys\n",
    "df.to_csv(sys.stdout,sep = \"-\",na_rep=\"NULL\",index=False,columns=[\"name\",\"sex\"]) # colums ile hangilerinin geleceğini belirledik. istenen kolonlar gelecek.↔"
   ]
  },
  {
   "cell_type": "markdown",
   "id": "d288f059-9816-40c2-b8cd-1ae19a411654",
   "metadata": {
    "tags": []
   },
   "source": [
    "## EKSİK VERİ - KAYIP VERİ"
   ]
  },
  {
   "cell_type": "code",
   "execution_count": 1442,
   "id": "8d402885-dcdd-412c-9288-6948810b3548",
   "metadata": {
    "tags": []
   },
   "outputs": [
    {
     "data": {
      "text/plain": [
       "0    ege\n",
       "1    NaN\n",
       "2    ali\n",
       "3    eda\n",
       "dtype: object"
      ]
     },
     "execution_count": 1442,
     "metadata": {},
     "output_type": "execute_result"
    }
   ],
   "source": [
    "s = pd.Series([\"ege\",np.NaN,\"ali\",\"eda\"])\n",
    "s"
   ]
  },
  {
   "cell_type": "code",
   "execution_count": 1443,
   "id": "ce342de3-ee88-459a-bacc-53b7aaba869d",
   "metadata": {
    "tags": []
   },
   "outputs": [
    {
     "name": "stderr",
     "output_type": "stream",
     "text": [
      "C:\\Users\\emrea\\anaconda3\\Lib\\site-packages\\IPython\\core\\displayhook.py:281: UserWarning: Output cache limit (currently 1000 entries) hit.\n",
      "Flushing oldest 200 entries.\n",
      "  warn('Output cache limit (currently {sz} entries) hit.\\n'\n"
     ]
    },
    {
     "data": {
      "text/plain": [
       "0    False\n",
       "1     True\n",
       "2    False\n",
       "3    False\n",
       "dtype: bool"
      ]
     },
     "execution_count": 1443,
     "metadata": {},
     "output_type": "execute_result"
    }
   ],
   "source": [
    "s.isnull() # True olan NaN veridir."
   ]
  },
  {
   "cell_type": "code",
   "execution_count": 1444,
   "id": "af23a035-f43c-4744-af25-1a681b835cee",
   "metadata": {
    "tags": []
   },
   "outputs": [
    {
     "data": {
      "text/plain": [
       "0     True\n",
       "1    False\n",
       "2     True\n",
       "3     True\n",
       "dtype: bool"
      ]
     },
     "execution_count": 1444,
     "metadata": {},
     "output_type": "execute_result"
    }
   ],
   "source": [
    "s.notnull() # Null olmayanlar True alır."
   ]
  },
  {
   "cell_type": "code",
   "execution_count": 1445,
   "id": "64de6971-4c90-42e4-8446-b839c1f78fdc",
   "metadata": {
    "tags": []
   },
   "outputs": [
    {
     "data": {
      "text/plain": [
       "0    False\n",
       "1     True\n",
       "2    False\n",
       "3     True\n",
       "dtype: bool"
      ]
     },
     "execution_count": 1445,
     "metadata": {},
     "output_type": "execute_result"
    }
   ],
   "source": [
    "s[3] = None\n",
    "s.isnull()"
   ]
  },
  {
   "cell_type": "code",
   "execution_count": 1446,
   "id": "28fceb33-388c-4673-8ea9-6e2935508c31",
   "metadata": {
    "tags": []
   },
   "outputs": [
    {
     "data": {
      "text/plain": [
       "0    ege\n",
       "2    ali\n",
       "dtype: object"
      ]
     },
     "execution_count": 1446,
     "metadata": {},
     "output_type": "execute_result"
    }
   ],
   "source": [
    "s.dropna()\n"
   ]
  },
  {
   "cell_type": "code",
   "execution_count": 1447,
   "id": "715b9835-d29d-4883-b4ff-16579cb1e711",
   "metadata": {
    "tags": []
   },
   "outputs": [
    {
     "data": {
      "text/plain": [
       "0    ege\n",
       "2    ali\n",
       "dtype: object"
      ]
     },
     "execution_count": 1447,
     "metadata": {},
     "output_type": "execute_result"
    }
   ],
   "source": [
    "s[s.notnull()]"
   ]
  },
  {
   "cell_type": "code",
   "execution_count": 1448,
   "id": "8ae1e29a-8f1e-4644-9419-091ab4f7deab",
   "metadata": {
    "tags": []
   },
   "outputs": [],
   "source": [
    "from numpy import nan as NA"
   ]
  },
  {
   "cell_type": "code",
   "execution_count": 1449,
   "id": "e0eaabe3-073f-48fc-8fb3-11096b1db8c1",
   "metadata": {
    "tags": []
   },
   "outputs": [
    {
     "data": {
      "text/html": [
       "<div>\n",
       "<style scoped>\n",
       "    .dataframe tbody tr th:only-of-type {\n",
       "        vertical-align: middle;\n",
       "    }\n",
       "\n",
       "    .dataframe tbody tr th {\n",
       "        vertical-align: top;\n",
       "    }\n",
       "\n",
       "    .dataframe thead th {\n",
       "        text-align: right;\n",
       "    }\n",
       "</style>\n",
       "<table border=\"1\" class=\"dataframe\">\n",
       "  <thead>\n",
       "    <tr style=\"text-align: right;\">\n",
       "      <th></th>\n",
       "      <th>0</th>\n",
       "      <th>1</th>\n",
       "      <th>2</th>\n",
       "    </tr>\n",
       "  </thead>\n",
       "  <tbody>\n",
       "    <tr>\n",
       "      <th>0</th>\n",
       "      <td>1.0</td>\n",
       "      <td>2.0</td>\n",
       "      <td>3.0</td>\n",
       "    </tr>\n",
       "    <tr>\n",
       "      <th>1</th>\n",
       "      <td>4.0</td>\n",
       "      <td>NaN</td>\n",
       "      <td>5.0</td>\n",
       "    </tr>\n",
       "    <tr>\n",
       "      <th>2</th>\n",
       "      <td>NaN</td>\n",
       "      <td>NaN</td>\n",
       "      <td>NaN</td>\n",
       "    </tr>\n",
       "  </tbody>\n",
       "</table>\n",
       "</div>"
      ],
      "text/plain": [
       "     0    1    2\n",
       "0  1.0  2.0  3.0\n",
       "1  4.0  NaN  5.0\n",
       "2  NaN  NaN  NaN"
      ]
     },
     "execution_count": 1449,
     "metadata": {},
     "output_type": "execute_result"
    }
   ],
   "source": [
    "df = pd.DataFrame([[1,2,3],[4,NA,5],[NA,NA,NA]])\n",
    "df"
   ]
  },
  {
   "cell_type": "code",
   "execution_count": 1450,
   "id": "792216c4-e36d-4757-913b-75b0b93fa28a",
   "metadata": {
    "tags": []
   },
   "outputs": [
    {
     "data": {
      "text/html": [
       "<div>\n",
       "<style scoped>\n",
       "    .dataframe tbody tr th:only-of-type {\n",
       "        vertical-align: middle;\n",
       "    }\n",
       "\n",
       "    .dataframe tbody tr th {\n",
       "        vertical-align: top;\n",
       "    }\n",
       "\n",
       "    .dataframe thead th {\n",
       "        text-align: right;\n",
       "    }\n",
       "</style>\n",
       "<table border=\"1\" class=\"dataframe\">\n",
       "  <thead>\n",
       "    <tr style=\"text-align: right;\">\n",
       "      <th></th>\n",
       "      <th>0</th>\n",
       "      <th>1</th>\n",
       "      <th>2</th>\n",
       "    </tr>\n",
       "  </thead>\n",
       "  <tbody>\n",
       "    <tr>\n",
       "      <th>0</th>\n",
       "      <td>1.0</td>\n",
       "      <td>2.0</td>\n",
       "      <td>3.0</td>\n",
       "    </tr>\n",
       "  </tbody>\n",
       "</table>\n",
       "</div>"
      ],
      "text/plain": [
       "     0    1    2\n",
       "0  1.0  2.0  3.0"
      ]
     },
     "execution_count": 1450,
     "metadata": {},
     "output_type": "execute_result"
    }
   ],
   "source": [
    "df.dropna() # eksik veri olan satırları silinir."
   ]
  },
  {
   "cell_type": "code",
   "execution_count": 1451,
   "id": "2ac3f8a3-8265-40b6-9e01-8afe1de0d501",
   "metadata": {
    "tags": []
   },
   "outputs": [
    {
     "data": {
      "text/html": [
       "<div>\n",
       "<style scoped>\n",
       "    .dataframe tbody tr th:only-of-type {\n",
       "        vertical-align: middle;\n",
       "    }\n",
       "\n",
       "    .dataframe tbody tr th {\n",
       "        vertical-align: top;\n",
       "    }\n",
       "\n",
       "    .dataframe thead th {\n",
       "        text-align: right;\n",
       "    }\n",
       "</style>\n",
       "<table border=\"1\" class=\"dataframe\">\n",
       "  <thead>\n",
       "    <tr style=\"text-align: right;\">\n",
       "      <th></th>\n",
       "      <th>0</th>\n",
       "      <th>1</th>\n",
       "      <th>2</th>\n",
       "    </tr>\n",
       "  </thead>\n",
       "  <tbody>\n",
       "    <tr>\n",
       "      <th>0</th>\n",
       "      <td>1.0</td>\n",
       "      <td>2.0</td>\n",
       "      <td>3.0</td>\n",
       "    </tr>\n",
       "    <tr>\n",
       "      <th>1</th>\n",
       "      <td>4.0</td>\n",
       "      <td>NaN</td>\n",
       "      <td>5.0</td>\n",
       "    </tr>\n",
       "  </tbody>\n",
       "</table>\n",
       "</div>"
      ],
      "text/plain": [
       "     0    1    2\n",
       "0  1.0  2.0  3.0\n",
       "1  4.0  NaN  5.0"
      ]
     },
     "execution_count": 1451,
     "metadata": {},
     "output_type": "execute_result"
    }
   ],
   "source": [
    "df.dropna(how = \"all\") # tüm hepsi NaN olursa siler o satırı axis ile sutun üzerinde de yapabiliriz. işlemleri. tüm değerleri NaN olan satır silinmiş oldu çünkü default olarak axis = 0 olur"
   ]
  },
  {
   "cell_type": "code",
   "execution_count": 1452,
   "id": "0eb75760-4b47-4da6-9084-d3c5d1967436",
   "metadata": {
    "tags": []
   },
   "outputs": [
    {
     "data": {
      "text/html": [
       "<div>\n",
       "<style scoped>\n",
       "    .dataframe tbody tr th:only-of-type {\n",
       "        vertical-align: middle;\n",
       "    }\n",
       "\n",
       "    .dataframe tbody tr th {\n",
       "        vertical-align: top;\n",
       "    }\n",
       "\n",
       "    .dataframe thead th {\n",
       "        text-align: right;\n",
       "    }\n",
       "</style>\n",
       "<table border=\"1\" class=\"dataframe\">\n",
       "  <thead>\n",
       "    <tr style=\"text-align: right;\">\n",
       "      <th></th>\n",
       "      <th>0</th>\n",
       "      <th>2</th>\n",
       "    </tr>\n",
       "  </thead>\n",
       "  <tbody>\n",
       "    <tr>\n",
       "      <th>0</th>\n",
       "      <td>1.0</td>\n",
       "      <td>3.0</td>\n",
       "    </tr>\n",
       "    <tr>\n",
       "      <th>1</th>\n",
       "      <td>4.0</td>\n",
       "      <td>5.0</td>\n",
       "    </tr>\n",
       "    <tr>\n",
       "      <th>2</th>\n",
       "      <td>NaN</td>\n",
       "      <td>NaN</td>\n",
       "    </tr>\n",
       "  </tbody>\n",
       "</table>\n",
       "</div>"
      ],
      "text/plain": [
       "     0    2\n",
       "0  1.0  3.0\n",
       "1  4.0  5.0\n",
       "2  NaN  NaN"
      ]
     },
     "execution_count": 1452,
     "metadata": {},
     "output_type": "execute_result"
    }
   ],
   "source": [
    "df[1] = NA\n",
    "df.dropna(axis = 1,how = \"all\") # inplace = True kullanırsak eğer kalıcı bir değişim olur."
   ]
  },
  {
   "cell_type": "code",
   "execution_count": 1453,
   "id": "b7bec04a-3a25-4387-ae9f-de3efe8edc7d",
   "metadata": {
    "tags": []
   },
   "outputs": [
    {
     "data": {
      "text/html": [
       "<div>\n",
       "<style scoped>\n",
       "    .dataframe tbody tr th:only-of-type {\n",
       "        vertical-align: middle;\n",
       "    }\n",
       "\n",
       "    .dataframe tbody tr th {\n",
       "        vertical-align: top;\n",
       "    }\n",
       "\n",
       "    .dataframe thead th {\n",
       "        text-align: right;\n",
       "    }\n",
       "</style>\n",
       "<table border=\"1\" class=\"dataframe\">\n",
       "  <thead>\n",
       "    <tr style=\"text-align: right;\">\n",
       "      <th></th>\n",
       "      <th>0</th>\n",
       "      <th>1</th>\n",
       "      <th>2</th>\n",
       "    </tr>\n",
       "  </thead>\n",
       "  <tbody>\n",
       "    <tr>\n",
       "      <th>0</th>\n",
       "      <td>1.0</td>\n",
       "      <td>NaN</td>\n",
       "      <td>3.0</td>\n",
       "    </tr>\n",
       "    <tr>\n",
       "      <th>1</th>\n",
       "      <td>4.0</td>\n",
       "      <td>NaN</td>\n",
       "      <td>5.0</td>\n",
       "    </tr>\n",
       "  </tbody>\n",
       "</table>\n",
       "</div>"
      ],
      "text/plain": [
       "     0   1    2\n",
       "0  1.0 NaN  3.0\n",
       "1  4.0 NaN  5.0"
      ]
     },
     "execution_count": 1453,
     "metadata": {},
     "output_type": "execute_result"
    }
   ],
   "source": [
    "df.dropna(thresh=1)# en az bir NaN olmayan değeri olan silinmez. öbürleri silinir."
   ]
  },
  {
   "cell_type": "code",
   "execution_count": 1454,
   "id": "1ff98cd1-346c-4236-981f-cf22f5d19d87",
   "metadata": {
    "tags": []
   },
   "outputs": [
    {
     "data": {
      "text/html": [
       "<div>\n",
       "<style scoped>\n",
       "    .dataframe tbody tr th:only-of-type {\n",
       "        vertical-align: middle;\n",
       "    }\n",
       "\n",
       "    .dataframe tbody tr th {\n",
       "        vertical-align: top;\n",
       "    }\n",
       "\n",
       "    .dataframe thead th {\n",
       "        text-align: right;\n",
       "    }\n",
       "</style>\n",
       "<table border=\"1\" class=\"dataframe\">\n",
       "  <thead>\n",
       "    <tr style=\"text-align: right;\">\n",
       "      <th></th>\n",
       "      <th>0</th>\n",
       "      <th>1</th>\n",
       "      <th>2</th>\n",
       "    </tr>\n",
       "  </thead>\n",
       "  <tbody>\n",
       "    <tr>\n",
       "      <th>0</th>\n",
       "      <td>1.0</td>\n",
       "      <td>0.0</td>\n",
       "      <td>3.0</td>\n",
       "    </tr>\n",
       "    <tr>\n",
       "      <th>1</th>\n",
       "      <td>4.0</td>\n",
       "      <td>0.0</td>\n",
       "      <td>5.0</td>\n",
       "    </tr>\n",
       "    <tr>\n",
       "      <th>2</th>\n",
       "      <td>0.0</td>\n",
       "      <td>0.0</td>\n",
       "      <td>0.0</td>\n",
       "    </tr>\n",
       "  </tbody>\n",
       "</table>\n",
       "</div>"
      ],
      "text/plain": [
       "     0    1    2\n",
       "0  1.0  0.0  3.0\n",
       "1  4.0  0.0  5.0\n",
       "2  0.0  0.0  0.0"
      ]
     },
     "execution_count": 1454,
     "metadata": {},
     "output_type": "execute_result"
    }
   ],
   "source": [
    "df.fillna(0) # NaN olan verilere 0 atadık..."
   ]
  },
  {
   "cell_type": "code",
   "execution_count": 1455,
   "id": "2926d3c1-a577-4bbd-8156-0a47565bbcea",
   "metadata": {
    "tags": []
   },
   "outputs": [
    {
     "data": {
      "text/html": [
       "<div>\n",
       "<style scoped>\n",
       "    .dataframe tbody tr th:only-of-type {\n",
       "        vertical-align: middle;\n",
       "    }\n",
       "\n",
       "    .dataframe tbody tr th {\n",
       "        vertical-align: top;\n",
       "    }\n",
       "\n",
       "    .dataframe thead th {\n",
       "        text-align: right;\n",
       "    }\n",
       "</style>\n",
       "<table border=\"1\" class=\"dataframe\">\n",
       "  <thead>\n",
       "    <tr style=\"text-align: right;\">\n",
       "      <th></th>\n",
       "      <th>0</th>\n",
       "      <th>1</th>\n",
       "      <th>2</th>\n",
       "    </tr>\n",
       "  </thead>\n",
       "  <tbody>\n",
       "    <tr>\n",
       "      <th>0</th>\n",
       "      <td>1.0</td>\n",
       "      <td>25.0</td>\n",
       "      <td>3.0</td>\n",
       "    </tr>\n",
       "    <tr>\n",
       "      <th>1</th>\n",
       "      <td>4.0</td>\n",
       "      <td>25.0</td>\n",
       "      <td>5.0</td>\n",
       "    </tr>\n",
       "    <tr>\n",
       "      <th>2</th>\n",
       "      <td>15.0</td>\n",
       "      <td>25.0</td>\n",
       "      <td>35.0</td>\n",
       "    </tr>\n",
       "  </tbody>\n",
       "</table>\n",
       "</div>"
      ],
      "text/plain": [
       "      0     1     2\n",
       "0   1.0  25.0   3.0\n",
       "1   4.0  25.0   5.0\n",
       "2  15.0  25.0  35.0"
      ]
     },
     "execution_count": 1455,
     "metadata": {},
     "output_type": "execute_result"
    }
   ],
   "source": [
    "df.fillna({0:15,1:25,2:35}) # 0 sutundaki boş verilere 15   1 sutunundaki NaN verilere 25...."
   ]
  },
  {
   "cell_type": "code",
   "execution_count": 1456,
   "id": "c588a197-2afb-430d-a345-16b46aad5c68",
   "metadata": {
    "tags": []
   },
   "outputs": [
    {
     "data": {
      "text/html": [
       "<div>\n",
       "<style scoped>\n",
       "    .dataframe tbody tr th:only-of-type {\n",
       "        vertical-align: middle;\n",
       "    }\n",
       "\n",
       "    .dataframe tbody tr th {\n",
       "        vertical-align: top;\n",
       "    }\n",
       "\n",
       "    .dataframe thead th {\n",
       "        text-align: right;\n",
       "    }\n",
       "</style>\n",
       "<table border=\"1\" class=\"dataframe\">\n",
       "  <thead>\n",
       "    <tr style=\"text-align: right;\">\n",
       "      <th></th>\n",
       "      <th>0</th>\n",
       "      <th>1</th>\n",
       "      <th>2</th>\n",
       "    </tr>\n",
       "  </thead>\n",
       "  <tbody>\n",
       "    <tr>\n",
       "      <th>0</th>\n",
       "      <td>1.0</td>\n",
       "      <td>2.0</td>\n",
       "      <td>3.0</td>\n",
       "    </tr>\n",
       "    <tr>\n",
       "      <th>1</th>\n",
       "      <td>4.0</td>\n",
       "      <td>2.0</td>\n",
       "      <td>5.0</td>\n",
       "    </tr>\n",
       "    <tr>\n",
       "      <th>2</th>\n",
       "      <td>4.0</td>\n",
       "      <td>2.0</td>\n",
       "      <td>5.0</td>\n",
       "    </tr>\n",
       "  </tbody>\n",
       "</table>\n",
       "</div>"
      ],
      "text/plain": [
       "     0    1    2\n",
       "0  1.0  2.0  3.0\n",
       "1  4.0  2.0  5.0\n",
       "2  4.0  2.0  5.0"
      ]
     },
     "execution_count": 1456,
     "metadata": {},
     "output_type": "execute_result"
    }
   ],
   "source": [
    "df = pd.DataFrame([[1,2,3],[4,NA,5],[NA,NA,NA]])\n",
    "df.fillna(method=\"ffill\") # her NaN metotdun yerine bir üst satırdaki veri atandı.  "
   ]
  },
  {
   "cell_type": "code",
   "execution_count": 1457,
   "id": "1e9603a9-fc0b-40c0-bbd3-f23fa07dcdfb",
   "metadata": {
    "tags": []
   },
   "outputs": [
    {
     "data": {
      "text/html": [
       "<div>\n",
       "<style scoped>\n",
       "    .dataframe tbody tr th:only-of-type {\n",
       "        vertical-align: middle;\n",
       "    }\n",
       "\n",
       "    .dataframe tbody tr th {\n",
       "        vertical-align: top;\n",
       "    }\n",
       "\n",
       "    .dataframe thead th {\n",
       "        text-align: right;\n",
       "    }\n",
       "</style>\n",
       "<table border=\"1\" class=\"dataframe\">\n",
       "  <thead>\n",
       "    <tr style=\"text-align: right;\">\n",
       "      <th></th>\n",
       "      <th>0</th>\n",
       "      <th>1</th>\n",
       "      <th>2</th>\n",
       "    </tr>\n",
       "  </thead>\n",
       "  <tbody>\n",
       "    <tr>\n",
       "      <th>0</th>\n",
       "      <td>1.0</td>\n",
       "      <td>2.0</td>\n",
       "      <td>3.0</td>\n",
       "    </tr>\n",
       "    <tr>\n",
       "      <th>1</th>\n",
       "      <td>4.0</td>\n",
       "      <td>2.0</td>\n",
       "      <td>5.0</td>\n",
       "    </tr>\n",
       "    <tr>\n",
       "      <th>2</th>\n",
       "      <td>4.0</td>\n",
       "      <td>NaN</td>\n",
       "      <td>5.0</td>\n",
       "    </tr>\n",
       "  </tbody>\n",
       "</table>\n",
       "</div>"
      ],
      "text/plain": [
       "     0    1    2\n",
       "0  1.0  2.0  3.0\n",
       "1  4.0  2.0  5.0\n",
       "2  4.0  NaN  5.0"
      ]
     },
     "execution_count": 1457,
     "metadata": {},
     "output_type": "execute_result"
    }
   ],
   "source": [
    "df.fillna(method=\"ffill\",limit=1) # sadece bir tane eksik veri tamamlanır limit ile."
   ]
  },
  {
   "cell_type": "code",
   "execution_count": 1458,
   "id": "4646ae8d-b57f-4d25-aeb7-61ad9c378951",
   "metadata": {
    "tags": []
   },
   "outputs": [
    {
     "data": {
      "text/plain": [
       "0    1.0\n",
       "1    0.0\n",
       "2    NaN\n",
       "3    5.0\n",
       "dtype: float64"
      ]
     },
     "execution_count": 1458,
     "metadata": {},
     "output_type": "execute_result"
    }
   ],
   "source": [
    "veri = pd.Series([1,0,NA,5])\n",
    "veri"
   ]
  },
  {
   "cell_type": "code",
   "execution_count": 1459,
   "id": "3e4f35e6-324e-432c-a884-022ce8830b37",
   "metadata": {
    "tags": []
   },
   "outputs": [
    {
     "data": {
      "text/plain": [
       "0    1.0\n",
       "1    0.0\n",
       "2    2.0\n",
       "3    5.0\n",
       "dtype: float64"
      ]
     },
     "execution_count": 1459,
     "metadata": {},
     "output_type": "execute_result"
    }
   ],
   "source": [
    "veri.fillna(veri.mean()) # eksik yerleri ortalama ile doldurduk..."
   ]
  },
  {
   "cell_type": "code",
   "execution_count": 1460,
   "id": "c3d37cad-038f-4816-ba5c-d98497c8ff61",
   "metadata": {
    "tags": []
   },
   "outputs": [
    {
     "data": {
      "text/html": [
       "<div>\n",
       "<style scoped>\n",
       "    .dataframe tbody tr th:only-of-type {\n",
       "        vertical-align: middle;\n",
       "    }\n",
       "\n",
       "    .dataframe tbody tr th {\n",
       "        vertical-align: top;\n",
       "    }\n",
       "\n",
       "    .dataframe thead th {\n",
       "        text-align: right;\n",
       "    }\n",
       "</style>\n",
       "<table border=\"1\" class=\"dataframe\">\n",
       "  <thead>\n",
       "    <tr style=\"text-align: right;\">\n",
       "      <th></th>\n",
       "      <th>0</th>\n",
       "      <th>1</th>\n",
       "      <th>2</th>\n",
       "    </tr>\n",
       "  </thead>\n",
       "  <tbody>\n",
       "    <tr>\n",
       "      <th>0</th>\n",
       "      <td>1.0</td>\n",
       "      <td>2.0</td>\n",
       "      <td>3.0</td>\n",
       "    </tr>\n",
       "    <tr>\n",
       "      <th>1</th>\n",
       "      <td>4.0</td>\n",
       "      <td>NaN</td>\n",
       "      <td>5.0</td>\n",
       "    </tr>\n",
       "    <tr>\n",
       "      <th>2</th>\n",
       "      <td>NaN</td>\n",
       "      <td>NaN</td>\n",
       "      <td>NaN</td>\n",
       "    </tr>\n",
       "  </tbody>\n",
       "</table>\n",
       "</div>"
      ],
      "text/plain": [
       "     0    1    2\n",
       "0  1.0  2.0  3.0\n",
       "1  4.0  NaN  5.0\n",
       "2  NaN  NaN  NaN"
      ]
     },
     "execution_count": 1460,
     "metadata": {},
     "output_type": "execute_result"
    }
   ],
   "source": [
    "df"
   ]
  },
  {
   "cell_type": "code",
   "execution_count": 1461,
   "id": "28eaca0c-b124-4a3d-914f-b9d628cc02ae",
   "metadata": {
    "tags": []
   },
   "outputs": [
    {
     "data": {
      "text/html": [
       "<div>\n",
       "<style scoped>\n",
       "    .dataframe tbody tr th:only-of-type {\n",
       "        vertical-align: middle;\n",
       "    }\n",
       "\n",
       "    .dataframe tbody tr th {\n",
       "        vertical-align: top;\n",
       "    }\n",
       "\n",
       "    .dataframe thead th {\n",
       "        text-align: right;\n",
       "    }\n",
       "</style>\n",
       "<table border=\"1\" class=\"dataframe\">\n",
       "  <thead>\n",
       "    <tr style=\"text-align: right;\">\n",
       "      <th></th>\n",
       "      <th>0</th>\n",
       "      <th>1</th>\n",
       "      <th>2</th>\n",
       "    </tr>\n",
       "  </thead>\n",
       "  <tbody>\n",
       "    <tr>\n",
       "      <th>0</th>\n",
       "      <td>1.0</td>\n",
       "      <td>2.0</td>\n",
       "      <td>3.0</td>\n",
       "    </tr>\n",
       "    <tr>\n",
       "      <th>1</th>\n",
       "      <td>4.0</td>\n",
       "      <td>2.0</td>\n",
       "      <td>5.0</td>\n",
       "    </tr>\n",
       "    <tr>\n",
       "      <th>2</th>\n",
       "      <td>2.5</td>\n",
       "      <td>2.0</td>\n",
       "      <td>4.0</td>\n",
       "    </tr>\n",
       "  </tbody>\n",
       "</table>\n",
       "</div>"
      ],
      "text/plain": [
       "     0    1    2\n",
       "0  1.0  2.0  3.0\n",
       "1  4.0  2.0  5.0\n",
       "2  2.5  2.0  4.0"
      ]
     },
     "execution_count": 1461,
     "metadata": {},
     "output_type": "execute_result"
    }
   ],
   "source": [
    "df.fillna(df.mean()) # her sutundaki eksik veri yerine bulunduğu sutunun ortalaması yazıldı."
   ]
  },
  {
   "cell_type": "markdown",
   "id": "d71b307e-51e1-417b-a9b1-49e6f021e04f",
   "metadata": {},
   "source": [
    "## VERİ DÖNÜŞTÜRME"
   ]
  },
  {
   "cell_type": "code",
   "execution_count": 1462,
   "id": "4c232308-6ed1-4be2-9641-3930fe395571",
   "metadata": {
    "tags": []
   },
   "outputs": [
    {
     "data": {
      "text/html": [
       "<div>\n",
       "<style scoped>\n",
       "    .dataframe tbody tr th:only-of-type {\n",
       "        vertical-align: middle;\n",
       "    }\n",
       "\n",
       "    .dataframe tbody tr th {\n",
       "        vertical-align: top;\n",
       "    }\n",
       "\n",
       "    .dataframe thead th {\n",
       "        text-align: right;\n",
       "    }\n",
       "</style>\n",
       "<table border=\"1\" class=\"dataframe\">\n",
       "  <thead>\n",
       "    <tr style=\"text-align: right;\">\n",
       "      <th></th>\n",
       "      <th>a</th>\n",
       "      <th>b</th>\n",
       "    </tr>\n",
       "  </thead>\n",
       "  <tbody>\n",
       "    <tr>\n",
       "      <th>0</th>\n",
       "      <td>bir</td>\n",
       "      <td>1</td>\n",
       "    </tr>\n",
       "    <tr>\n",
       "      <th>1</th>\n",
       "      <td>iki</td>\n",
       "      <td>1</td>\n",
       "    </tr>\n",
       "    <tr>\n",
       "      <th>2</th>\n",
       "      <td>bir</td>\n",
       "      <td>2</td>\n",
       "    </tr>\n",
       "    <tr>\n",
       "      <th>3</th>\n",
       "      <td>iki</td>\n",
       "      <td>3</td>\n",
       "    </tr>\n",
       "    <tr>\n",
       "      <th>4</th>\n",
       "      <td>bir</td>\n",
       "      <td>2</td>\n",
       "    </tr>\n",
       "    <tr>\n",
       "      <th>5</th>\n",
       "      <td>iki</td>\n",
       "      <td>3</td>\n",
       "    </tr>\n",
       "  </tbody>\n",
       "</table>\n",
       "</div>"
      ],
      "text/plain": [
       "     a  b\n",
       "0  bir  1\n",
       "1  iki  1\n",
       "2  bir  2\n",
       "3  iki  3\n",
       "4  bir  2\n",
       "5  iki  3"
      ]
     },
     "execution_count": 1462,
     "metadata": {},
     "output_type": "execute_result"
    }
   ],
   "source": [
    "veri = pd.DataFrame({\"a\":[\"bir\",\"iki\"]*3,\"b\":[1,1,2,3,2,3]})\n",
    "veri"
   ]
  },
  {
   "cell_type": "code",
   "execution_count": 1463,
   "id": "5f32ea28-cf21-4aa1-bd5b-c46b92bd02c8",
   "metadata": {
    "tags": []
   },
   "outputs": [
    {
     "data": {
      "text/plain": [
       "0    False\n",
       "1    False\n",
       "2    False\n",
       "3    False\n",
       "4     True\n",
       "5     True\n",
       "dtype: bool"
      ]
     },
     "execution_count": 1463,
     "metadata": {},
     "output_type": "execute_result"
    }
   ],
   "source": [
    "veri.duplicated() # tekrar eden verileri gösterir. ilk veriden sonra aynısı gelirse o zaman tekrar eden olarak gözükür.. sondan başlayarak tekrar eden verileri görmek istersek keep = \"last\" ekleriz parametre olarak.  (bu bir dataframe olduğu için satırlar üzerinden işlem yaptı tüm değerleri aynı olan satırlara ilkine False ondan sonrakilere True diyecek.)"
   ]
  },
  {
   "cell_type": "code",
   "execution_count": 1464,
   "id": "a0c9bcd2-7cfc-43dd-b247-9b8ea89fc9b8",
   "metadata": {
    "tags": []
   },
   "outputs": [
    {
     "data": {
      "text/html": [
       "<div>\n",
       "<style scoped>\n",
       "    .dataframe tbody tr th:only-of-type {\n",
       "        vertical-align: middle;\n",
       "    }\n",
       "\n",
       "    .dataframe tbody tr th {\n",
       "        vertical-align: top;\n",
       "    }\n",
       "\n",
       "    .dataframe thead th {\n",
       "        text-align: right;\n",
       "    }\n",
       "</style>\n",
       "<table border=\"1\" class=\"dataframe\">\n",
       "  <thead>\n",
       "    <tr style=\"text-align: right;\">\n",
       "      <th></th>\n",
       "      <th>a</th>\n",
       "      <th>b</th>\n",
       "    </tr>\n",
       "  </thead>\n",
       "  <tbody>\n",
       "    <tr>\n",
       "      <th>0</th>\n",
       "      <td>bir</td>\n",
       "      <td>1</td>\n",
       "    </tr>\n",
       "    <tr>\n",
       "      <th>1</th>\n",
       "      <td>iki</td>\n",
       "      <td>1</td>\n",
       "    </tr>\n",
       "    <tr>\n",
       "      <th>2</th>\n",
       "      <td>bir</td>\n",
       "      <td>2</td>\n",
       "    </tr>\n",
       "    <tr>\n",
       "      <th>3</th>\n",
       "      <td>iki</td>\n",
       "      <td>3</td>\n",
       "    </tr>\n",
       "  </tbody>\n",
       "</table>\n",
       "</div>"
      ],
      "text/plain": [
       "     a  b\n",
       "0  bir  1\n",
       "1  iki  1\n",
       "2  bir  2\n",
       "3  iki  3"
      ]
     },
     "execution_count": 1464,
     "metadata": {},
     "output_type": "execute_result"
    }
   ],
   "source": [
    "veri.drop_duplicates() # tekrar edenler silinir."
   ]
  },
  {
   "cell_type": "code",
   "execution_count": 1465,
   "id": "5fcbd669-c408-48ca-938d-d95f12c00cdb",
   "metadata": {
    "tags": []
   },
   "outputs": [
    {
     "data": {
      "text/plain": [
       "0    False\n",
       "1    False\n",
       "2     True\n",
       "3     True\n",
       "4     True\n",
       "5     True\n",
       "dtype: bool"
      ]
     },
     "execution_count": 1465,
     "metadata": {},
     "output_type": "execute_result"
    }
   ],
   "source": [
    "veri[\"c\"] = range(6)\n",
    "veri.duplicated([\"a\"]) # a sutunu için tekrar eden verileri görebiliriz.        veri.duplicated([\"a\",\"b\"])  böyle yaparsak sadece a ve b arasında duplicated araması yapabiliriz."
   ]
  },
  {
   "cell_type": "code",
   "execution_count": 1466,
   "id": "8485aa3a-290d-4605-b362-76725b545a5a",
   "metadata": {
    "tags": []
   },
   "outputs": [
    {
     "data": {
      "text/html": [
       "<div>\n",
       "<style scoped>\n",
       "    .dataframe tbody tr th:only-of-type {\n",
       "        vertical-align: middle;\n",
       "    }\n",
       "\n",
       "    .dataframe tbody tr th {\n",
       "        vertical-align: top;\n",
       "    }\n",
       "\n",
       "    .dataframe thead th {\n",
       "        text-align: right;\n",
       "    }\n",
       "</style>\n",
       "<table border=\"1\" class=\"dataframe\">\n",
       "  <thead>\n",
       "    <tr style=\"text-align: right;\">\n",
       "      <th></th>\n",
       "      <th>isim</th>\n",
       "      <th>puan</th>\n",
       "    </tr>\n",
       "  </thead>\n",
       "  <tbody>\n",
       "    <tr>\n",
       "      <th>0</th>\n",
       "      <td>ali</td>\n",
       "      <td>60</td>\n",
       "    </tr>\n",
       "    <tr>\n",
       "      <th>1</th>\n",
       "      <td>can</td>\n",
       "      <td>50</td>\n",
       "    </tr>\n",
       "    <tr>\n",
       "      <th>2</th>\n",
       "      <td>nur</td>\n",
       "      <td>70</td>\n",
       "    </tr>\n",
       "    <tr>\n",
       "      <th>3</th>\n",
       "      <td>efe</td>\n",
       "      <td>80</td>\n",
       "    </tr>\n",
       "    <tr>\n",
       "      <th>4</th>\n",
       "      <td>ata</td>\n",
       "      <td>40</td>\n",
       "    </tr>\n",
       "  </tbody>\n",
       "</table>\n",
       "</div>"
      ],
      "text/plain": [
       "  isim  puan\n",
       "0  ali    60\n",
       "1  can    50\n",
       "2  nur    70\n",
       "3  efe    80\n",
       "4  ata    40"
      ]
     },
     "execution_count": 1466,
     "metadata": {},
     "output_type": "execute_result"
    }
   ],
   "source": [
    "vs = pd.DataFrame({\"isim\":[\"ali\",\"can\",\"nur\",\"efe\",\"ata\"],\"puan\":[60,50,70,80,40]})\n",
    "vs"
   ]
  },
  {
   "cell_type": "code",
   "execution_count": 1467,
   "id": "d8be95f7-fd76-492b-b530-cd45680c1981",
   "metadata": {
    "tags": []
   },
   "outputs": [
    {
     "data": {
      "text/html": [
       "<div>\n",
       "<style scoped>\n",
       "    .dataframe tbody tr th:only-of-type {\n",
       "        vertical-align: middle;\n",
       "    }\n",
       "\n",
       "    .dataframe tbody tr th {\n",
       "        vertical-align: top;\n",
       "    }\n",
       "\n",
       "    .dataframe thead th {\n",
       "        text-align: right;\n",
       "    }\n",
       "</style>\n",
       "<table border=\"1\" class=\"dataframe\">\n",
       "  <thead>\n",
       "    <tr style=\"text-align: right;\">\n",
       "      <th></th>\n",
       "      <th>isim</th>\n",
       "      <th>puan</th>\n",
       "      <th>sube</th>\n",
       "    </tr>\n",
       "  </thead>\n",
       "  <tbody>\n",
       "    <tr>\n",
       "      <th>0</th>\n",
       "      <td>ali</td>\n",
       "      <td>60</td>\n",
       "      <td>A</td>\n",
       "    </tr>\n",
       "    <tr>\n",
       "      <th>1</th>\n",
       "      <td>can</td>\n",
       "      <td>50</td>\n",
       "      <td>A</td>\n",
       "    </tr>\n",
       "    <tr>\n",
       "      <th>2</th>\n",
       "      <td>nur</td>\n",
       "      <td>70</td>\n",
       "      <td>B</td>\n",
       "    </tr>\n",
       "    <tr>\n",
       "      <th>3</th>\n",
       "      <td>efe</td>\n",
       "      <td>80</td>\n",
       "      <td>B</td>\n",
       "    </tr>\n",
       "    <tr>\n",
       "      <th>4</th>\n",
       "      <td>ata</td>\n",
       "      <td>40</td>\n",
       "      <td>A</td>\n",
       "    </tr>\n",
       "  </tbody>\n",
       "</table>\n",
       "</div>"
      ],
      "text/plain": [
       "  isim  puan sube\n",
       "0  ali    60    A\n",
       "1  can    50    A\n",
       "2  nur    70    B\n",
       "3  efe    80    B\n",
       "4  ata    40    A"
      ]
     },
     "execution_count": 1467,
     "metadata": {},
     "output_type": "execute_result"
    }
   ],
   "source": [
    "sinif = {\"ali\":\"A\",\"can\":\"A\",\"nur\":\"B\",\"efe\":\"B\",\"ata\":\"A\"}\n",
    "ad = vs[\"isim\"]\n",
    "vs[\"sube\"] = ad.map(sinif)\n",
    "vs"
   ]
  },
  {
   "cell_type": "code",
   "execution_count": 1468,
   "id": "570293b2-1349-40f3-9aa5-b7ddbf4a61c1",
   "metadata": {
    "tags": []
   },
   "outputs": [
    {
     "data": {
      "text/plain": [
       "0    80\n",
       "1    70\n",
       "2    90\n",
       "3    60\n",
       "dtype: int64"
      ]
     },
     "execution_count": 1468,
     "metadata": {},
     "output_type": "execute_result"
    }
   ],
   "source": [
    "nt = pd.Series([80,70,90,60])\n",
    "nt"
   ]
  },
  {
   "cell_type": "code",
   "execution_count": 1469,
   "id": "3f4cdb4a-d0dd-4e54-ae53-71e13c410b2c",
   "metadata": {
    "tags": []
   },
   "outputs": [
    {
     "data": {
      "text/plain": [
       "0    80.0\n",
       "1    70.0\n",
       "2     NaN\n",
       "3    60.0\n",
       "dtype: float64"
      ]
     },
     "execution_count": 1469,
     "metadata": {},
     "output_type": "execute_result"
    }
   ],
   "source": [
    "nt[nt == 90] = NA # nt.replace(90,np.NaN) # yapabilirdik...\n",
    "nt "
   ]
  },
  {
   "cell_type": "code",
   "execution_count": 1470,
   "id": "f9e3e02e-a4ca-418f-a1c3-1ce37b72981c",
   "metadata": {
    "tags": []
   },
   "outputs": [
    {
     "data": {
      "text/plain": [
       "0    80.0\n",
       "1     NaN\n",
       "2     NaN\n",
       "3     0.0\n",
       "dtype: float64"
      ]
     },
     "execution_count": 1470,
     "metadata": {},
     "output_type": "execute_result"
    }
   ],
   "source": [
    "nt.replace([70,60],[np.NaN,0]) # 70 yerine NaN 60 yerine 0 yazıldı birden fazla değişim yapabiliriz aynıı anda. "
   ]
  },
  {
   "cell_type": "code",
   "execution_count": 1471,
   "id": "df2eb996-04e2-4db7-aad6-eb24cfec9996",
   "metadata": {
    "tags": []
   },
   "outputs": [
    {
     "data": {
      "text/plain": [
       "0     40.0\n",
       "1     70.0\n",
       "2    200.0\n",
       "3    100.0\n",
       "dtype: float64"
      ]
     },
     "execution_count": 1471,
     "metadata": {},
     "output_type": "execute_result"
    }
   ],
   "source": [
    "nt.replace({60:100,80:40,np.NaN:200}) # birden fazla değişim yapabiliriz. 60 olan 100 olacak   80 olan 40 olacak NaN olan 200 olacak."
   ]
  },
  {
   "cell_type": "code",
   "execution_count": 1472,
   "id": "fdeb9729-b4f2-4488-9069-ee007ce620c8",
   "metadata": {
    "tags": []
   },
   "outputs": [
    {
     "data": {
      "text/html": [
       "<div>\n",
       "<style scoped>\n",
       "    .dataframe tbody tr th:only-of-type {\n",
       "        vertical-align: middle;\n",
       "    }\n",
       "\n",
       "    .dataframe tbody tr th {\n",
       "        vertical-align: top;\n",
       "    }\n",
       "\n",
       "    .dataframe thead th {\n",
       "        text-align: right;\n",
       "    }\n",
       "</style>\n",
       "<table border=\"1\" class=\"dataframe\">\n",
       "  <thead>\n",
       "    <tr style=\"text-align: right;\">\n",
       "      <th></th>\n",
       "      <th>ali</th>\n",
       "      <th>efe</th>\n",
       "      <th>eda</th>\n",
       "      <th>can</th>\n",
       "    </tr>\n",
       "  </thead>\n",
       "  <tbody>\n",
       "    <tr>\n",
       "      <th>0</th>\n",
       "      <td>0</td>\n",
       "      <td>1</td>\n",
       "      <td>2</td>\n",
       "      <td>3</td>\n",
       "    </tr>\n",
       "    <tr>\n",
       "      <th>1</th>\n",
       "      <td>4</td>\n",
       "      <td>5</td>\n",
       "      <td>6</td>\n",
       "      <td>7</td>\n",
       "    </tr>\n",
       "    <tr>\n",
       "      <th>2</th>\n",
       "      <td>8</td>\n",
       "      <td>9</td>\n",
       "      <td>10</td>\n",
       "      <td>11</td>\n",
       "    </tr>\n",
       "  </tbody>\n",
       "</table>\n",
       "</div>"
      ],
      "text/plain": [
       "   ali  efe  eda  can\n",
       "0    0    1    2    3\n",
       "1    4    5    6    7\n",
       "2    8    9   10   11"
      ]
     },
     "execution_count": 1472,
     "metadata": {},
     "output_type": "execute_result"
    }
   ],
   "source": [
    "df = pd.DataFrame(np.arange(12).reshape(3,4),index=[0,1,2],columns=[\"ali\",\"efe\",\"eda\",\"can\"])\n",
    "df"
   ]
  },
  {
   "cell_type": "code",
   "execution_count": 1473,
   "id": "34c919e8-861d-4536-a24d-4c40accee944",
   "metadata": {
    "tags": []
   },
   "outputs": [
    {
     "data": {
      "text/html": [
       "<div>\n",
       "<style scoped>\n",
       "    .dataframe tbody tr th:only-of-type {\n",
       "        vertical-align: middle;\n",
       "    }\n",
       "\n",
       "    .dataframe tbody tr th {\n",
       "        vertical-align: top;\n",
       "    }\n",
       "\n",
       "    .dataframe thead th {\n",
       "        text-align: right;\n",
       "    }\n",
       "</style>\n",
       "<table border=\"1\" class=\"dataframe\">\n",
       "  <thead>\n",
       "    <tr style=\"text-align: right;\">\n",
       "      <th></th>\n",
       "      <th>ali</th>\n",
       "      <th>efe</th>\n",
       "      <th>eda</th>\n",
       "      <th>can</th>\n",
       "    </tr>\n",
       "  </thead>\n",
       "  <tbody>\n",
       "    <tr>\n",
       "      <th>bir</th>\n",
       "      <td>0</td>\n",
       "      <td>1</td>\n",
       "      <td>2</td>\n",
       "      <td>3</td>\n",
       "    </tr>\n",
       "    <tr>\n",
       "      <th>iki</th>\n",
       "      <td>4</td>\n",
       "      <td>5</td>\n",
       "      <td>6</td>\n",
       "      <td>7</td>\n",
       "    </tr>\n",
       "    <tr>\n",
       "      <th>uc</th>\n",
       "      <td>8</td>\n",
       "      <td>9</td>\n",
       "      <td>10</td>\n",
       "      <td>11</td>\n",
       "    </tr>\n",
       "  </tbody>\n",
       "</table>\n",
       "</div>"
      ],
      "text/plain": [
       "     ali  efe  eda  can\n",
       "bir    0    1    2    3\n",
       "iki    4    5    6    7\n",
       "uc     8    9   10   11"
      ]
     },
     "execution_count": 1473,
     "metadata": {},
     "output_type": "execute_result"
    }
   ],
   "source": [
    "s = pd.Series([\"bir\",\"iki\",\"uc\"])\n",
    "df.index = s # index etiketini değiştirdik.  # index.name = ile ise indexlemeye isim verebiliriz.\n",
    "df"
   ]
  },
  {
   "cell_type": "code",
   "execution_count": 1474,
   "id": "e2e81ab9-f9a0-4c6b-a8c0-880fa77d8005",
   "metadata": {
    "tags": []
   },
   "outputs": [
    {
     "data": {
      "text/html": [
       "<div>\n",
       "<style scoped>\n",
       "    .dataframe tbody tr th:only-of-type {\n",
       "        vertical-align: middle;\n",
       "    }\n",
       "\n",
       "    .dataframe tbody tr th {\n",
       "        vertical-align: top;\n",
       "    }\n",
       "\n",
       "    .dataframe thead th {\n",
       "        text-align: right;\n",
       "    }\n",
       "</style>\n",
       "<table border=\"1\" class=\"dataframe\">\n",
       "  <thead>\n",
       "    <tr style=\"text-align: right;\">\n",
       "      <th></th>\n",
       "      <th>ALI</th>\n",
       "      <th>EFE</th>\n",
       "      <th>EDA</th>\n",
       "      <th>CAN</th>\n",
       "    </tr>\n",
       "  </thead>\n",
       "  <tbody>\n",
       "    <tr>\n",
       "      <th>Bir</th>\n",
       "      <td>0</td>\n",
       "      <td>1</td>\n",
       "      <td>2</td>\n",
       "      <td>3</td>\n",
       "    </tr>\n",
       "    <tr>\n",
       "      <th>Iki</th>\n",
       "      <td>4</td>\n",
       "      <td>5</td>\n",
       "      <td>6</td>\n",
       "      <td>7</td>\n",
       "    </tr>\n",
       "    <tr>\n",
       "      <th>Uc</th>\n",
       "      <td>8</td>\n",
       "      <td>9</td>\n",
       "      <td>10</td>\n",
       "      <td>11</td>\n",
       "    </tr>\n",
       "  </tbody>\n",
       "</table>\n",
       "</div>"
      ],
      "text/plain": [
       "     ALI  EFE  EDA  CAN\n",
       "Bir    0    1    2    3\n",
       "Iki    4    5    6    7\n",
       "Uc     8    9   10   11"
      ]
     },
     "execution_count": 1474,
     "metadata": {},
     "output_type": "execute_result"
    }
   ],
   "source": [
    "df.rename(index = str.title,columns=str.upper)  # rename içerisinde str fonksiyonlarını kullanarak biz değişim yapabiliriz. "
   ]
  },
  {
   "cell_type": "code",
   "execution_count": 1475,
   "id": "37fc94fb-0cac-4a0f-9ed1-524bd2a40195",
   "metadata": {
    "tags": []
   },
   "outputs": [
    {
     "data": {
      "text/html": [
       "<div>\n",
       "<style scoped>\n",
       "    .dataframe tbody tr th:only-of-type {\n",
       "        vertical-align: middle;\n",
       "    }\n",
       "\n",
       "    .dataframe tbody tr th {\n",
       "        vertical-align: top;\n",
       "    }\n",
       "\n",
       "    .dataframe thead th {\n",
       "        text-align: right;\n",
       "    }\n",
       "</style>\n",
       "<table border=\"1\" class=\"dataframe\">\n",
       "  <thead>\n",
       "    <tr style=\"text-align: right;\">\n",
       "      <th></th>\n",
       "      <th>ali</th>\n",
       "      <th>efe</th>\n",
       "      <th>eda</th>\n",
       "      <th>ata</th>\n",
       "    </tr>\n",
       "  </thead>\n",
       "  <tbody>\n",
       "    <tr>\n",
       "      <th>on</th>\n",
       "      <td>0</td>\n",
       "      <td>1</td>\n",
       "      <td>2</td>\n",
       "      <td>3</td>\n",
       "    </tr>\n",
       "    <tr>\n",
       "      <th>iki</th>\n",
       "      <td>4</td>\n",
       "      <td>5</td>\n",
       "      <td>6</td>\n",
       "      <td>7</td>\n",
       "    </tr>\n",
       "    <tr>\n",
       "      <th>uc</th>\n",
       "      <td>8</td>\n",
       "      <td>9</td>\n",
       "      <td>10</td>\n",
       "      <td>11</td>\n",
       "    </tr>\n",
       "  </tbody>\n",
       "</table>\n",
       "</div>"
      ],
      "text/plain": [
       "     ali  efe  eda  ata\n",
       "on     0    1    2    3\n",
       "iki    4    5    6    7\n",
       "uc     8    9   10   11"
      ]
     },
     "execution_count": 1475,
     "metadata": {},
     "output_type": "execute_result"
    }
   ],
   "source": [
    "df.rename(index = {\"bir\":\"on\"},columns={\"can\":\"ata\"}) # istenen index ismini değiştirebiliriz. inplace = True ile kalıcı hale getirebiliriz.  bir dict içeriisnde key value ile değişecek ve glecek olarak belirleme yapabiliriz.  inplace = True ile kalıcı hale getirebiliriz."
   ]
  },
  {
   "cell_type": "code",
   "execution_count": 1476,
   "id": "e691cc82-d4e2-40a2-bf41-bf3bd8072c48",
   "metadata": {
    "tags": []
   },
   "outputs": [
    {
     "data": {
      "text/plain": [
       "[(20, 40], (60, 80], (20, 40], (80, 100], (40, 60], ..., (60, 80], (40, 60], (80, 100], (60, 80], (80, 100]]\n",
       "Length: 12\n",
       "Categories (4, interval[int64, right]): [(20, 40] < (40, 60] < (60, 80] < (80, 100]]"
      ]
     },
     "execution_count": 1476,
     "metadata": {},
     "output_type": "execute_result"
    }
   ],
   "source": [
    "nt = [30,80,40,90,60,45,95,75,55,100,65,85]\n",
    "aralik = [20,40,60,80,100]\n",
    "puan = pd.cut(nt,aralik) # right = False yaparsak sol taraf kapalı parantez olur.\n",
    "puan"
   ]
  },
  {
   "cell_type": "code",
   "execution_count": 1477,
   "id": "573de93d-3b79-4ff0-b8cc-1b4bfec92610",
   "metadata": {
    "tags": []
   },
   "outputs": [
    {
     "data": {
      "text/plain": [
       "array([0, 2, 0, 3, 1, 1, 3, 2, 1, 3, 2, 3], dtype=int8)"
      ]
     },
     "execution_count": 1477,
     "metadata": {},
     "output_type": "execute_result"
    }
   ],
   "source": [
    "puan.codes # mesela 30 değeri 0. indexteki aralıkta 20 40 arası   80 değeri 2. indexteki aralıkta vs..."
   ]
  },
  {
   "cell_type": "code",
   "execution_count": 1478,
   "id": "202de125-fbe3-47c3-bd20-0caf7bdfb05a",
   "metadata": {
    "tags": []
   },
   "outputs": [
    {
     "data": {
      "text/plain": [
       "IntervalIndex([(20, 40], (40, 60], (60, 80], (80, 100]], dtype='interval[int64, right]')"
      ]
     },
     "execution_count": 1478,
     "metadata": {},
     "output_type": "execute_result"
    }
   ],
   "source": [
    "puan.categories"
   ]
  },
  {
   "cell_type": "code",
   "execution_count": 1479,
   "id": "153ae3c6-f1ae-4b7b-9e18-85ab4d64a607",
   "metadata": {
    "tags": []
   },
   "outputs": [
    {
     "data": {
      "text/plain": [
       "(80, 100]    4\n",
       "(40, 60]     3\n",
       "(60, 80]     3\n",
       "(20, 40]     2\n",
       "dtype: int64"
      ]
     },
     "execution_count": 1479,
     "metadata": {},
     "output_type": "execute_result"
    }
   ],
   "source": [
    "pd.value_counts(puan) # kategorilere göre veri sıklığını görebiliriz."
   ]
  },
  {
   "cell_type": "code",
   "execution_count": 1480,
   "id": "231aa432-e334-42ae-bb2c-0b3cb2867585",
   "metadata": {
    "tags": []
   },
   "outputs": [
    {
     "data": {
      "text/plain": [
       "['dusuk', 'tavan', 'orta', 'tavan', 'yuksek', ..., 'yuksek', 'orta', NaN, 'yuksek', 'tavan']\n",
       "Length: 12\n",
       "Categories (4, object): ['dusuk' < 'orta' < 'yuksek' < 'tavan']"
      ]
     },
     "execution_count": 1480,
     "metadata": {},
     "output_type": "execute_result"
    }
   ],
   "source": [
    "isim = [\"dusuk\",\"orta\",\"yuksek\",\"tavan\"]\n",
    "pd.cut(nt,aralik,labels=isim,right = False) # right = False ile kapalı parantez sol kısma geçti...  veri,aralık,isimlendirme ve parantez kapalısı nerede olacak verebiliriz.\n",
    "# pd.cut(veri,10) # dersek 10 aralığa böleriz verileri."
   ]
  },
  {
   "cell_type": "code",
   "execution_count": 1481,
   "id": "3b795cf3-47ce-4edd-8c99-b3bf8378e57b",
   "metadata": {
    "tags": []
   },
   "outputs": [
    {
     "data": {
      "text/plain": [
       "[(0.582, 2.334], (0.582, 2.334], (-2.362, -0.766], (-2.362, -0.766], (-2.362, -0.766], ..., (0.582, 2.334], (-0.132, 0.582], (-2.362, -0.766], (0.582, 2.334], (-0.132, 0.582]]\n",
       "Length: 100\n",
       "Categories (4, interval[float64, right]): [(-2.362, -0.766] < (-0.766, -0.132] < (-0.132, 0.582] < (0.582, 2.334]]"
      ]
     },
     "execution_count": 1481,
     "metadata": {},
     "output_type": "execute_result"
    }
   ],
   "source": [
    "veri = np.random.randn(100)\n",
    "x = pd.qcut(veri,4) # her değerin çeyrek aralığı gelir. veriyi çeyrek aralıklara ayrırırız.\n",
    "x"
   ]
  },
  {
   "cell_type": "code",
   "execution_count": 1482,
   "id": "5b0cb522-c669-4a6a-8271-e14a1273c47d",
   "metadata": {
    "tags": []
   },
   "outputs": [
    {
     "data": {
      "text/html": [
       "<div>\n",
       "<style scoped>\n",
       "    .dataframe tbody tr th:only-of-type {\n",
       "        vertical-align: middle;\n",
       "    }\n",
       "\n",
       "    .dataframe tbody tr th {\n",
       "        vertical-align: top;\n",
       "    }\n",
       "\n",
       "    .dataframe thead th {\n",
       "        text-align: right;\n",
       "    }\n",
       "</style>\n",
       "<table border=\"1\" class=\"dataframe\">\n",
       "  <thead>\n",
       "    <tr style=\"text-align: right;\">\n",
       "      <th></th>\n",
       "      <th>0</th>\n",
       "      <th>1</th>\n",
       "      <th>2</th>\n",
       "      <th>3</th>\n",
       "    </tr>\n",
       "  </thead>\n",
       "  <tbody>\n",
       "    <tr>\n",
       "      <th>0</th>\n",
       "      <td>-0.637334</td>\n",
       "      <td>-0.590403</td>\n",
       "      <td>-0.321948</td>\n",
       "      <td>0.036075</td>\n",
       "    </tr>\n",
       "    <tr>\n",
       "      <th>1</th>\n",
       "      <td>-1.405521</td>\n",
       "      <td>-0.084357</td>\n",
       "      <td>0.586703</td>\n",
       "      <td>-0.875869</td>\n",
       "    </tr>\n",
       "    <tr>\n",
       "      <th>2</th>\n",
       "      <td>-1.034025</td>\n",
       "      <td>0.700615</td>\n",
       "      <td>-1.135918</td>\n",
       "      <td>0.327969</td>\n",
       "    </tr>\n",
       "    <tr>\n",
       "      <th>3</th>\n",
       "      <td>0.110718</td>\n",
       "      <td>-0.176182</td>\n",
       "      <td>0.421580</td>\n",
       "      <td>0.381908</td>\n",
       "    </tr>\n",
       "    <tr>\n",
       "      <th>4</th>\n",
       "      <td>1.007438</td>\n",
       "      <td>0.821282</td>\n",
       "      <td>0.693810</td>\n",
       "      <td>-0.076097</td>\n",
       "    </tr>\n",
       "  </tbody>\n",
       "</table>\n",
       "</div>"
      ],
      "text/plain": [
       "          0         1         2         3\n",
       "0 -0.637334 -0.590403 -0.321948  0.036075\n",
       "1 -1.405521 -0.084357  0.586703 -0.875869\n",
       "2 -1.034025  0.700615 -1.135918  0.327969\n",
       "3  0.110718 -0.176182  0.421580  0.381908\n",
       "4  1.007438  0.821282  0.693810 -0.076097"
      ]
     },
     "execution_count": 1482,
     "metadata": {},
     "output_type": "execute_result"
    }
   ],
   "source": [
    "veri = pd.DataFrame(np.random.randn(1000,4))\n",
    "veri.head()"
   ]
  },
  {
   "cell_type": "code",
   "execution_count": 1483,
   "id": "0b5c4965-8da4-41f2-9223-e0fc366f8986",
   "metadata": {
    "tags": []
   },
   "outputs": [
    {
     "data": {
      "text/html": [
       "<div>\n",
       "<style scoped>\n",
       "    .dataframe tbody tr th:only-of-type {\n",
       "        vertical-align: middle;\n",
       "    }\n",
       "\n",
       "    .dataframe tbody tr th {\n",
       "        vertical-align: top;\n",
       "    }\n",
       "\n",
       "    .dataframe thead th {\n",
       "        text-align: right;\n",
       "    }\n",
       "</style>\n",
       "<table border=\"1\" class=\"dataframe\">\n",
       "  <thead>\n",
       "    <tr style=\"text-align: right;\">\n",
       "      <th></th>\n",
       "      <th>count</th>\n",
       "      <th>mean</th>\n",
       "      <th>std</th>\n",
       "      <th>min</th>\n",
       "      <th>25%</th>\n",
       "      <th>50%</th>\n",
       "      <th>75%</th>\n",
       "      <th>max</th>\n",
       "    </tr>\n",
       "  </thead>\n",
       "  <tbody>\n",
       "    <tr>\n",
       "      <th>0</th>\n",
       "      <td>1000.0</td>\n",
       "      <td>-0.024552</td>\n",
       "      <td>1.016196</td>\n",
       "      <td>-2.973292</td>\n",
       "      <td>-0.764280</td>\n",
       "      <td>-0.008801</td>\n",
       "      <td>0.672782</td>\n",
       "      <td>2.962038</td>\n",
       "    </tr>\n",
       "    <tr>\n",
       "      <th>1</th>\n",
       "      <td>1000.0</td>\n",
       "      <td>-0.031088</td>\n",
       "      <td>0.948842</td>\n",
       "      <td>-3.625353</td>\n",
       "      <td>-0.709181</td>\n",
       "      <td>-0.005816</td>\n",
       "      <td>0.571233</td>\n",
       "      <td>2.611190</td>\n",
       "    </tr>\n",
       "    <tr>\n",
       "      <th>2</th>\n",
       "      <td>1000.0</td>\n",
       "      <td>0.067123</td>\n",
       "      <td>0.970370</td>\n",
       "      <td>-2.739117</td>\n",
       "      <td>-0.612647</td>\n",
       "      <td>0.032267</td>\n",
       "      <td>0.708223</td>\n",
       "      <td>3.195319</td>\n",
       "    </tr>\n",
       "    <tr>\n",
       "      <th>3</th>\n",
       "      <td>1000.0</td>\n",
       "      <td>0.025333</td>\n",
       "      <td>1.000743</td>\n",
       "      <td>-3.128545</td>\n",
       "      <td>-0.632165</td>\n",
       "      <td>0.023614</td>\n",
       "      <td>0.676320</td>\n",
       "      <td>3.408673</td>\n",
       "    </tr>\n",
       "  </tbody>\n",
       "</table>\n",
       "</div>"
      ],
      "text/plain": [
       "    count      mean       std       min       25%       50%       75%  \\\n",
       "0  1000.0 -0.024552  1.016196 -2.973292 -0.764280 -0.008801  0.672782   \n",
       "1  1000.0 -0.031088  0.948842 -3.625353 -0.709181 -0.005816  0.571233   \n",
       "2  1000.0  0.067123  0.970370 -2.739117 -0.612647  0.032267  0.708223   \n",
       "3  1000.0  0.025333  1.000743 -3.128545 -0.632165  0.023614  0.676320   \n",
       "\n",
       "        max  \n",
       "0  2.962038  \n",
       "1  2.611190  \n",
       "2  3.195319  \n",
       "3  3.408673  "
      ]
     },
     "execution_count": 1483,
     "metadata": {},
     "output_type": "execute_result"
    }
   ],
   "source": [
    "veri.describe().T"
   ]
  },
  {
   "cell_type": "code",
   "execution_count": 1484,
   "id": "43ac7192-0e3f-4b10-bfd0-3bd3c7224f50",
   "metadata": {
    "tags": []
   },
   "outputs": [
    {
     "data": {
      "text/plain": [
       "Series([], Name: 1, dtype: float64)"
      ]
     },
     "execution_count": 1484,
     "metadata": {},
     "output_type": "execute_result"
    }
   ],
   "source": [
    "sutun = veri[1] # 2. sutunu aldık.\n",
    "# bu sutunda mutlak değeri 3'ü geçemleri bulacağız.\n",
    "sutun[np.abs(sutun > 3)] "
   ]
  },
  {
   "cell_type": "code",
   "execution_count": 1485,
   "id": "ffa83c7e-835a-4e02-8540-44a41b011c05",
   "metadata": {
    "tags": []
   },
   "outputs": [
    {
     "data": {
      "text/html": [
       "<div>\n",
       "<style scoped>\n",
       "    .dataframe tbody tr th:only-of-type {\n",
       "        vertical-align: middle;\n",
       "    }\n",
       "\n",
       "    .dataframe tbody tr th {\n",
       "        vertical-align: top;\n",
       "    }\n",
       "\n",
       "    .dataframe thead th {\n",
       "        text-align: right;\n",
       "    }\n",
       "</style>\n",
       "<table border=\"1\" class=\"dataframe\">\n",
       "  <thead>\n",
       "    <tr style=\"text-align: right;\">\n",
       "      <th></th>\n",
       "      <th>0</th>\n",
       "      <th>1</th>\n",
       "      <th>2</th>\n",
       "      <th>3</th>\n",
       "    </tr>\n",
       "  </thead>\n",
       "  <tbody>\n",
       "    <tr>\n",
       "      <th>0</th>\n",
       "      <td>-1.0</td>\n",
       "      <td>-1.0</td>\n",
       "      <td>-1.0</td>\n",
       "      <td>1.0</td>\n",
       "    </tr>\n",
       "    <tr>\n",
       "      <th>1</th>\n",
       "      <td>-1.0</td>\n",
       "      <td>-1.0</td>\n",
       "      <td>1.0</td>\n",
       "      <td>-1.0</td>\n",
       "    </tr>\n",
       "    <tr>\n",
       "      <th>2</th>\n",
       "      <td>-1.0</td>\n",
       "      <td>1.0</td>\n",
       "      <td>-1.0</td>\n",
       "      <td>1.0</td>\n",
       "    </tr>\n",
       "    <tr>\n",
       "      <th>3</th>\n",
       "      <td>1.0</td>\n",
       "      <td>-1.0</td>\n",
       "      <td>1.0</td>\n",
       "      <td>1.0</td>\n",
       "    </tr>\n",
       "    <tr>\n",
       "      <th>4</th>\n",
       "      <td>1.0</td>\n",
       "      <td>1.0</td>\n",
       "      <td>1.0</td>\n",
       "      <td>-1.0</td>\n",
       "    </tr>\n",
       "  </tbody>\n",
       "</table>\n",
       "</div>"
      ],
      "text/plain": [
       "     0    1    2    3\n",
       "0 -1.0 -1.0 -1.0  1.0\n",
       "1 -1.0 -1.0  1.0 -1.0\n",
       "2 -1.0  1.0 -1.0  1.0\n",
       "3  1.0 -1.0  1.0  1.0\n",
       "4  1.0  1.0  1.0 -1.0"
      ]
     },
     "execution_count": 1485,
     "metadata": {},
     "output_type": "execute_result"
    }
   ],
   "source": [
    "np.sign(veri).head() # 1 demek pozitif -1 demek negatif sayı demektir.  böylece pozitif ve negatif olup olmadığını görebiliriz. "
   ]
  },
  {
   "cell_type": "code",
   "execution_count": 1486,
   "id": "986a8bf0-3020-4f5f-8315-a88d5a63fb03",
   "metadata": {
    "tags": []
   },
   "outputs": [
    {
     "data": {
      "text/html": [
       "<div>\n",
       "<style scoped>\n",
       "    .dataframe tbody tr th:only-of-type {\n",
       "        vertical-align: middle;\n",
       "    }\n",
       "\n",
       "    .dataframe tbody tr th {\n",
       "        vertical-align: top;\n",
       "    }\n",
       "\n",
       "    .dataframe thead th {\n",
       "        text-align: right;\n",
       "    }\n",
       "</style>\n",
       "<table border=\"1\" class=\"dataframe\">\n",
       "  <thead>\n",
       "    <tr style=\"text-align: right;\">\n",
       "      <th></th>\n",
       "      <th>0</th>\n",
       "      <th>1</th>\n",
       "      <th>2</th>\n",
       "    </tr>\n",
       "  </thead>\n",
       "  <tbody>\n",
       "    <tr>\n",
       "      <th>0</th>\n",
       "      <td>0</td>\n",
       "      <td>1</td>\n",
       "      <td>2</td>\n",
       "    </tr>\n",
       "    <tr>\n",
       "      <th>1</th>\n",
       "      <td>3</td>\n",
       "      <td>4</td>\n",
       "      <td>5</td>\n",
       "    </tr>\n",
       "    <tr>\n",
       "      <th>2</th>\n",
       "      <td>6</td>\n",
       "      <td>7</td>\n",
       "      <td>8</td>\n",
       "    </tr>\n",
       "    <tr>\n",
       "      <th>3</th>\n",
       "      <td>9</td>\n",
       "      <td>10</td>\n",
       "      <td>11</td>\n",
       "    </tr>\n",
       "  </tbody>\n",
       "</table>\n",
       "</div>"
      ],
      "text/plain": [
       "   0   1   2\n",
       "0  0   1   2\n",
       "1  3   4   5\n",
       "2  6   7   8\n",
       "3  9  10  11"
      ]
     },
     "execution_count": 1486,
     "metadata": {},
     "output_type": "execute_result"
    }
   ],
   "source": [
    "veri = pd.DataFrame(np.arange(12).reshape(4,3))\n",
    "veri"
   ]
  },
  {
   "cell_type": "code",
   "execution_count": 1487,
   "id": "8ffcb7ca-bccb-40a2-8672-0b771f0571d5",
   "metadata": {
    "tags": []
   },
   "outputs": [
    {
     "data": {
      "text/plain": [
       "array([2, 3, 1, 0])"
      ]
     },
     "execution_count": 1487,
     "metadata": {},
     "output_type": "execute_result"
    }
   ],
   "source": [
    "sira = np.random.permutation(4) # 4e kadar olan sayıların rastgele permütasyonları.\n",
    "sira"
   ]
  },
  {
   "cell_type": "code",
   "execution_count": 1488,
   "id": "dedf1d00-3457-4352-858c-7a882da73492",
   "metadata": {
    "tags": []
   },
   "outputs": [
    {
     "data": {
      "text/html": [
       "<div>\n",
       "<style scoped>\n",
       "    .dataframe tbody tr th:only-of-type {\n",
       "        vertical-align: middle;\n",
       "    }\n",
       "\n",
       "    .dataframe tbody tr th {\n",
       "        vertical-align: top;\n",
       "    }\n",
       "\n",
       "    .dataframe thead th {\n",
       "        text-align: right;\n",
       "    }\n",
       "</style>\n",
       "<table border=\"1\" class=\"dataframe\">\n",
       "  <thead>\n",
       "    <tr style=\"text-align: right;\">\n",
       "      <th></th>\n",
       "      <th>0</th>\n",
       "      <th>1</th>\n",
       "      <th>2</th>\n",
       "    </tr>\n",
       "  </thead>\n",
       "  <tbody>\n",
       "    <tr>\n",
       "      <th>2</th>\n",
       "      <td>6</td>\n",
       "      <td>7</td>\n",
       "      <td>8</td>\n",
       "    </tr>\n",
       "    <tr>\n",
       "      <th>3</th>\n",
       "      <td>9</td>\n",
       "      <td>10</td>\n",
       "      <td>11</td>\n",
       "    </tr>\n",
       "    <tr>\n",
       "      <th>1</th>\n",
       "      <td>3</td>\n",
       "      <td>4</td>\n",
       "      <td>5</td>\n",
       "    </tr>\n",
       "    <tr>\n",
       "      <th>0</th>\n",
       "      <td>0</td>\n",
       "      <td>1</td>\n",
       "      <td>2</td>\n",
       "    </tr>\n",
       "  </tbody>\n",
       "</table>\n",
       "</div>"
      ],
      "text/plain": [
       "   0   1   2\n",
       "2  6   7   8\n",
       "3  9  10  11\n",
       "1  3   4   5\n",
       "0  0   1   2"
      ]
     },
     "execution_count": 1488,
     "metadata": {},
     "output_type": "execute_result"
    }
   ],
   "source": [
    "veri.take(sira) # take ile sıra değiştirdik satırların sıraları değişti.  take ile bir array veya liste veririz.  ve satırları o değerlere göre tekrar sıralar.  kalıcı değişim sağlar.  inplace = True demeye gerek yok."
   ]
  },
  {
   "cell_type": "code",
   "execution_count": 1489,
   "id": "bd19aa21-c15a-4a3b-b2c1-1192ed3cb5f9",
   "metadata": {
    "tags": []
   },
   "outputs": [
    {
     "data": {
      "text/html": [
       "<div>\n",
       "<style scoped>\n",
       "    .dataframe tbody tr th:only-of-type {\n",
       "        vertical-align: middle;\n",
       "    }\n",
       "\n",
       "    .dataframe tbody tr th {\n",
       "        vertical-align: top;\n",
       "    }\n",
       "\n",
       "    .dataframe thead th {\n",
       "        text-align: right;\n",
       "    }\n",
       "</style>\n",
       "<table border=\"1\" class=\"dataframe\">\n",
       "  <thead>\n",
       "    <tr style=\"text-align: right;\">\n",
       "      <th></th>\n",
       "      <th>0</th>\n",
       "      <th>1</th>\n",
       "      <th>2</th>\n",
       "    </tr>\n",
       "  </thead>\n",
       "  <tbody>\n",
       "    <tr>\n",
       "      <th>2</th>\n",
       "      <td>6</td>\n",
       "      <td>7</td>\n",
       "      <td>8</td>\n",
       "    </tr>\n",
       "  </tbody>\n",
       "</table>\n",
       "</div>"
      ],
      "text/plain": [
       "   0  1  2\n",
       "2  6  7  8"
      ]
     },
     "execution_count": 1489,
     "metadata": {},
     "output_type": "execute_result"
    }
   ],
   "source": [
    "veri.sample() # rastgele bir satır seçti...   n = ?  demezsek default olarak 1 alır n."
   ]
  },
  {
   "cell_type": "code",
   "execution_count": 1490,
   "id": "bfde0fd2-1251-4bef-8d9b-650a676748e6",
   "metadata": {
    "tags": []
   },
   "outputs": [
    {
     "data": {
      "text/html": [
       "<div>\n",
       "<style scoped>\n",
       "    .dataframe tbody tr th:only-of-type {\n",
       "        vertical-align: middle;\n",
       "    }\n",
       "\n",
       "    .dataframe tbody tr th {\n",
       "        vertical-align: top;\n",
       "    }\n",
       "\n",
       "    .dataframe thead th {\n",
       "        text-align: right;\n",
       "    }\n",
       "</style>\n",
       "<table border=\"1\" class=\"dataframe\">\n",
       "  <thead>\n",
       "    <tr style=\"text-align: right;\">\n",
       "      <th></th>\n",
       "      <th>0</th>\n",
       "      <th>1</th>\n",
       "      <th>2</th>\n",
       "    </tr>\n",
       "  </thead>\n",
       "  <tbody>\n",
       "    <tr>\n",
       "      <th>0</th>\n",
       "      <td>0</td>\n",
       "      <td>1</td>\n",
       "      <td>2</td>\n",
       "    </tr>\n",
       "    <tr>\n",
       "      <th>1</th>\n",
       "      <td>3</td>\n",
       "      <td>4</td>\n",
       "      <td>5</td>\n",
       "    </tr>\n",
       "  </tbody>\n",
       "</table>\n",
       "</div>"
      ],
      "text/plain": [
       "   0  1  2\n",
       "0  0  1  2\n",
       "1  3  4  5"
      ]
     },
     "execution_count": 1490,
     "metadata": {},
     "output_type": "execute_result"
    }
   ],
   "source": [
    "veri.sample(n = 2) # rastgele 2 tane satır seçti. kaç tane satır isteriz belirtebiliriz."
   ]
  },
  {
   "cell_type": "code",
   "execution_count": 1492,
   "id": "066c3e38-4199-4ba1-9632-c3592035b326",
   "metadata": {
    "tags": []
   },
   "outputs": [
    {
     "data": {
      "text/html": [
       "<div>\n",
       "<style scoped>\n",
       "    .dataframe tbody tr th:only-of-type {\n",
       "        vertical-align: middle;\n",
       "    }\n",
       "\n",
       "    .dataframe tbody tr th {\n",
       "        vertical-align: top;\n",
       "    }\n",
       "\n",
       "    .dataframe thead th {\n",
       "        text-align: right;\n",
       "    }\n",
       "</style>\n",
       "<table border=\"1\" class=\"dataframe\">\n",
       "  <thead>\n",
       "    <tr style=\"text-align: right;\">\n",
       "      <th></th>\n",
       "      <th>harf</th>\n",
       "      <th>sayi</th>\n",
       "    </tr>\n",
       "  </thead>\n",
       "  <tbody>\n",
       "    <tr>\n",
       "      <th>0</th>\n",
       "      <td>c</td>\n",
       "      <td>0</td>\n",
       "    </tr>\n",
       "    <tr>\n",
       "      <th>1</th>\n",
       "      <td>b</td>\n",
       "      <td>1</td>\n",
       "    </tr>\n",
       "    <tr>\n",
       "      <th>2</th>\n",
       "      <td>a</td>\n",
       "      <td>2</td>\n",
       "    </tr>\n",
       "    <tr>\n",
       "      <th>3</th>\n",
       "      <td>b</td>\n",
       "      <td>3</td>\n",
       "    </tr>\n",
       "    <tr>\n",
       "      <th>4</th>\n",
       "      <td>b</td>\n",
       "      <td>4</td>\n",
       "    </tr>\n",
       "    <tr>\n",
       "      <th>5</th>\n",
       "      <td>a</td>\n",
       "      <td>5</td>\n",
       "    </tr>\n",
       "  </tbody>\n",
       "</table>\n",
       "</div>"
      ],
      "text/plain": [
       "  harf  sayi\n",
       "0    c     0\n",
       "1    b     1\n",
       "2    a     2\n",
       "3    b     3\n",
       "4    b     4\n",
       "5    a     5"
      ]
     },
     "execution_count": 1492,
     "metadata": {},
     "output_type": "execute_result"
    }
   ],
   "source": [
    "veri = pd.DataFrame({\"harf\":[\"c\",\"b\",\"a\",\"b\",\"b\",\"a\"],\"sayi\":range(6)})\n",
    "veri"
   ]
  },
  {
   "cell_type": "code",
   "execution_count": 1494,
   "id": "299378b1-616d-42e9-af8e-d473f9785332",
   "metadata": {
    "tags": []
   },
   "outputs": [
    {
     "data": {
      "text/html": [
       "<div>\n",
       "<style scoped>\n",
       "    .dataframe tbody tr th:only-of-type {\n",
       "        vertical-align: middle;\n",
       "    }\n",
       "\n",
       "    .dataframe tbody tr th {\n",
       "        vertical-align: top;\n",
       "    }\n",
       "\n",
       "    .dataframe thead th {\n",
       "        text-align: right;\n",
       "    }\n",
       "</style>\n",
       "<table border=\"1\" class=\"dataframe\">\n",
       "  <thead>\n",
       "    <tr style=\"text-align: right;\">\n",
       "      <th></th>\n",
       "      <th>a</th>\n",
       "      <th>b</th>\n",
       "      <th>c</th>\n",
       "    </tr>\n",
       "  </thead>\n",
       "  <tbody>\n",
       "    <tr>\n",
       "      <th>0</th>\n",
       "      <td>0</td>\n",
       "      <td>0</td>\n",
       "      <td>1</td>\n",
       "    </tr>\n",
       "    <tr>\n",
       "      <th>1</th>\n",
       "      <td>0</td>\n",
       "      <td>1</td>\n",
       "      <td>0</td>\n",
       "    </tr>\n",
       "    <tr>\n",
       "      <th>2</th>\n",
       "      <td>1</td>\n",
       "      <td>0</td>\n",
       "      <td>0</td>\n",
       "    </tr>\n",
       "    <tr>\n",
       "      <th>3</th>\n",
       "      <td>0</td>\n",
       "      <td>1</td>\n",
       "      <td>0</td>\n",
       "    </tr>\n",
       "    <tr>\n",
       "      <th>4</th>\n",
       "      <td>0</td>\n",
       "      <td>1</td>\n",
       "      <td>0</td>\n",
       "    </tr>\n",
       "    <tr>\n",
       "      <th>5</th>\n",
       "      <td>1</td>\n",
       "      <td>0</td>\n",
       "      <td>0</td>\n",
       "    </tr>\n",
       "  </tbody>\n",
       "</table>\n",
       "</div>"
      ],
      "text/plain": [
       "   a  b  c\n",
       "0  0  0  1\n",
       "1  0  1  0\n",
       "2  1  0  0\n",
       "3  0  1  0\n",
       "4  0  1  0\n",
       "5  1  0  0"
      ]
     },
     "execution_count": 1494,
     "metadata": {},
     "output_type": "execute_result"
    }
   ],
   "source": [
    "pd.get_dummies(veri[\"harf\"]) # her bir sutunda değeri olan ifadeye 1 olmayan ifadeye 0 atamak istersek get_dummies kullanıırız.       satır indexlemesi değişmez ve her unique değer bir sutun olur. o satırda olan 1 alır olmayan 2 alır."
   ]
  },
  {
   "cell_type": "code",
   "execution_count": 1495,
   "id": "0b9a360c-3acc-4a5e-84ed-a872e87faf17",
   "metadata": {
    "tags": []
   },
   "outputs": [
    {
     "data": {
      "text/plain": [
       "array([ 0.98581241, -1.01544043,  0.53376224,  2.46895666, -0.31434976,\n",
       "        0.95930496, -0.07379611, -0.5366949 , -0.86726379,  0.0889986 ])"
      ]
     },
     "execution_count": 1495,
     "metadata": {},
     "output_type": "execute_result"
    }
   ],
   "source": [
    "veri = np.random.randn(10)\n",
    "veri"
   ]
  },
  {
   "cell_type": "code",
   "execution_count": 1555,
   "id": "5a6340a2-76b1-45d1-96f3-342d9e0e5553",
   "metadata": {
    "tags": []
   },
   "outputs": [],
   "source": [
    "# pd.get_dummies(pd.qcut(veri,4),dummy_na=True) # veri seti 4 aralığa ayrıldı. ve her değerin bulunduğu aralık bir ile gösterildi."
   ]
  },
  {
   "cell_type": "markdown",
   "id": "83c8dcc7-c21b-4adc-95a7-87ebe2d0de67",
   "metadata": {},
   "source": [
    "## HİYERARŞİK İNDEXLER(HİERARCHİCAL İNDEXİNG)"
   ]
  },
  {
   "cell_type": "code",
   "execution_count": 1498,
   "id": "f12bbf3c-cafb-4e95-ad37-87e2ea5d1900",
   "metadata": {
    "tags": []
   },
   "outputs": [
    {
     "data": {
      "text/plain": [
       "a  1    0.415185\n",
       "   2   -1.637986\n",
       "   3   -0.694403\n",
       "b  1    0.212805\n",
       "   2    1.395732\n",
       "   3    2.297093\n",
       "c  1   -0.766875\n",
       "   2    0.127062\n",
       "dtype: float64"
      ]
     },
     "execution_count": 1498,
     "metadata": {},
     "output_type": "execute_result"
    }
   ],
   "source": [
    "# bir eksen üzerinde birden fazla index seviyelerine olanak sağlar. çoklu indexler olarakta bilinir. \n",
    "veri = pd.Series(np.random.randn(8),index = [[\"a\",\"a\",\"a\",\"b\",\"b\",\"b\",\"c\",\"c\"],[1,2,3,1,2,3,1,2]])  # önce dış sonra iç index yazılır.\n",
    "veri # birden fazla index var iki seviye index var."
   ]
  },
  {
   "cell_type": "code",
   "execution_count": 1499,
   "id": "3197125a-d28e-4a18-8c56-8be7e5b6358a",
   "metadata": {
    "tags": []
   },
   "outputs": [
    {
     "data": {
      "text/plain": [
       "MultiIndex([('a', 1),\n",
       "            ('a', 2),\n",
       "            ('a', 3),\n",
       "            ('b', 1),\n",
       "            ('b', 2),\n",
       "            ('b', 3),\n",
       "            ('c', 1),\n",
       "            ('c', 2)],\n",
       "           )"
      ]
     },
     "execution_count": 1499,
     "metadata": {},
     "output_type": "execute_result"
    }
   ],
   "source": [
    "veri.index # MultiIndex olarak geçer. satır indexleri birden fazladır. burada index iki seviyeden oluşur."
   ]
  },
  {
   "cell_type": "code",
   "execution_count": 1500,
   "id": "40143024-4537-41a9-a34d-2767fb22da63",
   "metadata": {
    "tags": []
   },
   "outputs": [
    {
     "data": {
      "text/plain": [
       "1    0.415185\n",
       "2   -1.637986\n",
       "3   -0.694403\n",
       "dtype: float64"
      ]
     },
     "execution_count": 1500,
     "metadata": {},
     "output_type": "execute_result"
    }
   ],
   "source": [
    "veri[\"a\"] # a indexe sahip veriler gelir. # bir seri olduğu için satırlar gelir yoksa .loc vs kullanmak lazım loc ve iloc satırlar üzerinden işlem yaparlar."
   ]
  },
  {
   "cell_type": "code",
   "execution_count": 1501,
   "id": "1f228e06-984e-4f7a-b614-b489c16d7f19",
   "metadata": {
    "tags": []
   },
   "outputs": [
    {
     "data": {
      "text/plain": [
       "b  1    0.212805\n",
       "   2    1.395732\n",
       "   3    2.297093\n",
       "c  1   -0.766875\n",
       "   2    0.127062\n",
       "dtype: float64"
      ]
     },
     "execution_count": 1501,
     "metadata": {},
     "output_type": "execute_result"
    }
   ],
   "source": [
    "veri[\"b\":\"c\"] # b indexinden c indexine kadar c dahil.  yani dış index üzerinden işlem yaoabiliriz.   bir seri olduğu için yoksa loc ve iloc kullanmak gerekecekti."
   ]
  },
  {
   "cell_type": "code",
   "execution_count": 1502,
   "id": "92b49f35-c2ab-4843-ad05-60052a294a20",
   "metadata": {
    "tags": []
   },
   "outputs": [
    {
     "data": {
      "text/plain": [
       "a  1    0.415185\n",
       "   2   -1.637986\n",
       "   3   -0.694403\n",
       "c  1   -0.766875\n",
       "   2    0.127062\n",
       "dtype: float64"
      ]
     },
     "execution_count": 1502,
     "metadata": {},
     "output_type": "execute_result"
    }
   ],
   "source": [
    "veri.loc[[\"a\",\"c\"]] # a ve c indexlerine sahip değerler.  üst seviye indexleri aldık alt seviye indexleri ile beraber"
   ]
  },
  {
   "cell_type": "code",
   "execution_count": 1503,
   "id": "8049bf45-f55c-4865-a8b8-339cf417b543",
   "metadata": {
    "tags": []
   },
   "outputs": [
    {
     "data": {
      "text/plain": [
       "a    0.415185\n",
       "b    0.212805\n",
       "c   -0.766875\n",
       "dtype: float64"
      ]
     },
     "execution_count": 1503,
     "metadata": {},
     "output_type": "execute_result"
    }
   ],
   "source": [
    "# içteki indexten veri seçme.\n",
    "veri.loc[:,1] # :   ile tüm dış indexler  sonra virgül ile iç indexe geçeriz.  ve ondan sadece 1. indexi yani 2. elemanları alırız.  tüm dış indexlerin ikinici elemanı gelir.  virgül ile iç indexe geçeriz."
   ]
  },
  {
   "cell_type": "code",
   "execution_count": 1504,
   "id": "4a9d6053-98e6-4c7b-a145-78b2923be177",
   "metadata": {
    "tags": []
   },
   "outputs": [
    {
     "data": {
      "text/html": [
       "<div>\n",
       "<style scoped>\n",
       "    .dataframe tbody tr th:only-of-type {\n",
       "        vertical-align: middle;\n",
       "    }\n",
       "\n",
       "    .dataframe tbody tr th {\n",
       "        vertical-align: top;\n",
       "    }\n",
       "\n",
       "    .dataframe thead th {\n",
       "        text-align: right;\n",
       "    }\n",
       "</style>\n",
       "<table border=\"1\" class=\"dataframe\">\n",
       "  <thead>\n",
       "    <tr style=\"text-align: right;\">\n",
       "      <th></th>\n",
       "      <th>1</th>\n",
       "      <th>2</th>\n",
       "      <th>3</th>\n",
       "    </tr>\n",
       "  </thead>\n",
       "  <tbody>\n",
       "    <tr>\n",
       "      <th>a</th>\n",
       "      <td>0.415185</td>\n",
       "      <td>-1.637986</td>\n",
       "      <td>-0.694403</td>\n",
       "    </tr>\n",
       "    <tr>\n",
       "      <th>b</th>\n",
       "      <td>0.212805</td>\n",
       "      <td>1.395732</td>\n",
       "      <td>2.297093</td>\n",
       "    </tr>\n",
       "    <tr>\n",
       "      <th>c</th>\n",
       "      <td>-0.766875</td>\n",
       "      <td>0.127062</td>\n",
       "      <td>NaN</td>\n",
       "    </tr>\n",
       "  </tbody>\n",
       "</table>\n",
       "</div>"
      ],
      "text/plain": [
       "          1         2         3\n",
       "a  0.415185 -1.637986 -0.694403\n",
       "b  0.212805  1.395732  2.297093\n",
       "c -0.766875  0.127062       NaN"
      ]
     },
     "execution_count": 1504,
     "metadata": {},
     "output_type": "execute_result"
    }
   ],
   "source": [
    "veri.unstack() # veriyi tablo haline getirebiliriz."
   ]
  },
  {
   "cell_type": "code",
   "execution_count": 1505,
   "id": "ee76b1cf-94d2-4faf-92f3-59732ac5b130",
   "metadata": {
    "tags": []
   },
   "outputs": [
    {
     "data": {
      "text/plain": [
       "a  1    0.415185\n",
       "   2   -1.637986\n",
       "   3   -0.694403\n",
       "b  1    0.212805\n",
       "   2    1.395732\n",
       "   3    2.297093\n",
       "c  1   -0.766875\n",
       "   2    0.127062\n",
       "dtype: float64"
      ]
     },
     "execution_count": 1505,
     "metadata": {},
     "output_type": "execute_result"
    }
   ],
   "source": [
    "veri.unstack().stack() # unstack olmuş veriyi stack hale getirebiliriz. .stack() ile."
   ]
  },
  {
   "cell_type": "code",
   "execution_count": 1507,
   "id": "1c931235-7580-47cf-aa13-d616d06d2f79",
   "metadata": {
    "tags": []
   },
   "outputs": [
    {
     "data": {
      "text/html": [
       "<div>\n",
       "<style scoped>\n",
       "    .dataframe tbody tr th:only-of-type {\n",
       "        vertical-align: middle;\n",
       "    }\n",
       "\n",
       "    .dataframe tbody tr th {\n",
       "        vertical-align: top;\n",
       "    }\n",
       "\n",
       "    .dataframe thead tr th {\n",
       "        text-align: left;\n",
       "    }\n",
       "</style>\n",
       "<table border=\"1\" class=\"dataframe\">\n",
       "  <thead>\n",
       "    <tr>\n",
       "      <th></th>\n",
       "      <th></th>\n",
       "      <th colspan=\"2\" halign=\"left\">say</th>\n",
       "      <th>soz</th>\n",
       "    </tr>\n",
       "    <tr>\n",
       "      <th></th>\n",
       "      <th></th>\n",
       "      <th>mat</th>\n",
       "      <th>fiz</th>\n",
       "      <th>edb</th>\n",
       "    </tr>\n",
       "  </thead>\n",
       "  <tbody>\n",
       "    <tr>\n",
       "      <th rowspan=\"2\" valign=\"top\">a</th>\n",
       "      <th>1</th>\n",
       "      <td>0</td>\n",
       "      <td>1</td>\n",
       "      <td>2</td>\n",
       "    </tr>\n",
       "    <tr>\n",
       "      <th>2</th>\n",
       "      <td>3</td>\n",
       "      <td>4</td>\n",
       "      <td>5</td>\n",
       "    </tr>\n",
       "    <tr>\n",
       "      <th rowspan=\"2\" valign=\"top\">b</th>\n",
       "      <th>1</th>\n",
       "      <td>6</td>\n",
       "      <td>7</td>\n",
       "      <td>8</td>\n",
       "    </tr>\n",
       "    <tr>\n",
       "      <th>2</th>\n",
       "      <td>9</td>\n",
       "      <td>10</td>\n",
       "      <td>11</td>\n",
       "    </tr>\n",
       "  </tbody>\n",
       "</table>\n",
       "</div>"
      ],
      "text/plain": [
       "    say     soz\n",
       "    mat fiz edb\n",
       "a 1   0   1   2\n",
       "  2   3   4   5\n",
       "b 1   6   7   8\n",
       "  2   9  10  11"
      ]
     },
     "execution_count": 1507,
     "metadata": {},
     "output_type": "execute_result"
    }
   ],
   "source": [
    "vs = pd.DataFrame(np.arange(12).reshape(4,3),index=[[\"a\",\"a\",\"b\",\"b\"],[1,2,1,2]],columns=[[\"say\",\"say\",\"soz\"],[\"mat\",\"fiz\",\"edb\"]])\n",
    "vs"
   ]
  },
  {
   "cell_type": "code",
   "execution_count": 1509,
   "id": "554d36c0-d297-4b98-9c09-53806c6d2111",
   "metadata": {
    "tags": []
   },
   "outputs": [
    {
     "data": {
      "text/html": [
       "<div>\n",
       "<style scoped>\n",
       "    .dataframe tbody tr th:only-of-type {\n",
       "        vertical-align: middle;\n",
       "    }\n",
       "\n",
       "    .dataframe tbody tr th {\n",
       "        vertical-align: top;\n",
       "    }\n",
       "\n",
       "    .dataframe thead tr th {\n",
       "        text-align: left;\n",
       "    }\n",
       "\n",
       "    .dataframe thead tr:last-of-type th {\n",
       "        text-align: right;\n",
       "    }\n",
       "</style>\n",
       "<table border=\"1\" class=\"dataframe\">\n",
       "  <thead>\n",
       "    <tr>\n",
       "      <th></th>\n",
       "      <th>alan</th>\n",
       "      <th colspan=\"2\" halign=\"left\">say</th>\n",
       "      <th>soz</th>\n",
       "    </tr>\n",
       "    <tr>\n",
       "      <th></th>\n",
       "      <th>ders</th>\n",
       "      <th>mat</th>\n",
       "      <th>fiz</th>\n",
       "      <th>edb</th>\n",
       "    </tr>\n",
       "    <tr>\n",
       "      <th>sinif</th>\n",
       "      <th>sinav</th>\n",
       "      <th></th>\n",
       "      <th></th>\n",
       "      <th></th>\n",
       "    </tr>\n",
       "  </thead>\n",
       "  <tbody>\n",
       "    <tr>\n",
       "      <th rowspan=\"2\" valign=\"top\">a</th>\n",
       "      <th>1</th>\n",
       "      <td>0</td>\n",
       "      <td>1</td>\n",
       "      <td>2</td>\n",
       "    </tr>\n",
       "    <tr>\n",
       "      <th>2</th>\n",
       "      <td>3</td>\n",
       "      <td>4</td>\n",
       "      <td>5</td>\n",
       "    </tr>\n",
       "    <tr>\n",
       "      <th rowspan=\"2\" valign=\"top\">b</th>\n",
       "      <th>1</th>\n",
       "      <td>6</td>\n",
       "      <td>7</td>\n",
       "      <td>8</td>\n",
       "    </tr>\n",
       "    <tr>\n",
       "      <th>2</th>\n",
       "      <td>9</td>\n",
       "      <td>10</td>\n",
       "      <td>11</td>\n",
       "    </tr>\n",
       "  </tbody>\n",
       "</table>\n",
       "</div>"
      ],
      "text/plain": [
       "alan        say     soz\n",
       "ders        mat fiz edb\n",
       "sinif sinav            \n",
       "a     1       0   1   2\n",
       "      2       3   4   5\n",
       "b     1       6   7   8\n",
       "      2       9  10  11"
      ]
     },
     "execution_count": 1509,
     "metadata": {},
     "output_type": "execute_result"
    }
   ],
   "source": [
    "vs.index.names = [\"sinif\",\"sinav\"]\n",
    "vs.columns.names = [\"alan\",\"ders\"]\n",
    "vs"
   ]
  },
  {
   "cell_type": "code",
   "execution_count": 1510,
   "id": "091e5216-baf0-4091-8c50-38ca2ebb1421",
   "metadata": {
    "tags": []
   },
   "outputs": [
    {
     "data": {
      "text/html": [
       "<div>\n",
       "<style scoped>\n",
       "    .dataframe tbody tr th:only-of-type {\n",
       "        vertical-align: middle;\n",
       "    }\n",
       "\n",
       "    .dataframe tbody tr th {\n",
       "        vertical-align: top;\n",
       "    }\n",
       "\n",
       "    .dataframe thead th {\n",
       "        text-align: right;\n",
       "    }\n",
       "</style>\n",
       "<table border=\"1\" class=\"dataframe\">\n",
       "  <thead>\n",
       "    <tr style=\"text-align: right;\">\n",
       "      <th></th>\n",
       "      <th>ders</th>\n",
       "      <th>mat</th>\n",
       "      <th>fiz</th>\n",
       "    </tr>\n",
       "    <tr>\n",
       "      <th>sinif</th>\n",
       "      <th>sinav</th>\n",
       "      <th></th>\n",
       "      <th></th>\n",
       "    </tr>\n",
       "  </thead>\n",
       "  <tbody>\n",
       "    <tr>\n",
       "      <th rowspan=\"2\" valign=\"top\">a</th>\n",
       "      <th>1</th>\n",
       "      <td>0</td>\n",
       "      <td>1</td>\n",
       "    </tr>\n",
       "    <tr>\n",
       "      <th>2</th>\n",
       "      <td>3</td>\n",
       "      <td>4</td>\n",
       "    </tr>\n",
       "    <tr>\n",
       "      <th rowspan=\"2\" valign=\"top\">b</th>\n",
       "      <th>1</th>\n",
       "      <td>6</td>\n",
       "      <td>7</td>\n",
       "    </tr>\n",
       "    <tr>\n",
       "      <th>2</th>\n",
       "      <td>9</td>\n",
       "      <td>10</td>\n",
       "    </tr>\n",
       "  </tbody>\n",
       "</table>\n",
       "</div>"
      ],
      "text/plain": [
       "ders         mat  fiz\n",
       "sinif sinav          \n",
       "a     1        0    1\n",
       "      2        3    4\n",
       "b     1        6    7\n",
       "      2        9   10"
      ]
     },
     "execution_count": 1510,
     "metadata": {},
     "output_type": "execute_result"
    }
   ],
   "source": [
    "# verinin alt gruplarını seçmek isteyebiliriz.\n",
    "vs[\"say\"] "
   ]
  },
  {
   "cell_type": "code",
   "execution_count": 1511,
   "id": "20183443-4463-4897-9074-e59b412b88d7",
   "metadata": {
    "tags": []
   },
   "outputs": [
    {
     "data": {
      "text/html": [
       "<div>\n",
       "<style scoped>\n",
       "    .dataframe tbody tr th:only-of-type {\n",
       "        vertical-align: middle;\n",
       "    }\n",
       "\n",
       "    .dataframe tbody tr th {\n",
       "        vertical-align: top;\n",
       "    }\n",
       "\n",
       "    .dataframe thead tr th {\n",
       "        text-align: left;\n",
       "    }\n",
       "\n",
       "    .dataframe thead tr:last-of-type th {\n",
       "        text-align: right;\n",
       "    }\n",
       "</style>\n",
       "<table border=\"1\" class=\"dataframe\">\n",
       "  <thead>\n",
       "    <tr>\n",
       "      <th></th>\n",
       "      <th>alan</th>\n",
       "      <th colspan=\"2\" halign=\"left\">say</th>\n",
       "      <th>soz</th>\n",
       "    </tr>\n",
       "    <tr>\n",
       "      <th></th>\n",
       "      <th>ders</th>\n",
       "      <th>mat</th>\n",
       "      <th>fiz</th>\n",
       "      <th>edb</th>\n",
       "    </tr>\n",
       "    <tr>\n",
       "      <th>sinav</th>\n",
       "      <th>sinif</th>\n",
       "      <th></th>\n",
       "      <th></th>\n",
       "      <th></th>\n",
       "    </tr>\n",
       "  </thead>\n",
       "  <tbody>\n",
       "    <tr>\n",
       "      <th>1</th>\n",
       "      <th>a</th>\n",
       "      <td>0</td>\n",
       "      <td>1</td>\n",
       "      <td>2</td>\n",
       "    </tr>\n",
       "    <tr>\n",
       "      <th>2</th>\n",
       "      <th>a</th>\n",
       "      <td>3</td>\n",
       "      <td>4</td>\n",
       "      <td>5</td>\n",
       "    </tr>\n",
       "    <tr>\n",
       "      <th>1</th>\n",
       "      <th>b</th>\n",
       "      <td>6</td>\n",
       "      <td>7</td>\n",
       "      <td>8</td>\n",
       "    </tr>\n",
       "    <tr>\n",
       "      <th>2</th>\n",
       "      <th>b</th>\n",
       "      <td>9</td>\n",
       "      <td>10</td>\n",
       "      <td>11</td>\n",
       "    </tr>\n",
       "  </tbody>\n",
       "</table>\n",
       "</div>"
      ],
      "text/plain": [
       "alan        say     soz\n",
       "ders        mat fiz edb\n",
       "sinav sinif            \n",
       "1     a       0   1   2\n",
       "2     a       3   4   5\n",
       "1     b       6   7   8\n",
       "2     b       9  10  11"
      ]
     },
     "execution_count": 1511,
     "metadata": {},
     "output_type": "execute_result"
    }
   ],
   "source": [
    "vs.swaplevel(\"sinif\",\"sinav\") # sınıf ve sınav indexlerinin yeri değişecek."
   ]
  },
  {
   "cell_type": "code",
   "execution_count": 1512,
   "id": "b5a15e1c-d27f-4811-978e-10a61a396c27",
   "metadata": {
    "tags": []
   },
   "outputs": [
    {
     "data": {
      "text/html": [
       "<div>\n",
       "<style scoped>\n",
       "    .dataframe tbody tr th:only-of-type {\n",
       "        vertical-align: middle;\n",
       "    }\n",
       "\n",
       "    .dataframe tbody tr th {\n",
       "        vertical-align: top;\n",
       "    }\n",
       "\n",
       "    .dataframe thead tr th {\n",
       "        text-align: left;\n",
       "    }\n",
       "\n",
       "    .dataframe thead tr:last-of-type th {\n",
       "        text-align: right;\n",
       "    }\n",
       "</style>\n",
       "<table border=\"1\" class=\"dataframe\">\n",
       "  <thead>\n",
       "    <tr>\n",
       "      <th></th>\n",
       "      <th>alan</th>\n",
       "      <th colspan=\"2\" halign=\"left\">say</th>\n",
       "      <th>soz</th>\n",
       "    </tr>\n",
       "    <tr>\n",
       "      <th></th>\n",
       "      <th>ders</th>\n",
       "      <th>mat</th>\n",
       "      <th>fiz</th>\n",
       "      <th>edb</th>\n",
       "    </tr>\n",
       "    <tr>\n",
       "      <th>sinif</th>\n",
       "      <th>sinav</th>\n",
       "      <th></th>\n",
       "      <th></th>\n",
       "      <th></th>\n",
       "    </tr>\n",
       "  </thead>\n",
       "  <tbody>\n",
       "    <tr>\n",
       "      <th>a</th>\n",
       "      <th>1</th>\n",
       "      <td>0</td>\n",
       "      <td>1</td>\n",
       "      <td>2</td>\n",
       "    </tr>\n",
       "    <tr>\n",
       "      <th>b</th>\n",
       "      <th>1</th>\n",
       "      <td>6</td>\n",
       "      <td>7</td>\n",
       "      <td>8</td>\n",
       "    </tr>\n",
       "    <tr>\n",
       "      <th>a</th>\n",
       "      <th>2</th>\n",
       "      <td>3</td>\n",
       "      <td>4</td>\n",
       "      <td>5</td>\n",
       "    </tr>\n",
       "    <tr>\n",
       "      <th>b</th>\n",
       "      <th>2</th>\n",
       "      <td>9</td>\n",
       "      <td>10</td>\n",
       "      <td>11</td>\n",
       "    </tr>\n",
       "  </tbody>\n",
       "</table>\n",
       "</div>"
      ],
      "text/plain": [
       "alan        say     soz\n",
       "ders        mat fiz edb\n",
       "sinif sinav            \n",
       "a     1       0   1   2\n",
       "b     1       6   7   8\n",
       "a     2       3   4   5\n",
       "b     2       9  10  11"
      ]
     },
     "execution_count": 1512,
     "metadata": {},
     "output_type": "execute_result"
    }
   ],
   "source": [
    "vs.sort_index(level=1) # seviye 1'e göre sıralandı. boş bırrakırsak 0. indexe göre sıralar.  0.index ve 1.index vardır. 1. index burada içte olandır."
   ]
  },
  {
   "cell_type": "code",
   "execution_count": 1513,
   "id": "4a0b0522-ba5b-4b53-9e93-9d019dcf6622",
   "metadata": {
    "tags": []
   },
   "outputs": [
    {
     "name": "stderr",
     "output_type": "stream",
     "text": [
      "C:\\Users\\emrea\\AppData\\Local\\Temp\\ipykernel_24860\\2183449011.py:1: FutureWarning: Using the level keyword in DataFrame and Series aggregations is deprecated and will be removed in a future version. Use groupby instead. df.sum(level=1) should use df.groupby(level=1).sum().\n",
      "  vs.sum(level= \"sinav\")\n"
     ]
    },
    {
     "data": {
      "text/html": [
       "<div>\n",
       "<style scoped>\n",
       "    .dataframe tbody tr th:only-of-type {\n",
       "        vertical-align: middle;\n",
       "    }\n",
       "\n",
       "    .dataframe tbody tr th {\n",
       "        vertical-align: top;\n",
       "    }\n",
       "\n",
       "    .dataframe thead tr th {\n",
       "        text-align: left;\n",
       "    }\n",
       "\n",
       "    .dataframe thead tr:last-of-type th {\n",
       "        text-align: right;\n",
       "    }\n",
       "</style>\n",
       "<table border=\"1\" class=\"dataframe\">\n",
       "  <thead>\n",
       "    <tr>\n",
       "      <th>alan</th>\n",
       "      <th colspan=\"2\" halign=\"left\">say</th>\n",
       "      <th>soz</th>\n",
       "    </tr>\n",
       "    <tr>\n",
       "      <th>ders</th>\n",
       "      <th>mat</th>\n",
       "      <th>fiz</th>\n",
       "      <th>edb</th>\n",
       "    </tr>\n",
       "    <tr>\n",
       "      <th>sinav</th>\n",
       "      <th></th>\n",
       "      <th></th>\n",
       "      <th></th>\n",
       "    </tr>\n",
       "  </thead>\n",
       "  <tbody>\n",
       "    <tr>\n",
       "      <th>1</th>\n",
       "      <td>6</td>\n",
       "      <td>8</td>\n",
       "      <td>10</td>\n",
       "    </tr>\n",
       "    <tr>\n",
       "      <th>2</th>\n",
       "      <td>12</td>\n",
       "      <td>14</td>\n",
       "      <td>16</td>\n",
       "    </tr>\n",
       "  </tbody>\n",
       "</table>\n",
       "</div>"
      ],
      "text/plain": [
       "alan  say     soz\n",
       "ders  mat fiz edb\n",
       "sinav            \n",
       "1       6   8  10\n",
       "2      12  14  16"
      ]
     },
     "execution_count": 1513,
     "metadata": {},
     "output_type": "execute_result"
    }
   ],
   "source": [
    "vs.sum(level= \"sinav\") # sınav seviyesine göre toplam değerler. aynı olan sınav seviyesi aynı olan satırları üst üste koyup topladı aynı konumdaki verileri topladı."
   ]
  },
  {
   "cell_type": "code",
   "execution_count": 1514,
   "id": "398a1fb8-f1c5-4434-91c7-a51dc166fad2",
   "metadata": {
    "tags": []
   },
   "outputs": [
    {
     "name": "stderr",
     "output_type": "stream",
     "text": [
      "C:\\Users\\emrea\\AppData\\Local\\Temp\\ipykernel_24860\\4145241622.py:1: FutureWarning: Using the level keyword in DataFrame and Series aggregations is deprecated and will be removed in a future version. Use groupby instead. df.sum(level=1) should use df.groupby(level=1).sum().\n",
      "  vs.sum(level=\"alan\",axis = 1)\n"
     ]
    },
    {
     "data": {
      "text/html": [
       "<div>\n",
       "<style scoped>\n",
       "    .dataframe tbody tr th:only-of-type {\n",
       "        vertical-align: middle;\n",
       "    }\n",
       "\n",
       "    .dataframe tbody tr th {\n",
       "        vertical-align: top;\n",
       "    }\n",
       "\n",
       "    .dataframe thead th {\n",
       "        text-align: right;\n",
       "    }\n",
       "</style>\n",
       "<table border=\"1\" class=\"dataframe\">\n",
       "  <thead>\n",
       "    <tr style=\"text-align: right;\">\n",
       "      <th></th>\n",
       "      <th>alan</th>\n",
       "      <th>say</th>\n",
       "      <th>soz</th>\n",
       "    </tr>\n",
       "    <tr>\n",
       "      <th>sinif</th>\n",
       "      <th>sinav</th>\n",
       "      <th></th>\n",
       "      <th></th>\n",
       "    </tr>\n",
       "  </thead>\n",
       "  <tbody>\n",
       "    <tr>\n",
       "      <th rowspan=\"2\" valign=\"top\">a</th>\n",
       "      <th>1</th>\n",
       "      <td>1</td>\n",
       "      <td>2</td>\n",
       "    </tr>\n",
       "    <tr>\n",
       "      <th>2</th>\n",
       "      <td>7</td>\n",
       "      <td>5</td>\n",
       "    </tr>\n",
       "    <tr>\n",
       "      <th rowspan=\"2\" valign=\"top\">b</th>\n",
       "      <th>1</th>\n",
       "      <td>13</td>\n",
       "      <td>8</td>\n",
       "    </tr>\n",
       "    <tr>\n",
       "      <th>2</th>\n",
       "      <td>19</td>\n",
       "      <td>11</td>\n",
       "    </tr>\n",
       "  </tbody>\n",
       "</table>\n",
       "</div>"
      ],
      "text/plain": [
       "alan         say  soz\n",
       "sinif sinav          \n",
       "a     1        1    2\n",
       "      2        7    5\n",
       "b     1       13    8\n",
       "      2       19   11"
      ]
     },
     "execution_count": 1514,
     "metadata": {},
     "output_type": "execute_result"
    }
   ],
   "source": [
    "vs.sum(level=\"alan\",axis = 1) # axis ile sutunlar arası toplama yapılacak demektir. level ile alanı belirledik.  aynı alan olan sutunlar toplanacak. "
   ]
  },
  {
   "cell_type": "code",
   "execution_count": 1515,
   "id": "6d760a87-3542-4048-b509-8db8fe7b2a18",
   "metadata": {
    "tags": []
   },
   "outputs": [
    {
     "data": {
      "text/html": [
       "<div>\n",
       "<style scoped>\n",
       "    .dataframe tbody tr th:only-of-type {\n",
       "        vertical-align: middle;\n",
       "    }\n",
       "\n",
       "    .dataframe tbody tr th {\n",
       "        vertical-align: top;\n",
       "    }\n",
       "\n",
       "    .dataframe thead th {\n",
       "        text-align: right;\n",
       "    }\n",
       "</style>\n",
       "<table border=\"1\" class=\"dataframe\">\n",
       "  <thead>\n",
       "    <tr style=\"text-align: right;\">\n",
       "      <th></th>\n",
       "      <th>x</th>\n",
       "      <th>y</th>\n",
       "      <th>a</th>\n",
       "      <th>b</th>\n",
       "    </tr>\n",
       "  </thead>\n",
       "  <tbody>\n",
       "    <tr>\n",
       "      <th>0</th>\n",
       "      <td>0</td>\n",
       "      <td>8</td>\n",
       "      <td>bir</td>\n",
       "      <td>0</td>\n",
       "    </tr>\n",
       "    <tr>\n",
       "      <th>1</th>\n",
       "      <td>1</td>\n",
       "      <td>7</td>\n",
       "      <td>bir</td>\n",
       "      <td>1</td>\n",
       "    </tr>\n",
       "    <tr>\n",
       "      <th>2</th>\n",
       "      <td>2</td>\n",
       "      <td>6</td>\n",
       "      <td>bir</td>\n",
       "      <td>2</td>\n",
       "    </tr>\n",
       "    <tr>\n",
       "      <th>3</th>\n",
       "      <td>3</td>\n",
       "      <td>5</td>\n",
       "      <td>bir</td>\n",
       "      <td>3</td>\n",
       "    </tr>\n",
       "    <tr>\n",
       "      <th>4</th>\n",
       "      <td>4</td>\n",
       "      <td>4</td>\n",
       "      <td>iki</td>\n",
       "      <td>0</td>\n",
       "    </tr>\n",
       "    <tr>\n",
       "      <th>5</th>\n",
       "      <td>5</td>\n",
       "      <td>3</td>\n",
       "      <td>iki</td>\n",
       "      <td>1</td>\n",
       "    </tr>\n",
       "    <tr>\n",
       "      <th>6</th>\n",
       "      <td>6</td>\n",
       "      <td>2</td>\n",
       "      <td>iki</td>\n",
       "      <td>2</td>\n",
       "    </tr>\n",
       "    <tr>\n",
       "      <th>7</th>\n",
       "      <td>7</td>\n",
       "      <td>1</td>\n",
       "      <td>iki</td>\n",
       "      <td>3</td>\n",
       "    </tr>\n",
       "  </tbody>\n",
       "</table>\n",
       "</div>"
      ],
      "text/plain": [
       "   x  y    a  b\n",
       "0  0  8  bir  0\n",
       "1  1  7  bir  1\n",
       "2  2  6  bir  2\n",
       "3  3  5  bir  3\n",
       "4  4  4  iki  0\n",
       "5  5  3  iki  1\n",
       "6  6  2  iki  2\n",
       "7  7  1  iki  3"
      ]
     },
     "execution_count": 1515,
     "metadata": {},
     "output_type": "execute_result"
    }
   ],
   "source": [
    "veri = pd.DataFrame({\"x\":range(8),\"y\":range(8,0,-1),\"a\":[\"bir\",\"bir\",\"bir\",\"bir\",\"iki\",\"iki\",\"iki\",\"iki\"],\"b\":[0,1,2,3,0,1,2,3]})\n",
    "veri"
   ]
  },
  {
   "cell_type": "code",
   "execution_count": 1516,
   "id": "f65f0621-36b4-4da8-ae9a-cba9150074bf",
   "metadata": {
    "tags": []
   },
   "outputs": [
    {
     "data": {
      "text/html": [
       "<div>\n",
       "<style scoped>\n",
       "    .dataframe tbody tr th:only-of-type {\n",
       "        vertical-align: middle;\n",
       "    }\n",
       "\n",
       "    .dataframe tbody tr th {\n",
       "        vertical-align: top;\n",
       "    }\n",
       "\n",
       "    .dataframe thead th {\n",
       "        text-align: right;\n",
       "    }\n",
       "</style>\n",
       "<table border=\"1\" class=\"dataframe\">\n",
       "  <thead>\n",
       "    <tr style=\"text-align: right;\">\n",
       "      <th></th>\n",
       "      <th></th>\n",
       "      <th>x</th>\n",
       "      <th>y</th>\n",
       "    </tr>\n",
       "    <tr>\n",
       "      <th>a</th>\n",
       "      <th>b</th>\n",
       "      <th></th>\n",
       "      <th></th>\n",
       "    </tr>\n",
       "  </thead>\n",
       "  <tbody>\n",
       "    <tr>\n",
       "      <th rowspan=\"4\" valign=\"top\">bir</th>\n",
       "      <th>0</th>\n",
       "      <td>0</td>\n",
       "      <td>8</td>\n",
       "    </tr>\n",
       "    <tr>\n",
       "      <th>1</th>\n",
       "      <td>1</td>\n",
       "      <td>7</td>\n",
       "    </tr>\n",
       "    <tr>\n",
       "      <th>2</th>\n",
       "      <td>2</td>\n",
       "      <td>6</td>\n",
       "    </tr>\n",
       "    <tr>\n",
       "      <th>3</th>\n",
       "      <td>3</td>\n",
       "      <td>5</td>\n",
       "    </tr>\n",
       "    <tr>\n",
       "      <th rowspan=\"4\" valign=\"top\">iki</th>\n",
       "      <th>0</th>\n",
       "      <td>4</td>\n",
       "      <td>4</td>\n",
       "    </tr>\n",
       "    <tr>\n",
       "      <th>1</th>\n",
       "      <td>5</td>\n",
       "      <td>3</td>\n",
       "    </tr>\n",
       "    <tr>\n",
       "      <th>2</th>\n",
       "      <td>6</td>\n",
       "      <td>2</td>\n",
       "    </tr>\n",
       "    <tr>\n",
       "      <th>3</th>\n",
       "      <td>7</td>\n",
       "      <td>1</td>\n",
       "    </tr>\n",
       "  </tbody>\n",
       "</table>\n",
       "</div>"
      ],
      "text/plain": [
       "       x  y\n",
       "a   b      \n",
       "bir 0  0  8\n",
       "    1  1  7\n",
       "    2  2  6\n",
       "    3  3  5\n",
       "iki 0  4  4\n",
       "    1  5  3\n",
       "    2  6  2\n",
       "    3  7  1"
      ]
     },
     "execution_count": 1516,
     "metadata": {},
     "output_type": "execute_result"
    }
   ],
   "source": [
    "veri2 = veri.set_index([\"a\",\"b\"]) # a ve b sutunları satır indexleri oldu.  drop = False dersek a ve b sutunları satır indexi olur ve verileri kaybolmaz tabloda kalır.    a önce yazıldı dış index b ise iç index olacak.\n",
    "veri2"
   ]
  },
  {
   "cell_type": "code",
   "execution_count": 1517,
   "id": "0e927de7-c7c5-465d-a8fc-c6217b546187",
   "metadata": {
    "tags": []
   },
   "outputs": [
    {
     "data": {
      "text/html": [
       "<div>\n",
       "<style scoped>\n",
       "    .dataframe tbody tr th:only-of-type {\n",
       "        vertical-align: middle;\n",
       "    }\n",
       "\n",
       "    .dataframe tbody tr th {\n",
       "        vertical-align: top;\n",
       "    }\n",
       "\n",
       "    .dataframe thead th {\n",
       "        text-align: right;\n",
       "    }\n",
       "</style>\n",
       "<table border=\"1\" class=\"dataframe\">\n",
       "  <thead>\n",
       "    <tr style=\"text-align: right;\">\n",
       "      <th></th>\n",
       "      <th>a</th>\n",
       "      <th>b</th>\n",
       "      <th>x</th>\n",
       "      <th>y</th>\n",
       "    </tr>\n",
       "  </thead>\n",
       "  <tbody>\n",
       "    <tr>\n",
       "      <th>0</th>\n",
       "      <td>bir</td>\n",
       "      <td>0</td>\n",
       "      <td>0</td>\n",
       "      <td>8</td>\n",
       "    </tr>\n",
       "    <tr>\n",
       "      <th>1</th>\n",
       "      <td>bir</td>\n",
       "      <td>1</td>\n",
       "      <td>1</td>\n",
       "      <td>7</td>\n",
       "    </tr>\n",
       "    <tr>\n",
       "      <th>2</th>\n",
       "      <td>bir</td>\n",
       "      <td>2</td>\n",
       "      <td>2</td>\n",
       "      <td>6</td>\n",
       "    </tr>\n",
       "    <tr>\n",
       "      <th>3</th>\n",
       "      <td>bir</td>\n",
       "      <td>3</td>\n",
       "      <td>3</td>\n",
       "      <td>5</td>\n",
       "    </tr>\n",
       "    <tr>\n",
       "      <th>4</th>\n",
       "      <td>iki</td>\n",
       "      <td>0</td>\n",
       "      <td>4</td>\n",
       "      <td>4</td>\n",
       "    </tr>\n",
       "    <tr>\n",
       "      <th>5</th>\n",
       "      <td>iki</td>\n",
       "      <td>1</td>\n",
       "      <td>5</td>\n",
       "      <td>3</td>\n",
       "    </tr>\n",
       "    <tr>\n",
       "      <th>6</th>\n",
       "      <td>iki</td>\n",
       "      <td>2</td>\n",
       "      <td>6</td>\n",
       "      <td>2</td>\n",
       "    </tr>\n",
       "    <tr>\n",
       "      <th>7</th>\n",
       "      <td>iki</td>\n",
       "      <td>3</td>\n",
       "      <td>7</td>\n",
       "      <td>1</td>\n",
       "    </tr>\n",
       "  </tbody>\n",
       "</table>\n",
       "</div>"
      ],
      "text/plain": [
       "     a  b  x  y\n",
       "0  bir  0  0  8\n",
       "1  bir  1  1  7\n",
       "2  bir  2  2  6\n",
       "3  bir  3  3  5\n",
       "4  iki  0  4  4\n",
       "5  iki  1  5  3\n",
       "6  iki  2  6  2\n",
       "7  iki  3  7  1"
      ]
     },
     "execution_count": 1517,
     "metadata": {},
     "output_type": "execute_result"
    }
   ],
   "source": [
    "veri2.reset_index() # reset_index() ile veriseti eski haline gelmiş olur. "
   ]
  },
  {
   "cell_type": "markdown",
   "id": "2c4ed67c-ab15-4890-9e05-1584232af79c",
   "metadata": {},
   "source": [
    "## VERİ SETLERİNİ BİRLEŞTİRME"
   ]
  },
  {
   "cell_type": "code",
   "execution_count": 1518,
   "id": "a05a6fb9-4f3f-49f6-9a60-b837cf734ece",
   "metadata": {
    "tags": []
   },
   "outputs": [
    {
     "data": {
      "text/html": [
       "<div>\n",
       "<style scoped>\n",
       "    .dataframe tbody tr th:only-of-type {\n",
       "        vertical-align: middle;\n",
       "    }\n",
       "\n",
       "    .dataframe tbody tr th {\n",
       "        vertical-align: top;\n",
       "    }\n",
       "\n",
       "    .dataframe thead th {\n",
       "        text-align: right;\n",
       "    }\n",
       "</style>\n",
       "<table border=\"1\" class=\"dataframe\">\n",
       "  <thead>\n",
       "    <tr style=\"text-align: right;\">\n",
       "      <th></th>\n",
       "      <th>anahtar</th>\n",
       "      <th>say1</th>\n",
       "    </tr>\n",
       "  </thead>\n",
       "  <tbody>\n",
       "    <tr>\n",
       "      <th>0</th>\n",
       "      <td>a</td>\n",
       "      <td>0</td>\n",
       "    </tr>\n",
       "    <tr>\n",
       "      <th>1</th>\n",
       "      <td>b</td>\n",
       "      <td>1</td>\n",
       "    </tr>\n",
       "    <tr>\n",
       "      <th>2</th>\n",
       "      <td>c</td>\n",
       "      <td>2</td>\n",
       "    </tr>\n",
       "    <tr>\n",
       "      <th>3</th>\n",
       "      <td>c</td>\n",
       "      <td>3</td>\n",
       "    </tr>\n",
       "    <tr>\n",
       "      <th>4</th>\n",
       "      <td>d</td>\n",
       "      <td>4</td>\n",
       "    </tr>\n",
       "    <tr>\n",
       "      <th>5</th>\n",
       "      <td>e</td>\n",
       "      <td>5</td>\n",
       "    </tr>\n",
       "  </tbody>\n",
       "</table>\n",
       "</div>"
      ],
      "text/plain": [
       "  anahtar  say1\n",
       "0       a     0\n",
       "1       b     1\n",
       "2       c     2\n",
       "3       c     3\n",
       "4       d     4\n",
       "5       e     5"
      ]
     },
     "execution_count": 1518,
     "metadata": {},
     "output_type": "execute_result"
    }
   ],
   "source": [
    "v1 = pd.DataFrame({\"anahtar\":[\"a\",\"b\",\"c\",\"c\",\"d\",\"e\"],\"say1\":range(6)})\n",
    "v2 = pd.DataFrame({\"anahtar\":[\"b\",\"c\",\"d\",\"e\"],\"say2\":range(4)})\n",
    "v1"
   ]
  },
  {
   "cell_type": "code",
   "execution_count": 1519,
   "id": "f06f4f6d-e104-4c2b-a841-339a6fe05fdc",
   "metadata": {
    "tags": []
   },
   "outputs": [
    {
     "data": {
      "text/html": [
       "<div>\n",
       "<style scoped>\n",
       "    .dataframe tbody tr th:only-of-type {\n",
       "        vertical-align: middle;\n",
       "    }\n",
       "\n",
       "    .dataframe tbody tr th {\n",
       "        vertical-align: top;\n",
       "    }\n",
       "\n",
       "    .dataframe thead th {\n",
       "        text-align: right;\n",
       "    }\n",
       "</style>\n",
       "<table border=\"1\" class=\"dataframe\">\n",
       "  <thead>\n",
       "    <tr style=\"text-align: right;\">\n",
       "      <th></th>\n",
       "      <th>anahtar</th>\n",
       "      <th>say2</th>\n",
       "    </tr>\n",
       "  </thead>\n",
       "  <tbody>\n",
       "    <tr>\n",
       "      <th>0</th>\n",
       "      <td>b</td>\n",
       "      <td>0</td>\n",
       "    </tr>\n",
       "    <tr>\n",
       "      <th>1</th>\n",
       "      <td>c</td>\n",
       "      <td>1</td>\n",
       "    </tr>\n",
       "    <tr>\n",
       "      <th>2</th>\n",
       "      <td>d</td>\n",
       "      <td>2</td>\n",
       "    </tr>\n",
       "    <tr>\n",
       "      <th>3</th>\n",
       "      <td>e</td>\n",
       "      <td>3</td>\n",
       "    </tr>\n",
       "  </tbody>\n",
       "</table>\n",
       "</div>"
      ],
      "text/plain": [
       "  anahtar  say2\n",
       "0       b     0\n",
       "1       c     1\n",
       "2       d     2\n",
       "3       e     3"
      ]
     },
     "execution_count": 1519,
     "metadata": {},
     "output_type": "execute_result"
    }
   ],
   "source": [
    "v2"
   ]
  },
  {
   "cell_type": "code",
   "execution_count": 1520,
   "id": "fd2a025d-1e67-421f-9286-71780cf304a7",
   "metadata": {
    "tags": []
   },
   "outputs": [
    {
     "data": {
      "text/html": [
       "<div>\n",
       "<style scoped>\n",
       "    .dataframe tbody tr th:only-of-type {\n",
       "        vertical-align: middle;\n",
       "    }\n",
       "\n",
       "    .dataframe tbody tr th {\n",
       "        vertical-align: top;\n",
       "    }\n",
       "\n",
       "    .dataframe thead th {\n",
       "        text-align: right;\n",
       "    }\n",
       "</style>\n",
       "<table border=\"1\" class=\"dataframe\">\n",
       "  <thead>\n",
       "    <tr style=\"text-align: right;\">\n",
       "      <th></th>\n",
       "      <th>anahtar</th>\n",
       "      <th>say1</th>\n",
       "      <th>say2</th>\n",
       "    </tr>\n",
       "  </thead>\n",
       "  <tbody>\n",
       "    <tr>\n",
       "      <th>0</th>\n",
       "      <td>b</td>\n",
       "      <td>1</td>\n",
       "      <td>0</td>\n",
       "    </tr>\n",
       "    <tr>\n",
       "      <th>1</th>\n",
       "      <td>c</td>\n",
       "      <td>2</td>\n",
       "      <td>1</td>\n",
       "    </tr>\n",
       "    <tr>\n",
       "      <th>2</th>\n",
       "      <td>c</td>\n",
       "      <td>3</td>\n",
       "      <td>1</td>\n",
       "    </tr>\n",
       "    <tr>\n",
       "      <th>3</th>\n",
       "      <td>d</td>\n",
       "      <td>4</td>\n",
       "      <td>2</td>\n",
       "    </tr>\n",
       "    <tr>\n",
       "      <th>4</th>\n",
       "      <td>e</td>\n",
       "      <td>5</td>\n",
       "      <td>3</td>\n",
       "    </tr>\n",
       "  </tbody>\n",
       "</table>\n",
       "</div>"
      ],
      "text/plain": [
       "  anahtar  say1  say2\n",
       "0       b     1     0\n",
       "1       c     2     1\n",
       "2       c     3     1\n",
       "3       d     4     2\n",
       "4       e     5     3"
      ]
     },
     "execution_count": 1520,
     "metadata": {},
     "output_type": "execute_result"
    }
   ],
   "source": [
    "pd.merge(v1,v2) # anahtar sutunua göre birleştiler.  istersek hangi sutuna göre birleşeceğini belirtebiliriz.  anahtar değerleri aynı olanlar yan yana yazıldı."
   ]
  },
  {
   "cell_type": "code",
   "execution_count": 1521,
   "id": "dabf3700-2a54-480f-b623-91385b1000f3",
   "metadata": {
    "tags": []
   },
   "outputs": [
    {
     "data": {
      "text/html": [
       "<div>\n",
       "<style scoped>\n",
       "    .dataframe tbody tr th:only-of-type {\n",
       "        vertical-align: middle;\n",
       "    }\n",
       "\n",
       "    .dataframe tbody tr th {\n",
       "        vertical-align: top;\n",
       "    }\n",
       "\n",
       "    .dataframe thead th {\n",
       "        text-align: right;\n",
       "    }\n",
       "</style>\n",
       "<table border=\"1\" class=\"dataframe\">\n",
       "  <thead>\n",
       "    <tr style=\"text-align: right;\">\n",
       "      <th></th>\n",
       "      <th>anahtar</th>\n",
       "      <th>say1</th>\n",
       "      <th>say2</th>\n",
       "    </tr>\n",
       "  </thead>\n",
       "  <tbody>\n",
       "    <tr>\n",
       "      <th>0</th>\n",
       "      <td>b</td>\n",
       "      <td>1</td>\n",
       "      <td>0</td>\n",
       "    </tr>\n",
       "    <tr>\n",
       "      <th>1</th>\n",
       "      <td>c</td>\n",
       "      <td>2</td>\n",
       "      <td>1</td>\n",
       "    </tr>\n",
       "    <tr>\n",
       "      <th>2</th>\n",
       "      <td>c</td>\n",
       "      <td>3</td>\n",
       "      <td>1</td>\n",
       "    </tr>\n",
       "    <tr>\n",
       "      <th>3</th>\n",
       "      <td>d</td>\n",
       "      <td>4</td>\n",
       "      <td>2</td>\n",
       "    </tr>\n",
       "    <tr>\n",
       "      <th>4</th>\n",
       "      <td>e</td>\n",
       "      <td>5</td>\n",
       "      <td>3</td>\n",
       "    </tr>\n",
       "  </tbody>\n",
       "</table>\n",
       "</div>"
      ],
      "text/plain": [
       "  anahtar  say1  say2\n",
       "0       b     1     0\n",
       "1       c     2     1\n",
       "2       c     3     1\n",
       "3       d     4     2\n",
       "4       e     5     3"
      ]
     },
     "execution_count": 1521,
     "metadata": {},
     "output_type": "execute_result"
    }
   ],
   "source": [
    "pd.merge(v1,v2,on=\"anahtar\") # burada anahtar ssutunu ortak oldu ve   sadece ortak olan değerlere yer verildi anahtar sutununda ortak bulunan değerler ve satırları ver aldı."
   ]
  },
  {
   "cell_type": "code",
   "execution_count": 1522,
   "id": "01d3b44b-102d-46b0-808e-a8eadbdfc3f5",
   "metadata": {
    "tags": []
   },
   "outputs": [
    {
     "data": {
      "text/html": [
       "<div>\n",
       "<style scoped>\n",
       "    .dataframe tbody tr th:only-of-type {\n",
       "        vertical-align: middle;\n",
       "    }\n",
       "\n",
       "    .dataframe tbody tr th {\n",
       "        vertical-align: top;\n",
       "    }\n",
       "\n",
       "    .dataframe thead th {\n",
       "        text-align: right;\n",
       "    }\n",
       "</style>\n",
       "<table border=\"1\" class=\"dataframe\">\n",
       "  <thead>\n",
       "    <tr style=\"text-align: right;\">\n",
       "      <th></th>\n",
       "      <th>anahtar1</th>\n",
       "      <th>say1</th>\n",
       "      <th>anahtar2</th>\n",
       "      <th>say2</th>\n",
       "    </tr>\n",
       "  </thead>\n",
       "  <tbody>\n",
       "    <tr>\n",
       "      <th>0</th>\n",
       "      <td>b</td>\n",
       "      <td>1</td>\n",
       "      <td>b</td>\n",
       "      <td>0</td>\n",
       "    </tr>\n",
       "    <tr>\n",
       "      <th>1</th>\n",
       "      <td>c</td>\n",
       "      <td>2</td>\n",
       "      <td>c</td>\n",
       "      <td>1</td>\n",
       "    </tr>\n",
       "    <tr>\n",
       "      <th>2</th>\n",
       "      <td>c</td>\n",
       "      <td>3</td>\n",
       "      <td>c</td>\n",
       "      <td>1</td>\n",
       "    </tr>\n",
       "    <tr>\n",
       "      <th>3</th>\n",
       "      <td>d</td>\n",
       "      <td>4</td>\n",
       "      <td>d</td>\n",
       "      <td>2</td>\n",
       "    </tr>\n",
       "    <tr>\n",
       "      <th>4</th>\n",
       "      <td>e</td>\n",
       "      <td>5</td>\n",
       "      <td>e</td>\n",
       "      <td>3</td>\n",
       "    </tr>\n",
       "  </tbody>\n",
       "</table>\n",
       "</div>"
      ],
      "text/plain": [
       "  anahtar1  say1 anahtar2  say2\n",
       "0        b     1        b     0\n",
       "1        c     2        c     1\n",
       "2        c     3        c     1\n",
       "3        d     4        d     2\n",
       "4        e     5        e     3"
      ]
     },
     "execution_count": 1522,
     "metadata": {},
     "output_type": "execute_result"
    }
   ],
   "source": [
    "v3 = pd.DataFrame({\"anahtar1\":[\"a\",\"b\",\"c\",\"c\",\"d\",\"e\"],\"say1\":range(6)})\n",
    "v4 = pd.DataFrame({\"anahtar2\":[\"b\",\"c\",\"d\",\"e\"],\"say2\":range(4)})\n",
    "pd.merge(v3,v4,left_on=\"anahtar1\",right_on=\"anahtar2\",how = \"outer\") # böylece ortak olmayanlarda kaybolmadan dahil edilir how = \"outer\" sayesinde."
   ]
  },
  {
   "cell_type": "code",
   "execution_count": 1523,
   "id": "64c255d0-fc6a-46f2-9782-00527108b8d9",
   "metadata": {
    "tags": []
   },
   "outputs": [
    {
     "data": {
      "text/html": [
       "<div>\n",
       "<style scoped>\n",
       "    .dataframe tbody tr th:only-of-type {\n",
       "        vertical-align: middle;\n",
       "    }\n",
       "\n",
       "    .dataframe tbody tr th {\n",
       "        vertical-align: top;\n",
       "    }\n",
       "\n",
       "    .dataframe thead th {\n",
       "        text-align: right;\n",
       "    }\n",
       "</style>\n",
       "<table border=\"1\" class=\"dataframe\">\n",
       "  <thead>\n",
       "    <tr style=\"text-align: right;\">\n",
       "      <th></th>\n",
       "      <th>anahtar1</th>\n",
       "      <th>say1</th>\n",
       "      <th>anahtar2</th>\n",
       "      <th>say2</th>\n",
       "    </tr>\n",
       "  </thead>\n",
       "  <tbody>\n",
       "    <tr>\n",
       "      <th>0</th>\n",
       "      <td>a</td>\n",
       "      <td>0</td>\n",
       "      <td>NaN</td>\n",
       "      <td>NaN</td>\n",
       "    </tr>\n",
       "    <tr>\n",
       "      <th>1</th>\n",
       "      <td>b</td>\n",
       "      <td>1</td>\n",
       "      <td>b</td>\n",
       "      <td>0.0</td>\n",
       "    </tr>\n",
       "    <tr>\n",
       "      <th>2</th>\n",
       "      <td>c</td>\n",
       "      <td>2</td>\n",
       "      <td>c</td>\n",
       "      <td>1.0</td>\n",
       "    </tr>\n",
       "    <tr>\n",
       "      <th>3</th>\n",
       "      <td>c</td>\n",
       "      <td>3</td>\n",
       "      <td>c</td>\n",
       "      <td>1.0</td>\n",
       "    </tr>\n",
       "    <tr>\n",
       "      <th>4</th>\n",
       "      <td>d</td>\n",
       "      <td>4</td>\n",
       "      <td>d</td>\n",
       "      <td>2.0</td>\n",
       "    </tr>\n",
       "    <tr>\n",
       "      <th>5</th>\n",
       "      <td>e</td>\n",
       "      <td>5</td>\n",
       "      <td>e</td>\n",
       "      <td>3.0</td>\n",
       "    </tr>\n",
       "  </tbody>\n",
       "</table>\n",
       "</div>"
      ],
      "text/plain": [
       "  anahtar1  say1 anahtar2  say2\n",
       "0        a     0      NaN   NaN\n",
       "1        b     1        b   0.0\n",
       "2        c     2        c   1.0\n",
       "3        c     3        c   1.0\n",
       "4        d     4        d   2.0\n",
       "5        e     5        e   3.0"
      ]
     },
     "execution_count": 1523,
     "metadata": {},
     "output_type": "execute_result"
    }
   ],
   "source": [
    "pd.merge(v3,v4,left_on=\"anahtar1\",right_on=\"anahtar2\",how = \"left\") # soldaki veriye göre tablo oluştu"
   ]
  },
  {
   "cell_type": "code",
   "execution_count": 1524,
   "id": "bd020fdf-af9d-4195-a3ec-047c34d7116d",
   "metadata": {
    "tags": []
   },
   "outputs": [
    {
     "data": {
      "text/html": [
       "<div>\n",
       "<style scoped>\n",
       "    .dataframe tbody tr th:only-of-type {\n",
       "        vertical-align: middle;\n",
       "    }\n",
       "\n",
       "    .dataframe tbody tr th {\n",
       "        vertical-align: top;\n",
       "    }\n",
       "\n",
       "    .dataframe thead th {\n",
       "        text-align: right;\n",
       "    }\n",
       "</style>\n",
       "<table border=\"1\" class=\"dataframe\">\n",
       "  <thead>\n",
       "    <tr style=\"text-align: right;\">\n",
       "      <th></th>\n",
       "      <th>anahtar1</th>\n",
       "      <th>say1</th>\n",
       "      <th>anahtar2</th>\n",
       "      <th>say2</th>\n",
       "    </tr>\n",
       "  </thead>\n",
       "  <tbody>\n",
       "    <tr>\n",
       "      <th>0</th>\n",
       "      <td>b</td>\n",
       "      <td>1</td>\n",
       "      <td>b</td>\n",
       "      <td>0</td>\n",
       "    </tr>\n",
       "    <tr>\n",
       "      <th>1</th>\n",
       "      <td>c</td>\n",
       "      <td>2</td>\n",
       "      <td>c</td>\n",
       "      <td>1</td>\n",
       "    </tr>\n",
       "    <tr>\n",
       "      <th>2</th>\n",
       "      <td>c</td>\n",
       "      <td>3</td>\n",
       "      <td>c</td>\n",
       "      <td>1</td>\n",
       "    </tr>\n",
       "    <tr>\n",
       "      <th>3</th>\n",
       "      <td>d</td>\n",
       "      <td>4</td>\n",
       "      <td>d</td>\n",
       "      <td>2</td>\n",
       "    </tr>\n",
       "    <tr>\n",
       "      <th>4</th>\n",
       "      <td>e</td>\n",
       "      <td>5</td>\n",
       "      <td>e</td>\n",
       "      <td>3</td>\n",
       "    </tr>\n",
       "  </tbody>\n",
       "</table>\n",
       "</div>"
      ],
      "text/plain": [
       "  anahtar1  say1 anahtar2  say2\n",
       "0        b     1        b     0\n",
       "1        c     2        c     1\n",
       "2        c     3        c     1\n",
       "3        d     4        d     2\n",
       "4        e     5        e     3"
      ]
     },
     "execution_count": 1524,
     "metadata": {},
     "output_type": "execute_result"
    }
   ],
   "source": [
    "pd.merge(v3,v4,left_on=\"anahtar1\",right_on=\"anahtar2\",how = \"right\") # sağdaki veriye göre tablo birleşti. "
   ]
  },
  {
   "cell_type": "code",
   "execution_count": 1525,
   "id": "92d9dc7d-64bc-4e18-a639-4472d5a42033",
   "metadata": {
    "tags": []
   },
   "outputs": [
    {
     "data": {
      "text/html": [
       "<div>\n",
       "<style scoped>\n",
       "    .dataframe tbody tr th:only-of-type {\n",
       "        vertical-align: middle;\n",
       "    }\n",
       "\n",
       "    .dataframe tbody tr th {\n",
       "        vertical-align: top;\n",
       "    }\n",
       "\n",
       "    .dataframe thead th {\n",
       "        text-align: right;\n",
       "    }\n",
       "</style>\n",
       "<table border=\"1\" class=\"dataframe\">\n",
       "  <thead>\n",
       "    <tr style=\"text-align: right;\">\n",
       "      <th></th>\n",
       "      <th>anahtar1</th>\n",
       "      <th>say1</th>\n",
       "      <th>anahtar2</th>\n",
       "      <th>say2</th>\n",
       "    </tr>\n",
       "  </thead>\n",
       "  <tbody>\n",
       "    <tr>\n",
       "      <th>0</th>\n",
       "      <td>b</td>\n",
       "      <td>1</td>\n",
       "      <td>b</td>\n",
       "      <td>0</td>\n",
       "    </tr>\n",
       "    <tr>\n",
       "      <th>1</th>\n",
       "      <td>c</td>\n",
       "      <td>2</td>\n",
       "      <td>c</td>\n",
       "      <td>1</td>\n",
       "    </tr>\n",
       "    <tr>\n",
       "      <th>2</th>\n",
       "      <td>c</td>\n",
       "      <td>3</td>\n",
       "      <td>c</td>\n",
       "      <td>1</td>\n",
       "    </tr>\n",
       "    <tr>\n",
       "      <th>3</th>\n",
       "      <td>d</td>\n",
       "      <td>4</td>\n",
       "      <td>d</td>\n",
       "      <td>2</td>\n",
       "    </tr>\n",
       "    <tr>\n",
       "      <th>4</th>\n",
       "      <td>e</td>\n",
       "      <td>5</td>\n",
       "      <td>e</td>\n",
       "      <td>3</td>\n",
       "    </tr>\n",
       "  </tbody>\n",
       "</table>\n",
       "</div>"
      ],
      "text/plain": [
       "  anahtar1  say1 anahtar2  say2\n",
       "0        b     1        b     0\n",
       "1        c     2        c     1\n",
       "2        c     3        c     1\n",
       "3        d     4        d     2\n",
       "4        e     5        e     3"
      ]
     },
     "execution_count": 1525,
     "metadata": {},
     "output_type": "execute_result"
    }
   ],
   "source": [
    "pd.merge(v3,v4,left_on=\"anahtar1\",right_on=\"anahtar2\",how = \"inner\") # ortak değerlere göre birleşme oldu. "
   ]
  },
  {
   "cell_type": "code",
   "execution_count": 1536,
   "id": "b89c3b67-821b-4a56-9ce5-8b7983364f5b",
   "metadata": {
    "tags": []
   },
   "outputs": [
    {
     "data": {
      "text/html": [
       "<div>\n",
       "<style scoped>\n",
       "    .dataframe tbody tr th:only-of-type {\n",
       "        vertical-align: middle;\n",
       "    }\n",
       "\n",
       "    .dataframe tbody tr th {\n",
       "        vertical-align: top;\n",
       "    }\n",
       "\n",
       "    .dataframe thead th {\n",
       "        text-align: right;\n",
       "    }\n",
       "</style>\n",
       "<table border=\"1\" class=\"dataframe\">\n",
       "  <thead>\n",
       "    <tr style=\"text-align: right;\">\n",
       "      <th></th>\n",
       "      <th>anahtar</th>\n",
       "      <th>say1</th>\n",
       "      <th>rakam</th>\n",
       "    </tr>\n",
       "  </thead>\n",
       "  <tbody>\n",
       "    <tr>\n",
       "      <th>0</th>\n",
       "      <td>a</td>\n",
       "      <td>0</td>\n",
       "      <td>bir</td>\n",
       "    </tr>\n",
       "    <tr>\n",
       "      <th>1</th>\n",
       "      <td>b</td>\n",
       "      <td>1</td>\n",
       "      <td>uc</td>\n",
       "    </tr>\n",
       "    <tr>\n",
       "      <th>2</th>\n",
       "      <td>c</td>\n",
       "      <td>2</td>\n",
       "      <td>iki</td>\n",
       "    </tr>\n",
       "    <tr>\n",
       "      <th>3</th>\n",
       "      <td>c</td>\n",
       "      <td>3</td>\n",
       "      <td>bir</td>\n",
       "    </tr>\n",
       "    <tr>\n",
       "      <th>4</th>\n",
       "      <td>d</td>\n",
       "      <td>4</td>\n",
       "      <td>bir</td>\n",
       "    </tr>\n",
       "    <tr>\n",
       "      <th>5</th>\n",
       "      <td>e</td>\n",
       "      <td>5</td>\n",
       "      <td>iki</td>\n",
       "    </tr>\n",
       "  </tbody>\n",
       "</table>\n",
       "</div>"
      ],
      "text/plain": [
       "  anahtar  say1 rakam\n",
       "0       a     0   bir\n",
       "1       b     1    uc\n",
       "2       c     2   iki\n",
       "3       c     3   bir\n",
       "4       d     4   bir\n",
       "5       e     5   iki"
      ]
     },
     "execution_count": 1536,
     "metadata": {},
     "output_type": "execute_result"
    }
   ],
   "source": [
    "v5 = pd.DataFrame({\"anahtar\":[\"a\",\"b\",\"c\",\"c\",\"d\",\"e\"],\"say1\":range(6),\"rakam\":[\"bir\",\"uc\",\"iki\",\"bir\",\"bir\",\"iki\"]})\n",
    "v6 = pd.DataFrame({\"anahtar\":[\"b\",\"c\",\"d\",\"f\"],\"say2\":range(4),\"rakam\":[\"b\",\"c\",\"d\",\"f\"]})\n",
    "v5"
   ]
  },
  {
   "cell_type": "code",
   "execution_count": 1537,
   "id": "2092d970-a2ba-45b7-a76e-088bea1d2b9f",
   "metadata": {
    "tags": []
   },
   "outputs": [
    {
     "data": {
      "text/html": [
       "<div>\n",
       "<style scoped>\n",
       "    .dataframe tbody tr th:only-of-type {\n",
       "        vertical-align: middle;\n",
       "    }\n",
       "\n",
       "    .dataframe tbody tr th {\n",
       "        vertical-align: top;\n",
       "    }\n",
       "\n",
       "    .dataframe thead th {\n",
       "        text-align: right;\n",
       "    }\n",
       "</style>\n",
       "<table border=\"1\" class=\"dataframe\">\n",
       "  <thead>\n",
       "    <tr style=\"text-align: right;\">\n",
       "      <th></th>\n",
       "      <th>anahtar</th>\n",
       "      <th>say2</th>\n",
       "      <th>rakam</th>\n",
       "    </tr>\n",
       "  </thead>\n",
       "  <tbody>\n",
       "    <tr>\n",
       "      <th>0</th>\n",
       "      <td>b</td>\n",
       "      <td>0</td>\n",
       "      <td>b</td>\n",
       "    </tr>\n",
       "    <tr>\n",
       "      <th>1</th>\n",
       "      <td>c</td>\n",
       "      <td>1</td>\n",
       "      <td>c</td>\n",
       "    </tr>\n",
       "    <tr>\n",
       "      <th>2</th>\n",
       "      <td>d</td>\n",
       "      <td>2</td>\n",
       "      <td>d</td>\n",
       "    </tr>\n",
       "    <tr>\n",
       "      <th>3</th>\n",
       "      <td>f</td>\n",
       "      <td>3</td>\n",
       "      <td>f</td>\n",
       "    </tr>\n",
       "  </tbody>\n",
       "</table>\n",
       "</div>"
      ],
      "text/plain": [
       "  anahtar  say2 rakam\n",
       "0       b     0     b\n",
       "1       c     1     c\n",
       "2       d     2     d\n",
       "3       f     3     f"
      ]
     },
     "execution_count": 1537,
     "metadata": {},
     "output_type": "execute_result"
    }
   ],
   "source": [
    "v6"
   ]
  },
  {
   "cell_type": "code",
   "execution_count": 1539,
   "id": "2e746d68-8052-46bd-b7a6-93609c6339d7",
   "metadata": {
    "tags": []
   },
   "outputs": [
    {
     "data": {
      "text/html": [
       "<div>\n",
       "<style scoped>\n",
       "    .dataframe tbody tr th:only-of-type {\n",
       "        vertical-align: middle;\n",
       "    }\n",
       "\n",
       "    .dataframe tbody tr th {\n",
       "        vertical-align: top;\n",
       "    }\n",
       "\n",
       "    .dataframe thead th {\n",
       "        text-align: right;\n",
       "    }\n",
       "</style>\n",
       "<table border=\"1\" class=\"dataframe\">\n",
       "  <thead>\n",
       "    <tr style=\"text-align: right;\">\n",
       "      <th></th>\n",
       "      <th>anahtar</th>\n",
       "      <th>say1</th>\n",
       "      <th>rakam</th>\n",
       "      <th>say2</th>\n",
       "    </tr>\n",
       "  </thead>\n",
       "  <tbody>\n",
       "    <tr>\n",
       "      <th>0</th>\n",
       "      <td>a</td>\n",
       "      <td>0.0</td>\n",
       "      <td>bir</td>\n",
       "      <td>NaN</td>\n",
       "    </tr>\n",
       "    <tr>\n",
       "      <th>1</th>\n",
       "      <td>b</td>\n",
       "      <td>1.0</td>\n",
       "      <td>uc</td>\n",
       "      <td>NaN</td>\n",
       "    </tr>\n",
       "    <tr>\n",
       "      <th>2</th>\n",
       "      <td>c</td>\n",
       "      <td>2.0</td>\n",
       "      <td>iki</td>\n",
       "      <td>NaN</td>\n",
       "    </tr>\n",
       "    <tr>\n",
       "      <th>3</th>\n",
       "      <td>c</td>\n",
       "      <td>3.0</td>\n",
       "      <td>bir</td>\n",
       "      <td>NaN</td>\n",
       "    </tr>\n",
       "    <tr>\n",
       "      <th>4</th>\n",
       "      <td>d</td>\n",
       "      <td>4.0</td>\n",
       "      <td>bir</td>\n",
       "      <td>NaN</td>\n",
       "    </tr>\n",
       "    <tr>\n",
       "      <th>5</th>\n",
       "      <td>e</td>\n",
       "      <td>5.0</td>\n",
       "      <td>iki</td>\n",
       "      <td>NaN</td>\n",
       "    </tr>\n",
       "    <tr>\n",
       "      <th>6</th>\n",
       "      <td>b</td>\n",
       "      <td>NaN</td>\n",
       "      <td>b</td>\n",
       "      <td>0.0</td>\n",
       "    </tr>\n",
       "    <tr>\n",
       "      <th>7</th>\n",
       "      <td>c</td>\n",
       "      <td>NaN</td>\n",
       "      <td>c</td>\n",
       "      <td>1.0</td>\n",
       "    </tr>\n",
       "    <tr>\n",
       "      <th>8</th>\n",
       "      <td>d</td>\n",
       "      <td>NaN</td>\n",
       "      <td>d</td>\n",
       "      <td>2.0</td>\n",
       "    </tr>\n",
       "    <tr>\n",
       "      <th>9</th>\n",
       "      <td>f</td>\n",
       "      <td>NaN</td>\n",
       "      <td>f</td>\n",
       "      <td>3.0</td>\n",
       "    </tr>\n",
       "  </tbody>\n",
       "</table>\n",
       "</div>"
      ],
      "text/plain": [
       "  anahtar  say1 rakam  say2\n",
       "0       a   0.0   bir   NaN\n",
       "1       b   1.0    uc   NaN\n",
       "2       c   2.0   iki   NaN\n",
       "3       c   3.0   bir   NaN\n",
       "4       d   4.0   bir   NaN\n",
       "5       e   5.0   iki   NaN\n",
       "6       b   NaN     b   0.0\n",
       "7       c   NaN     c   1.0\n",
       "8       d   NaN     d   2.0\n",
       "9       f   NaN     f   3.0"
      ]
     },
     "execution_count": 1539,
     "metadata": {},
     "output_type": "execute_result"
    }
   ],
   "source": [
    "pd.merge(v5,v6,on = [\"anahtar\",\"rakam\"],how = \"outer\")"
   ]
  },
  {
   "cell_type": "code",
   "execution_count": 1540,
   "id": "955c8efa-4326-4130-b09a-bafc8b1b56be",
   "metadata": {
    "tags": []
   },
   "outputs": [
    {
     "data": {
      "text/html": [
       "<div>\n",
       "<style scoped>\n",
       "    .dataframe tbody tr th:only-of-type {\n",
       "        vertical-align: middle;\n",
       "    }\n",
       "\n",
       "    .dataframe tbody tr th {\n",
       "        vertical-align: top;\n",
       "    }\n",
       "\n",
       "    .dataframe thead th {\n",
       "        text-align: right;\n",
       "    }\n",
       "</style>\n",
       "<table border=\"1\" class=\"dataframe\">\n",
       "  <thead>\n",
       "    <tr style=\"text-align: right;\">\n",
       "      <th></th>\n",
       "      <th>anahtar</th>\n",
       "      <th>say1</th>\n",
       "      <th>rakam_x</th>\n",
       "      <th>say2</th>\n",
       "      <th>rakam_y</th>\n",
       "    </tr>\n",
       "  </thead>\n",
       "  <tbody>\n",
       "    <tr>\n",
       "      <th>0</th>\n",
       "      <td>a</td>\n",
       "      <td>0.0</td>\n",
       "      <td>bir</td>\n",
       "      <td>NaN</td>\n",
       "      <td>NaN</td>\n",
       "    </tr>\n",
       "    <tr>\n",
       "      <th>1</th>\n",
       "      <td>b</td>\n",
       "      <td>1.0</td>\n",
       "      <td>uc</td>\n",
       "      <td>0.0</td>\n",
       "      <td>b</td>\n",
       "    </tr>\n",
       "    <tr>\n",
       "      <th>2</th>\n",
       "      <td>c</td>\n",
       "      <td>2.0</td>\n",
       "      <td>iki</td>\n",
       "      <td>1.0</td>\n",
       "      <td>c</td>\n",
       "    </tr>\n",
       "    <tr>\n",
       "      <th>3</th>\n",
       "      <td>c</td>\n",
       "      <td>3.0</td>\n",
       "      <td>bir</td>\n",
       "      <td>1.0</td>\n",
       "      <td>c</td>\n",
       "    </tr>\n",
       "    <tr>\n",
       "      <th>4</th>\n",
       "      <td>d</td>\n",
       "      <td>4.0</td>\n",
       "      <td>bir</td>\n",
       "      <td>2.0</td>\n",
       "      <td>d</td>\n",
       "    </tr>\n",
       "    <tr>\n",
       "      <th>5</th>\n",
       "      <td>e</td>\n",
       "      <td>5.0</td>\n",
       "      <td>iki</td>\n",
       "      <td>NaN</td>\n",
       "      <td>NaN</td>\n",
       "    </tr>\n",
       "    <tr>\n",
       "      <th>6</th>\n",
       "      <td>f</td>\n",
       "      <td>NaN</td>\n",
       "      <td>NaN</td>\n",
       "      <td>3.0</td>\n",
       "      <td>f</td>\n",
       "    </tr>\n",
       "  </tbody>\n",
       "</table>\n",
       "</div>"
      ],
      "text/plain": [
       "  anahtar  say1 rakam_x  say2 rakam_y\n",
       "0       a   0.0     bir   NaN     NaN\n",
       "1       b   1.0      uc   0.0       b\n",
       "2       c   2.0     iki   1.0       c\n",
       "3       c   3.0     bir   1.0       c\n",
       "4       d   4.0     bir   2.0       d\n",
       "5       e   5.0     iki   NaN     NaN\n",
       "6       f   NaN     NaN   3.0       f"
      ]
     },
     "execution_count": 1540,
     "metadata": {},
     "output_type": "execute_result"
    }
   ],
   "source": [
    "pd.merge(v5,v6,on = \"anahtar\",how = \"outer\")"
   ]
  },
  {
   "cell_type": "code",
   "execution_count": 1541,
   "id": "ac6f4865-f597-4289-a6d0-04037e606250",
   "metadata": {
    "tags": []
   },
   "outputs": [
    {
     "data": {
      "text/html": [
       "<div>\n",
       "<style scoped>\n",
       "    .dataframe tbody tr th:only-of-type {\n",
       "        vertical-align: middle;\n",
       "    }\n",
       "\n",
       "    .dataframe tbody tr th {\n",
       "        vertical-align: top;\n",
       "    }\n",
       "\n",
       "    .dataframe thead th {\n",
       "        text-align: right;\n",
       "    }\n",
       "</style>\n",
       "<table border=\"1\" class=\"dataframe\">\n",
       "  <thead>\n",
       "    <tr style=\"text-align: right;\">\n",
       "      <th></th>\n",
       "      <th>anahtar</th>\n",
       "      <th>say1</th>\n",
       "      <th>rakam_veri1</th>\n",
       "      <th>say2</th>\n",
       "      <th>rakam_veri2</th>\n",
       "    </tr>\n",
       "  </thead>\n",
       "  <tbody>\n",
       "    <tr>\n",
       "      <th>0</th>\n",
       "      <td>a</td>\n",
       "      <td>0.0</td>\n",
       "      <td>bir</td>\n",
       "      <td>NaN</td>\n",
       "      <td>NaN</td>\n",
       "    </tr>\n",
       "    <tr>\n",
       "      <th>1</th>\n",
       "      <td>b</td>\n",
       "      <td>1.0</td>\n",
       "      <td>uc</td>\n",
       "      <td>0.0</td>\n",
       "      <td>b</td>\n",
       "    </tr>\n",
       "    <tr>\n",
       "      <th>2</th>\n",
       "      <td>c</td>\n",
       "      <td>2.0</td>\n",
       "      <td>iki</td>\n",
       "      <td>1.0</td>\n",
       "      <td>c</td>\n",
       "    </tr>\n",
       "    <tr>\n",
       "      <th>3</th>\n",
       "      <td>c</td>\n",
       "      <td>3.0</td>\n",
       "      <td>bir</td>\n",
       "      <td>1.0</td>\n",
       "      <td>c</td>\n",
       "    </tr>\n",
       "    <tr>\n",
       "      <th>4</th>\n",
       "      <td>d</td>\n",
       "      <td>4.0</td>\n",
       "      <td>bir</td>\n",
       "      <td>2.0</td>\n",
       "      <td>d</td>\n",
       "    </tr>\n",
       "    <tr>\n",
       "      <th>5</th>\n",
       "      <td>e</td>\n",
       "      <td>5.0</td>\n",
       "      <td>iki</td>\n",
       "      <td>NaN</td>\n",
       "      <td>NaN</td>\n",
       "    </tr>\n",
       "    <tr>\n",
       "      <th>6</th>\n",
       "      <td>f</td>\n",
       "      <td>NaN</td>\n",
       "      <td>NaN</td>\n",
       "      <td>3.0</td>\n",
       "      <td>f</td>\n",
       "    </tr>\n",
       "  </tbody>\n",
       "</table>\n",
       "</div>"
      ],
      "text/plain": [
       "  anahtar  say1 rakam_veri1  say2 rakam_veri2\n",
       "0       a   0.0         bir   NaN         NaN\n",
       "1       b   1.0          uc   0.0           b\n",
       "2       c   2.0         iki   1.0           c\n",
       "3       c   3.0         bir   1.0           c\n",
       "4       d   4.0         bir   2.0           d\n",
       "5       e   5.0         iki   NaN         NaN\n",
       "6       f   NaN         NaN   3.0           f"
      ]
     },
     "execution_count": 1541,
     "metadata": {},
     "output_type": "execute_result"
    }
   ],
   "source": [
    "pd.merge(v5,v6,on = \"anahtar\",how = \"outer\",suffixes=(\"_veri1\",\"_veri2\"))"
   ]
  },
  {
   "cell_type": "code",
   "execution_count": 1542,
   "id": "f7bbe65e-dac1-4a06-b150-09c5dc026ebd",
   "metadata": {
    "tags": []
   },
   "outputs": [],
   "source": [
    "df1 = pd.DataFrame({\"harf\":[\"a\",\"a\",\"b\",\"b\",\"a\",\"c\"],\"sayi\":range(6)})\n",
    "df2 = pd.DataFrame({\"deger\":[3,5,7]},index=[\"a\",\"b\",\"e\"])"
   ]
  },
  {
   "cell_type": "code",
   "execution_count": 1543,
   "id": "34376603-0fa1-45cd-81dd-78a0e35c8d4d",
   "metadata": {
    "tags": []
   },
   "outputs": [
    {
     "data": {
      "text/html": [
       "<div>\n",
       "<style scoped>\n",
       "    .dataframe tbody tr th:only-of-type {\n",
       "        vertical-align: middle;\n",
       "    }\n",
       "\n",
       "    .dataframe tbody tr th {\n",
       "        vertical-align: top;\n",
       "    }\n",
       "\n",
       "    .dataframe thead th {\n",
       "        text-align: right;\n",
       "    }\n",
       "</style>\n",
       "<table border=\"1\" class=\"dataframe\">\n",
       "  <thead>\n",
       "    <tr style=\"text-align: right;\">\n",
       "      <th></th>\n",
       "      <th>harf</th>\n",
       "      <th>sayi</th>\n",
       "    </tr>\n",
       "  </thead>\n",
       "  <tbody>\n",
       "    <tr>\n",
       "      <th>0</th>\n",
       "      <td>a</td>\n",
       "      <td>0</td>\n",
       "    </tr>\n",
       "    <tr>\n",
       "      <th>1</th>\n",
       "      <td>a</td>\n",
       "      <td>1</td>\n",
       "    </tr>\n",
       "    <tr>\n",
       "      <th>2</th>\n",
       "      <td>b</td>\n",
       "      <td>2</td>\n",
       "    </tr>\n",
       "    <tr>\n",
       "      <th>3</th>\n",
       "      <td>b</td>\n",
       "      <td>3</td>\n",
       "    </tr>\n",
       "    <tr>\n",
       "      <th>4</th>\n",
       "      <td>a</td>\n",
       "      <td>4</td>\n",
       "    </tr>\n",
       "    <tr>\n",
       "      <th>5</th>\n",
       "      <td>c</td>\n",
       "      <td>5</td>\n",
       "    </tr>\n",
       "  </tbody>\n",
       "</table>\n",
       "</div>"
      ],
      "text/plain": [
       "  harf  sayi\n",
       "0    a     0\n",
       "1    a     1\n",
       "2    b     2\n",
       "3    b     3\n",
       "4    a     4\n",
       "5    c     5"
      ]
     },
     "execution_count": 1543,
     "metadata": {},
     "output_type": "execute_result"
    }
   ],
   "source": [
    "df1"
   ]
  },
  {
   "cell_type": "code",
   "execution_count": 1544,
   "id": "16170016-d08c-4ee2-ada8-a1cc1838e6cd",
   "metadata": {
    "tags": []
   },
   "outputs": [
    {
     "data": {
      "text/html": [
       "<div>\n",
       "<style scoped>\n",
       "    .dataframe tbody tr th:only-of-type {\n",
       "        vertical-align: middle;\n",
       "    }\n",
       "\n",
       "    .dataframe tbody tr th {\n",
       "        vertical-align: top;\n",
       "    }\n",
       "\n",
       "    .dataframe thead th {\n",
       "        text-align: right;\n",
       "    }\n",
       "</style>\n",
       "<table border=\"1\" class=\"dataframe\">\n",
       "  <thead>\n",
       "    <tr style=\"text-align: right;\">\n",
       "      <th></th>\n",
       "      <th>deger</th>\n",
       "    </tr>\n",
       "  </thead>\n",
       "  <tbody>\n",
       "    <tr>\n",
       "      <th>a</th>\n",
       "      <td>3</td>\n",
       "    </tr>\n",
       "    <tr>\n",
       "      <th>b</th>\n",
       "      <td>5</td>\n",
       "    </tr>\n",
       "    <tr>\n",
       "      <th>e</th>\n",
       "      <td>7</td>\n",
       "    </tr>\n",
       "  </tbody>\n",
       "</table>\n",
       "</div>"
      ],
      "text/plain": [
       "   deger\n",
       "a      3\n",
       "b      5\n",
       "e      7"
      ]
     },
     "execution_count": 1544,
     "metadata": {},
     "output_type": "execute_result"
    }
   ],
   "source": [
    "df2"
   ]
  },
  {
   "cell_type": "code",
   "execution_count": 1545,
   "id": "25f9a3a6-8968-41dd-bdd7-75fed43f7f7f",
   "metadata": {
    "tags": []
   },
   "outputs": [
    {
     "data": {
      "text/html": [
       "<div>\n",
       "<style scoped>\n",
       "    .dataframe tbody tr th:only-of-type {\n",
       "        vertical-align: middle;\n",
       "    }\n",
       "\n",
       "    .dataframe tbody tr th {\n",
       "        vertical-align: top;\n",
       "    }\n",
       "\n",
       "    .dataframe thead th {\n",
       "        text-align: right;\n",
       "    }\n",
       "</style>\n",
       "<table border=\"1\" class=\"dataframe\">\n",
       "  <thead>\n",
       "    <tr style=\"text-align: right;\">\n",
       "      <th></th>\n",
       "      <th>harf</th>\n",
       "      <th>sayi</th>\n",
       "      <th>deger</th>\n",
       "    </tr>\n",
       "  </thead>\n",
       "  <tbody>\n",
       "    <tr>\n",
       "      <th>0</th>\n",
       "      <td>a</td>\n",
       "      <td>0</td>\n",
       "      <td>3</td>\n",
       "    </tr>\n",
       "    <tr>\n",
       "      <th>1</th>\n",
       "      <td>a</td>\n",
       "      <td>1</td>\n",
       "      <td>3</td>\n",
       "    </tr>\n",
       "    <tr>\n",
       "      <th>4</th>\n",
       "      <td>a</td>\n",
       "      <td>4</td>\n",
       "      <td>3</td>\n",
       "    </tr>\n",
       "    <tr>\n",
       "      <th>2</th>\n",
       "      <td>b</td>\n",
       "      <td>2</td>\n",
       "      <td>5</td>\n",
       "    </tr>\n",
       "    <tr>\n",
       "      <th>3</th>\n",
       "      <td>b</td>\n",
       "      <td>3</td>\n",
       "      <td>5</td>\n",
       "    </tr>\n",
       "  </tbody>\n",
       "</table>\n",
       "</div>"
      ],
      "text/plain": [
       "  harf  sayi  deger\n",
       "0    a     0      3\n",
       "1    a     1      3\n",
       "4    a     4      3\n",
       "2    b     2      5\n",
       "3    b     3      5"
      ]
     },
     "execution_count": 1545,
     "metadata": {},
     "output_type": "execute_result"
    }
   ],
   "source": [
    "pd.merge(df1,df2,left_on=\"harf\",right_index=True)"
   ]
  },
  {
   "cell_type": "code",
   "execution_count": 1547,
   "id": "b26b6f72-09da-42fc-8e14-c63fa94a34b7",
   "metadata": {
    "tags": []
   },
   "outputs": [
    {
     "data": {
      "text/html": [
       "<div>\n",
       "<style scoped>\n",
       "    .dataframe tbody tr th:only-of-type {\n",
       "        vertical-align: middle;\n",
       "    }\n",
       "\n",
       "    .dataframe tbody tr th {\n",
       "        vertical-align: top;\n",
       "    }\n",
       "\n",
       "    .dataframe thead th {\n",
       "        text-align: right;\n",
       "    }\n",
       "</style>\n",
       "<table border=\"1\" class=\"dataframe\">\n",
       "  <thead>\n",
       "    <tr style=\"text-align: right;\">\n",
       "      <th></th>\n",
       "      <th>ali</th>\n",
       "      <th>nur</th>\n",
       "    </tr>\n",
       "  </thead>\n",
       "  <tbody>\n",
       "    <tr>\n",
       "      <th>a</th>\n",
       "      <td>1</td>\n",
       "      <td>2</td>\n",
       "    </tr>\n",
       "    <tr>\n",
       "      <th>c</th>\n",
       "      <td>3</td>\n",
       "      <td>4</td>\n",
       "    </tr>\n",
       "    <tr>\n",
       "      <th>d</th>\n",
       "      <td>5</td>\n",
       "      <td>6</td>\n",
       "    </tr>\n",
       "  </tbody>\n",
       "</table>\n",
       "</div>"
      ],
      "text/plain": [
       "   ali  nur\n",
       "a    1    2\n",
       "c    3    4\n",
       "d    5    6"
      ]
     },
     "execution_count": 1547,
     "metadata": {},
     "output_type": "execute_result"
    }
   ],
   "source": [
    "sag = pd.DataFrame([[1,2],[3,4],[5,6]],index=[\"a\",\"c\",\"d\"],columns=[\"ali\",\"nur\"])\n",
    "sol = pd.DataFrame([[7,8],[9,10],[11,12],[13,14]],index=[\"a\",\"b\",\"e\",\"f\"],columns=[\"efe\",\"ata\"])\n",
    "sag"
   ]
  },
  {
   "cell_type": "code",
   "execution_count": 1548,
   "id": "709efdfc-23b3-4776-8b77-0bf2af455550",
   "metadata": {
    "tags": []
   },
   "outputs": [
    {
     "data": {
      "text/html": [
       "<div>\n",
       "<style scoped>\n",
       "    .dataframe tbody tr th:only-of-type {\n",
       "        vertical-align: middle;\n",
       "    }\n",
       "\n",
       "    .dataframe tbody tr th {\n",
       "        vertical-align: top;\n",
       "    }\n",
       "\n",
       "    .dataframe thead th {\n",
       "        text-align: right;\n",
       "    }\n",
       "</style>\n",
       "<table border=\"1\" class=\"dataframe\">\n",
       "  <thead>\n",
       "    <tr style=\"text-align: right;\">\n",
       "      <th></th>\n",
       "      <th>efe</th>\n",
       "      <th>ata</th>\n",
       "    </tr>\n",
       "  </thead>\n",
       "  <tbody>\n",
       "    <tr>\n",
       "      <th>a</th>\n",
       "      <td>7</td>\n",
       "      <td>8</td>\n",
       "    </tr>\n",
       "    <tr>\n",
       "      <th>b</th>\n",
       "      <td>9</td>\n",
       "      <td>10</td>\n",
       "    </tr>\n",
       "    <tr>\n",
       "      <th>e</th>\n",
       "      <td>11</td>\n",
       "      <td>12</td>\n",
       "    </tr>\n",
       "    <tr>\n",
       "      <th>f</th>\n",
       "      <td>13</td>\n",
       "      <td>14</td>\n",
       "    </tr>\n",
       "  </tbody>\n",
       "</table>\n",
       "</div>"
      ],
      "text/plain": [
       "   efe  ata\n",
       "a    7    8\n",
       "b    9   10\n",
       "e   11   12\n",
       "f   13   14"
      ]
     },
     "execution_count": 1548,
     "metadata": {},
     "output_type": "execute_result"
    }
   ],
   "source": [
    "sol"
   ]
  },
  {
   "cell_type": "code",
   "execution_count": 1549,
   "id": "4fb3a44b-f5d5-4277-9b3e-aebfda4462ec",
   "metadata": {
    "tags": []
   },
   "outputs": [
    {
     "data": {
      "text/html": [
       "<div>\n",
       "<style scoped>\n",
       "    .dataframe tbody tr th:only-of-type {\n",
       "        vertical-align: middle;\n",
       "    }\n",
       "\n",
       "    .dataframe tbody tr th {\n",
       "        vertical-align: top;\n",
       "    }\n",
       "\n",
       "    .dataframe thead th {\n",
       "        text-align: right;\n",
       "    }\n",
       "</style>\n",
       "<table border=\"1\" class=\"dataframe\">\n",
       "  <thead>\n",
       "    <tr style=\"text-align: right;\">\n",
       "      <th></th>\n",
       "      <th>ali</th>\n",
       "      <th>nur</th>\n",
       "      <th>efe</th>\n",
       "      <th>ata</th>\n",
       "    </tr>\n",
       "  </thead>\n",
       "  <tbody>\n",
       "    <tr>\n",
       "      <th>a</th>\n",
       "      <td>1.0</td>\n",
       "      <td>2.0</td>\n",
       "      <td>7.0</td>\n",
       "      <td>8.0</td>\n",
       "    </tr>\n",
       "    <tr>\n",
       "      <th>b</th>\n",
       "      <td>NaN</td>\n",
       "      <td>NaN</td>\n",
       "      <td>9.0</td>\n",
       "      <td>10.0</td>\n",
       "    </tr>\n",
       "    <tr>\n",
       "      <th>c</th>\n",
       "      <td>3.0</td>\n",
       "      <td>4.0</td>\n",
       "      <td>NaN</td>\n",
       "      <td>NaN</td>\n",
       "    </tr>\n",
       "    <tr>\n",
       "      <th>d</th>\n",
       "      <td>5.0</td>\n",
       "      <td>6.0</td>\n",
       "      <td>NaN</td>\n",
       "      <td>NaN</td>\n",
       "    </tr>\n",
       "    <tr>\n",
       "      <th>e</th>\n",
       "      <td>NaN</td>\n",
       "      <td>NaN</td>\n",
       "      <td>11.0</td>\n",
       "      <td>12.0</td>\n",
       "    </tr>\n",
       "    <tr>\n",
       "      <th>f</th>\n",
       "      <td>NaN</td>\n",
       "      <td>NaN</td>\n",
       "      <td>13.0</td>\n",
       "      <td>14.0</td>\n",
       "    </tr>\n",
       "  </tbody>\n",
       "</table>\n",
       "</div>"
      ],
      "text/plain": [
       "   ali  nur   efe   ata\n",
       "a  1.0  2.0   7.0   8.0\n",
       "b  NaN  NaN   9.0  10.0\n",
       "c  3.0  4.0   NaN   NaN\n",
       "d  5.0  6.0   NaN   NaN\n",
       "e  NaN  NaN  11.0  12.0\n",
       "f  NaN  NaN  13.0  14.0"
      ]
     },
     "execution_count": 1549,
     "metadata": {},
     "output_type": "execute_result"
    }
   ],
   "source": [
    "pd.merge(sag,sol,right_index=True,left_index=True,how = \"outer\")"
   ]
  },
  {
   "cell_type": "code",
   "execution_count": null,
   "id": "e6c4af10-96e7-4717-b659-9bda8e2214c7",
   "metadata": {},
   "outputs": [],
   "source": []
  }
 ],
 "metadata": {
  "kernelspec": {
   "display_name": "Python 3 (ipykernel)",
   "language": "python",
   "name": "python3"
  },
  "language_info": {
   "codemirror_mode": {
    "name": "ipython",
    "version": 3
   },
   "file_extension": ".py",
   "mimetype": "text/x-python",
   "name": "python",
   "nbconvert_exporter": "python",
   "pygments_lexer": "ipython3",
   "version": "3.11.4"
  }
 },
 "nbformat": 4,
 "nbformat_minor": 5
}
