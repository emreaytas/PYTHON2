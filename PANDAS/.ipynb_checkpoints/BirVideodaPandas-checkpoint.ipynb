{
 "cells": [
  {
   "cell_type": "code",
   "execution_count": 1,
   "id": "96e14b68-f8c1-4512-ad65-b1793b81fdd8",
   "metadata": {},
   "outputs": [],
   "source": [
    "import pandas as pd\n",
    "import numpy as np"
   ]
  },
  {
   "cell_type": "code",
   "execution_count": 2,
   "id": "ee21be79-4ca2-4ce9-b203-b3a708157c88",
   "metadata": {},
   "outputs": [],
   "source": [
    "# gerçek hayatta veriler hemen analiz edilecek kadar temiz olmaz. elde ne kadar kaliteli varsa o kaqdar kaliteli model kurabiliriz.\n",
    "# anaconda ile önemli kütüphaneleri otomatik olarak yüklü gelir direkt olarak kullanabiliriz."
   ]
  },
  {
   "cell_type": "code",
   "execution_count": 3,
   "id": "9eb46e44-39c9-4212-86bc-a5d6bc0eca0e",
   "metadata": {},
   "outputs": [
    {
     "data": {
      "text/plain": [
       "0      1\n",
       "1    Ali\n",
       "2    3.5\n",
       "3    Hey\n",
       "dtype: object"
      ]
     },
     "execution_count": 3,
     "metadata": {},
     "output_type": "execute_result"
    }
   ],
   "source": [
    "obje = pd.Series([1,\"Ali\",3.5,\"Hey\"])\n",
    "obje # bu bir seridir.\n"
   ]
  },
  {
   "cell_type": "code",
   "execution_count": 5,
   "id": "88c77ebe-58c0-44e8-8098-3e41d14cb2ad",
   "metadata": {},
   "outputs": [
    {
     "data": {
      "text/html": [
       "<div>\n",
       "<style scoped>\n",
       "    .dataframe tbody tr th:only-of-type {\n",
       "        vertical-align: middle;\n",
       "    }\n",
       "\n",
       "    .dataframe tbody tr th {\n",
       "        vertical-align: top;\n",
       "    }\n",
       "\n",
       "    .dataframe thead th {\n",
       "        text-align: right;\n",
       "    }\n",
       "</style>\n",
       "<table border=\"1\" class=\"dataframe\">\n",
       "  <thead>\n",
       "    <tr style=\"text-align: right;\">\n",
       "      <th></th>\n",
       "      <th>Bilmem</th>\n",
       "    </tr>\n",
       "  </thead>\n",
       "  <tbody>\n",
       "    <tr>\n",
       "      <th>1</th>\n",
       "      <td>Ali</td>\n",
       "    </tr>\n",
       "    <tr>\n",
       "      <th>2</th>\n",
       "      <td>3.5</td>\n",
       "    </tr>\n",
       "    <tr>\n",
       "      <th>3</th>\n",
       "      <td>Hey</td>\n",
       "    </tr>\n",
       "    <tr>\n",
       "      <th>4</th>\n",
       "      <td>NaN</td>\n",
       "    </tr>\n",
       "  </tbody>\n",
       "</table>\n",
       "</div>"
      ],
      "text/plain": [
       "  Bilmem\n",
       "1    Ali\n",
       "2    3.5\n",
       "3    Hey\n",
       "4    NaN"
      ]
     },
     "execution_count": 5,
     "metadata": {},
     "output_type": "execute_result"
    }
   ],
   "source": [
    "objedf = pd.DataFrame(obje,columns=[\"Bilmem\"],index=[1,2,3,4])\n",
    "objedf # bir seriyi dataframeye çevirebiliriz."
   ]
  },
  {
   "cell_type": "code",
   "execution_count": null,
   "id": "f24dba46-a7ee-42f2-a867-59be0bad5e43",
   "metadata": {},
   "outputs": [],
   "source": []
  }
 ],
 "metadata": {
  "kernelspec": {
   "display_name": "Python 3 (ipykernel)",
   "language": "python",
   "name": "python3"
  },
  "language_info": {
   "codemirror_mode": {
    "name": "ipython",
    "version": 3
   },
   "file_extension": ".py",
   "mimetype": "text/x-python",
   "name": "python",
   "nbconvert_exporter": "python",
   "pygments_lexer": "ipython3",
   "version": "3.11.2"
  }
 },
 "nbformat": 4,
 "nbformat_minor": 5
}
