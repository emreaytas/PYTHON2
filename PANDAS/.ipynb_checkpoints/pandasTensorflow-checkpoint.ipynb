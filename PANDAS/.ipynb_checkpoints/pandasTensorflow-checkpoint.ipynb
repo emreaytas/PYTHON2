{
 "cells": [
  {
   "cell_type": "code",
   "execution_count": 1,
   "id": "a91d4818-f57b-4d85-86f3-00593ef2a95e",
   "metadata": {},
   "outputs": [],
   "source": [
    "import pandas as pd\n",
    "import numpy as np"
   ]
  },
  {
   "cell_type": "code",
   "execution_count": 2,
   "id": "3f7cf463-5cce-4217-b909-b59945db6591",
   "metadata": {},
   "outputs": [
    {
     "data": {
      "text/plain": [
       "atil      50\n",
       "zeynep    40\n",
       "mehmet    30\n",
       "dtype: int64"
      ]
     },
     "execution_count": 2,
     "metadata": {},
     "output_type": "execute_result"
    }
   ],
   "source": [
    "# seriler aslında numpy dizisine çok benzer. indexleme vs var. tek boyutludur array gibi.\n",
    "bsozluk = {\"atil\":50,\"zeynep\":40,\"mehmet\":30}\n",
    "pd.Series(bsozluk) # keyleri indexleme için kullanılır valueler ise veri olarak kullanılacak."
   ]
  },
  {
   "cell_type": "code",
   "execution_count": 3,
   "id": "20950456-a203-457f-9fc3-488d292ebb6a",
   "metadata": {},
   "outputs": [
    {
     "data": {
      "text/plain": [
       "pandas.core.series.Series"
      ]
     },
     "execution_count": 3,
     "metadata": {},
     "output_type": "execute_result"
    }
   ],
   "source": [
    "type(pd.Series(bsozluk))"
   ]
  },
  {
   "cell_type": "code",
   "execution_count": 4,
   "id": "47354203-9176-4971-80a6-c334f0f9eb6c",
   "metadata": {},
   "outputs": [],
   "source": [
    "benimlistem = [50,40,30]\n",
    "benimisimlerim = [\"atil\",\"zeynep\",\"mehmet\"]"
   ]
  },
  {
   "cell_type": "code",
   "execution_count": 5,
   "id": "f23a49ef-1c97-451a-a5a4-496af1548acb",
   "metadata": {},
   "outputs": [
    {
     "data": {
      "text/plain": [
       "50      atil\n",
       "40    zeynep\n",
       "30    mehmet\n",
       "dtype: object"
      ]
     },
     "execution_count": 5,
     "metadata": {},
     "output_type": "execute_result"
    }
   ],
   "source": [
    "pd.Series(data=benimisimlerim,index=benimlistem) # verileri ve indexleme elemanlarını ayrı ayrı verebiliriz.\n",
    "# default olarak önce data sonra index elemamnları verilir."
   ]
  },
  {
   "cell_type": "code",
   "execution_count": 8,
   "id": "da46ea02-f458-4994-887d-0cc3ebdb9363",
   "metadata": {},
   "outputs": [],
   "source": [
    "array1 = np.array([30,40,50])"
   ]
  },
  {
   "cell_type": "code",
   "execution_count": 13,
   "id": "7ac0a733-5e3c-442b-9355-3aa3157f8a82",
   "metadata": {},
   "outputs": [
    {
     "data": {
      "text/plain": [
       "atil      30\n",
       "zeynep    40\n",
       "mehmet    50\n",
       "dtype: int32"
      ]
     },
     "execution_count": 13,
     "metadata": {},
     "output_type": "execute_result"
    }
   ],
   "source": [
    "pd.Series(data=array1,index=benimisimlerim) # eğer data'nın eleman sayısı indexten fazla olursa hata alırız ama index fazla olursa sorun yok. açıkta kalan olabilir."
   ]
  },
  {
   "cell_type": "code",
   "execution_count": 14,
   "id": "d386fb36-3d77-4021-95c9-a2a3ca872367",
   "metadata": {},
   "outputs": [
    {
     "data": {
      "text/plain": [
       "1      atil\n",
       "2    zeynep\n",
       "3    mehmet\n",
       "dtype: object"
      ]
     },
     "execution_count": 14,
     "metadata": {},
     "output_type": "execute_result"
    }
   ],
   "source": [
    "pd.Series([\"atil\",\"zeynep\",\"mehmet\"],[1,2,3]) #"
   ]
  },
  {
   "cell_type": "code",
   "execution_count": 15,
   "id": "03a80fe5-c915-4de5-9c2c-7e174d592cf9",
   "metadata": {},
   "outputs": [],
   "source": [
    "yarismasonucu1 = pd.Series([10,15,20],[\"atil\",\"zeynep\",\"mehmet\"])\n",
    "yarismasonucu2 = pd.Series([15,21,10],[\"atil\",\"zeynep\",\"mehmet\"]) # birebir aynı indexleme kullandık."
   ]
  },
  {
   "cell_type": "code",
   "execution_count": null,
   "id": "6c225daa-736b-4b96-9495-029fde4137a5",
   "metadata": {},
   "outputs": [],
   "source": []
  }
 ],
 "metadata": {
  "kernelspec": {
   "display_name": "Python 3 (ipykernel)",
   "language": "python",
   "name": "python3"
  },
  "language_info": {
   "codemirror_mode": {
    "name": "ipython",
    "version": 3
   },
   "file_extension": ".py",
   "mimetype": "text/x-python",
   "name": "python",
   "nbconvert_exporter": "python",
   "pygments_lexer": "ipython3",
   "version": "3.11.2"
  }
 },
 "nbformat": 4,
 "nbformat_minor": 5
}
