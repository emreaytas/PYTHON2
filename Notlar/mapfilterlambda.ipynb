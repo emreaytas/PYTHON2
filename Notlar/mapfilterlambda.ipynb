{
 "cells": [
  {
   "attachments": {},
   "cell_type": "markdown",
   "metadata": {},
   "source": [
    "### MAP,FİLTER,LAMBDA"
   ]
  },
  {
   "cell_type": "code",
   "execution_count": 1,
   "metadata": {},
   "outputs": [
    {
     "data": {
      "text/plain": [
       "64"
      ]
     },
     "execution_count": 1,
     "metadata": {},
     "output_type": "execute_result"
    }
   ],
   "source": [
    "def karesial(x = 2):\n",
    "    \n",
    "    return x * x # x ** 2\n",
    "karesial()\n",
    "karesial(8)\n"
   ]
  },
  {
   "cell_type": "code",
   "execution_count": 3,
   "metadata": {},
   "outputs": [
    {
     "data": {
      "text/plain": [
       "[10,\n",
       " 12,\n",
       " 14,\n",
       " 16,\n",
       " 18,\n",
       " 20,\n",
       " 22,\n",
       " 24,\n",
       " 26,\n",
       " 28,\n",
       " 30,\n",
       " 32,\n",
       " 34,\n",
       " 36,\n",
       " 38,\n",
       " 40,\n",
       " 42,\n",
       " 44,\n",
       " 46,\n",
       " 48,\n",
       " 50,\n",
       " 52,\n",
       " 54,\n",
       " 56,\n",
       " 58,\n",
       " 60,\n",
       " 62,\n",
       " 64,\n",
       " 66,\n",
       " 68,\n",
       " 70,\n",
       " 72,\n",
       " 74,\n",
       " 76,\n",
       " 78,\n",
       " 80,\n",
       " 82,\n",
       " 84,\n",
       " 86,\n",
       " 88,\n",
       " 90,\n",
       " 92,\n",
       " 94,\n",
       " 96,\n",
       " 98]"
      ]
     },
     "execution_count": 3,
     "metadata": {},
     "output_type": "execute_result"
    }
   ],
   "source": [
    "sayilar = range(1,6)\n",
    "import numpy as np\n",
    "sayilar2 = np.arange(10,100,2)\n",
    "sayilar2 = [*sayilar2]\n",
    "sayilar2"
   ]
  },
  {
   "cell_type": "code",
   "execution_count": 5,
   "metadata": {},
   "outputs": [
    {
     "data": {
      "text/plain": [
       "[100,\n",
       " 144,\n",
       " 196,\n",
       " 256,\n",
       " 324,\n",
       " 400,\n",
       " 484,\n",
       " 576,\n",
       " 676,\n",
       " 784,\n",
       " 900,\n",
       " 1024,\n",
       " 1156,\n",
       " 1296,\n",
       " 1444,\n",
       " 1600,\n",
       " 1764,\n",
       " 1936,\n",
       " 2116,\n",
       " 2304,\n",
       " 2500,\n",
       " 2704,\n",
       " 2916,\n",
       " 3136,\n",
       " 3364,\n",
       " 3600,\n",
       " 3844,\n",
       " 4096,\n",
       " 4356,\n",
       " 4624,\n",
       " 4900,\n",
       " 5184,\n",
       " 5476,\n",
       " 5776,\n",
       " 6084,\n",
       " 6400,\n",
       " 6724,\n",
       " 7056,\n",
       " 7396,\n",
       " 7744,\n",
       " 8100,\n",
       " 8464,\n",
       " 8836,\n",
       " 9216,\n",
       " 9604]"
      ]
     },
     "execution_count": 5,
     "metadata": {},
     "output_type": "execute_result"
    }
   ],
   "source": [
    "for i in range(len(sayilar2)): # map kullanmazsak eğer o zaman bu tür döngü kullanırız.\n",
    "    sayilar2[i] =  karesial(sayilar2[i])    \n",
    "sayilar2"
   ]
  },
  {
   "cell_type": "code",
   "execution_count": 6,
   "metadata": {},
   "outputs": [
    {
     "data": {
      "text/plain": [
       "[10000,\n",
       " 20736,\n",
       " 38416,\n",
       " 65536,\n",
       " 104976,\n",
       " 160000,\n",
       " 234256,\n",
       " 331776,\n",
       " 456976,\n",
       " 614656,\n",
       " 810000,\n",
       " 1048576,\n",
       " 1336336,\n",
       " 1679616,\n",
       " 2085136,\n",
       " 2560000,\n",
       " 3111696,\n",
       " 3748096,\n",
       " 4477456,\n",
       " 5308416,\n",
       " 6250000,\n",
       " 7311616,\n",
       " 8503056,\n",
       " 9834496,\n",
       " 11316496,\n",
       " 12960000,\n",
       " 14776336,\n",
       " 16777216,\n",
       " 18974736,\n",
       " 21381376,\n",
       " 24010000,\n",
       " 26873856,\n",
       " 29986576,\n",
       " 33362176,\n",
       " 37015056,\n",
       " 40960000,\n",
       " 45212176,\n",
       " 49787136,\n",
       " 54700816,\n",
       " 59969536,\n",
       " 65610000,\n",
       " 71639296,\n",
       " 78074896,\n",
       " 84934656,\n",
       " 92236816]"
      ]
     },
     "execution_count": 6,
     "metadata": {},
     "output_type": "execute_result"
    }
   ],
   "source": [
    "nesne = map(karesial,sayilar2) # fonksiyonu ve tek tek uygulanacak verilerin olduğu listeyi verirsiniz. tek tek fonksiyona gönderir ve işlenmiş değerleri bir map sınıfı içerisinde getirir. list içerisine alırsak eğer o zaman liste elde ederiz işlenmiş liste.\n",
    "nesne = [*nesne]\n",
    "nesne"
   ]
  },
  {
   "cell_type": "code",
   "execution_count": 8,
   "metadata": {},
   "outputs": [
    {
     "data": {
      "text/plain": [
       "[1, 2, 3, 4, 5]"
      ]
     },
     "execution_count": 8,
     "metadata": {},
     "output_type": "execute_result"
    }
   ],
   "source": [
    "def ciftsayilarifiltrele(x = 0):\n",
    "    return x if x % 2 == 0 else None # x döndür ama if x 2 bölünür ise else None\n",
    "\n",
    "sayilar = [*sayilar]\n",
    "sayilar"
   ]
  },
  {
   "cell_type": "code",
   "execution_count": 9,
   "metadata": {},
   "outputs": [
    {
     "data": {
      "text/plain": [
       "[2, 4]"
      ]
     },
     "execution_count": 9,
     "metadata": {},
     "output_type": "execute_result"
    }
   ],
   "source": [
    "[*filter(ciftsayilarifiltrele,sayilar)] # filter ile map aynı yapıdadır bir fonksiyon verirsin(ismini aslında referans) sonra işlem görecek listenin ismi(referans)'ı verirsin ve sonrasında ise filterde Noneler getirilmez listeye dahil edilmez.\n",
    "# çalışınca filter nesnesi döner list() içine alarak veya [* ] yapısı kullanarak listeye çevirebiliriz."
   ]
  },
  {
   "cell_type": "code",
   "execution_count": 10,
   "metadata": {},
   "outputs": [
    {
     "data": {
      "text/plain": [
       "[1, 4, 9, 16, 25]"
      ]
     },
     "execution_count": 10,
     "metadata": {},
     "output_type": "execute_result"
    }
   ],
   "source": [
    "[*map(lambda sayi: sayi ** 2,sayilar)]\n",
    "# lambda kullanımı şu:   değişken:ne döneceği...  bu şekilde çalışır sistem..."
   ]
  },
  {
   "cell_type": "code",
   "execution_count": null,
   "metadata": {},
   "outputs": [],
   "source": []
  }
 ],
 "metadata": {
  "kernelspec": {
   "display_name": "base",
   "language": "python",
   "name": "python3"
  },
  "language_info": {
   "codemirror_mode": {
    "name": "ipython",
    "version": 3
   },
   "file_extension": ".py",
   "mimetype": "text/x-python",
   "name": "python",
   "nbconvert_exporter": "python",
   "pygments_lexer": "ipython3",
   "version": "3.11.4"
  },
  "orig_nbformat": 4
 },
 "nbformat": 4,
 "nbformat_minor": 2
}
