{
 "cells": [
  {
   "cell_type": "code",
   "execution_count": 262,
   "id": "649d00a6-b23a-4eca-8b94-fb0073215623",
   "metadata": {},
   "outputs": [],
   "source": [
    "#bir çok dil nesne odaklı programlama dilidir. bu özelliği barındırır.   c'de yoktur bu özellik."
   ]
  },
  {
   "cell_type": "code",
   "execution_count": 263,
   "id": "0d0d339e-30a0-439b-8fda-972d6bd91761",
   "metadata": {},
   "outputs": [],
   "source": [
    "class Emre(): #class'ların baş harfi büyük yazılır.\n",
    "    spor = \"boks\" # her nesne için aynı olur her nesne için kullanılır.\n",
    "    # class attributes. spor gibi veriler her nesne için geçerli olur sonradan Emre.A = ... ile başka class attributes ekleyebiliriz. ama eklendikten sonra oluşan nesneler kullanabilir.\n",
    "    @staticmethod\n",
    "    def calistir():\n",
    "        print(\"bende ford focus surerim.\")\n",
    "    \n",
    "    def __init__(self,a,b): # init aslında constructor'dur yapıcı bir metotdur.\n",
    "        # self default bir kelimedir. parametre almaz.\n",
    "        # default olarak veri verebiliriz her fonksşiyonda olduğu gibi eğer veri gelmezse onu alır\n",
    "        # illaki self demeye gerek yok... başka isim verebiliriz. ama nesneye self ile ulaşşırız.\n",
    "        # bu metot ile biz nesne oluştururuz.  en önemli metot budur.\n",
    "        print(\"init cagrildi...\")\n",
    "        self.name = a\n",
    "        self.surname = b\n",
    "        def soyle(): # init içerisinde fonksiyon oluşturabiliriz. ama sadece init içerisinde çalışır bu \n",
    "            print(\"AAAA\")\n",
    "        soyle()    \n",
    "    \n",
    "    def isimsoyle(self): # self koyma sebebimiz class içerisinde nesneye ulaşabilmek için. self nesnenin kendisi...\n",
    "        print(self.name)\n",
    "    def isimdoner(self):\n",
    "        return self.name # nesne ile alakalı bir şeyi return eden fonksiyon yazabiliriz.\n",
    "    "
   ]
  },
  {
   "cell_type": "code",
   "execution_count": 264,
   "id": "9e735489-a6e2-4977-a855-cd8856a90b8d",
   "metadata": {},
   "outputs": [
    {
     "name": "stdout",
     "output_type": "stream",
     "text": [
      "init cagrildi...\n",
      "AAAA\n",
      "emre\n"
     ]
    }
   ],
   "source": [
    "emre = Emre(\"emre\",\"aytas\") # bir nesne oluşur ve atama yaparız...\n",
    "emre.isimsoyle()\n"
   ]
  },
  {
   "cell_type": "code",
   "execution_count": 265,
   "id": "bc66b9c5-8fd0-48d3-b11d-4b810a281277",
   "metadata": {},
   "outputs": [
    {
     "name": "stdout",
     "output_type": "stream",
     "text": [
      "bende ford focus surerim.\n"
     ]
    }
   ],
   "source": [
    "# sınıf class ile oluşturulur... \n",
    "Emre.calistir()  # eğer @staticmethod olarak kullanırsak direkt sınıf ile bir nesne oluşturmadan da bu metotu kullanabiliriz..."
   ]
  },
  {
   "cell_type": "code",
   "execution_count": 266,
   "id": "d1ec2714-e404-4611-aff9-23b63fe607f3",
   "metadata": {},
   "outputs": [
    {
     "name": "stdout",
     "output_type": "stream",
     "text": [
      "emre aytas\n"
     ]
    }
   ],
   "source": [
    "print(emre.name+\" \"+emre.surname)  # nesne ile direkt olarak self özelliklere ulaşabiliriz."
   ]
  },
  {
   "cell_type": "code",
   "execution_count": 267,
   "id": "c55286c8-9db3-4a49-8f3d-0de129165054",
   "metadata": {},
   "outputs": [],
   "source": [
    "emre.name = \"EMRE\" #sınıfın özelliği üzerinde değişim veya atama yapabiliriz.\n"
   ]
  },
  {
   "cell_type": "code",
   "execution_count": 268,
   "id": "e419a089-44dd-4ac8-807e-53f08f4d6720",
   "metadata": {},
   "outputs": [
    {
     "name": "stdout",
     "output_type": "stream",
     "text": [
      "futbol\n"
     ]
    }
   ],
   "source": [
    "emre.spor = \"futbol\" # Class ile gelen değişkene'de sonradan değişim vs yapabiliriz.\n",
    "emre.para = 1000 # olmayan bir veriyide atayabiliriz. sonradan ekleme yapabiliriz.\n",
    "print(emre.spor)"
   ]
  },
  {
   "cell_type": "code",
   "execution_count": 269,
   "id": "2f4e952f-7f05-41e8-a842-7dd0ec8ec443",
   "metadata": {},
   "outputs": [
    {
     "name": "stdout",
     "output_type": "stream",
     "text": [
      "1000\n"
     ]
    }
   ],
   "source": [
    "print(emre.para)"
   ]
  },
  {
   "cell_type": "code",
   "execution_count": 270,
   "id": "1eb0bed4-c0dd-4a3d-a37e-6a7723905185",
   "metadata": {},
   "outputs": [
    {
     "name": "stdout",
     "output_type": "stream",
     "text": [
      "yazilim\n"
     ]
    }
   ],
   "source": [
    "emre.meslek = \"yazilim\"\n",
    "print(emre.meslek)"
   ]
  },
  {
   "cell_type": "code",
   "execution_count": 271,
   "id": "2881bc7d-c125-49f5-a4f0-bf1d8cc61f27",
   "metadata": {},
   "outputs": [
    {
     "name": "stdout",
     "output_type": "stream",
     "text": [
      "init cagrildi...\n",
      "AAAA\n"
     ]
    },
    {
     "data": {
      "text/plain": [
       "['ford', 'bmw', 'araba']"
      ]
     },
     "execution_count": 271,
     "metadata": {},
     "output_type": "execute_result"
    }
   ],
   "source": [
    "Emre.meslekler = [\"ford\",\"bmw\",\"araba\"] # bir class'a sonradan değişken atayabiliriz. bu atamadan sonra oluşan classlar bu özelliği taşır.\n",
    "ahmet = Emre(\"ahmet\",\"yilmaz\")\n",
    "ahmet.meslekler"
   ]
  },
  {
   "cell_type": "code",
   "execution_count": 272,
   "id": "fffdac2f-99f2-4f02-80fc-34a030140849",
   "metadata": {},
   "outputs": [
    {
     "name": "stdout",
     "output_type": "stream",
     "text": [
      "ahmet\n"
     ]
    }
   ],
   "source": [
    "print(ahmet.isimdoner())"
   ]
  },
  {
   "cell_type": "markdown",
   "id": "07a707dd-11d3-429f-a1f5-d0256e80c36a",
   "metadata": {},
   "source": [
    "# inheritance"
   ]
  },
  {
   "cell_type": "code",
   "execution_count": 273,
   "id": "ac103d34-e532-4416-983e-30bd1b473567",
   "metadata": {},
   "outputs": [],
   "source": [
    "# tekrar bir nesne yazmamak için kalıtım kullanabiliriz ve bir nesnenin üzerine ekleme yapabiliriz.\n",
    "class Person():\n",
    "    def __init__(self,name,surname):\n",
    "        self.name = name\n",
    "        self.surname = surname\n",
    "        print(\"person created\")\n",
    "    def whoiam(self):\n",
    "        print(self.name + \" \" +self.surname)\n",
    "        \n",
    "    \n",
    "class Student(Person):\n",
    "    def __init__(self,name,surname,age):\n",
    "        Person.__init__(self,name,surname) # Person yerine super() de koyabilirdik.   kalıtım veren superclass kalıtım alan subclass'tır.\n",
    "        self.age = age\n",
    "\n",
    "        "
   ]
  },
  {
   "cell_type": "code",
   "execution_count": 274,
   "id": "b5ef2274-309f-4bee-876c-f835ebc13706",
   "metadata": {},
   "outputs": [
    {
     "name": "stdout",
     "output_type": "stream",
     "text": [
      "person created\n",
      "person created\n",
      "False\n",
      "person created\n",
      "ford focus\n"
     ]
    }
   ],
   "source": [
    "person1 = Person(\"emre\",\"aytas\")\n",
    "person2 = Person(\"emre\",\"aytas\")\n",
    "print(person1 == person2) # bellekte farklı referanstalar farklı yerlerde oluştular bu yüzden aynı değiller.\n",
    "student = Student(\"ford\",\"focus\",7)\n",
    "student.whoiam() # aslında kalıtım ile bir nesne oluşunca oluşan nesne kalıtım verenin tüm özelliklerine sahip olur. metotlarını vs kullanabilir ama kalıtım verenin verileri ve özellikleri dahilinde. subclass'a eklenen veriler ile işlem yapmak içinse subclass içerisnden metot yazmak lazım.\n"
   ]
  },
  {
   "cell_type": "code",
   "execution_count": 275,
   "id": "b5d37b52-f8f5-4e7c-a93e-bdd42999ece7",
   "metadata": {},
   "outputs": [],
   "source": [
    "class Student(Person):\n",
    "    def __init__(self,name,surname,age):\n",
    "        Person.__init__(self,name,surname) # Person yerine super() de koyabilirdik.   kalıtım veren superclass kalıtım alan subclass'tır.\n",
    "        self.age = age\n",
    "    \n",
    "    def whoiam(self): # buna override denir. eğer superclass'ta olan metotu değil kendi metotumuzu kullanmak istersek o zaman override ederiz. aynı isimde yazarız ve subclass'ta kendisine göre çalışır.\n",
    "        print(\"merhaba\")\n",
    "\n",
    "    def __str__(self): # eğer bu class'tan oluşan nesneyi str() içerisine koyarsak bu metot çalışacak. override gibi bir şey.\n",
    "        return self.name\n",
    "    def __del__(self):\n",
    "        print(\"obje silindi\")\n",
    "        del self"
   ]
  },
  {
   "cell_type": "code",
   "execution_count": 276,
   "id": "f46180ce-1911-4aeb-9fde-ae7a6e608f06",
   "metadata": {},
   "outputs": [
    {
     "name": "stdout",
     "output_type": "stream",
     "text": [
      "person created\n"
     ]
    }
   ],
   "source": [
    "student = Student(\"ford\",\"focus\",7)\n"
   ]
  },
  {
   "cell_type": "code",
   "execution_count": 277,
   "id": "3e2ad64b-983d-494e-923a-e8b3dabf36c5",
   "metadata": {},
   "outputs": [
    {
     "name": "stdout",
     "output_type": "stream",
     "text": [
      "merhaba\n"
     ]
    }
   ],
   "source": [
    "student.whoiam()"
   ]
  },
  {
   "cell_type": "code",
   "execution_count": 278,
   "id": "8b724ae7-0d13-499d-be6f-3dba5030b8f7",
   "metadata": {},
   "outputs": [
    {
     "name": "stdout",
     "output_type": "stream",
     "text": [
      "ford\n"
     ]
    }
   ],
   "source": [
    "print(str(student)) "
   ]
  },
  {
   "cell_type": "code",
   "execution_count": 279,
   "id": "1e018032-152a-4b26-bdca-d34f83066f82",
   "metadata": {},
   "outputs": [
    {
     "name": "stdout",
     "output_type": "stream",
     "text": [
      "obje silindi\n"
     ]
    }
   ],
   "source": [
    "del student # del ile nesne vs silebiliriz bellekten yok olur... ve class için özelleştirdik bu yüzden bu class ile oluşan nesne ile kullanınca ona göre class içindeki metota göre çalışacak."
   ]
  },
  {
   "cell_type": "markdown",
   "id": "c0249cee-1975-4681-9a8a-c2d22c7c7dab",
   "metadata": {},
   "source": [
    "## quiz uygulaması"
   ]
  },
  {
   "cell_type": "code",
   "execution_count": null,
   "id": "0a3c2e95-51bd-4384-a811-400b1e16fc81",
   "metadata": {},
   "outputs": [],
   "source": [
    "\n",
    "\n",
    "\n",
    "\n",
    "\n",
    "\n",
    "\n",
    "\n",
    "\n",
    "\n",
    "\n",
    "\n",
    "\n",
    "\n",
    "\n",
    "\n",
    "\n",
    "\n",
    "\n",
    "\n",
    "\n"
   ]
  }
 ],
 "metadata": {
  "kernelspec": {
   "display_name": "Python 3 (ipykernel)",
   "language": "python",
   "name": "python3"
  },
  "language_info": {
   "codemirror_mode": {
    "name": "ipython",
    "version": 3
   },
   "file_extension": ".py",
   "mimetype": "text/x-python",
   "name": "python",
   "nbconvert_exporter": "python",
   "pygments_lexer": "ipython3",
   "version": "3.11.2"
  }
 },
 "nbformat": 4,
 "nbformat_minor": 5
}
