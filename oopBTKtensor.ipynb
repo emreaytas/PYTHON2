{
 "cells": [
  {
   "cell_type": "code",
   "execution_count": 262,
   "id": "649d00a6-b23a-4eca-8b94-fb0073215623",
   "metadata": {},
   "outputs": [],
   "source": [
    "#bir çok dil nesne odaklı programlama dilidir. bu özelliği barındırır.   c'de yoktur bu özellik."
   ]
  },
  {
   "cell_type": "code",
   "execution_count": 263,
   "id": "0d0d339e-30a0-439b-8fda-972d6bd91761",
   "metadata": {},
   "outputs": [],
   "source": [
    "class Emre(): #class'ların baş harfi büyük yazılır.\n",
    "    spor = \"boks\" # her nesne için aynı olur her nesne için kullanılır.\n",
    "    # class attributes. spor gibi veriler her nesne için geçerli olur sonradan Emre.A = ... ile başka class attributes ekleyebiliriz. ama eklendikten sonra oluşan nesneler kullanabilir.\n",
    "    @staticmethod\n",
    "    def calistir():\n",
    "        print(\"bende ford focus surerim.\")\n",
    "    \n",
    "    def __init__(self,a,b): # init aslında constructor'dur yapıcı bir metotdur.\n",
    "        # self default bir kelimedir. parametre almaz.\n",
    "        # default olarak veri verebiliriz her fonksşiyonda olduğu gibi eğer veri gelmezse onu alır\n",
    "        # illaki self demeye gerek yok... başka isim verebiliriz. ama nesneye self ile ulaşşırız.\n",
    "        # bu metot ile biz nesne oluştururuz.  en önemli metot budur.\n",
    "        print(\"init cagrildi...\")\n",
    "        self.name = a\n",
    "        self.surname = b\n",
    "        def soyle(): # init içerisinde fonksiyon oluşturabiliriz. ama sadece init içerisinde çalışır bu \n",
    "            print(\"AAAA\")\n",
    "        soyle()    \n",
    "    \n",
    "    def isimsoyle(self): # self koyma sebebimiz class içerisinde nesneye ulaşabilmek için. self nesnenin kendisi...\n",
    "        print(self.name)\n",
    "    def isimdoner(self):\n",
    "        return self.name # nesne ile alakalı bir şeyi return eden fonksiyon yazabiliriz.\n",
    "    "
   ]
  },
  {
   "cell_type": "code",
   "execution_count": 264,
   "id": "9e735489-a6e2-4977-a855-cd8856a90b8d",
   "metadata": {},
   "outputs": [
    {
     "name": "stdout",
     "output_type": "stream",
     "text": [
      "init cagrildi...\n",
      "AAAA\n",
      "emre\n"
     ]
    }
   ],
   "source": [
    "emre = Emre(\"emre\",\"aytas\") # bir nesne oluşur ve atama yaparız...\n",
    "emre.isimsoyle()\n"
   ]
  },
  {
   "cell_type": "code",
   "execution_count": 265,
   "id": "bc66b9c5-8fd0-48d3-b11d-4b810a281277",
   "metadata": {},
   "outputs": [
    {
     "name": "stdout",
     "output_type": "stream",
     "text": [
      "bende ford focus surerim.\n"
     ]
    }
   ],
   "source": [
    "# sınıf class ile oluşturulur... \n",
    "Emre.calistir()  # eğer @staticmethod olarak kullanırsak direkt sınıf ile bir nesne oluşturmadan da bu metotu kullanabiliriz..."
   ]
  },
  {
   "cell_type": "code",
   "execution_count": 266,
   "id": "d1ec2714-e404-4611-aff9-23b63fe607f3",
   "metadata": {},
   "outputs": [
    {
     "name": "stdout",
     "output_type": "stream",
     "text": [
      "emre aytas\n"
     ]
    }
   ],
   "source": [
    "print(emre.name+\" \"+emre.surname)  # nesne ile direkt olarak self özelliklere ulaşabiliriz."
   ]
  },
  {
   "cell_type": "code",
   "execution_count": 267,
   "id": "c55286c8-9db3-4a49-8f3d-0de129165054",
   "metadata": {},
   "outputs": [],
   "source": [
    "emre.name = \"EMRE\" #sınıfın özelliği üzerinde değişim veya atama yapabiliriz.\n"
   ]
  },
  {
   "cell_type": "code",
   "execution_count": 268,
   "id": "e419a089-44dd-4ac8-807e-53f08f4d6720",
   "metadata": {},
   "outputs": [
    {
     "name": "stdout",
     "output_type": "stream",
     "text": [
      "futbol\n"
     ]
    }
   ],
   "source": [
    "emre.spor = \"futbol\" # Class ile gelen değişkene'de sonradan değişim vs yapabiliriz.\n",
    "emre.para = 1000 # olmayan bir veriyide atayabiliriz. sonradan ekleme yapabiliriz.\n",
    "print(emre.spor)"
   ]
  },
  {
   "cell_type": "code",
   "execution_count": 269,
   "id": "2f4e952f-7f05-41e8-a842-7dd0ec8ec443",
   "metadata": {},
   "outputs": [
    {
     "name": "stdout",
     "output_type": "stream",
     "text": [
      "1000\n"
     ]
    }
   ],
   "source": [
    "print(emre.para)"
   ]
  },
  {
   "cell_type": "code",
   "execution_count": 270,
   "id": "1eb0bed4-c0dd-4a3d-a37e-6a7723905185",
   "metadata": {},
   "outputs": [
    {
     "name": "stdout",
     "output_type": "stream",
     "text": [
      "yazilim\n"
     ]
    }
   ],
   "source": [
    "emre.meslek = \"yazilim\"\n",
    "print(emre.meslek)"
   ]
  },
  {
   "cell_type": "code",
   "execution_count": 271,
   "id": "2881bc7d-c125-49f5-a4f0-bf1d8cc61f27",
   "metadata": {},
   "outputs": [
    {
     "name": "stdout",
     "output_type": "stream",
     "text": [
      "init cagrildi...\n",
      "AAAA\n"
     ]
    },
    {
     "data": {
      "text/plain": [
       "['ford', 'bmw', 'araba']"
      ]
     },
     "execution_count": 271,
     "metadata": {},
     "output_type": "execute_result"
    }
   ],
   "source": [
    "Emre.meslekler = [\"ford\",\"bmw\",\"araba\"] # bir class'a sonradan değişken atayabiliriz. bu atamadan sonra oluşan classlar bu özelliği taşır.\n",
    "ahmet = Emre(\"ahmet\",\"yilmaz\")\n",
    "ahmet.meslekler"
   ]
  },
  {
   "cell_type": "code",
   "execution_count": 272,
   "id": "fffdac2f-99f2-4f02-80fc-34a030140849",
   "metadata": {},
   "outputs": [
    {
     "name": "stdout",
     "output_type": "stream",
     "text": [
      "ahmet\n"
     ]
    }
   ],
   "source": [
    "print(ahmet.isimdoner())"
   ]
  },
  {
   "cell_type": "markdown",
   "id": "07a707dd-11d3-429f-a1f5-d0256e80c36a",
   "metadata": {},
   "source": [
    "# inheritance"
   ]
  },
  {
   "cell_type": "code",
   "execution_count": 273,
   "id": "ac103d34-e532-4416-983e-30bd1b473567",
   "metadata": {},
   "outputs": [],
   "source": [
    "# tekrar bir nesne yazmamak için kalıtım kullanabiliriz ve bir nesnenin üzerine ekleme yapabiliriz.\n",
    "class Person():\n",
    "    def __init__(self,name,surname):\n",
    "        self.name = name\n",
    "        self.surname = surname\n",
    "        print(\"person created\")\n",
    "    def whoiam(self):\n",
    "        print(self.name + \" \" +self.surname)\n",
    "        \n",
    "    \n",
    "class Student(Person):\n",
    "    def __init__(self,name,surname,age):\n",
    "        Person.__init__(self,name,surname) # Person yerine super() de koyabilirdik.   kalıtım veren superclass kalıtım alan subclass'tır.\n",
    "        self.age = age\n",
    "\n",
    "        "
   ]
  },
  {
   "cell_type": "code",
   "execution_count": 274,
   "id": "b5ef2274-309f-4bee-876c-f835ebc13706",
   "metadata": {},
   "outputs": [
    {
     "name": "stdout",
     "output_type": "stream",
     "text": [
      "person created\n",
      "person created\n",
      "False\n",
      "person created\n",
      "ford focus\n"
     ]
    }
   ],
   "source": [
    "person1 = Person(\"emre\",\"aytas\")\n",
    "person2 = Person(\"emre\",\"aytas\")\n",
    "print(person1 == person2) # bellekte farklı referanstalar farklı yerlerde oluştular bu yüzden aynı değiller.\n",
    "student = Student(\"ford\",\"focus\",7)\n",
    "student.whoiam() # aslında kalıtım ile bir nesne oluşunca oluşan nesne kalıtım verenin tüm özelliklerine sahip olur. metotlarını vs kullanabilir ama kalıtım verenin verileri ve özellikleri dahilinde. subclass'a eklenen veriler ile işlem yapmak içinse subclass içerisnden metot yazmak lazım.\n"
   ]
  },
  {
   "cell_type": "code",
   "execution_count": 275,
   "id": "b5d37b52-f8f5-4e7c-a93e-bdd42999ece7",
   "metadata": {},
   "outputs": [],
   "source": [
    "class Student(Person):\n",
    "    def __init__(self,name,surname,age):\n",
    "        Person.__init__(self,name,surname) # Person yerine super() de koyabilirdik.   kalıtım veren superclass kalıtım alan subclass'tır.\n",
    "        self.age = age\n",
    "    \n",
    "    def whoiam(self): # buna override denir. eğer superclass'ta olan metotu değil kendi metotumuzu kullanmak istersek o zaman override ederiz. aynı isimde yazarız ve subclass'ta kendisine göre çalışır.\n",
    "        print(\"merhaba\")\n",
    "\n",
    "    def __str__(self): # eğer bu class'tan oluşan nesneyi str() içerisine koyarsak bu metot çalışacak. override gibi bir şey.\n",
    "        return self.name\n",
    "    def __del__(self):\n",
    "        print(\"obje silindi\")\n",
    "        del self"
   ]
  },
  {
   "cell_type": "code",
   "execution_count": 276,
   "id": "f46180ce-1911-4aeb-9fde-ae7a6e608f06",
   "metadata": {},
   "outputs": [
    {
     "name": "stdout",
     "output_type": "stream",
     "text": [
      "person created\n"
     ]
    }
   ],
   "source": [
    "student = Student(\"ford\",\"focus\",7)\n"
   ]
  },
  {
   "cell_type": "code",
   "execution_count": 277,
   "id": "3e2ad64b-983d-494e-923a-e8b3dabf36c5",
   "metadata": {},
   "outputs": [
    {
     "name": "stdout",
     "output_type": "stream",
     "text": [
      "merhaba\n"
     ]
    }
   ],
   "source": [
    "student.whoiam()"
   ]
  },
  {
   "cell_type": "code",
   "execution_count": 278,
   "id": "8b724ae7-0d13-499d-be6f-3dba5030b8f7",
   "metadata": {},
   "outputs": [
    {
     "name": "stdout",
     "output_type": "stream",
     "text": [
      "ford\n"
     ]
    }
   ],
   "source": [
    "print(str(student)) "
   ]
  },
  {
   "cell_type": "code",
   "execution_count": 279,
   "id": "1e018032-152a-4b26-bdca-d34f83066f82",
   "metadata": {},
   "outputs": [
    {
     "name": "stdout",
     "output_type": "stream",
     "text": [
      "obje silindi\n"
     ]
    }
   ],
   "source": [
    "del student # del ile nesne vs silebiliriz bellekten yok olur... ve class için özelleştirdik bu yüzden bu class ile oluşan nesne ile kullanınca ona göre class içindeki metota göre çalışacak."
   ]
  },
  {
   "cell_type": "markdown",
   "id": "c0249cee-1975-4681-9a8a-c2d22c7c7dab",
   "metadata": {},
   "source": [
    "## quiz uygulaması"
   ]
  },
  {
   "cell_type": "code",
   "execution_count": 291,
   "id": "0a3c2e95-51bd-4384-a811-400b1e16fc81",
   "metadata": {},
   "outputs": [
    {
     "name": "stdout",
     "output_type": "stream",
     "text": [
      "1: en iyi programlama dili?\n",
      "python\n",
      "java\n",
      "c++\n",
      "x\n"
     ]
    },
    {
     "name": "stdin",
     "output_type": "stream",
     "text": [
      "\n",
      "cevabi giriniz:  python\n"
     ]
    },
    {
     "name": "stdout",
     "output_type": "stream",
     "text": [
      "****************\n",
      "Question 2 of 3\n",
      "*****************\n",
      "2: en iyi populer dili?\n",
      "python\n",
      "java\n",
      "c++\n",
      "x\n"
     ]
    },
    {
     "name": "stdin",
     "output_type": "stream",
     "text": [
      "\n",
      "cevabi giriniz:  dbdb\n"
     ]
    },
    {
     "name": "stdout",
     "output_type": "stream",
     "text": [
      "****************\n",
      "Question 3 of 3\n",
      "*****************\n",
      "3: en iyi kazandiran\n",
      "python\n",
      "java\n",
      "c++\n",
      "x\n"
     ]
    },
    {
     "name": "stdin",
     "output_type": "stream",
     "text": [
      "\n",
      "cevabi giriniz:  dfbdfb\n"
     ]
    },
    {
     "name": "stdout",
     "output_type": "stream",
     "text": [
      "yarisma bitti...\n",
      "scor: 1\n"
     ]
    }
   ],
   "source": [
    "class Question():\n",
    "    def __init__(self,text,choices,answer):\n",
    "        self.text = text\n",
    "        self.choices = choices\n",
    "        self.answer = answer\n",
    "    def checkAnswer(self,cevap):\n",
    "        return self.answer == cevap # cevap doğru ise True verecek değilse False.\n",
    "        \n",
    "        \n",
    " \n",
    "        \n",
    "q1 = Question(\"en iyi programlama dili?\",[\"python\",\"java\",\"c++\",\"x\"],\"python\")\n",
    "q2 = Question(\"en iyi populer dili?\",[\"python\",\"java\",\"c++\",\"x\"],\"java\")\n",
    "q3 = Question(\"en iyi kazandiran\",[\"python\",\"java\",\"c++\",\"x\"],\"c++\")\n",
    "liste1 = [q1,q2,q3]\n",
    "\n",
    "class Quiz():\n",
    "    def __init__(self,questions):\n",
    "        self.questions = questions\n",
    "        self.score = 0\n",
    "        self.questionindex = 0\n",
    "\n",
    "    def getQuestion(self):\n",
    "        \n",
    "        return self.questions[self.questionindex]\n",
    "\n",
    "    def displayQuestion(self):\n",
    "        question = self.getQuestion() \n",
    "\n",
    "        print(f\"{self.questionindex + 1}: {question.text}\")\n",
    "        for q in question.choices:\n",
    "            print(q)\n",
    "            \n",
    "        answer = input(\"\\ncevabi giriniz: \")  \n",
    "        self.quess(answer)\n",
    "        self.loadquestion()\n",
    "        \n",
    "    def quess(self,answer):\n",
    "        question = self.getQuestion() \n",
    "\n",
    "        if question.checkAnswer(answer):\n",
    "            self.score += 1\n",
    "        self.questionindex += 1        \n",
    "        \n",
    "    def loadquestion(self):\n",
    "        if len(self.questions) == self.questionindex:\n",
    "            self.showscore()\n",
    "        else:\n",
    "            self.displayprogress()\n",
    "            self.displayQuestion() # for döngüsü olmadan bir yapı kurduk recursive mantığı gibi oldu aslında...\n",
    "            \n",
    "    def showscore(self):\n",
    "        print(\"yarisma bitti...\")\n",
    "        print(f\"scor: {self.score}\")\n",
    "\n",
    "    def displayprogress(self):\n",
    "        \n",
    "        totalquestion = len(self.questions)\n",
    "        questionnumber = self.questionindex + 1\n",
    "\n",
    "        if questionnumber > totalquestion:\n",
    "            print(\"quiz bitti...\")\n",
    "        else:\n",
    "            print(f\"Question {questionnumber} of {totalquestion}\".center(50,\"*\"))\n",
    "             \n",
    "quiz = Quiz(liste1)\n",
    "\n",
    "quiz.displayQuestion()\n",
    "        \n",
    "\n"
   ]
  },
  {
   "cell_type": "markdown",
   "id": "7763cf90-6b95-42b7-b723-963c81d1c237",
   "metadata": {},
   "source": [
    "# polymorphism"
   ]
  },
  {
   "cell_type": "code",
   "execution_count": 308,
   "id": "6bfa154a-adbb-462b-9e0f-59b8357c1650",
   "metadata": {},
   "outputs": [],
   "source": [
    "# çok biçimlilik. aynı isimde metotların farklı amaca hizmet edebilmeleri demektir aslında.\n",
    "\n",
    "class Elma():\n",
    "    def __init__(self,name):\n",
    "        self.name = name\n",
    "    def bilgiver(self):\n",
    "        return self.name + \" 100 kaloridir\"\n",
    "class Muz():\n",
    "    def __init__(self,name):\n",
    "        self.name = name\n",
    "    def bilgiver(self):\n",
    "        return self.name + \" 300 kaloridir\"\n",
    "\n",
    "    \n",
    "elma = Elma(\"elma\")\n",
    "muz = Muz(\"muz\")\n",
    "\n",
    "\n"
   ]
  },
  {
   "cell_type": "code",
   "execution_count": 309,
   "id": "c818f1bf-bb08-4575-81c3-1dc7e15a8fff",
   "metadata": {},
   "outputs": [],
   "source": [
    "meyvelistesi = [elma,muz]"
   ]
  },
  {
   "cell_type": "code",
   "execution_count": 310,
   "id": "3b7aa98b-0d72-413d-9200-b9cb740bce94",
   "metadata": {},
   "outputs": [
    {
     "name": "stdout",
     "output_type": "stream",
     "text": [
      "elma 100 kaloridir\n",
      "muz 300 kaloridir\n"
     ]
    }
   ],
   "source": [
    "for i in meyvelistesi:  # aslında olay bu her nesneyi birbirine benzeterek işlem yapar. aynı isimdeo olan metotlar üzerinden işlem sağlar.\n",
    "    print(i.bilgiver())"
   ]
  },
  {
   "cell_type": "code",
   "execution_count": 311,
   "id": "cf3342a6-705d-4613-bc09-2d799ad5db63",
   "metadata": {},
   "outputs": [
    {
     "name": "stdout",
     "output_type": "stream",
     "text": [
      "elma 100 kaloridir\n"
     ]
    }
   ],
   "source": [
    "def bilgial(meyve):\n",
    "    print(meyve.bilgiver())\n",
    "bilgial(elma)\n"
   ]
  },
  {
   "cell_type": "code",
   "execution_count": 312,
   "id": "f0d8b17d-c119-40e2-9bc1-2e7457cbd642",
   "metadata": {},
   "outputs": [
    {
     "name": "stdout",
     "output_type": "stream",
     "text": [
      "muz 300 kaloridir\n"
     ]
    }
   ],
   "source": [
    "bilgial(muz)"
   ]
  },
  {
   "cell_type": "markdown",
   "id": "4a8aea3f-85d5-4f61-b840-d15951d76ba4",
   "metadata": {},
   "source": [
    "## özelmetotlar\n",
    "special methods in python diyerek diğerlerini bulabiliriz."
   ]
  },
  {
   "cell_type": "code",
   "execution_count": 317,
   "id": "46f14b3b-63ee-42d8-97af-e65d3f76f6eb",
   "metadata": {},
   "outputs": [
    {
     "name": "stdout",
     "output_type": "stream",
     "text": [
      "muz 300 kaloridir\n"
     ]
    }
   ],
   "source": [
    "class Meyve():\n",
    "\n",
    "    def __init__(self,isim,kalori):\n",
    "        self.isim = isim\n",
    "        self.kalori = kalori\n",
    "    def __str__(self): # eğer str gibi metotları özelleştirirsek o zaman bu classtan oluşan nesne built-in sınıfta olan bir str içerisine girerse class içerisindeki yapı çalışacak.\n",
    "        return self.isim + \" \" +str(self.kalori)+\" kaloridir\"\n",
    "         \n",
    "muz = Meyve(\"muz\",300)\n",
    "print(str(muz))\n"
   ]
  },
  {
   "cell_type": "code",
   "execution_count": 318,
   "id": "d1400edc-a85b-467b-8a06-144a7bc8f146",
   "metadata": {},
   "outputs": [
    {
     "name": "stdout",
     "output_type": "stream",
     "text": [
      "muz 300 kaloridir\n"
     ]
    }
   ],
   "source": [
    "print(muz) # illaki str içine koymaya gerek yok print'te str aradığı için o metotu çalıştırır."
   ]
  },
  {
   "cell_type": "code",
   "execution_count": 320,
   "id": "d944d1a3-ab19-4d7d-8031-4278f61ca35a",
   "metadata": {},
   "outputs": [],
   "source": [
    "del muz # nesne bellekten silindi böylece."
   ]
  },
  {
   "cell_type": "markdown",
   "id": "ceafc2c1-0e04-48b9-831b-b60c46f7f618",
   "metadata": {},
   "source": [
    "## try&except&else&finally"
   ]
  },
  {
   "cell_type": "code",
   "execution_count": 322,
   "id": "ce65c850-7424-45bc-afe8-55660bc5b9a8",
   "metadata": {},
   "outputs": [
    {
     "name": "stdin",
     "output_type": "stream",
     "text": [
      "numaranizi giriniz:  sds\n"
     ]
    },
    {
     "name": "stdout",
     "output_type": "stream",
     "text": [
      "dogru numara giriniz...\n",
      "finally cagrildi...\n"
     ]
    },
    {
     "name": "stdin",
     "output_type": "stream",
     "text": [
      "numaranizi giriniz:  sdds\n"
     ]
    },
    {
     "name": "stdout",
     "output_type": "stream",
     "text": [
      "dogru numara giriniz...\n",
      "finally cagrildi...\n"
     ]
    },
    {
     "name": "stdin",
     "output_type": "stream",
     "text": [
      "numaranizi giriniz:  sdsdds\n"
     ]
    },
    {
     "name": "stdout",
     "output_type": "stream",
     "text": [
      "dogru numara giriniz...\n",
      "finally cagrildi...\n"
     ]
    },
    {
     "name": "stdin",
     "output_type": "stream",
     "text": [
      "numaranizi giriniz:  23\n"
     ]
    },
    {
     "name": "stdout",
     "output_type": "stream",
     "text": [
      "teşekkürler...\n",
      "finally cagrildi...\n"
     ]
    }
   ],
   "source": [
    "while True:\n",
    "    try:\n",
    "        benimint = int(input(\"numaranizi giriniz: \"))\n",
    "    except:\n",
    "        print(\"dogru numara giriniz...\")\n",
    "        continue\n",
    "    else:\n",
    "        print(\"teşekkürler...\") # eğer hata olmazsa try bloğu biterse çalışır.\n",
    "        break\n",
    "    finally:\n",
    "        print(\"finally cagrildi...\") # break olsa bile ne olursa olsun finally çalışacak... döngü bitse bile çalışır. \n",
    "        "
   ]
  },
  {
   "cell_type": "code",
   "execution_count": null,
   "id": "72fdd0d6-65e7-428f-b025-5d6d16695c26",
   "metadata": {},
   "outputs": [],
   "source": []
  }
 ],
 "metadata": {
  "kernelspec": {
   "display_name": "Python 3 (ipykernel)",
   "language": "python",
   "name": "python3"
  },
  "language_info": {
   "codemirror_mode": {
    "name": "ipython",
    "version": 3
   },
   "file_extension": ".py",
   "mimetype": "text/x-python",
   "name": "python",
   "nbconvert_exporter": "python",
   "pygments_lexer": "ipython3",
   "version": "3.11.2"
  }
 },
 "nbformat": 4,
 "nbformat_minor": 5
}
